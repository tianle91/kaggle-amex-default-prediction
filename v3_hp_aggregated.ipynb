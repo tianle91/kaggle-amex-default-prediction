{
 "cells": [
  {
   "cell_type": "code",
   "execution_count": 1,
   "metadata": {},
   "outputs": [],
   "source": [
    "import hyperopt\n",
    "import mlflow\n",
    "import numpy as np\n",
    "from hyperopt import Trials\n",
    "from hyperopt.pyll.base import scope\n",
    "from sklearn.model_selection import train_test_split\n",
    "\n",
    "from encoder import CategoricalToIntegerEncoders\n",
    "from format_data import DATE_VARIABLES, ID_VARIABLES, TARGET_VARIABLE\n",
    "from hp import build_train_objective, find_best_run\n",
    "from spark_utils import SparkSessionContext\n",
    "from transform_aggregated import (SUMMARY_FEATURE_CATEGORICAL_VARIABLES,\n",
    "                                  WINDOW_FEATURE_CATEGORICAL_VARIABLES)\n"
   ]
  },
  {
   "cell_type": "code",
   "execution_count": 2,
   "metadata": {},
   "outputs": [
    {
     "name": "stderr",
     "output_type": "stream",
     "text": [
      "Warning: Ignoring non-Spark config property: Dio.netty.tryReflectionSetAccessible\n",
      "WARNING: An illegal reflective access operation has occurred\n",
      "WARNING: Illegal reflective access by org.apache.spark.unsafe.Platform (file:/usr/local/lib/python3.8/dist-packages/pyspark/jars/spark-unsafe_2.12-3.2.1.jar) to constructor java.nio.DirectByteBuffer(long,int)\n",
      "WARNING: Please consider reporting this to the maintainers of org.apache.spark.unsafe.Platform\n",
      "WARNING: Use --illegal-access=warn to enable warnings of further illegal reflective access operations\n",
      "WARNING: All illegal access operations will be denied in a future release\n",
      "Using Spark's default log4j profile: org/apache/spark/log4j-defaults.properties\n",
      "Setting default log level to \"WARN\".\n",
      "To adjust logging level use sc.setLogLevel(newLevel). For SparkR, use setLogLevel(newLevel).\n",
      "22/08/05 19:18:07 WARN NativeCodeLoader: Unable to load native-hadoop library for your platform... using builtin-java classes where applicable\n",
      "                                                                                \r"
     ]
    },
    {
     "name": "stdout",
     "output_type": "stream",
     "text": [
      "Feature columns 1296 Categorical feature columns 33 Numerical feature columns 1263 \n"
     ]
    },
    {
     "name": "stderr",
     "output_type": "stream",
     "text": [
      "22/08/05 19:18:43 WARN package: Truncated the string representation of a plan since it was too large. This behavior can be adjusted by setting 'spark.sql.debug.maxToStringFields'.\n",
      "                                                                                \r"
     ]
    },
    {
     "name": "stdout",
     "output_type": "stream",
     "text": [
      "train_pdf.memory_usage in megabytes:  3034.25\n"
     ]
    }
   ],
   "source": [
    "with SparkSessionContext() as spark:\n",
    "    train_data = spark.read.parquet(\n",
    "        'data_transformed/amex-default-prediction/train_data_aggregated')\n",
    "    train_labels = spark.read.parquet(\n",
    "        'data/amex-default-prediction/train_labels')\n",
    "    train_data_labelled = train_data.join(\n",
    "        train_labels, on=ID_VARIABLES, how='inner')\n",
    "    assert train_data_labelled.count() == train_data.count()\n",
    "    assert train_data_labelled.select(ID_VARIABLES).distinct(\n",
    "    ).count() == train_data.select(ID_VARIABLES).distinct().count()\n",
    "\n",
    "    non_feature_columns = [\n",
    "        TARGET_VARIABLE,\n",
    "        *ID_VARIABLES,\n",
    "        *DATE_VARIABLES.keys(),\n",
    "    ]\n",
    "    feature_columns = [\n",
    "        c for c in train_data.columns\n",
    "        if c not in non_feature_columns\n",
    "    ]\n",
    "    categorical_feature_columns = [\n",
    "        *WINDOW_FEATURE_CATEGORICAL_VARIABLES,\n",
    "        *SUMMARY_FEATURE_CATEGORICAL_VARIABLES,\n",
    "    ]\n",
    "    numerical_feature_columns = [\n",
    "        c for c in feature_columns if c not in categorical_feature_columns]\n",
    "    print(\n",
    "        f'Feature columns {len(feature_columns)} '\n",
    "        f'Categorical feature columns {len(categorical_feature_columns)} '\n",
    "        f'Numerical feature columns {len(numerical_feature_columns)} '\n",
    "    )\n",
    "\n",
    "    encs = CategoricalToIntegerEncoders(\n",
    "        columns=categorical_feature_columns).fit(train_data)\n",
    "    transformed_feature_columns = numerical_feature_columns + encs.columns_encoded\n",
    "\n",
    "    train_pdf = encs.transform(spark=spark, df=train_data_labelled).toPandas()\n",
    "    train_pdf_bytes = train_pdf.memory_usage(deep=True).sum()\n",
    "    print(\n",
    "        f'train_pdf.memory_usage in megabytes: {train_pdf_bytes / 1048576: .2f}')"
   ]
  },
  {
   "cell_type": "code",
   "execution_count": 3,
   "metadata": {},
   "outputs": [
    {
     "name": "stdout",
     "output_type": "stream",
     "text": [
      "X_train.shape: (458913, 1296) y_train.shape: (458913,) y_train uniques: (array([0., 1.], dtype=float32), array([340085, 118828])) \n",
      "X_fit.shape: (413021, 1296) X_valid.shape: (45892, 1296) y_fit.shape: (413021,) y_valid.shape: (45892,) \n"
     ]
    }
   ],
   "source": [
    "from sklearn.model_selection import train_test_split\n",
    "\n",
    "X_train = train_pdf[transformed_feature_columns].reset_index(drop=True)\n",
    "y_train = np.array(train_pdf[TARGET_VARIABLE])\n",
    "print(\n",
    "    f'X_train.shape: {X_train.shape} '\n",
    "    f'y_train.shape: {y_train.shape} ' \n",
    "    f'y_train uniques: {np.unique(y_train, return_counts=True)} '\n",
    ")\n",
    "\n",
    "X_fit, X_valid, y_fit, y_valid = train_test_split(\n",
    "    X_train, y_train, test_size=.1)\n",
    "print(\n",
    "    f'X_fit.shape: {X_fit.shape} '\n",
    "    f'X_valid.shape: {X_valid.shape} '\n",
    "    f'y_fit.shape: {y_fit.shape} '\n",
    "    f'y_valid.shape: {y_valid.shape} '\n",
    ")"
   ]
  },
  {
   "cell_type": "code",
   "execution_count": 4,
   "metadata": {},
   "outputs": [
    {
     "name": "stdout",
     "output_type": "stream",
     "text": [
      "{'learning_rate': 0.007067830673760356,\n",
      " 'num_iterations': 4119,\n",
      " 'num_leaves': 50,\n",
      " 'scale_pos_weight': 4.979631827974136}\n"
     ]
    }
   ],
   "source": [
    "from pprint import pprint\n",
    "import json\n",
    "\n",
    "experiment_id = '0'\n",
    "run_id = '0bf17f30bd244ea4a0854942d281667d'\n",
    "\n",
    "client = mlflow.tracking.MlflowClient()\n",
    "best_run = client.get_run(run_id=run_id)\n",
    "best_params = json.loads(best_run.data.params['lgb_params_json'])\n",
    "\n",
    "# we need floats as keys here, but it's string\n",
    "if 'class_weight' in best_params:\n",
    "    best_params['class_weight'] = {float(k): v for k, v in best_params['class_weight'].items()}\n",
    "\n",
    "pprint(best_params)"
   ]
  },
  {
   "cell_type": "code",
   "execution_count": 5,
   "metadata": {},
   "outputs": [
    {
     "name": "stderr",
     "output_type": "stream",
     "text": [
      "/usr/local/lib/python3.8/dist-packages/lightgbm/engine.py:177: UserWarning: Found `num_iterations` in params. Will use it instead of argument\n",
      "  _log_warning(f\"Found `{alias}` in params. Will use it instead of argument\")\n",
      "/usr/local/lib/python3.8/dist-packages/lightgbm/basic.py:2065: UserWarning: Using categorical_feature in Dataset.\n",
      "  _log_warning('Using categorical_feature in Dataset.')\n",
      "/usr/local/lib/python3.8/dist-packages/lightgbm/basic.py:2068: UserWarning: categorical_feature in Dataset is overridden.\n",
      "New categorical_feature is ['B_30_CategoricalToIntegerEncoder', 'B_30_mode_CategoricalToIntegerEncoder', 'B_30_previous_CategoricalToIntegerEncoder', 'B_38_CategoricalToIntegerEncoder', 'B_38_mode_CategoricalToIntegerEncoder', 'B_38_previous_CategoricalToIntegerEncoder', 'D_114_CategoricalToIntegerEncoder', 'D_114_mode_CategoricalToIntegerEncoder', 'D_114_previous_CategoricalToIntegerEncoder', 'D_116_CategoricalToIntegerEncoder', 'D_116_mode_CategoricalToIntegerEncoder', 'D_116_previous_CategoricalToIntegerEncoder', 'D_117_CategoricalToIntegerEncoder', 'D_117_mode_CategoricalToIntegerEncoder', 'D_117_previous_CategoricalToIntegerEncoder', 'D_120_CategoricalToIntegerEncoder', 'D_120_mode_CategoricalToIntegerEncoder', 'D_120_previous_CategoricalToIntegerEncoder', 'D_126_CategoricalToIntegerEncoder', 'D_126_mode_CategoricalToIntegerEncoder', 'D_126_previous_CategoricalToIntegerEncoder', 'D_63_CategoricalToIntegerEncoder', 'D_63_mode_CategoricalToIntegerEncoder', 'D_63_previous_CategoricalToIntegerEncoder', 'D_64_CategoricalToIntegerEncoder', 'D_64_mode_CategoricalToIntegerEncoder', 'D_64_previous_CategoricalToIntegerEncoder', 'D_66_CategoricalToIntegerEncoder', 'D_66_mode_CategoricalToIntegerEncoder', 'D_66_previous_CategoricalToIntegerEncoder', 'D_68_CategoricalToIntegerEncoder', 'D_68_mode_CategoricalToIntegerEncoder', 'D_68_previous_CategoricalToIntegerEncoder']\n",
      "  _log_warning('categorical_feature in Dataset is overridden.\\n'\n",
      "/usr/local/lib/python3.8/dist-packages/lightgbm/basic.py:1780: UserWarning: Overriding the parameters from Reference Dataset.\n",
      "  _log_warning('Overriding the parameters from Reference Dataset.')\n",
      "/usr/local/lib/python3.8/dist-packages/lightgbm/basic.py:1513: UserWarning: categorical_column in param dict is overridden.\n",
      "  _log_warning(f'{cat_alias} in param dict is overridden.')\n"
     ]
    },
    {
     "name": "stdout",
     "output_type": "stream",
     "text": [
      "Training until validation scores don't improve for 10 rounds\n",
      "Did not meet early stopping. Best iteration is:\n",
      "[4119]\tvalid10pct's binary_logloss: 0.285826\n"
     ]
    },
    {
     "name": "stderr",
     "output_type": "stream",
     "text": [
      "2022/08/05 19:44:31 WARNING mlflow.utils.autologging_utils: MLflow autologging encountered a warning: \"/usr/local/lib/python3.8/dist-packages/mlflow/models/signature.py:129: UserWarning: Hint: Inferred schema contains integer column(s). Integer columns in Python cannot represent missing values. If your input data contains missing values at inference time, it will be encoded as floats and will cause a schema enforcement error. The best way to avoid this problem is to infer the model schema based on a realistic data sample (training dataset) that includes missing values. Alternatively, you can declare integer columns as doubles (float64) whenever these columns may have missing values. See `Handling Integers With Missing Values <https://www.mlflow.org/docs/latest/models.html#handling-integers-with-missing-values>`_ for more details.\"\n"
     ]
    },
    {
     "name": "stdout",
     "output_type": "stream",
     "text": [
      "{'learning_rate': 0.007067830673760356, 'num_iterations': 4119, 'num_leaves': 50, 'scale_pos_weight': 4.979631827974136}\n",
      "{'test_feval_amex': 0.7837716053659095, 'test_feval_amex_gini': 0.9215092045336449, 'test_feval_amex_top4': 0.6460340061981741}\n",
      "{'test_feval_amex': 0.7837716053659095,\n",
      " 'test_feval_amex_gini': 0.9215092045336449,\n",
      " 'test_feval_amex_top4': 0.6460340061981741}\n"
     ]
    }
   ],
   "source": [
    "from pprint import pprint\n",
    "import mlflow\n",
    "from hp import get_cv_hp_metrics\n",
    "\n",
    "model, metrics = get_cv_hp_metrics(\n",
    "    X_train=X_fit,\n",
    "    y_train=y_fit,\n",
    "    X_test=X_valid,\n",
    "    y_test=y_valid,\n",
    "    categorical_feature=encs.columns_encoded,\n",
    "    lgb_params=best_params,\n",
    "    nested=False,\n",
    ")\n",
    "pprint(metrics)\n"
   ]
  },
  {
   "cell_type": "code",
   "execution_count": 6,
   "metadata": {},
   "outputs": [
    {
     "data": {
      "text/plain": [
       "354889"
      ]
     },
     "execution_count": 6,
     "metadata": {},
     "output_type": "execute_result"
    }
   ],
   "source": [
    "import gc\n",
    "\n",
    "del train_pdf, X_fit, y_fit, X_valid, y_valid\n",
    "gc.collect()"
   ]
  },
  {
   "cell_type": "code",
   "execution_count": 7,
   "metadata": {},
   "outputs": [
    {
     "name": "stderr",
     "output_type": "stream",
     "text": [
      "                                                                                \r"
     ]
    },
    {
     "name": "stdout",
     "output_type": "stream",
     "text": [
      "test_pdf.memory_usage in megabytes:  6109.90\n"
     ]
    }
   ],
   "source": [
    "with SparkSessionContext() as spark:\n",
    "    test_data = spark.read.parquet(\n",
    "        'data_transformed/amex-default-prediction/test_data_aggregated')\n",
    "    sample_submission = spark.read.parquet(\n",
    "        'data/amex-default-prediction/sample_submission')\n",
    "    test_data_labelled = test_data.join(\n",
    "        sample_submission, on=ID_VARIABLES, how='inner')\n",
    "    assert test_data_labelled.count() == test_data.count()\n",
    "    assert test_data_labelled.select(ID_VARIABLES).distinct(\n",
    "    ).count() == test_data.select(ID_VARIABLES).distinct().count()\n",
    "\n",
    "    test_pdf = encs.transform(spark=spark, df=test_data).toPandas()\n",
    "    test_pdf_bytes = test_pdf.memory_usage(deep=True).sum()\n",
    "    print(\n",
    "        f'test_pdf.memory_usage in megabytes: {test_pdf_bytes / 1048576: .2f}')\n"
   ]
  },
  {
   "cell_type": "code",
   "execution_count": 8,
   "metadata": {},
   "outputs": [
    {
     "name": "stdout",
     "output_type": "stream",
     "text": [
      "X_test.shape: (924621, 1296) \n"
     ]
    }
   ],
   "source": [
    "X_test = test_pdf[transformed_feature_columns].reset_index(drop=True)\n",
    "print(\n",
    "    f'X_test.shape: {X_test.shape} '\n",
    ")"
   ]
  },
  {
   "cell_type": "code",
   "execution_count": 9,
   "metadata": {},
   "outputs": [
    {
     "data": {
      "text/html": [
       "<div>\n",
       "<style scoped>\n",
       "    .dataframe tbody tr th:only-of-type {\n",
       "        vertical-align: middle;\n",
       "    }\n",
       "\n",
       "    .dataframe tbody tr th {\n",
       "        vertical-align: top;\n",
       "    }\n",
       "\n",
       "    .dataframe thead th {\n",
       "        text-align: right;\n",
       "    }\n",
       "</style>\n",
       "<table border=\"1\" class=\"dataframe\">\n",
       "  <thead>\n",
       "    <tr style=\"text-align: right;\">\n",
       "      <th></th>\n",
       "      <th>customer_ID</th>\n",
       "      <th>prediction</th>\n",
       "    </tr>\n",
       "  </thead>\n",
       "  <tbody>\n",
       "    <tr>\n",
       "      <th>0</th>\n",
       "      <td>64f546fba7cc37633f0e209a00778cc17db40ba318858d...</td>\n",
       "      <td>-0.155468</td>\n",
       "    </tr>\n",
       "    <tr>\n",
       "      <th>1</th>\n",
       "      <td>5d64a3afafd1b99ef38abc766bc219a42570a57a7de41c...</td>\n",
       "      <td>-5.227469</td>\n",
       "    </tr>\n",
       "    <tr>\n",
       "      <th>2</th>\n",
       "      <td>50232e74a7bdae9c143c34a58bb308513f286231ef58ad...</td>\n",
       "      <td>-6.306510</td>\n",
       "    </tr>\n",
       "    <tr>\n",
       "      <th>3</th>\n",
       "      <td>832e2c6479383c7a9f2ddab0c39405b81a452fd8d219ce...</td>\n",
       "      <td>-5.922323</td>\n",
       "    </tr>\n",
       "    <tr>\n",
       "      <th>4</th>\n",
       "      <td>2d9c4159dd43f299fb00f2b6e4c875d46256e035a56ea0...</td>\n",
       "      <td>-2.658408</td>\n",
       "    </tr>\n",
       "  </tbody>\n",
       "</table>\n",
       "</div>"
      ],
      "text/plain": [
       "                                         customer_ID  prediction\n",
       "0  64f546fba7cc37633f0e209a00778cc17db40ba318858d...   -0.155468\n",
       "1  5d64a3afafd1b99ef38abc766bc219a42570a57a7de41c...   -5.227469\n",
       "2  50232e74a7bdae9c143c34a58bb308513f286231ef58ad...   -6.306510\n",
       "3  832e2c6479383c7a9f2ddab0c39405b81a452fd8d219ce...   -5.922323\n",
       "4  2d9c4159dd43f299fb00f2b6e4c875d46256e035a56ea0...   -2.658408"
      ]
     },
     "execution_count": 9,
     "metadata": {},
     "output_type": "execute_result"
    }
   ],
   "source": [
    "from format_data import PREDICTION_VARIABLE\n",
    "import pandas as pd\n",
    "\n",
    "pred_test = pd.DataFrame({\n",
    "    'customer_ID': test_pdf['customer_ID'],\n",
    "    PREDICTION_VARIABLE: model.predict(X_test, raw_score=True),\n",
    "}) \n",
    "pred_test.to_csv('submission.csv', index=False)\n",
    "pred_test.head()"
   ]
  }
 ],
 "metadata": {
  "kernelspec": {
   "display_name": "Python 3.8.10 64-bit",
   "language": "python",
   "name": "python3"
  },
  "language_info": {
   "codemirror_mode": {
    "name": "ipython",
    "version": 3
   },
   "file_extension": ".py",
   "mimetype": "text/x-python",
   "name": "python",
   "nbconvert_exporter": "python",
   "pygments_lexer": "ipython3",
   "version": "3.8.10"
  },
  "orig_nbformat": 4,
  "vscode": {
   "interpreter": {
    "hash": "916dbcbb3f70747c44a77c7bcd40155683ae19c65e1c03b4aa3499c5328201f1"
   }
  }
 },
 "nbformat": 4,
 "nbformat_minor": 2
}
