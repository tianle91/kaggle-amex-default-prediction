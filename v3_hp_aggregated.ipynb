{
 "cells": [
  {
   "cell_type": "code",
   "execution_count": 1,
   "metadata": {},
   "outputs": [
    {
     "name": "stderr",
     "output_type": "stream",
     "text": [
      "Warning: Ignoring non-Spark config property: Dio.netty.tryReflectionSetAccessible\n",
      "WARNING: An illegal reflective access operation has occurred\n",
      "WARNING: Illegal reflective access by org.apache.spark.unsafe.Platform (file:/usr/local/lib/python3.8/dist-packages/pyspark/jars/spark-unsafe_2.12-3.2.1.jar) to constructor java.nio.DirectByteBuffer(long,int)\n",
      "WARNING: Please consider reporting this to the maintainers of org.apache.spark.unsafe.Platform\n",
      "WARNING: Use --illegal-access=warn to enable warnings of further illegal reflective access operations\n",
      "WARNING: All illegal access operations will be denied in a future release\n",
      "Using Spark's default log4j profile: org/apache/spark/log4j-defaults.properties\n",
      "Setting default log level to \"WARN\".\n",
      "To adjust logging level use sc.setLogLevel(newLevel). For SparkR, use setLogLevel(newLevel).\n",
      "22/08/02 00:16:29 WARN NativeCodeLoader: Unable to load native-hadoop library for your platform... using builtin-java classes where applicable\n",
      "                                                                                \r"
     ]
    }
   ],
   "source": [
    "from format_data import (CATEGORICAL_VARIABLES, DATE_VARIABLES, ID_VARIABLES,\n",
    "                         TARGET_VARIABLE)\n",
    "from transform_aggregated import SUMMARY_FEATURE_CATEGORICAL_VARIABLES, WINDOW_FEATURE_CATEGORICAL_VARIABLES\n",
    "from spark_utils import get_spark_session\n",
    "\n",
    "spark = get_spark_session()\n",
    "\n",
    "# run transform_latest.py if this don't exist\n",
    "test_data = spark.read.parquet(\n",
    "    'data_transformed/amex-default-prediction/test_data_aggregated')\n",
    "train_data = spark.read.parquet(\n",
    "    'data_transformed/amex-default-prediction/train_data_aggregated')\n",
    "# run format_data.py if these don't exist\n",
    "train_labels = spark.read.parquet('data/amex-default-prediction/train_labels')\n",
    "sample_submission = spark.read.parquet(\n",
    "    'data/amex-default-prediction/sample_submission')\n",
    "\n",
    "train_data_labelled = train_data.join(train_labels, on=ID_VARIABLES, how='inner')\n",
    "assert train_data_labelled.count() == train_data.count()\n",
    "assert train_data_labelled.select(ID_VARIABLES).distinct().count() == train_data.select(ID_VARIABLES).distinct().count()"
   ]
  },
  {
   "cell_type": "code",
   "execution_count": 2,
   "metadata": {},
   "outputs": [
    {
     "name": "stdout",
     "output_type": "stream",
     "text": [
      "Feature columns (1296):\n",
      "S_2_days_since_previous, P_2, D_39, B_1, B_2, R_1, S_3, D_41, B_3, D_42, D_43, D_44, B_4, D_45, B_5, R_2, D_46, D_47, D_48, D_49, B_6, B_7, B_8, D_50, D_51, B_9, R_3, D_52, P_3, B_10, D_53, S_5, B_11, S_6, D_54, R_4, S_7, B_12, S_8, D_55, D_56, B_13, R_5, D_58, S_9, B_14, D_59, D_60, D_61, B_15, S_11, D_62, D_63, D_64, D_65, B_16, B_17, B_18, B_19, D_66, B_20, D_68, S_12, R_6, S_13, B_21, D_69, B_22, D_70, D_71, D_72, S_15, B_23, D_73, P_4, D_74, D_75, D_76, B_24, R_7, D_77, B_25, B_26, D_78, D_79, R_8, R_9, S_16, D_80, R_10, R_11, B_27, D_81, D_82, S_17, R_12, B_28, R_13, D_83, R_14, R_15, D_84, R_16, B_29, B_30, S_18, D_86, D_87, R_17, R_18, D_88, B_31, S_19, R_19, B_32, S_20, R_20, R_21, B_33, D_89, R_22, R_23, D_91, D_92, D_93, D_94, R_24, R_25, D_96, S_22, S_23, S_24, S_25, S_26, D_102, D_103, D_104, D_105, D_106, D_107, B_36, B_37, R_26, R_27, B_38, D_108, D_109, D_110, D_111, B_39, D_112, B_40, S_27, D_113, D_114, D_115, D_116, D_117, D_118, D_119, D_120, D_121, D_122, D_123, D_124, D_125, D_126, D_127, D_128, D_129, B_41, B_42, D_130, D_131, D_132, D_133, R_28, D_134, D_135, D_136, D_137, D_138, D_139, D_140, D_141, D_142, D_143, D_144, D_145, P_2_previous, D_39_previous, B_1_previous, B_2_previous, R_1_previous, S_3_previous, D_41_previous, B_3_previous, D_42_previous, D_43_previous, D_44_previous, B_4_previous, D_45_previous, B_5_previous, R_2_previous, D_46_previous, D_47_previous, D_48_previous, D_49_previous, B_6_previous, B_7_previous, B_8_previous, D_50_previous, D_51_previous, B_9_previous, R_3_previous, D_52_previous, P_3_previous, B_10_previous, D_53_previous, S_5_previous, B_11_previous, S_6_previous, D_54_previous, R_4_previous, S_7_previous, B_12_previous, S_8_previous, D_55_previous, D_56_previous, B_13_previous, R_5_previous, D_58_previous, S_9_previous, B_14_previous, D_59_previous, D_60_previous, D_61_previous, B_15_previous, S_11_previous, D_62_previous, D_63_previous, D_64_previous, D_65_previous, B_16_previous, B_17_previous, B_18_previous, B_19_previous, D_66_previous, B_20_previous, D_68_previous, S_12_previous, R_6_previous, S_13_previous, B_21_previous, D_69_previous, B_22_previous, D_70_previous, D_71_previous, D_72_previous, S_15_previous, B_23_previous, D_73_previous, P_4_previous, D_74_previous, D_75_previous, D_76_previous, B_24_previous, R_7_previous, D_77_previous, B_25_previous, B_26_previous, D_78_previous, D_79_previous, R_8_previous, R_9_previous, S_16_previous, D_80_previous, R_10_previous, R_11_previous, B_27_previous, D_81_previous, D_82_previous, S_17_previous, R_12_previous, B_28_previous, R_13_previous, D_83_previous, R_14_previous, R_15_previous, D_84_previous, R_16_previous, B_29_previous, B_30_previous, S_18_previous, D_86_previous, D_87_previous, R_17_previous, R_18_previous, D_88_previous, B_31_previous, S_19_previous, R_19_previous, B_32_previous, S_20_previous, R_20_previous, R_21_previous, B_33_previous, D_89_previous, R_22_previous, R_23_previous, D_91_previous, D_92_previous, D_93_previous, D_94_previous, R_24_previous, R_25_previous, D_96_previous, S_22_previous, S_23_previous, S_24_previous, S_25_previous, S_26_previous, D_102_previous, D_103_previous, D_104_previous, D_105_previous, D_106_previous, D_107_previous, B_36_previous, B_37_previous, R_26_previous, R_27_previous, B_38_previous, D_108_previous, D_109_previous, D_110_previous, D_111_previous, B_39_previous, D_112_previous, B_40_previous, S_27_previous, D_113_previous, D_114_previous, D_115_previous, D_116_previous, D_117_previous, D_118_previous, D_119_previous, D_120_previous, D_121_previous, D_122_previous, D_123_previous, D_124_previous, D_125_previous, D_126_previous, D_127_previous, D_128_previous, D_129_previous, B_41_previous, B_42_previous, D_130_previous, D_131_previous, D_132_previous, D_133_previous, R_28_previous, D_134_previous, D_135_previous, D_136_previous, D_137_previous, D_138_previous, D_139_previous, D_140_previous, D_141_previous, D_142_previous, D_143_previous, D_144_previous, D_145_previous, P_2_changed, D_39_changed, B_1_changed, B_2_changed, R_1_changed, S_3_changed, D_41_changed, B_3_changed, D_42_changed, D_43_changed, D_44_changed, B_4_changed, D_45_changed, B_5_changed, R_2_changed, D_46_changed, D_47_changed, D_48_changed, D_49_changed, B_6_changed, B_7_changed, B_8_changed, D_50_changed, D_51_changed, B_9_changed, R_3_changed, D_52_changed, P_3_changed, B_10_changed, D_53_changed, S_5_changed, B_11_changed, S_6_changed, D_54_changed, R_4_changed, S_7_changed, B_12_changed, S_8_changed, D_55_changed, D_56_changed, B_13_changed, R_5_changed, D_58_changed, S_9_changed, B_14_changed, D_59_changed, D_60_changed, D_61_changed, B_15_changed, S_11_changed, D_62_changed, D_63_changed, D_64_changed, D_65_changed, B_16_changed, B_17_changed, B_18_changed, B_19_changed, D_66_changed, B_20_changed, D_68_changed, S_12_changed, R_6_changed, S_13_changed, B_21_changed, D_69_changed, B_22_changed, D_70_changed, D_71_changed, D_72_changed, S_15_changed, B_23_changed, D_73_changed, P_4_changed, D_74_changed, D_75_changed, D_76_changed, B_24_changed, R_7_changed, D_77_changed, B_25_changed, B_26_changed, D_78_changed, D_79_changed, R_8_changed, R_9_changed, S_16_changed, D_80_changed, R_10_changed, R_11_changed, B_27_changed, D_81_changed, D_82_changed, S_17_changed, R_12_changed, B_28_changed, R_13_changed, D_83_changed, R_14_changed, R_15_changed, D_84_changed, R_16_changed, B_29_changed, B_30_changed, S_18_changed, D_86_changed, D_87_changed, R_17_changed, R_18_changed, D_88_changed, B_31_changed, S_19_changed, R_19_changed, B_32_changed, S_20_changed, R_20_changed, R_21_changed, B_33_changed, D_89_changed, R_22_changed, R_23_changed, D_91_changed, D_92_changed, D_93_changed, D_94_changed, R_24_changed, R_25_changed, D_96_changed, S_22_changed, S_23_changed, S_24_changed, S_25_changed, S_26_changed, D_102_changed, D_103_changed, D_104_changed, D_105_changed, D_106_changed, D_107_changed, B_36_changed, B_37_changed, R_26_changed, R_27_changed, B_38_changed, D_108_changed, D_109_changed, D_110_changed, D_111_changed, B_39_changed, D_112_changed, B_40_changed, S_27_changed, D_113_changed, D_114_changed, D_115_changed, D_116_changed, D_117_changed, D_118_changed, D_119_changed, D_120_changed, D_121_changed, D_122_changed, D_123_changed, D_124_changed, D_125_changed, D_126_changed, D_127_changed, D_128_changed, D_129_changed, B_41_changed, B_42_changed, D_130_changed, D_131_changed, D_132_changed, D_133_changed, R_28_changed, D_134_changed, D_135_changed, D_136_changed, D_137_changed, D_138_changed, D_139_changed, D_140_changed, D_141_changed, D_142_changed, D_143_changed, D_144_changed, D_145_changed, num_statements, P_2_num_unique, P_2_min, P_2_max, P_2_mean, D_39_num_unique, D_39_min, D_39_max, D_39_mean, B_1_num_unique, B_1_min, B_1_max, B_1_mean, B_2_num_unique, B_2_min, B_2_max, B_2_mean, R_1_num_unique, R_1_min, R_1_max, R_1_mean, S_3_num_unique, S_3_min, S_3_max, S_3_mean, D_41_num_unique, D_41_min, D_41_max, D_41_mean, B_3_num_unique, B_3_min, B_3_max, B_3_mean, D_42_num_unique, D_42_min, D_42_max, D_42_mean, D_43_num_unique, D_43_min, D_43_max, D_43_mean, D_44_num_unique, D_44_min, D_44_max, D_44_mean, B_4_num_unique, B_4_min, B_4_max, B_4_mean, D_45_num_unique, D_45_min, D_45_max, D_45_mean, B_5_num_unique, B_5_min, B_5_max, B_5_mean, R_2_num_unique, R_2_min, R_2_max, R_2_mean, D_46_num_unique, D_46_min, D_46_max, D_46_mean, D_47_num_unique, D_47_min, D_47_max, D_47_mean, D_48_num_unique, D_48_min, D_48_max, D_48_mean, D_49_num_unique, D_49_min, D_49_max, D_49_mean, B_6_num_unique, B_6_min, B_6_max, B_6_mean, B_7_num_unique, B_7_min, B_7_max, B_7_mean, B_8_num_unique, B_8_min, B_8_max, B_8_mean, D_50_num_unique, D_50_min, D_50_max, D_50_mean, D_51_num_unique, D_51_min, D_51_max, D_51_mean, B_9_num_unique, B_9_min, B_9_max, B_9_mean, R_3_num_unique, R_3_min, R_3_max, R_3_mean, D_52_num_unique, D_52_min, D_52_max, D_52_mean, P_3_num_unique, P_3_min, P_3_max, P_3_mean, B_10_num_unique, B_10_min, B_10_max, B_10_mean, D_53_num_unique, D_53_min, D_53_max, D_53_mean, S_5_num_unique, S_5_min, S_5_max, S_5_mean, B_11_num_unique, B_11_min, B_11_max, B_11_mean, S_6_num_unique, S_6_min, S_6_max, S_6_mean, D_54_num_unique, D_54_min, D_54_max, D_54_mean, R_4_num_unique, R_4_min, R_4_max, R_4_mean, S_7_num_unique, S_7_min, S_7_max, S_7_mean, B_12_num_unique, B_12_min, B_12_max, B_12_mean, S_8_num_unique, S_8_min, S_8_max, S_8_mean, D_55_num_unique, D_55_min, D_55_max, D_55_mean, D_56_num_unique, D_56_min, D_56_max, D_56_mean, B_13_num_unique, B_13_min, B_13_max, B_13_mean, R_5_num_unique, R_5_min, R_5_max, R_5_mean, D_58_num_unique, D_58_min, D_58_max, D_58_mean, S_9_num_unique, S_9_min, S_9_max, S_9_mean, B_14_num_unique, B_14_min, B_14_max, B_14_mean, D_59_num_unique, D_59_min, D_59_max, D_59_mean, D_60_num_unique, D_60_min, D_60_max, D_60_mean, D_61_num_unique, D_61_min, D_61_max, D_61_mean, B_15_num_unique, B_15_min, B_15_max, B_15_mean, S_11_num_unique, S_11_min, S_11_max, S_11_mean, D_62_num_unique, D_62_min, D_62_max, D_62_mean, D_63_num_unique, D_63_mode, D_64_num_unique, D_64_mode, D_65_num_unique, D_65_min, D_65_max, D_65_mean, B_16_num_unique, B_16_min, B_16_max, B_16_mean, B_17_num_unique, B_17_min, B_17_max, B_17_mean, B_18_num_unique, B_18_min, B_18_max, B_18_mean, B_19_num_unique, B_19_min, B_19_max, B_19_mean, D_66_num_unique, D_66_mode, B_20_num_unique, B_20_min, B_20_max, B_20_mean, D_68_num_unique, D_68_mode, S_12_num_unique, S_12_min, S_12_max, S_12_mean, R_6_num_unique, R_6_min, R_6_max, R_6_mean, S_13_num_unique, S_13_min, S_13_max, S_13_mean, B_21_num_unique, B_21_min, B_21_max, B_21_mean, D_69_num_unique, D_69_min, D_69_max, D_69_mean, B_22_num_unique, B_22_min, B_22_max, B_22_mean, D_70_num_unique, D_70_min, D_70_max, D_70_mean, D_71_num_unique, D_71_min, D_71_max, D_71_mean, D_72_num_unique, D_72_min, D_72_max, D_72_mean, S_15_num_unique, S_15_min, S_15_max, S_15_mean, B_23_num_unique, B_23_min, B_23_max, B_23_mean, D_73_num_unique, D_73_min, D_73_max, D_73_mean, P_4_num_unique, P_4_min, P_4_max, P_4_mean, D_74_num_unique, D_74_min, D_74_max, D_74_mean, D_75_num_unique, D_75_min, D_75_max, D_75_mean, D_76_num_unique, D_76_min, D_76_max, D_76_mean, B_24_num_unique, B_24_min, B_24_max, B_24_mean, R_7_num_unique, R_7_min, R_7_max, R_7_mean, D_77_num_unique, D_77_min, D_77_max, D_77_mean, B_25_num_unique, B_25_min, B_25_max, B_25_mean, B_26_num_unique, B_26_min, B_26_max, B_26_mean, D_78_num_unique, D_78_min, D_78_max, D_78_mean, D_79_num_unique, D_79_min, D_79_max, D_79_mean, R_8_num_unique, R_8_min, R_8_max, R_8_mean, R_9_num_unique, R_9_min, R_9_max, R_9_mean, S_16_num_unique, S_16_min, S_16_max, S_16_mean, D_80_num_unique, D_80_min, D_80_max, D_80_mean, R_10_num_unique, R_10_min, R_10_max, R_10_mean, R_11_num_unique, R_11_min, R_11_max, R_11_mean, B_27_num_unique, B_27_min, B_27_max, B_27_mean, D_81_num_unique, D_81_min, D_81_max, D_81_mean, D_82_num_unique, D_82_min, D_82_max, D_82_mean, S_17_num_unique, S_17_min, S_17_max, S_17_mean, R_12_num_unique, R_12_min, R_12_max, R_12_mean, B_28_num_unique, B_28_min, B_28_max, B_28_mean, R_13_num_unique, R_13_min, R_13_max, R_13_mean, D_83_num_unique, D_83_min, D_83_max, D_83_mean, R_14_num_unique, R_14_min, R_14_max, R_14_mean, R_15_num_unique, R_15_min, R_15_max, R_15_mean, D_84_num_unique, D_84_min, D_84_max, D_84_mean, R_16_num_unique, R_16_min, R_16_max, R_16_mean, B_29_num_unique, B_29_min, B_29_max, B_29_mean, B_30_num_unique, B_30_mode, S_18_num_unique, S_18_min, S_18_max, S_18_mean, D_86_num_unique, D_86_min, D_86_max, D_86_mean, D_87_num_unique, D_87_min, D_87_max, D_87_mean, R_17_num_unique, R_17_min, R_17_max, R_17_mean, R_18_num_unique, R_18_min, R_18_max, R_18_mean, D_88_num_unique, D_88_min, D_88_max, D_88_mean, B_31_num_unique, B_31_min, B_31_max, B_31_mean, S_19_num_unique, S_19_min, S_19_max, S_19_mean, R_19_num_unique, R_19_min, R_19_max, R_19_mean, B_32_num_unique, B_32_min, B_32_max, B_32_mean, S_20_num_unique, S_20_min, S_20_max, S_20_mean, R_20_num_unique, R_20_min, R_20_max, R_20_mean, R_21_num_unique, R_21_min, R_21_max, R_21_mean, B_33_num_unique, B_33_min, B_33_max, B_33_mean, D_89_num_unique, D_89_min, D_89_max, D_89_mean, R_22_num_unique, R_22_min, R_22_max, R_22_mean, R_23_num_unique, R_23_min, R_23_max, R_23_mean, D_91_num_unique, D_91_min, D_91_max, D_91_mean, D_92_num_unique, D_92_min, D_92_max, D_92_mean, D_93_num_unique, D_93_min, D_93_max, D_93_mean, D_94_num_unique, D_94_min, D_94_max, D_94_mean, R_24_num_unique, R_24_min, R_24_max, R_24_mean, R_25_num_unique, R_25_min, R_25_max, R_25_mean, D_96_num_unique, D_96_min, D_96_max, D_96_mean, S_22_num_unique, S_22_min, S_22_max, S_22_mean, S_23_num_unique, S_23_min, S_23_max, S_23_mean, S_24_num_unique, S_24_min, S_24_max, S_24_mean, S_25_num_unique, S_25_min, S_25_max, S_25_mean, S_26_num_unique, S_26_min, S_26_max, S_26_mean, D_102_num_unique, D_102_min, D_102_max, D_102_mean, D_103_num_unique, D_103_min, D_103_max, D_103_mean, D_104_num_unique, D_104_min, D_104_max, D_104_mean, D_105_num_unique, D_105_min, D_105_max, D_105_mean, D_106_num_unique, D_106_min, D_106_max, D_106_mean, D_107_num_unique, D_107_min, D_107_max, D_107_mean, B_36_num_unique, B_36_min, B_36_max, B_36_mean, B_37_num_unique, B_37_min, B_37_max, B_37_mean, R_26_num_unique, R_26_min, R_26_max, R_26_mean, R_27_num_unique, R_27_min, R_27_max, R_27_mean, B_38_num_unique, B_38_mode, D_108_num_unique, D_108_min, D_108_max, D_108_mean, D_109_num_unique, D_109_min, D_109_max, D_109_mean, D_110_num_unique, D_110_min, D_110_max, D_110_mean, D_111_num_unique, D_111_min, D_111_max, D_111_mean, B_39_num_unique, B_39_min, B_39_max, B_39_mean, D_112_num_unique, D_112_min, D_112_max, D_112_mean, B_40_num_unique, B_40_min, B_40_max, B_40_mean, S_27_num_unique, S_27_min, S_27_max, S_27_mean, D_113_num_unique, D_113_min, D_113_max, D_113_mean, D_114_num_unique, D_114_mode, D_115_num_unique, D_115_min, D_115_max, D_115_mean, D_116_num_unique, D_116_mode, D_117_num_unique, D_117_mode, D_118_num_unique, D_118_min, D_118_max, D_118_mean, D_119_num_unique, D_119_min, D_119_max, D_119_mean, D_120_num_unique, D_120_mode, D_121_num_unique, D_121_min, D_121_max, D_121_mean, D_122_num_unique, D_122_min, D_122_max, D_122_mean, D_123_num_unique, D_123_min, D_123_max, D_123_mean, D_124_num_unique, D_124_min, D_124_max, D_124_mean, D_125_num_unique, D_125_min, D_125_max, D_125_mean, D_126_num_unique, D_126_mode, D_127_num_unique, D_127_min, D_127_max, D_127_mean, D_128_num_unique, D_128_min, D_128_max, D_128_mean, D_129_num_unique, D_129_min, D_129_max, D_129_mean, B_41_num_unique, B_41_min, B_41_max, B_41_mean, B_42_num_unique, B_42_min, B_42_max, B_42_mean, D_130_num_unique, D_130_min, D_130_max, D_130_mean, D_131_num_unique, D_131_min, D_131_max, D_131_mean, D_132_num_unique, D_132_min, D_132_max, D_132_mean, D_133_num_unique, D_133_min, D_133_max, D_133_mean, R_28_num_unique, R_28_min, R_28_max, R_28_mean, D_134_num_unique, D_134_min, D_134_max, D_134_mean, D_135_num_unique, D_135_min, D_135_max, D_135_mean, D_136_num_unique, D_136_min, D_136_max, D_136_mean, D_137_num_unique, D_137_min, D_137_max, D_137_mean, D_138_num_unique, D_138_min, D_138_max, D_138_mean, D_139_num_unique, D_139_min, D_139_max, D_139_mean, D_140_num_unique, D_140_min, D_140_max, D_140_mean, D_141_num_unique, D_141_min, D_141_max, D_141_mean, D_142_num_unique, D_142_min, D_142_max, D_142_mean, D_143_num_unique, D_143_min, D_143_max, D_143_mean, D_144_num_unique, D_144_min, D_144_max, D_144_mean, D_145_num_unique, D_145_min, D_145_max, D_145_mean\n"
     ]
    }
   ],
   "source": [
    "non_feature_columns = [\n",
    "    TARGET_VARIABLE,\n",
    "    *ID_VARIABLES,\n",
    "    *DATE_VARIABLES.keys(),\n",
    "]\n",
    "feature_columns = [\n",
    "    c for c in train_data.columns\n",
    "    if c not in non_feature_columns\n",
    "]\n",
    "print(\n",
    "    f'Feature columns ({len(feature_columns)}):\\n'\n",
    "    + ', '.join(feature_columns)\n",
    ")"
   ]
  },
  {
   "cell_type": "code",
   "execution_count": 3,
   "metadata": {},
   "outputs": [],
   "source": [
    "from getxy import GetXY\n",
    "\n",
    "getxy = GetXY(\n",
    "    spark=spark,\n",
    "    feature_columns=feature_columns,\n",
    "    categorical_columns=[\n",
    "        *CATEGORICAL_VARIABLES,\n",
    "        *WINDOW_FEATURE_CATEGORICAL_VARIABLES,\n",
    "        *SUMMARY_FEATURE_CATEGORICAL_VARIABLES,\n",
    "    ],\n",
    "    target_column=TARGET_VARIABLE,\n",
    ").fit(train_data)\n"
   ]
  },
  {
   "cell_type": "code",
   "execution_count": 4,
   "metadata": {},
   "outputs": [
    {
     "name": "stdout",
     "output_type": "stream",
     "text": [
      "67633.01157407407\n"
     ]
    }
   ],
   "source": [
    "# some rough calculations for batch size\n",
    "known_good_df = spark.read.parquet('data_transformed/amex-default-prediction/train_data_latest')\n",
    "known_good_shape = (known_good_df.count(), len(known_good_df.columns))\n",
    "target_shape = (train_data.count(), len(feature_columns))\n",
    "batch_size = known_good_df.count() * (len(known_good_df.columns) / len(feature_columns))\n",
    "print(batch_size)"
   ]
  },
  {
   "cell_type": "code",
   "execution_count": 5,
   "metadata": {},
   "outputs": [
    {
     "name": "stderr",
     "output_type": "stream",
     "text": [
      "22/08/02 00:17:04 WARN package: Truncated the string representation of a plan since it was too large. This behavior can be adjusted by setting 'spark.sql.debug.maxToStringFields'.\n",
      "                                                                                \r"
     ]
    },
    {
     "name": "stdout",
     "output_type": "stream",
     "text": [
      "Fitting 0/7 with 65626 rows\n"
     ]
    },
    {
     "name": "stderr",
     "output_type": "stream",
     "text": [
      "                                                                                \r"
     ]
    },
    {
     "name": "stdout",
     "output_type": "stream",
     "text": [
      "Fitting 1/7 with 65553 rows\n"
     ]
    },
    {
     "name": "stderr",
     "output_type": "stream",
     "text": [
      "                                                                                \r"
     ]
    },
    {
     "name": "stdout",
     "output_type": "stream",
     "text": [
      "Fitting 2/7 with 65544 rows\n"
     ]
    },
    {
     "name": "stderr",
     "output_type": "stream",
     "text": [
      "                                                                                \r"
     ]
    },
    {
     "name": "stdout",
     "output_type": "stream",
     "text": [
      "Fitting 3/7 with 65447 rows\n"
     ]
    },
    {
     "name": "stderr",
     "output_type": "stream",
     "text": [
      "                                                                                \r"
     ]
    },
    {
     "name": "stdout",
     "output_type": "stream",
     "text": [
      "Fitting 4/7 with 65658 rows\n"
     ]
    },
    {
     "name": "stderr",
     "output_type": "stream",
     "text": [
      "                                                                                \r"
     ]
    },
    {
     "name": "stdout",
     "output_type": "stream",
     "text": [
      "Fitting 5/7 with 65668 rows\n"
     ]
    },
    {
     "name": "stderr",
     "output_type": "stream",
     "text": [
      "                                                                                \r"
     ]
    },
    {
     "name": "stdout",
     "output_type": "stream",
     "text": [
      "Fitting 6/7 with 65417 rows\n"
     ]
    },
    {
     "name": "stderr",
     "output_type": "stream",
     "text": [
      "                                                                                \r"
     ]
    },
    {
     "name": "stdout",
     "output_type": "stream",
     "text": [
      "Predicting 0/14 with 66251 rows\n"
     ]
    },
    {
     "name": "stderr",
     "output_type": "stream",
     "text": [
      "                                                                                \r"
     ]
    },
    {
     "name": "stdout",
     "output_type": "stream",
     "text": [
      "Predicting 1/14 with 66168 rows\n"
     ]
    },
    {
     "name": "stderr",
     "output_type": "stream",
     "text": [
      "                                                                                \r"
     ]
    },
    {
     "name": "stdout",
     "output_type": "stream",
     "text": [
      "Predicting 2/14 with 66128 rows\n"
     ]
    },
    {
     "name": "stderr",
     "output_type": "stream",
     "text": [
      "                                                                                \r"
     ]
    },
    {
     "name": "stdout",
     "output_type": "stream",
     "text": [
      "Predicting 3/14 with 65895 rows\n"
     ]
    },
    {
     "name": "stderr",
     "output_type": "stream",
     "text": [
      "                                                                                \r"
     ]
    },
    {
     "name": "stdout",
     "output_type": "stream",
     "text": [
      "Predicting 4/14 with 66274 rows\n"
     ]
    },
    {
     "name": "stderr",
     "output_type": "stream",
     "text": [
      "                                                                                \r"
     ]
    },
    {
     "name": "stdout",
     "output_type": "stream",
     "text": [
      "Predicting 5/14 with 65483 rows\n"
     ]
    },
    {
     "name": "stderr",
     "output_type": "stream",
     "text": [
      "                                                                                \r"
     ]
    },
    {
     "name": "stdout",
     "output_type": "stream",
     "text": [
      "Predicting 6/14 with 66154 rows\n"
     ]
    },
    {
     "name": "stderr",
     "output_type": "stream",
     "text": [
      "                                                                                \r"
     ]
    },
    {
     "name": "stdout",
     "output_type": "stream",
     "text": [
      "Predicting 7/14 with 65866 rows\n"
     ]
    },
    {
     "name": "stderr",
     "output_type": "stream",
     "text": [
      "                                                                                \r"
     ]
    },
    {
     "name": "stdout",
     "output_type": "stream",
     "text": [
      "Predicting 8/14 with 66242 rows\n"
     ]
    },
    {
     "name": "stderr",
     "output_type": "stream",
     "text": [
      "                                                                                \r"
     ]
    },
    {
     "name": "stdout",
     "output_type": "stream",
     "text": [
      "Predicting 9/14 with 66222 rows\n"
     ]
    },
    {
     "name": "stderr",
     "output_type": "stream",
     "text": [
      "                                                                                \r"
     ]
    },
    {
     "name": "stdout",
     "output_type": "stream",
     "text": [
      "Predicting 10/14 with 66073 rows\n"
     ]
    },
    {
     "name": "stderr",
     "output_type": "stream",
     "text": [
      "                                                                                \r"
     ]
    },
    {
     "name": "stdout",
     "output_type": "stream",
     "text": [
      "Predicting 11/14 with 66024 rows\n"
     ]
    },
    {
     "name": "stderr",
     "output_type": "stream",
     "text": [
      "                                                                                \r"
     ]
    },
    {
     "name": "stdout",
     "output_type": "stream",
     "text": [
      "Predicting 12/14 with 65759 rows\n"
     ]
    },
    {
     "name": "stderr",
     "output_type": "stream",
     "text": [
      "                                                                                \r"
     ]
    },
    {
     "name": "stdout",
     "output_type": "stream",
     "text": [
      "Predicting 13/14 with 66082 rows\n"
     ]
    },
    {
     "name": "stderr",
     "output_type": "stream",
     "text": [
      "                                                                                \r"
     ]
    },
    {
     "data": {
      "text/html": [
       "<div>\n",
       "<style scoped>\n",
       "    .dataframe tbody tr th:only-of-type {\n",
       "        vertical-align: middle;\n",
       "    }\n",
       "\n",
       "    .dataframe tbody tr th {\n",
       "        vertical-align: top;\n",
       "    }\n",
       "\n",
       "    .dataframe thead th {\n",
       "        text-align: right;\n",
       "    }\n",
       "</style>\n",
       "<table border=\"1\" class=\"dataframe\">\n",
       "  <thead>\n",
       "    <tr style=\"text-align: right;\">\n",
       "      <th></th>\n",
       "      <th>customer_ID</th>\n",
       "      <th>prediction</th>\n",
       "    </tr>\n",
       "  </thead>\n",
       "  <tbody>\n",
       "    <tr>\n",
       "      <th>0</th>\n",
       "      <td>13ae6d2445b57e6450eb92d7d94836552d67dbdff6d4f8...</td>\n",
       "      <td>9.908358e-01</td>\n",
       "    </tr>\n",
       "    <tr>\n",
       "      <th>1</th>\n",
       "      <td>3ddb8e3505eb72e98e93c6cae6bda2d1dea4edec761da4...</td>\n",
       "      <td>6.252160e-01</td>\n",
       "    </tr>\n",
       "    <tr>\n",
       "      <th>2</th>\n",
       "      <td>84d568ba2f5702b882b6d41bb25e52b11c5f1e5c7353ba...</td>\n",
       "      <td>8.791473e-03</td>\n",
       "    </tr>\n",
       "    <tr>\n",
       "      <th>3</th>\n",
       "      <td>e8931cde8d349326c11d0b2b4a9be6c970e7ffb8faf550...</td>\n",
       "      <td>2.972499e-03</td>\n",
       "    </tr>\n",
       "    <tr>\n",
       "      <th>4</th>\n",
       "      <td>8ab2264ae98c13904380300fb2b2d75f8612189f8948e8...</td>\n",
       "      <td>0.000000e+00</td>\n",
       "    </tr>\n",
       "    <tr>\n",
       "      <th>...</th>\n",
       "      <td>...</td>\n",
       "      <td>...</td>\n",
       "    </tr>\n",
       "    <tr>\n",
       "      <th>66077</th>\n",
       "      <td>174487e698a6d249ea82b4ab49bd31fc27c8a82912f48d...</td>\n",
       "      <td>0.000000e+00</td>\n",
       "    </tr>\n",
       "    <tr>\n",
       "      <th>66078</th>\n",
       "      <td>7476ec92e97278969092d74a4598f4fc92bdffeb5b5835...</td>\n",
       "      <td>2.380968e-04</td>\n",
       "    </tr>\n",
       "    <tr>\n",
       "      <th>66079</th>\n",
       "      <td>a31c6de090acc8a6a67251c2e7a9886f01d963b3f60eb0...</td>\n",
       "      <td>1.455082e-03</td>\n",
       "    </tr>\n",
       "    <tr>\n",
       "      <th>66080</th>\n",
       "      <td>50fe2dee1a3480a9f375f481f9a8014c4acd9697876cfc...</td>\n",
       "      <td>2.058596e-11</td>\n",
       "    </tr>\n",
       "    <tr>\n",
       "      <th>66081</th>\n",
       "      <td>7c062b565c5ab7841b9aaf8749e1627dfad1821175078b...</td>\n",
       "      <td>7.397071e-01</td>\n",
       "    </tr>\n",
       "  </tbody>\n",
       "</table>\n",
       "<p>924621 rows × 2 columns</p>\n",
       "</div>"
      ],
      "text/plain": [
       "                                             customer_ID    prediction\n",
       "0      13ae6d2445b57e6450eb92d7d94836552d67dbdff6d4f8...  9.908358e-01\n",
       "1      3ddb8e3505eb72e98e93c6cae6bda2d1dea4edec761da4...  6.252160e-01\n",
       "2      84d568ba2f5702b882b6d41bb25e52b11c5f1e5c7353ba...  8.791473e-03\n",
       "3      e8931cde8d349326c11d0b2b4a9be6c970e7ffb8faf550...  2.972499e-03\n",
       "4      8ab2264ae98c13904380300fb2b2d75f8612189f8948e8...  0.000000e+00\n",
       "...                                                  ...           ...\n",
       "66077  174487e698a6d249ea82b4ab49bd31fc27c8a82912f48d...  0.000000e+00\n",
       "66078  7476ec92e97278969092d74a4598f4fc92bdffeb5b5835...  2.380968e-04\n",
       "66079  a31c6de090acc8a6a67251c2e7a9886f01d963b3f60eb0...  1.455082e-03\n",
       "66080  50fe2dee1a3480a9f375f481f9a8014c4acd9697876cfc...  2.058596e-11\n",
       "66081  7c062b565c5ab7841b9aaf8749e1627dfad1821175078b...  7.397071e-01\n",
       "\n",
       "[924621 rows x 2 columns]"
      ]
     },
     "execution_count": 5,
     "metadata": {},
     "output_type": "execute_result"
    }
   ],
   "source": [
    "from batched import Batched, BatchedLGBMClassifier\n",
    "\n",
    "train_data_labelled_batches = Batched(batch_size=batch_size).fit_transform(train_data_labelled)\n",
    "test_data_batches = Batched(batch_size=batch_size).fit_transform(test_data)\n",
    "\n",
    "m = BatchedLGBMClassifier(lgb_params={}, getxy=getxy).fit(dfs=train_data_labelled_batches)\n",
    "pred_df = m.predict(dfs=test_data_batches, id_variables=ID_VARIABLES)\n",
    "assert len(pred_df) == test_data.count()\n",
    "pred_df\n"
   ]
  },
  {
   "cell_type": "code",
   "execution_count": 6,
   "metadata": {},
   "outputs": [],
   "source": [
    "spark.stop()"
   ]
  }
 ],
 "metadata": {
  "kernelspec": {
   "display_name": "Python 3.8.10 64-bit",
   "language": "python",
   "name": "python3"
  },
  "language_info": {
   "codemirror_mode": {
    "name": "ipython",
    "version": 3
   },
   "file_extension": ".py",
   "mimetype": "text/x-python",
   "name": "python",
   "nbconvert_exporter": "python",
   "pygments_lexer": "ipython3",
   "version": "3.8.10"
  },
  "orig_nbformat": 4,
  "vscode": {
   "interpreter": {
    "hash": "916dbcbb3f70747c44a77c7bcd40155683ae19c65e1c03b4aa3499c5328201f1"
   }
  }
 },
 "nbformat": 4,
 "nbformat_minor": 2
}
