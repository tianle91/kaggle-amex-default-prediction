{
 "cells": [
  {
   "cell_type": "code",
   "execution_count": 1,
   "metadata": {},
   "outputs": [],
   "source": [
    "import hyperopt\n",
    "import mlflow\n",
    "import numpy as np\n",
    "from hyperopt import Trials\n",
    "from hyperopt.pyll.base import scope\n",
    "from sklearn.model_selection import train_test_split\n",
    "\n",
    "from encoder import CategoricalToIntegerEncoders\n",
    "from format_data import DATE_VARIABLES, ID_VARIABLES, TARGET_VARIABLE\n",
    "from hp import build_train_objective, find_best_run\n",
    "from spark_utils import SparkSessionContext\n",
    "from transform_aggregated import (SUMMARY_FEATURE_CATEGORICAL_VARIABLES,\n",
    "                                  WINDOW_FEATURE_CATEGORICAL_VARIABLES)\n"
   ]
  },
  {
   "cell_type": "code",
   "execution_count": 2,
   "metadata": {},
   "outputs": [
    {
     "name": "stderr",
     "output_type": "stream",
     "text": [
      "Warning: Ignoring non-Spark config property: Dio.netty.tryReflectionSetAccessible\n",
      "WARNING: An illegal reflective access operation has occurred\n",
      "WARNING: Illegal reflective access by org.apache.spark.unsafe.Platform (file:/usr/local/lib/python3.9/site-packages/pyspark/jars/spark-unsafe_2.12-3.2.0.jar) to constructor java.nio.DirectByteBuffer(long,int)\n",
      "WARNING: Please consider reporting this to the maintainers of org.apache.spark.unsafe.Platform\n",
      "WARNING: Use --illegal-access=warn to enable warnings of further illegal reflective access operations\n",
      "WARNING: All illegal access operations will be denied in a future release\n",
      "Using Spark's default log4j profile: org/apache/spark/log4j-defaults.properties\n",
      "Setting default log level to \"WARN\".\n",
      "To adjust logging level use sc.setLogLevel(newLevel). For SparkR, use setLogLevel(newLevel).\n",
      "22/08/11 20:37:10 WARN NativeCodeLoader: Unable to load native-hadoop library for your platform... using builtin-java classes where applicable\n",
      "                                                                                \r"
     ]
    },
    {
     "name": "stdout",
     "output_type": "stream",
     "text": [
      "Feature columns 1296 Categorical feature columns 33 Numerical feature columns 1263 \n"
     ]
    },
    {
     "name": "stderr",
     "output_type": "stream",
     "text": [
      "22/08/11 20:37:44 WARN package: Truncated the string representation of a plan since it was too large. This behavior can be adjusted by setting 'spark.sql.debug.maxToStringFields'.\n",
      "                                                                                \r"
     ]
    },
    {
     "name": "stdout",
     "output_type": "stream",
     "text": [
      "train_pdf.memory_usage in megabytes:  3034.25\n"
     ]
    }
   ],
   "source": [
    "with SparkSessionContext() as spark:\n",
    "    train_data = spark.read.parquet(\n",
    "        'data_transformed/amex-default-prediction/train_data_aggregated')\n",
    "    train_labels = spark.read.parquet(\n",
    "        'data/amex-default-prediction/train_labels')\n",
    "    train_data_labelled = train_data.join(\n",
    "        train_labels, on=ID_VARIABLES, how='inner')\n",
    "    assert train_data_labelled.count() == train_data.count()\n",
    "    assert train_data_labelled.select(ID_VARIABLES).distinct(\n",
    "    ).count() == train_data.select(ID_VARIABLES).distinct().count()\n",
    "\n",
    "    non_feature_columns = [\n",
    "        TARGET_VARIABLE,\n",
    "        *ID_VARIABLES,\n",
    "        *DATE_VARIABLES.keys(),\n",
    "    ]\n",
    "    feature_columns = [\n",
    "        c for c in train_data.columns\n",
    "        if c not in non_feature_columns\n",
    "    ]\n",
    "    categorical_feature_columns = [\n",
    "        *WINDOW_FEATURE_CATEGORICAL_VARIABLES,\n",
    "        *SUMMARY_FEATURE_CATEGORICAL_VARIABLES,\n",
    "    ]\n",
    "    numerical_feature_columns = [\n",
    "        c for c in feature_columns if c not in categorical_feature_columns]\n",
    "    print(\n",
    "        f'Feature columns {len(feature_columns)} '\n",
    "        f'Categorical feature columns {len(categorical_feature_columns)} '\n",
    "        f'Numerical feature columns {len(numerical_feature_columns)} '\n",
    "    )\n",
    "\n",
    "    encs = CategoricalToIntegerEncoders(\n",
    "        columns=categorical_feature_columns).fit(train_data)\n",
    "    transformed_feature_columns = numerical_feature_columns + encs.columns_encoded\n",
    "\n",
    "    train_pdf = encs.transform(spark=spark, df=train_data_labelled).toPandas()\n",
    "    train_pdf_bytes = train_pdf.memory_usage(deep=True).sum()\n",
    "    print(\n",
    "        f'train_pdf.memory_usage in megabytes: {train_pdf_bytes / 1048576: .2f}')"
   ]
  },
  {
   "cell_type": "code",
   "execution_count": 3,
   "metadata": {},
   "outputs": [
    {
     "name": "stdout",
     "output_type": "stream",
     "text": [
      "X_train.shape: (458913, 1296) y_train.shape: (458913,) y_train uniques: (array([0., 1.], dtype=float32), array([340085, 118828])) \n",
      "X_fit.shape: (413021, 1296) X_valid.shape: (45892, 1296) y_fit.shape: (413021,) y_valid.shape: (45892,) \n"
     ]
    }
   ],
   "source": [
    "from sklearn.model_selection import train_test_split\n",
    "\n",
    "X_train = train_pdf[transformed_feature_columns].reset_index(drop=True)\n",
    "y_train = np.array(train_pdf[TARGET_VARIABLE])\n",
    "print(\n",
    "    f'X_train.shape: {X_train.shape} '\n",
    "    f'y_train.shape: {y_train.shape} ' \n",
    "    f'y_train uniques: {np.unique(y_train, return_counts=True)} '\n",
    ")\n",
    "\n",
    "X_fit, X_valid, y_fit, y_valid = train_test_split(\n",
    "    X_train, y_train, test_size=.1)\n",
    "print(\n",
    "    f'X_fit.shape: {X_fit.shape} '\n",
    "    f'X_valid.shape: {X_valid.shape} '\n",
    "    f'y_fit.shape: {y_fit.shape} '\n",
    "    f'y_valid.shape: {y_valid.shape} '\n",
    ")"
   ]
  },
  {
   "cell_type": "code",
   "execution_count": 4,
   "metadata": {},
   "outputs": [
    {
     "name": "stdout",
     "output_type": "stream",
     "text": [
      "{'learning_rate': 0.021014232975222244,\n",
      " 'max_bin': 272,\n",
      " 'num_iterations': 3815,\n",
      " 'num_leaves': 76,\n",
      " 'scale_pos_weight': 1.157621536844177}\n"
     ]
    }
   ],
   "source": [
    "from pprint import pprint\n",
    "import json\n",
    "\n",
    "experiment_id = '0'\n",
    "run_id = '9cf16940923648cc89587e73b69c8a2d'\n",
    "\n",
    "client = mlflow.tracking.MlflowClient()\n",
    "best_run = client.get_run(run_id=run_id)\n",
    "best_params = json.loads(best_run.data.params['lgb_params_json'])\n",
    "\n",
    "# we need floats as keys here, but it's string\n",
    "if 'class_weight' in best_params:\n",
    "    best_params['class_weight'] = {float(k): v for k, v in best_params['class_weight'].items()}\n",
    "\n",
    "pprint(best_params)"
   ]
  },
  {
   "cell_type": "code",
   "execution_count": 5,
   "metadata": {},
   "outputs": [
    {
     "name": "stderr",
     "output_type": "stream",
     "text": [
      "2022/08/11 20:38:48 WARNING mlflow.utils.git_utils: Failed to import Git (the Git executable is probably not on your PATH), so Git SHA is not available. Error: Failed to initialize: Bad git executable.\n",
      "The git executable must be specified in one of the following ways:\n",
      "    - be included in your $PATH\n",
      "    - be set via $GIT_PYTHON_GIT_EXECUTABLE\n",
      "    - explicitly set via git.refresh()\n",
      "\n",
      "All git commands will error until this is rectified.\n",
      "\n",
      "This initial warning can be silenced or aggravated in the future by setting the\n",
      "$GIT_PYTHON_REFRESH environment variable. Use one of the following values:\n",
      "    - quiet|q|silence|s|none|n|0: for no warning or exception\n",
      "    - warn|w|warning|1: for a printed warning\n",
      "    - error|e|raise|r|2: for a raised exception\n",
      "\n",
      "Example:\n",
      "    export GIT_PYTHON_REFRESH=quiet\n",
      "\n",
      "/usr/local/lib/python3.9/site-packages/lightgbm/engine.py:177: UserWarning: Found `num_iterations` in params. Will use it instead of argument\n",
      "  _log_warning(f\"Found `{alias}` in params. Will use it instead of argument\")\n",
      "/usr/local/lib/python3.9/site-packages/lightgbm/basic.py:2065: UserWarning: Using categorical_feature in Dataset.\n",
      "  _log_warning('Using categorical_feature in Dataset.')\n",
      "/usr/local/lib/python3.9/site-packages/lightgbm/basic.py:2068: UserWarning: categorical_feature in Dataset is overridden.\n",
      "New categorical_feature is ['B_30_CategoricalToIntegerEncoder', 'B_30_mode_CategoricalToIntegerEncoder', 'B_30_previous_CategoricalToIntegerEncoder', 'B_38_CategoricalToIntegerEncoder', 'B_38_mode_CategoricalToIntegerEncoder', 'B_38_previous_CategoricalToIntegerEncoder', 'D_114_CategoricalToIntegerEncoder', 'D_114_mode_CategoricalToIntegerEncoder', 'D_114_previous_CategoricalToIntegerEncoder', 'D_116_CategoricalToIntegerEncoder', 'D_116_mode_CategoricalToIntegerEncoder', 'D_116_previous_CategoricalToIntegerEncoder', 'D_117_CategoricalToIntegerEncoder', 'D_117_mode_CategoricalToIntegerEncoder', 'D_117_previous_CategoricalToIntegerEncoder', 'D_120_CategoricalToIntegerEncoder', 'D_120_mode_CategoricalToIntegerEncoder', 'D_120_previous_CategoricalToIntegerEncoder', 'D_126_CategoricalToIntegerEncoder', 'D_126_mode_CategoricalToIntegerEncoder', 'D_126_previous_CategoricalToIntegerEncoder', 'D_63_CategoricalToIntegerEncoder', 'D_63_mode_CategoricalToIntegerEncoder', 'D_63_previous_CategoricalToIntegerEncoder', 'D_64_CategoricalToIntegerEncoder', 'D_64_mode_CategoricalToIntegerEncoder', 'D_64_previous_CategoricalToIntegerEncoder', 'D_66_CategoricalToIntegerEncoder', 'D_66_mode_CategoricalToIntegerEncoder', 'D_66_previous_CategoricalToIntegerEncoder', 'D_68_CategoricalToIntegerEncoder', 'D_68_mode_CategoricalToIntegerEncoder', 'D_68_previous_CategoricalToIntegerEncoder']\n",
      "  _log_warning('categorical_feature in Dataset is overridden.\\n'\n",
      "/usr/local/lib/python3.9/site-packages/lightgbm/basic.py:1780: UserWarning: Overriding the parameters from Reference Dataset.\n",
      "  _log_warning('Overriding the parameters from Reference Dataset.')\n",
      "/usr/local/lib/python3.9/site-packages/lightgbm/basic.py:1513: UserWarning: categorical_column in param dict is overridden.\n",
      "  _log_warning(f'{cat_alias} in param dict is overridden.')\n"
     ]
    },
    {
     "name": "stdout",
     "output_type": "stream",
     "text": [
      "Training until validation scores don't improve for 10 rounds\n",
      "Early stopping, best iteration is:\n",
      "[698]\tvalid10pct's binary_logloss: 0.22373\n"
     ]
    },
    {
     "name": "stderr",
     "output_type": "stream",
     "text": [
      "2022/08/11 20:48:48 WARNING mlflow.utils.autologging_utils: MLflow autologging encountered a warning: \"/usr/local/lib/python3.9/site-packages/mlflow/models/signature.py:129: UserWarning: Hint: Inferred schema contains integer column(s). Integer columns in Python cannot represent missing values. If your input data contains missing values at inference time, it will be encoded as floats and will cause a schema enforcement error. The best way to avoid this problem is to infer the model schema based on a realistic data sample (training dataset) that includes missing values. Alternatively, you can declare integer columns as doubles (float64) whenever these columns may have missing values. See `Handling Integers With Missing Values <https://www.mlflow.org/docs/latest/models.html#handling-integers-with-missing-values>`_ for more details.\"\n"
     ]
    },
    {
     "name": "stdout",
     "output_type": "stream",
     "text": [
      "{'learning_rate': 0.021014232975222244, 'max_bin': 272, 'num_iterations': 3815, 'num_leaves': 76, 'scale_pos_weight': 1.157621536844177}\n",
      "{'test_feval_amex': 0.7883423878038961, 'test_feval_amex_gini': 0.9210267705784544, 'test_feval_amex_top4': 0.6556580050293378}\n",
      "{'test_feval_amex': 0.7883423878038961,\n",
      " 'test_feval_amex_gini': 0.9210267705784544,\n",
      " 'test_feval_amex_top4': 0.6556580050293378}\n"
     ]
    }
   ],
   "source": [
    "from pprint import pprint\n",
    "import mlflow\n",
    "from hp import get_cv_hp_metrics\n",
    "\n",
    "model, metrics = get_cv_hp_metrics(\n",
    "    X_train=X_fit,\n",
    "    y_train=y_fit,\n",
    "    X_test=X_valid,\n",
    "    y_test=y_valid,\n",
    "    categorical_feature=encs.columns_encoded,\n",
    "    lgb_params=best_params,\n",
    "    nested=False,\n",
    ")\n",
    "pprint(metrics)\n"
   ]
  },
  {
   "cell_type": "code",
   "execution_count": 6,
   "metadata": {},
   "outputs": [
    {
     "data": {
      "text/plain": [
       "357721"
      ]
     },
     "execution_count": 6,
     "metadata": {},
     "output_type": "execute_result"
    }
   ],
   "source": [
    "import gc\n",
    "\n",
    "del train_pdf, X_fit, y_fit, X_valid, y_valid\n",
    "gc.collect()"
   ]
  },
  {
   "cell_type": "code",
   "execution_count": 7,
   "metadata": {},
   "outputs": [
    {
     "name": "stderr",
     "output_type": "stream",
     "text": [
      "                                                                                \r"
     ]
    },
    {
     "name": "stdout",
     "output_type": "stream",
     "text": [
      "test_pdf.memory_usage in megabytes:  6109.90\n"
     ]
    }
   ],
   "source": [
    "with SparkSessionContext() as spark:\n",
    "    test_data = spark.read.parquet(\n",
    "        'data_transformed/amex-default-prediction/test_data_aggregated')\n",
    "    sample_submission = spark.read.parquet(\n",
    "        'data/amex-default-prediction/sample_submission')\n",
    "    test_data_labelled = test_data.join(\n",
    "        sample_submission, on=ID_VARIABLES, how='inner')\n",
    "    assert test_data_labelled.count() == test_data.count()\n",
    "    assert test_data_labelled.select(ID_VARIABLES).distinct(\n",
    "    ).count() == test_data.select(ID_VARIABLES).distinct().count()\n",
    "\n",
    "    test_pdf = encs.transform(spark=spark, df=test_data).toPandas()\n",
    "    test_pdf_bytes = test_pdf.memory_usage(deep=True).sum()\n",
    "    print(\n",
    "        f'test_pdf.memory_usage in megabytes: {test_pdf_bytes / 1048576: .2f}')\n"
   ]
  },
  {
   "cell_type": "code",
   "execution_count": 8,
   "metadata": {},
   "outputs": [
    {
     "name": "stdout",
     "output_type": "stream",
     "text": [
      "X_test.shape: (924621, 1296) \n"
     ]
    }
   ],
   "source": [
    "X_test = test_pdf[transformed_feature_columns].reset_index(drop=True)\n",
    "print(\n",
    "    f'X_test.shape: {X_test.shape} '\n",
    ")"
   ]
  },
  {
   "cell_type": "code",
   "execution_count": 9,
   "metadata": {},
   "outputs": [
    {
     "data": {
      "text/html": [
       "<div>\n",
       "<style scoped>\n",
       "    .dataframe tbody tr th:only-of-type {\n",
       "        vertical-align: middle;\n",
       "    }\n",
       "\n",
       "    .dataframe tbody tr th {\n",
       "        vertical-align: top;\n",
       "    }\n",
       "\n",
       "    .dataframe thead th {\n",
       "        text-align: right;\n",
       "    }\n",
       "</style>\n",
       "<table border=\"1\" class=\"dataframe\">\n",
       "  <thead>\n",
       "    <tr style=\"text-align: right;\">\n",
       "      <th></th>\n",
       "      <th>customer_ID</th>\n",
       "      <th>prediction</th>\n",
       "    </tr>\n",
       "  </thead>\n",
       "  <tbody>\n",
       "    <tr>\n",
       "      <th>0</th>\n",
       "      <td>0ae32aa9a241e6a21cd06e14896a15625f8de65be6df54...</td>\n",
       "      <td>-0.040247</td>\n",
       "    </tr>\n",
       "    <tr>\n",
       "      <th>1</th>\n",
       "      <td>c7cba9a15ba5671fb2d346c2e84b6f871fc1b3cef4e643...</td>\n",
       "      <td>-1.833685</td>\n",
       "    </tr>\n",
       "    <tr>\n",
       "      <th>2</th>\n",
       "      <td>790762990c0d268be722ff17fea0bced3a05383eb2b824...</td>\n",
       "      <td>-5.584318</td>\n",
       "    </tr>\n",
       "    <tr>\n",
       "      <th>3</th>\n",
       "      <td>f74b10f7c312447d066158b409e9617bca6b6302bcd6e6...</td>\n",
       "      <td>-4.746820</td>\n",
       "    </tr>\n",
       "    <tr>\n",
       "      <th>4</th>\n",
       "      <td>ae4f8ca1129fa77aaffc2d6e246b412db110a21bc78a0b...</td>\n",
       "      <td>5.253437</td>\n",
       "    </tr>\n",
       "  </tbody>\n",
       "</table>\n",
       "</div>"
      ],
      "text/plain": [
       "                                         customer_ID  prediction\n",
       "0  0ae32aa9a241e6a21cd06e14896a15625f8de65be6df54...   -0.040247\n",
       "1  c7cba9a15ba5671fb2d346c2e84b6f871fc1b3cef4e643...   -1.833685\n",
       "2  790762990c0d268be722ff17fea0bced3a05383eb2b824...   -5.584318\n",
       "3  f74b10f7c312447d066158b409e9617bca6b6302bcd6e6...   -4.746820\n",
       "4  ae4f8ca1129fa77aaffc2d6e246b412db110a21bc78a0b...    5.253437"
      ]
     },
     "execution_count": 9,
     "metadata": {},
     "output_type": "execute_result"
    }
   ],
   "source": [
    "from format_data import PREDICTION_VARIABLE\n",
    "import pandas as pd\n",
    "\n",
    "pred_test = pd.DataFrame({\n",
    "    'customer_ID': test_pdf['customer_ID'],\n",
    "    PREDICTION_VARIABLE: model.predict(X_test, raw_score=True),\n",
    "}) \n",
    "pred_test.to_csv('submission.csv', index=False)\n",
    "pred_test.head()"
   ]
  }
 ],
 "metadata": {
  "kernelspec": {
   "display_name": "Python 3.9.8 64-bit",
   "language": "python",
   "name": "python3"
  },
  "language_info": {
   "codemirror_mode": {
    "name": "ipython",
    "version": 3
   },
   "file_extension": ".py",
   "mimetype": "text/x-python",
   "name": "python",
   "nbconvert_exporter": "python",
   "pygments_lexer": "ipython3",
   "version": "3.9.8"
  },
  "orig_nbformat": 4,
  "vscode": {
   "interpreter": {
    "hash": "949777d72b0d2535278d3dc13498b2535136f6dfe0678499012e853ee9abcab1"
   }
  }
 },
 "nbformat": 4,
 "nbformat_minor": 2
}
