{
 "cells": [
  {
   "cell_type": "code",
   "execution_count": 1,
   "metadata": {},
   "outputs": [
    {
     "name": "stderr",
     "output_type": "stream",
     "text": [
      "Warning: Ignoring non-Spark config property: Dio.netty.tryReflectionSetAccessible\n",
      "WARNING: An illegal reflective access operation has occurred\n",
      "WARNING: Illegal reflective access by org.apache.spark.unsafe.Platform (file:/usr/local/lib/python3.8/dist-packages/pyspark/jars/spark-unsafe_2.12-3.2.1.jar) to constructor java.nio.DirectByteBuffer(long,int)\n",
      "WARNING: Please consider reporting this to the maintainers of org.apache.spark.unsafe.Platform\n",
      "WARNING: Use --illegal-access=warn to enable warnings of further illegal reflective access operations\n",
      "WARNING: All illegal access operations will be denied in a future release\n",
      "Using Spark's default log4j profile: org/apache/spark/log4j-defaults.properties\n",
      "Setting default log level to \"WARN\".\n",
      "To adjust logging level use sc.setLogLevel(newLevel). For SparkR, use setLogLevel(newLevel).\n",
      "22/06/20 22:41:40 WARN NativeCodeLoader: Unable to load native-hadoop library for your platform... using builtin-java classes where applicable\n"
     ]
    }
   ],
   "source": [
    "from spark_utils import get_spark_session\n",
    "import pyspark.sql.functions as F\n",
    "\n",
    "spark = get_spark_session()\n",
    "# run transform_latest.py if this don't exist\n",
    "test_data = spark.read.parquet('data_transformed/amex-default-prediction/test_data_aggregated')\n",
    "train_data = spark.read.parquet('data_transformed/amex-default-prediction/train_data_aggregated')\n",
    "# run format_data.py if these don't exist\n",
    "train_labels = spark.read.parquet('data/amex-default-prediction/train_labels')\n",
    "sample_submission = spark.read.parquet('data/amex-default-prediction/sample_submission')"
   ]
  },
  {
   "cell_type": "code",
   "execution_count": 2,
   "metadata": {},
   "outputs": [
    {
     "name": "stderr",
     "output_type": "stream",
     "text": [
      "                                                                                \r"
     ]
    },
    {
     "name": "stdout",
     "output_type": "stream",
     "text": [
      "CPU times: user 394 ms, sys: 77.7 ms, total: 472 ms\n",
      "Wall time: 19.1 s\n"
     ]
    }
   ],
   "source": [
    "%%time\n",
    "from format_data import CATEGORICAL_VARIABLES\n",
    "from encoder import CategoricalToIntegerEncoders\n",
    "\n",
    "categorical_cols = []\n",
    "for c in CATEGORICAL_VARIABLES:\n",
    "    categorical_cols += [\n",
    "        f'{c}_first',\n",
    "        f'{c}_last',\n",
    "        f'{c}_mode',\n",
    "    ]\n",
    "\n",
    "encs = CategoricalToIntegerEncoders(columns=categorical_cols).fit(train_data)"
   ]
  },
  {
   "cell_type": "code",
   "execution_count": 3,
   "metadata": {},
   "outputs": [
    {
     "name": "stderr",
     "output_type": "stream",
     "text": [
      "22/06/20 22:42:08 WARN package: Truncated the string representation of a plan since it was too large. This behavior can be adjusted by setting 'spark.sql.debug.maxToStringFields'.\n",
      "                                                                                \r"
     ]
    },
    {
     "name": "stdout",
     "output_type": "stream",
     "text": [
      "len(feature_columns): 565\n",
      " num_statements, P_2_first, P_2_last, P_2_mean, D_39_first, D_39_last, D_39_mean, B_1_first, B_1_last, B_1_mean, B_2_first, B_2_last, B_2_mean, R_1_first, R_1_last, R_1_mean, S_3_first, S_3_last, S_3_mean, D_41_first, D_41_last, D_41_mean, B_3_first, B_3_last, B_3_mean, D_42_first, D_42_last, D_42_mean, D_43_first, D_43_last, D_43_mean, D_44_first, D_44_last, D_44_mean, B_4_first, B_4_last, B_4_mean, D_45_first, D_45_last, D_45_mean, B_5_first, B_5_last, B_5_mean, R_2_first, R_2_last, R_2_mean, D_46_first, D_46_last, D_46_mean, D_47_first, D_47_last, D_47_mean, D_48_first, D_48_last, D_48_mean, D_49_first, D_49_last, D_49_mean, B_6_first, B_6_last, B_6_mean, B_7_first, B_7_last, B_7_mean, B_8_first, B_8_last, B_8_mean, D_50_first, D_50_last, D_50_mean, D_51_first, D_51_last, D_51_mean, B_9_first, B_9_last, B_9_mean, R_3_first, R_3_last, R_3_mean, D_52_first, D_52_last, D_52_mean, P_3_first, P_3_last, P_3_mean, B_10_first, B_10_last, B_10_mean, D_53_first, D_53_last, D_53_mean, S_5_first, S_5_last, S_5_mean, B_11_first, B_11_last, B_11_mean, S_6_first, S_6_last, S_6_mean, D_54_first, D_54_last, D_54_mean, R_4_first, R_4_last, R_4_mean, S_7_first, S_7_last, S_7_mean, B_12_first, B_12_last, B_12_mean, S_8_first, S_8_last, S_8_mean, D_55_first, D_55_last, D_55_mean, D_56_first, D_56_last, D_56_mean, B_13_first, B_13_last, B_13_mean, R_5_first, R_5_last, R_5_mean, D_58_first, D_58_last, D_58_mean, S_9_first, S_9_last, S_9_mean, B_14_first, B_14_last, B_14_mean, D_59_first, D_59_last, D_59_mean, D_60_first, D_60_last, D_60_mean, D_61_first, D_61_last, D_61_mean, B_15_first, B_15_last, B_15_mean, S_11_first, S_11_last, S_11_mean, D_62_first, D_62_last, D_62_mean, D_65_first, D_65_last, D_65_mean, B_16_first, B_16_last, B_16_mean, B_17_first, B_17_last, B_17_mean, B_18_first, B_18_last, B_18_mean, B_19_first, B_19_last, B_19_mean, B_20_first, B_20_last, B_20_mean, S_12_first, S_12_last, S_12_mean, R_6_first, R_6_last, R_6_mean, S_13_first, S_13_last, S_13_mean, B_21_first, B_21_last, B_21_mean, D_69_first, D_69_last, D_69_mean, B_22_first, B_22_last, B_22_mean, D_70_first, D_70_last, D_70_mean, D_71_first, D_71_last, D_71_mean, D_72_first, D_72_last, D_72_mean, S_15_first, S_15_last, S_15_mean, B_23_first, B_23_last, B_23_mean, D_73_first, D_73_last, D_73_mean, P_4_first, P_4_last, P_4_mean, D_74_first, D_74_last, D_74_mean, D_75_first, D_75_last, D_75_mean, D_76_first, D_76_last, D_76_mean, B_24_first, B_24_last, B_24_mean, R_7_first, R_7_last, R_7_mean, D_77_first, D_77_last, D_77_mean, B_25_first, B_25_last, B_25_mean, B_26_first, B_26_last, B_26_mean, D_78_first, D_78_last, D_78_mean, D_79_first, D_79_last, D_79_mean, R_8_first, R_8_last, R_8_mean, R_9_first, R_9_last, R_9_mean, S_16_first, S_16_last, S_16_mean, D_80_first, D_80_last, D_80_mean, R_10_first, R_10_last, R_10_mean, R_11_first, R_11_last, R_11_mean, B_27_first, B_27_last, B_27_mean, D_81_first, D_81_last, D_81_mean, D_82_first, D_82_last, D_82_mean, S_17_first, S_17_last, S_17_mean, R_12_first, R_12_last, R_12_mean, B_28_first, B_28_last, B_28_mean, R_13_first, R_13_last, R_13_mean, D_83_first, D_83_last, D_83_mean, R_14_first, R_14_last, R_14_mean, R_15_first, R_15_last, R_15_mean, D_84_first, D_84_last, D_84_mean, R_16_first, R_16_last, R_16_mean, B_29_first, B_29_last, B_29_mean, S_18_first, S_18_last, S_18_mean, D_86_first, D_86_last, D_86_mean, D_87_first, D_87_last, D_87_mean, R_17_first, R_17_last, R_17_mean, R_18_first, R_18_last, R_18_mean, D_88_first, D_88_last, D_88_mean, B_31_first, B_31_last, B_31_mean, S_19_first, S_19_last, S_19_mean, R_19_first, R_19_last, R_19_mean, B_32_first, B_32_last, B_32_mean, S_20_first, S_20_last, S_20_mean, R_20_first, R_20_last, R_20_mean, R_21_first, R_21_last, R_21_mean, B_33_first, B_33_last, B_33_mean, D_89_first, D_89_last, D_89_mean, R_22_first, R_22_last, R_22_mean, R_23_first, R_23_last, R_23_mean, D_91_first, D_91_last, D_91_mean, D_92_first, D_92_last, D_92_mean, D_93_first, D_93_last, D_93_mean, D_94_first, D_94_last, D_94_mean, R_24_first, R_24_last, R_24_mean, R_25_first, R_25_last, R_25_mean, D_96_first, D_96_last, D_96_mean, S_22_first, S_22_last, S_22_mean, S_23_first, S_23_last, S_23_mean, S_24_first, S_24_last, S_24_mean, S_25_first, S_25_last, S_25_mean, S_26_first, S_26_last, S_26_mean, D_102_first, D_102_last, D_102_mean, D_103_first, D_103_last, D_103_mean, D_104_first, D_104_last, D_104_mean, D_105_first, D_105_last, D_105_mean, D_106_first, D_106_last, D_106_mean, D_107_first, D_107_last, D_107_mean, B_36_first, B_36_last, B_36_mean, B_37_first, B_37_last, B_37_mean, R_26_first, R_26_last, R_26_mean, R_27_first, R_27_last, R_27_mean, D_108_first, D_108_last, D_108_mean, D_109_first, D_109_last, D_109_mean, D_110_first, D_110_last, D_110_mean, D_111_first, D_111_last, D_111_mean, B_39_first, B_39_last, B_39_mean, D_112_first, D_112_last, D_112_mean, B_40_first, B_40_last, B_40_mean, S_27_first, S_27_last, S_27_mean, D_113_first, D_113_last, D_113_mean, D_115_first, D_115_last, D_115_mean, D_118_first, D_118_last, D_118_mean, D_119_first, D_119_last, D_119_mean, D_121_first, D_121_last, D_121_mean, D_122_first, D_122_last, D_122_mean, D_123_first, D_123_last, D_123_mean, D_124_first, D_124_last, D_124_mean, D_125_first, D_125_last, D_125_mean, D_127_first, D_127_last, D_127_mean, D_128_first, D_128_last, D_128_mean, D_129_first, D_129_last, D_129_mean, B_41_first, B_41_last, B_41_mean, B_42_first, B_42_last, B_42_mean, D_130_first, D_130_last, D_130_mean, D_131_first, D_131_last, D_131_mean, D_132_first, D_132_last, D_132_mean, D_133_first, D_133_last, D_133_mean, R_28_first, R_28_last, R_28_mean, D_134_first, D_134_last, D_134_mean, D_135_first, D_135_last, D_135_mean, D_136_first, D_136_last, D_136_mean, D_137_first, D_137_last, D_137_mean, D_138_first, D_138_last, D_138_mean, D_139_first, D_139_last, D_139_mean, D_140_first, D_140_last, D_140_mean, D_141_first, D_141_last, D_141_mean, D_142_first, D_142_last, D_142_mean, D_143_first, D_143_last, D_143_mean, D_144_first, D_144_last, D_144_mean, D_145_first, D_145_last, D_145_mean, B_30_first_CategoricalToIntegerEncoder, B_30_last_CategoricalToIntegerEncoder, B_30_mode_CategoricalToIntegerEncoder, B_38_first_CategoricalToIntegerEncoder, B_38_last_CategoricalToIntegerEncoder, B_38_mode_CategoricalToIntegerEncoder, D_114_first_CategoricalToIntegerEncoder, D_114_last_CategoricalToIntegerEncoder, D_114_mode_CategoricalToIntegerEncoder, D_116_first_CategoricalToIntegerEncoder, D_116_last_CategoricalToIntegerEncoder, D_116_mode_CategoricalToIntegerEncoder, D_117_first_CategoricalToIntegerEncoder, D_117_last_CategoricalToIntegerEncoder, D_117_mode_CategoricalToIntegerEncoder, D_120_first_CategoricalToIntegerEncoder, D_120_last_CategoricalToIntegerEncoder, D_120_mode_CategoricalToIntegerEncoder, D_126_first_CategoricalToIntegerEncoder, D_126_last_CategoricalToIntegerEncoder, D_126_mode_CategoricalToIntegerEncoder, D_63_first_CategoricalToIntegerEncoder, D_63_last_CategoricalToIntegerEncoder, D_63_mode_CategoricalToIntegerEncoder, D_64_first_CategoricalToIntegerEncoder, D_64_last_CategoricalToIntegerEncoder, D_64_mode_CategoricalToIntegerEncoder, D_66_first_CategoricalToIntegerEncoder, D_66_last_CategoricalToIntegerEncoder, D_66_mode_CategoricalToIntegerEncoder, D_68_first_CategoricalToIntegerEncoder, D_68_last_CategoricalToIntegerEncoder, D_68_mode_CategoricalToIntegerEncoder\n",
      "CPU times: user 3.42 s, sys: 4.46 s, total: 7.88 s\n",
      "Wall time: 1min 3s\n"
     ]
    }
   ],
   "source": [
    "%%time\n",
    "from format_data import TARGET_VARIABLE, DATE_VARIABLES, ID_VARIABLES\n",
    "\n",
    "# make train_pdf\n",
    "train_pdf = train_data.join(train_labels, on='customer_ID', how='inner')\n",
    "train_pdf = encs.transform(spark=spark, df=train_pdf).toPandas()\n",
    "\n",
    "# make test_pdf\n",
    "test_pdf = encs.transform(spark=spark, df=test_data).toPandas()\n",
    "\n",
    "non_feature_columns = [\n",
    "    TARGET_VARIABLE,\n",
    "    *ID_VARIABLES,\n",
    "    *DATE_VARIABLES.keys(),\n",
    "    'S_2_first',\n",
    "    'S_2_last',\n",
    "]\n",
    "feature_columns = [c for c in train_pdf.columns if c not in non_feature_columns]\n",
    "print(f'len(feature_columns): {len(feature_columns)}\\n', ', '.join(feature_columns))"
   ]
  },
  {
   "cell_type": "code",
   "execution_count": 4,
   "metadata": {},
   "outputs": [
    {
     "name": "stdout",
     "output_type": "stream",
     "text": [
      "(458913, 565) (924621, 565)\n",
      "(array([0., 1.], dtype=float32), array([340085, 118828]))\n"
     ]
    }
   ],
   "source": [
    "import numpy as np\n",
    "\n",
    "X_fit = train_pdf[feature_columns].reset_index(drop=True)\n",
    "X_test = test_pdf[feature_columns].reset_index(drop=True)\n",
    "print(X_fit.shape, X_test.shape)\n",
    "\n",
    "y_fit = np.array(train_pdf[TARGET_VARIABLE])\n",
    "print(np.unique(y_fit, return_counts=True))"
   ]
  },
  {
   "cell_type": "code",
   "execution_count": 5,
   "metadata": {},
   "outputs": [
    {
     "name": "stdout",
     "output_type": "stream",
     "text": [
      "(344184, 565) (114729, 565) (344184,) (114729,)\n"
     ]
    }
   ],
   "source": [
    "from sklearn.model_selection import train_test_split\n",
    "\n",
    "X_train, X_valid, y_train, y_valid = train_test_split(X_fit, y_fit)\n",
    "print(X_train.shape, X_valid.shape, y_train.shape, y_valid.shape)"
   ]
  },
  {
   "cell_type": "code",
   "execution_count": 6,
   "metadata": {},
   "outputs": [
    {
     "name": "stderr",
     "output_type": "stream",
     "text": [
      "/usr/local/lib/python3.8/dist-packages/lightgbm/basic.py:2065: UserWarning: Using categorical_feature in Dataset.\n",
      "  _log_warning('Using categorical_feature in Dataset.')\n",
      "/usr/local/lib/python3.8/dist-packages/lightgbm/basic.py:2068: UserWarning: categorical_feature in Dataset is overridden.\n",
      "New categorical_feature is ['B_30_first_CategoricalToIntegerEncoder', 'B_30_last_CategoricalToIntegerEncoder', 'B_30_mode_CategoricalToIntegerEncoder', 'B_38_first_CategoricalToIntegerEncoder', 'B_38_last_CategoricalToIntegerEncoder', 'B_38_mode_CategoricalToIntegerEncoder', 'D_114_first_CategoricalToIntegerEncoder', 'D_114_last_CategoricalToIntegerEncoder', 'D_114_mode_CategoricalToIntegerEncoder', 'D_116_first_CategoricalToIntegerEncoder', 'D_116_last_CategoricalToIntegerEncoder', 'D_116_mode_CategoricalToIntegerEncoder', 'D_117_first_CategoricalToIntegerEncoder', 'D_117_last_CategoricalToIntegerEncoder', 'D_117_mode_CategoricalToIntegerEncoder', 'D_120_first_CategoricalToIntegerEncoder', 'D_120_last_CategoricalToIntegerEncoder', 'D_120_mode_CategoricalToIntegerEncoder', 'D_126_first_CategoricalToIntegerEncoder', 'D_126_last_CategoricalToIntegerEncoder', 'D_126_mode_CategoricalToIntegerEncoder', 'D_63_first_CategoricalToIntegerEncoder', 'D_63_last_CategoricalToIntegerEncoder', 'D_63_mode_CategoricalToIntegerEncoder', 'D_64_first_CategoricalToIntegerEncoder', 'D_64_last_CategoricalToIntegerEncoder', 'D_64_mode_CategoricalToIntegerEncoder', 'D_66_first_CategoricalToIntegerEncoder', 'D_66_last_CategoricalToIntegerEncoder', 'D_66_mode_CategoricalToIntegerEncoder', 'D_68_first_CategoricalToIntegerEncoder', 'D_68_last_CategoricalToIntegerEncoder', 'D_68_mode_CategoricalToIntegerEncoder']\n",
      "  _log_warning('categorical_feature in Dataset is overridden.\\n'\n",
      "/usr/local/lib/python3.8/dist-packages/lightgbm/basic.py:1780: UserWarning: Overriding the parameters from Reference Dataset.\n",
      "  _log_warning('Overriding the parameters from Reference Dataset.')\n",
      "/usr/local/lib/python3.8/dist-packages/lightgbm/basic.py:1513: UserWarning: categorical_column in param dict is overridden.\n",
      "  _log_warning(f'{cat_alias} in param dict is overridden.')\n"
     ]
    },
    {
     "name": "stdout",
     "output_type": "stream",
     "text": [
      "[1]\tvalid_0's auc: 0.929956\tvalid_0's average_precision: 0.814174\tvalid_0's binary_logloss: 0.520128\tvalid_0's amex: 0.693264\tvalid_0's amex_gini: 0.85918\tvalid_0's amex_top4: 0.527347\n",
      "[2]\tvalid_0's auc: 0.937917\tvalid_0's average_precision: 0.83757\tvalid_0's binary_logloss: 0.480084\tvalid_0's amex: 0.709294\tvalid_0's amex_gini: 0.875374\tvalid_0's amex_top4: 0.543214\n",
      "[3]\tvalid_0's auc: 0.940007\tvalid_0's average_precision: 0.846702\tvalid_0's binary_logloss: 0.447958\tvalid_0's amex: 0.719678\tvalid_0's amex_gini: 0.879433\tvalid_0's amex_top4: 0.559922\n",
      "[4]\tvalid_0's auc: 0.941333\tvalid_0's average_precision: 0.849337\tvalid_0's binary_logloss: 0.421531\tvalid_0's amex: 0.721893\tvalid_0's amex_gini: 0.882283\tvalid_0's amex_top4: 0.561502\n",
      "[5]\tvalid_0's auc: 0.942092\tvalid_0's average_precision: 0.851671\tvalid_0's binary_logloss: 0.399342\tvalid_0's amex: 0.725622\tvalid_0's amex_gini: 0.883825\tvalid_0's amex_top4: 0.567419\n",
      "[6]\tvalid_0's auc: 0.943275\tvalid_0's average_precision: 0.854129\tvalid_0's binary_logloss: 0.380637\tvalid_0's amex: 0.727602\tvalid_0's amex_gini: 0.886139\tvalid_0's amex_top4: 0.569066\n",
      "[7]\tvalid_0's auc: 0.944306\tvalid_0's average_precision: 0.856432\tvalid_0's binary_logloss: 0.364487\tvalid_0's amex: 0.732138\tvalid_0's amex_gini: 0.888386\tvalid_0's amex_top4: 0.57589\n",
      "[8]\tvalid_0's auc: 0.944833\tvalid_0's average_precision: 0.858422\tvalid_0's binary_logloss: 0.350413\tvalid_0's amex: 0.734807\tvalid_0's amex_gini: 0.889421\tvalid_0's amex_top4: 0.580193\n",
      "[9]\tvalid_0's auc: 0.945447\tvalid_0's average_precision: 0.860301\tvalid_0's binary_logloss: 0.338157\tvalid_0's amex: 0.735076\tvalid_0's amex_gini: 0.890767\tvalid_0's amex_top4: 0.579386\n",
      "[10]\tvalid_0's auc: 0.946355\tvalid_0's average_precision: 0.862111\tvalid_0's binary_logloss: 0.327382\tvalid_0's amex: 0.737357\tvalid_0's amex_gini: 0.892639\tvalid_0's amex_top4: 0.582076\n",
      "[11]\tvalid_0's auc: 0.946828\tvalid_0's average_precision: 0.863049\tvalid_0's binary_logloss: 0.317882\tvalid_0's amex: 0.739603\tvalid_0's amex_gini: 0.893534\tvalid_0's amex_top4: 0.585673\n",
      "[12]\tvalid_0's auc: 0.947245\tvalid_0's average_precision: 0.863958\tvalid_0's binary_logloss: 0.309532\tvalid_0's amex: 0.741231\tvalid_0's amex_gini: 0.89447\tvalid_0's amex_top4: 0.587992\n",
      "[13]\tvalid_0's auc: 0.947838\tvalid_0's average_precision: 0.86531\tvalid_0's binary_logloss: 0.302072\tvalid_0's amex: 0.743369\tvalid_0's amex_gini: 0.89562\tvalid_0's amex_top4: 0.591118\n",
      "[14]\tvalid_0's auc: 0.948248\tvalid_0's average_precision: 0.866302\tvalid_0's binary_logloss: 0.295626\tvalid_0's amex: 0.744084\tvalid_0's amex_gini: 0.896412\tvalid_0's amex_top4: 0.591757\n",
      "[15]\tvalid_0's auc: 0.948578\tvalid_0's average_precision: 0.86724\tvalid_0's binary_logloss: 0.289747\tvalid_0's amex: 0.745002\tvalid_0's amex_gini: 0.897171\tvalid_0's amex_top4: 0.592833\n",
      "[16]\tvalid_0's auc: 0.949071\tvalid_0's average_precision: 0.868406\tvalid_0's binary_logloss: 0.284442\tvalid_0's amex: 0.747118\tvalid_0's amex_gini: 0.898041\tvalid_0's amex_top4: 0.596195\n",
      "[17]\tvalid_0's auc: 0.949479\tvalid_0's average_precision: 0.869287\tvalid_0's binary_logloss: 0.279819\tvalid_0's amex: 0.748026\tvalid_0's amex_gini: 0.899016\tvalid_0's amex_top4: 0.597035\n",
      "[18]\tvalid_0's auc: 0.949924\tvalid_0's average_precision: 0.870446\tvalid_0's binary_logloss: 0.275425\tvalid_0's amex: 0.749727\tvalid_0's amex_gini: 0.899864\tvalid_0's amex_top4: 0.59959\n",
      "[19]\tvalid_0's auc: 0.950303\tvalid_0's average_precision: 0.871395\tvalid_0's binary_logloss: 0.271557\tvalid_0's amex: 0.751748\tvalid_0's amex_gini: 0.900612\tvalid_0's amex_top4: 0.602884\n",
      "[20]\tvalid_0's auc: 0.950608\tvalid_0's average_precision: 0.872122\tvalid_0's binary_logloss: 0.268145\tvalid_0's amex: 0.752212\tvalid_0's amex_gini: 0.901204\tvalid_0's amex_top4: 0.60322\n",
      "[21]\tvalid_0's auc: 0.950853\tvalid_0's average_precision: 0.872788\tvalid_0's binary_logloss: 0.265095\tvalid_0's amex: 0.75352\tvalid_0's amex_gini: 0.901702\tvalid_0's amex_top4: 0.605338\n",
      "[22]\tvalid_0's auc: 0.951128\tvalid_0's average_precision: 0.873487\tvalid_0's binary_logloss: 0.26225\tvalid_0's amex: 0.753736\tvalid_0's amex_gini: 0.902234\tvalid_0's amex_top4: 0.605238\n",
      "[23]\tvalid_0's auc: 0.95139\tvalid_0's average_precision: 0.874215\tvalid_0's binary_logloss: 0.259612\tvalid_0's amex: 0.754888\tvalid_0's amex_gini: 0.902791\tvalid_0's amex_top4: 0.606986\n",
      "[24]\tvalid_0's auc: 0.951724\tvalid_0's average_precision: 0.87503\tvalid_0's binary_logloss: 0.257221\tvalid_0's amex: 0.756886\tvalid_0's amex_gini: 0.903459\tvalid_0's amex_top4: 0.610314\n",
      "[25]\tvalid_0's auc: 0.951986\tvalid_0's average_precision: 0.87588\tvalid_0's binary_logloss: 0.255069\tvalid_0's amex: 0.757674\tvalid_0's amex_gini: 0.90389\tvalid_0's amex_top4: 0.611457\n",
      "[26]\tvalid_0's auc: 0.952246\tvalid_0's average_precision: 0.876596\tvalid_0's binary_logloss: 0.253082\tvalid_0's amex: 0.75815\tvalid_0's amex_gini: 0.904508\tvalid_0's amex_top4: 0.611793\n",
      "[27]\tvalid_0's auc: 0.952445\tvalid_0's average_precision: 0.877219\tvalid_0's binary_logloss: 0.251377\tvalid_0's amex: 0.759246\tvalid_0's amex_gini: 0.904918\tvalid_0's amex_top4: 0.613574\n",
      "[28]\tvalid_0's auc: 0.952716\tvalid_0's average_precision: 0.877842\tvalid_0's binary_logloss: 0.249695\tvalid_0's amex: 0.759711\tvalid_0's amex_gini: 0.905377\tvalid_0's amex_top4: 0.614045\n",
      "[29]\tvalid_0's auc: 0.952947\tvalid_0's average_precision: 0.878473\tvalid_0's binary_logloss: 0.248182\tvalid_0's amex: 0.760323\tvalid_0's amex_gini: 0.905895\tvalid_0's amex_top4: 0.614751\n",
      "[30]\tvalid_0's auc: 0.95317\tvalid_0's average_precision: 0.878999\tvalid_0's binary_logloss: 0.246868\tvalid_0's amex: 0.760936\tvalid_0's amex_gini: 0.906349\tvalid_0's amex_top4: 0.615524\n",
      "[31]\tvalid_0's auc: 0.953414\tvalid_0's average_precision: 0.879606\tvalid_0's binary_logloss: 0.245561\tvalid_0's amex: 0.762012\tvalid_0's amex_gini: 0.906852\tvalid_0's amex_top4: 0.617171\n",
      "[32]\tvalid_0's auc: 0.953592\tvalid_0's average_precision: 0.880092\tvalid_0's binary_logloss: 0.244441\tvalid_0's amex: 0.762521\tvalid_0's amex_gini: 0.907165\tvalid_0's amex_top4: 0.617877\n",
      "[33]\tvalid_0's auc: 0.953848\tvalid_0's average_precision: 0.880522\tvalid_0's binary_logloss: 0.243411\tvalid_0's amex: 0.763553\tvalid_0's amex_gini: 0.907682\tvalid_0's amex_top4: 0.619424\n",
      "[34]\tvalid_0's auc: 0.95401\tvalid_0's average_precision: 0.881008\tvalid_0's binary_logloss: 0.242431\tvalid_0's amex: 0.764706\tvalid_0's amex_gini: 0.908004\tvalid_0's amex_top4: 0.621407\n",
      "[35]\tvalid_0's auc: 0.954159\tvalid_0's average_precision: 0.881373\tvalid_0's binary_logloss: 0.241546\tvalid_0's amex: 0.764737\tvalid_0's amex_gini: 0.908335\tvalid_0's amex_top4: 0.621138\n",
      "[36]\tvalid_0's auc: 0.954353\tvalid_0's average_precision: 0.881899\tvalid_0's binary_logloss: 0.240612\tvalid_0's amex: 0.765542\tvalid_0's amex_gini: 0.908736\tvalid_0's amex_top4: 0.622348\n",
      "[37]\tvalid_0's auc: 0.954578\tvalid_0's average_precision: 0.882381\tvalid_0's binary_logloss: 0.23973\tvalid_0's amex: 0.765952\tvalid_0's amex_gini: 0.909152\tvalid_0's amex_top4: 0.622752\n",
      "[38]\tvalid_0's auc: 0.95476\tvalid_0's average_precision: 0.88275\tvalid_0's binary_logloss: 0.23903\tvalid_0's amex: 0.766646\tvalid_0's amex_gini: 0.909533\tvalid_0's amex_top4: 0.62376\n",
      "[39]\tvalid_0's auc: 0.954923\tvalid_0's average_precision: 0.883164\tvalid_0's binary_logloss: 0.238306\tvalid_0's amex: 0.767238\tvalid_0's amex_gini: 0.909841\tvalid_0's amex_top4: 0.624634\n",
      "[40]\tvalid_0's auc: 0.955081\tvalid_0's average_precision: 0.883452\tvalid_0's binary_logloss: 0.23767\tvalid_0's amex: 0.767969\tvalid_0's amex_gini: 0.91016\tvalid_0's amex_top4: 0.625777\n",
      "[41]\tvalid_0's auc: 0.955255\tvalid_0's average_precision: 0.883797\tvalid_0's binary_logloss: 0.237045\tvalid_0's amex: 0.76838\tvalid_0's amex_gini: 0.910511\tvalid_0's amex_top4: 0.626248\n",
      "[42]\tvalid_0's auc: 0.955369\tvalid_0's average_precision: 0.884078\tvalid_0's binary_logloss: 0.23652\tvalid_0's amex: 0.768342\tvalid_0's amex_gini: 0.910738\tvalid_0's amex_top4: 0.625945\n",
      "[43]\tvalid_0's auc: 0.955517\tvalid_0's average_precision: 0.884375\tvalid_0's binary_logloss: 0.235969\tvalid_0's amex: 0.768473\tvalid_0's amex_gini: 0.911034\tvalid_0's amex_top4: 0.625912\n",
      "[44]\tvalid_0's auc: 0.955647\tvalid_0's average_precision: 0.884663\tvalid_0's binary_logloss: 0.235454\tvalid_0's amex: 0.768737\tvalid_0's amex_gini: 0.911292\tvalid_0's amex_top4: 0.626181\n",
      "[45]\tvalid_0's auc: 0.955768\tvalid_0's average_precision: 0.884918\tvalid_0's binary_logloss: 0.234988\tvalid_0's amex: 0.769126\tvalid_0's amex_gini: 0.911534\tvalid_0's amex_top4: 0.626719\n",
      "[46]\tvalid_0's auc: 0.955886\tvalid_0's average_precision: 0.885175\tvalid_0's binary_logloss: 0.234536\tvalid_0's amex: 0.769867\tvalid_0's amex_gini: 0.911771\tvalid_0's amex_top4: 0.627962\n",
      "[47]\tvalid_0's auc: 0.955986\tvalid_0's average_precision: 0.88541\tvalid_0's binary_logloss: 0.234156\tvalid_0's amex: 0.769849\tvalid_0's amex_gini: 0.911971\tvalid_0's amex_top4: 0.627727\n",
      "[48]\tvalid_0's auc: 0.956079\tvalid_0's average_precision: 0.885616\tvalid_0's binary_logloss: 0.233777\tvalid_0's amex: 0.770261\tvalid_0's amex_gini: 0.912156\tvalid_0's amex_top4: 0.628366\n",
      "[49]\tvalid_0's auc: 0.9562\tvalid_0's average_precision: 0.885897\tvalid_0's binary_logloss: 0.233381\tvalid_0's amex: 0.770568\tvalid_0's amex_gini: 0.9124\tvalid_0's amex_top4: 0.628736\n",
      "[50]\tvalid_0's auc: 0.956313\tvalid_0's average_precision: 0.88612\tvalid_0's binary_logloss: 0.233012\tvalid_0's amex: 0.771185\tvalid_0's amex_gini: 0.912625\tvalid_0's amex_top4: 0.629744\n",
      "[51]\tvalid_0's auc: 0.956419\tvalid_0's average_precision: 0.88641\tvalid_0's binary_logloss: 0.232659\tvalid_0's amex: 0.771224\tvalid_0's amex_gini: 0.912837\tvalid_0's amex_top4: 0.62961\n",
      "[52]\tvalid_0's auc: 0.956519\tvalid_0's average_precision: 0.88665\tvalid_0's binary_logloss: 0.232306\tvalid_0's amex: 0.771458\tvalid_0's amex_gini: 0.913038\tvalid_0's amex_top4: 0.629879\n",
      "[53]\tvalid_0's auc: 0.95665\tvalid_0's average_precision: 0.886926\tvalid_0's binary_logloss: 0.231912\tvalid_0's amex: 0.771958\tvalid_0's amex_gini: 0.913298\tvalid_0's amex_top4: 0.630618\n",
      "[54]\tvalid_0's auc: 0.956741\tvalid_0's average_precision: 0.887144\tvalid_0's binary_logloss: 0.231616\tvalid_0's amex: 0.772016\tvalid_0's amex_gini: 0.91348\tvalid_0's amex_top4: 0.630551\n",
      "[55]\tvalid_0's auc: 0.956813\tvalid_0's average_precision: 0.887323\tvalid_0's binary_logloss: 0.231341\tvalid_0's amex: 0.772727\tvalid_0's amex_gini: 0.913626\tvalid_0's amex_top4: 0.631828\n",
      "[56]\tvalid_0's auc: 0.956916\tvalid_0's average_precision: 0.887515\tvalid_0's binary_logloss: 0.231043\tvalid_0's amex: 0.77315\tvalid_0's amex_gini: 0.913832\tvalid_0's amex_top4: 0.632467\n",
      "[57]\tvalid_0's auc: 0.957007\tvalid_0's average_precision: 0.887733\tvalid_0's binary_logloss: 0.230772\tvalid_0's amex: 0.773207\tvalid_0's amex_gini: 0.914014\tvalid_0's amex_top4: 0.6324\n",
      "[58]\tvalid_0's auc: 0.95709\tvalid_0's average_precision: 0.887926\tvalid_0's binary_logloss: 0.230502\tvalid_0's amex: 0.773609\tvalid_0's amex_gini: 0.914179\tvalid_0's amex_top4: 0.633039\n",
      "[59]\tvalid_0's auc: 0.957184\tvalid_0's average_precision: 0.888132\tvalid_0's binary_logloss: 0.23022\tvalid_0's amex: 0.77377\tvalid_0's amex_gini: 0.914366\tvalid_0's amex_top4: 0.633173\n",
      "[60]\tvalid_0's auc: 0.957248\tvalid_0's average_precision: 0.888282\tvalid_0's binary_logloss: 0.230009\tvalid_0's amex: 0.77454\tvalid_0's amex_gini: 0.914495\tvalid_0's amex_top4: 0.634585\n",
      "[61]\tvalid_0's auc: 0.957354\tvalid_0's average_precision: 0.888509\tvalid_0's binary_logloss: 0.2297\tvalid_0's amex: 0.774596\tvalid_0's amex_gini: 0.914707\tvalid_0's amex_top4: 0.634484\n",
      "[62]\tvalid_0's auc: 0.957427\tvalid_0's average_precision: 0.888677\tvalid_0's binary_logloss: 0.229474\tvalid_0's amex: 0.775021\tvalid_0's amex_gini: 0.914852\tvalid_0's amex_top4: 0.63519\n",
      "[63]\tvalid_0's auc: 0.957497\tvalid_0's average_precision: 0.888827\tvalid_0's binary_logloss: 0.229264\tvalid_0's amex: 0.775462\tvalid_0's amex_gini: 0.914993\tvalid_0's amex_top4: 0.63593\n",
      "[64]\tvalid_0's auc: 0.957567\tvalid_0's average_precision: 0.888983\tvalid_0's binary_logloss: 0.229055\tvalid_0's amex: 0.775195\tvalid_0's amex_gini: 0.915133\tvalid_0's amex_top4: 0.635257\n",
      "[65]\tvalid_0's auc: 0.957621\tvalid_0's average_precision: 0.889117\tvalid_0's binary_logloss: 0.22886\tvalid_0's amex: 0.775215\tvalid_0's amex_gini: 0.915241\tvalid_0's amex_top4: 0.63519\n",
      "[66]\tvalid_0's auc: 0.957687\tvalid_0's average_precision: 0.889252\tvalid_0's binary_logloss: 0.228669\tvalid_0's amex: 0.775769\tvalid_0's amex_gini: 0.915372\tvalid_0's amex_top4: 0.636165\n",
      "[67]\tvalid_0's auc: 0.957734\tvalid_0's average_precision: 0.889358\tvalid_0's binary_logloss: 0.228522\tvalid_0's amex: 0.775631\tvalid_0's amex_gini: 0.915467\tvalid_0's amex_top4: 0.635795\n",
      "[68]\tvalid_0's auc: 0.957801\tvalid_0's average_precision: 0.889536\tvalid_0's binary_logloss: 0.228333\tvalid_0's amex: 0.776421\tvalid_0's amex_gini: 0.915602\tvalid_0's amex_top4: 0.637241\n",
      "[69]\tvalid_0's auc: 0.957871\tvalid_0's average_precision: 0.889714\tvalid_0's binary_logloss: 0.228127\tvalid_0's amex: 0.776928\tvalid_0's amex_gini: 0.915742\tvalid_0's amex_top4: 0.638115\n",
      "[70]\tvalid_0's auc: 0.957941\tvalid_0's average_precision: 0.889863\tvalid_0's binary_logloss: 0.227921\tvalid_0's amex: 0.777469\tvalid_0's amex_gini: 0.915882\tvalid_0's amex_top4: 0.639056\n",
      "[71]\tvalid_0's auc: 0.957994\tvalid_0's average_precision: 0.890012\tvalid_0's binary_logloss: 0.227759\tvalid_0's amex: 0.777941\tvalid_0's amex_gini: 0.915986\tvalid_0's amex_top4: 0.639896\n",
      "[72]\tvalid_0's auc: 0.958045\tvalid_0's average_precision: 0.890114\tvalid_0's binary_logloss: 0.227605\tvalid_0's amex: 0.77737\tvalid_0's amex_gini: 0.916088\tvalid_0's amex_top4: 0.638653\n",
      "[73]\tvalid_0's auc: 0.958099\tvalid_0's average_precision: 0.890267\tvalid_0's binary_logloss: 0.227432\tvalid_0's amex: 0.777895\tvalid_0's amex_gini: 0.916196\tvalid_0's amex_top4: 0.639594\n",
      "[74]\tvalid_0's auc: 0.958168\tvalid_0's average_precision: 0.890444\tvalid_0's binary_logloss: 0.227232\tvalid_0's amex: 0.777779\tvalid_0's amex_gini: 0.916335\tvalid_0's amex_top4: 0.639224\n",
      "[75]\tvalid_0's auc: 0.958212\tvalid_0's average_precision: 0.890551\tvalid_0's binary_logloss: 0.227093\tvalid_0's amex: 0.777991\tvalid_0's amex_gini: 0.916422\tvalid_0's amex_top4: 0.63956\n",
      "[76]\tvalid_0's auc: 0.958257\tvalid_0's average_precision: 0.890667\tvalid_0's binary_logloss: 0.226955\tvalid_0's amex: 0.778205\tvalid_0's amex_gini: 0.916514\tvalid_0's amex_top4: 0.639896\n",
      "[77]\tvalid_0's auc: 0.958311\tvalid_0's average_precision: 0.890795\tvalid_0's binary_logloss: 0.22681\tvalid_0's amex: 0.778124\tvalid_0's amex_gini: 0.916621\tvalid_0's amex_top4: 0.639628\n",
      "[78]\tvalid_0's auc: 0.958358\tvalid_0's average_precision: 0.890924\tvalid_0's binary_logloss: 0.226673\tvalid_0's amex: 0.778508\tvalid_0's amex_gini: 0.916716\tvalid_0's amex_top4: 0.6403\n",
      "[79]\tvalid_0's auc: 0.958411\tvalid_0's average_precision: 0.891052\tvalid_0's binary_logloss: 0.226522\tvalid_0's amex: 0.779115\tvalid_0's amex_gini: 0.916821\tvalid_0's amex_top4: 0.641409\n",
      "[80]\tvalid_0's auc: 0.958467\tvalid_0's average_precision: 0.891169\tvalid_0's binary_logloss: 0.226354\tvalid_0's amex: 0.779239\tvalid_0's amex_gini: 0.916934\tvalid_0's amex_top4: 0.641544\n",
      "[81]\tvalid_0's auc: 0.958512\tvalid_0's average_precision: 0.891277\tvalid_0's binary_logloss: 0.226228\tvalid_0's amex: 0.779149\tvalid_0's amex_gini: 0.917023\tvalid_0's amex_top4: 0.641275\n",
      "[82]\tvalid_0's auc: 0.958552\tvalid_0's average_precision: 0.891382\tvalid_0's binary_logloss: 0.226109\tvalid_0's amex: 0.779155\tvalid_0's amex_gini: 0.917102\tvalid_0's amex_top4: 0.641208\n",
      "[83]\tvalid_0's auc: 0.958598\tvalid_0's average_precision: 0.89147\tvalid_0's binary_logloss: 0.225975\tvalid_0's amex: 0.779555\tvalid_0's amex_gini: 0.917196\tvalid_0's amex_top4: 0.641913\n",
      "[84]\tvalid_0's auc: 0.958631\tvalid_0's average_precision: 0.891559\tvalid_0's binary_logloss: 0.225889\tvalid_0's amex: 0.77947\tvalid_0's amex_gini: 0.917262\tvalid_0's amex_top4: 0.641678\n",
      "[85]\tvalid_0's auc: 0.958665\tvalid_0's average_precision: 0.891636\tvalid_0's binary_logloss: 0.225792\tvalid_0's amex: 0.779403\tvalid_0's amex_gini: 0.91733\tvalid_0's amex_top4: 0.641476\n",
      "[86]\tvalid_0's auc: 0.958693\tvalid_0's average_precision: 0.891714\tvalid_0's binary_logloss: 0.225712\tvalid_0's amex: 0.779918\tvalid_0's amex_gini: 0.917385\tvalid_0's amex_top4: 0.642451\n",
      "[87]\tvalid_0's auc: 0.958724\tvalid_0's average_precision: 0.891793\tvalid_0's binary_logloss: 0.225617\tvalid_0's amex: 0.779882\tvalid_0's amex_gini: 0.917447\tvalid_0's amex_top4: 0.642317\n",
      "[88]\tvalid_0's auc: 0.958767\tvalid_0's average_precision: 0.891891\tvalid_0's binary_logloss: 0.22549\tvalid_0's amex: 0.780345\tvalid_0's amex_gini: 0.917533\tvalid_0's amex_top4: 0.643157\n",
      "[89]\tvalid_0's auc: 0.958812\tvalid_0's average_precision: 0.892017\tvalid_0's binary_logloss: 0.225366\tvalid_0's amex: 0.780777\tvalid_0's amex_gini: 0.917623\tvalid_0's amex_top4: 0.64393\n",
      "[90]\tvalid_0's auc: 0.958841\tvalid_0's average_precision: 0.892071\tvalid_0's binary_logloss: 0.225276\tvalid_0's amex: 0.780755\tvalid_0's amex_gini: 0.917681\tvalid_0's amex_top4: 0.64383\n",
      "[91]\tvalid_0's auc: 0.958876\tvalid_0's average_precision: 0.892183\tvalid_0's binary_logloss: 0.225174\tvalid_0's amex: 0.780941\tvalid_0's amex_gini: 0.91775\tvalid_0's amex_top4: 0.644132\n",
      "[92]\tvalid_0's auc: 0.958917\tvalid_0's average_precision: 0.892281\tvalid_0's binary_logloss: 0.225061\tvalid_0's amex: 0.78068\tvalid_0's amex_gini: 0.917833\tvalid_0's amex_top4: 0.643527\n",
      "[93]\tvalid_0's auc: 0.958947\tvalid_0's average_precision: 0.892323\tvalid_0's binary_logloss: 0.224978\tvalid_0's amex: 0.781298\tvalid_0's amex_gini: 0.917893\tvalid_0's amex_top4: 0.644704\n",
      "[94]\tvalid_0's auc: 0.95898\tvalid_0's average_precision: 0.892403\tvalid_0's binary_logloss: 0.22488\tvalid_0's amex: 0.781618\tvalid_0's amex_gini: 0.91796\tvalid_0's amex_top4: 0.645275\n",
      "[95]\tvalid_0's auc: 0.959004\tvalid_0's average_precision: 0.892453\tvalid_0's binary_logloss: 0.224806\tvalid_0's amex: 0.781439\tvalid_0's amex_gini: 0.918007\tvalid_0's amex_top4: 0.644872\n",
      "[96]\tvalid_0's auc: 0.959008\tvalid_0's average_precision: 0.892457\tvalid_0's binary_logloss: 0.224789\tvalid_0's amex: 0.781309\tvalid_0's amex_gini: 0.918015\tvalid_0's amex_top4: 0.644603\n",
      "[97]\tvalid_0's auc: 0.959028\tvalid_0's average_precision: 0.892488\tvalid_0's binary_logloss: 0.224735\tvalid_0's amex: 0.781296\tvalid_0's amex_gini: 0.918056\tvalid_0's amex_top4: 0.644536\n",
      "[98]\tvalid_0's auc: 0.95906\tvalid_0's average_precision: 0.892585\tvalid_0's binary_logloss: 0.224639\tvalid_0's amex: 0.781562\tvalid_0's amex_gini: 0.918118\tvalid_0's amex_top4: 0.645006\n",
      "[99]\tvalid_0's auc: 0.959103\tvalid_0's average_precision: 0.892695\tvalid_0's binary_logloss: 0.224516\tvalid_0's amex: 0.781706\tvalid_0's amex_gini: 0.918204\tvalid_0's amex_top4: 0.645208\n",
      "[100]\tvalid_0's auc: 0.959128\tvalid_0's average_precision: 0.892762\tvalid_0's binary_logloss: 0.224439\tvalid_0's amex: 0.781934\tvalid_0's amex_gini: 0.918256\tvalid_0's amex_top4: 0.645611\n"
     ]
    },
    {
     "name": "stderr",
     "output_type": "stream",
     "text": [
      "2022/06/20 22:44:44 WARNING mlflow.utils.autologging_utils: MLflow autologging encountered a warning: \"/usr/local/lib/python3.8/dist-packages/mlflow/models/signature.py:129: UserWarning: Hint: Inferred schema contains integer column(s). Integer columns in Python cannot represent missing values. If your input data contains missing values at inference time, it will be encoded as floats and will cause a schema enforcement error. The best way to avoid this problem is to infer the model schema based on a realistic data sample (training dataset) that includes missing values. Alternatively, you can declare integer columns as doubles (float64) whenever these columns may have missing values. See `Handling Integers With Missing Values <https://www.mlflow.org/docs/latest/models.html#handling-integers-with-missing-values>`_ for more details.\"\n"
     ]
    },
    {
     "name": "stdout",
     "output_type": "stream",
     "text": [
      "CPU times: user 4min 53s, sys: 8.85 s, total: 5min 2s\n",
      "Wall time: 1min 31s\n"
     ]
    }
   ],
   "source": [
    "%%time\n",
    "import mlflow\n",
    "from lightgbm import LGBMClassifier\n",
    "from evaluation import feval_amex, feval_amex_gini, feval_amex_top4\n",
    "\n",
    "mlflow.lightgbm.autolog()\n",
    "experiment_id = mlflow.get_experiment_by_name('v2_aggregated.ipynb').experiment_id\n",
    "with mlflow.start_run(experiment_id=experiment_id) as run:\n",
    "    run_id = run.info.run_id\n",
    "    m = LGBMClassifier().fit(\n",
    "        X=X_train, y=y_train, categorical_feature=encs.columns_encoded,\n",
    "        eval_set=[(X_valid, y_valid)],\n",
    "        eval_metric=['auc', 'average_precision', feval_amex, feval_amex_gini, feval_amex_top4],\n",
    "    )"
   ]
  },
  {
   "cell_type": "code",
   "execution_count": 7,
   "metadata": {},
   "outputs": [
    {
     "data": {
      "text/html": [
       "<div>\n",
       "<style scoped>\n",
       "    .dataframe tbody tr th:only-of-type {\n",
       "        vertical-align: middle;\n",
       "    }\n",
       "\n",
       "    .dataframe tbody tr th {\n",
       "        vertical-align: top;\n",
       "    }\n",
       "\n",
       "    .dataframe thead th {\n",
       "        text-align: right;\n",
       "    }\n",
       "</style>\n",
       "<table border=\"1\" class=\"dataframe\">\n",
       "  <thead>\n",
       "    <tr style=\"text-align: right;\">\n",
       "      <th></th>\n",
       "      <th>customer_ID</th>\n",
       "      <th>prediction</th>\n",
       "    </tr>\n",
       "  </thead>\n",
       "  <tbody>\n",
       "    <tr>\n",
       "      <th>0</th>\n",
       "      <td>f46725e7c0d8fafde0552b32932ffca160824299931b08...</td>\n",
       "      <td>1.165237</td>\n",
       "    </tr>\n",
       "    <tr>\n",
       "      <th>1</th>\n",
       "      <td>cfff19edd4504ac82b42e5f3bb4a25ccd113bc52693fc5...</td>\n",
       "      <td>-6.411117</td>\n",
       "    </tr>\n",
       "    <tr>\n",
       "      <th>2</th>\n",
       "      <td>2c2d36b88f7fb75d0a184e1a6572c5b17991983be33617...</td>\n",
       "      <td>-1.706765</td>\n",
       "    </tr>\n",
       "    <tr>\n",
       "      <th>3</th>\n",
       "      <td>e71386714f6336d86973d5f01be027172291ec5c03a0b2...</td>\n",
       "      <td>-2.529496</td>\n",
       "    </tr>\n",
       "    <tr>\n",
       "      <th>4</th>\n",
       "      <td>7830708a49202bab905d42cede695a4e04ae60dc20bfcd...</td>\n",
       "      <td>-0.753490</td>\n",
       "    </tr>\n",
       "  </tbody>\n",
       "</table>\n",
       "</div>"
      ],
      "text/plain": [
       "                                         customer_ID  prediction\n",
       "0  f46725e7c0d8fafde0552b32932ffca160824299931b08...    1.165237\n",
       "1  cfff19edd4504ac82b42e5f3bb4a25ccd113bc52693fc5...   -6.411117\n",
       "2  2c2d36b88f7fb75d0a184e1a6572c5b17991983be33617...   -1.706765\n",
       "3  e71386714f6336d86973d5f01be027172291ec5c03a0b2...   -2.529496\n",
       "4  7830708a49202bab905d42cede695a4e04ae60dc20bfcd...   -0.753490"
      ]
     },
     "execution_count": 7,
     "metadata": {},
     "output_type": "execute_result"
    }
   ],
   "source": [
    "from format_data import PREDICTION_VARIABLE\n",
    "import pandas as pd\n",
    "\n",
    "pred_test = pd.DataFrame({\n",
    "    'customer_ID': test_pdf['customer_ID'],\n",
    "    PREDICTION_VARIABLE: m.predict(X_test, raw_score=True),\n",
    "})\n",
    "pred_test.head()"
   ]
  },
  {
   "cell_type": "code",
   "execution_count": 8,
   "metadata": {},
   "outputs": [],
   "source": [
    "pred_test.to_csv(f'{run_id}.csv', index=False)"
   ]
  },
  {
   "cell_type": "code",
   "execution_count": 10,
   "metadata": {},
   "outputs": [
    {
     "name": "stdout",
     "output_type": "stream",
     "text": [
      "Warning: Your Kaggle API key is readable by other users on this system! To fix this, you can run 'chmod 600 /root/.kaggle/kaggle.json'\n",
      "100%|██████████████████████████████████████| 74.2M/74.2M [00:01<00:00, 45.7MB/s]\n",
      "Successfully submitted to American Express - Default Prediction"
     ]
    }
   ],
   "source": [
    "!kaggle competitions submit -c amex-default-prediction -f 0261ff0b99024adc88cd4b8566e2a4d1.csv -m \"experiments/7/runs/0261ff0b99024adc88cd4b8566e2a4d1\""
   ]
  }
 ],
 "metadata": {
  "kernelspec": {
   "display_name": "Python 3.8.10 64-bit",
   "language": "python",
   "name": "python3"
  },
  "language_info": {
   "codemirror_mode": {
    "name": "ipython",
    "version": 3
   },
   "file_extension": ".py",
   "mimetype": "text/x-python",
   "name": "python",
   "nbconvert_exporter": "python",
   "pygments_lexer": "ipython3",
   "version": "3.8.10"
  },
  "orig_nbformat": 4,
  "vscode": {
   "interpreter": {
    "hash": "e7370f93d1d0cde622a1f8e1c04877d8463912d04d973331ad4851f04de6915a"
   }
  }
 },
 "nbformat": 4,
 "nbformat_minor": 2
}
