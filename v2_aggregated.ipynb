{
 "cells": [
  {
   "cell_type": "code",
   "execution_count": 1,
   "metadata": {},
   "outputs": [
    {
     "name": "stderr",
     "output_type": "stream",
     "text": [
      "Warning: Ignoring non-Spark config property: Dio.netty.tryReflectionSetAccessible\n",
      "WARNING: An illegal reflective access operation has occurred\n",
      "WARNING: Illegal reflective access by org.apache.spark.unsafe.Platform (file:/usr/local/lib/python3.8/dist-packages/pyspark/jars/spark-unsafe_2.12-3.2.1.jar) to constructor java.nio.DirectByteBuffer(long,int)\n",
      "WARNING: Please consider reporting this to the maintainers of org.apache.spark.unsafe.Platform\n",
      "WARNING: Use --illegal-access=warn to enable warnings of further illegal reflective access operations\n",
      "WARNING: All illegal access operations will be denied in a future release\n",
      "Using Spark's default log4j profile: org/apache/spark/log4j-defaults.properties\n",
      "Setting default log level to \"WARN\".\n",
      "To adjust logging level use sc.setLogLevel(newLevel). For SparkR, use setLogLevel(newLevel).\n",
      "22/06/21 03:34:10 WARN NativeCodeLoader: Unable to load native-hadoop library for your platform... using builtin-java classes where applicable\n"
     ]
    }
   ],
   "source": [
    "from spark_utils import get_spark_session\n",
    "import pyspark.sql.functions as F\n",
    "\n",
    "spark = get_spark_session()\n",
    "# run transform_latest.py if this don't exist\n",
    "test_data = spark.read.parquet('data_transformed/amex-default-prediction/test_data_aggregated')\n",
    "train_data = spark.read.parquet('data_transformed/amex-default-prediction/train_data_aggregated')\n",
    "# run format_data.py if these don't exist\n",
    "train_labels = spark.read.parquet('data/amex-default-prediction/train_labels')\n",
    "sample_submission = spark.read.parquet('data/amex-default-prediction/sample_submission')"
   ]
  },
  {
   "cell_type": "code",
   "execution_count": 2,
   "metadata": {},
   "outputs": [
    {
     "name": "stderr",
     "output_type": "stream",
     "text": [
      "                                                                                \r"
     ]
    },
    {
     "name": "stdout",
     "output_type": "stream",
     "text": [
      "CPU times: user 417 ms, sys: 74.6 ms, total: 491 ms\n",
      "Wall time: 17.7 s\n"
     ]
    }
   ],
   "source": [
    "%%time\n",
    "from format_data import CATEGORICAL_VARIABLES\n",
    "from encoder import CategoricalToIntegerEncoders\n",
    "\n",
    "categorical_cols = []\n",
    "for c in CATEGORICAL_VARIABLES:\n",
    "    categorical_cols += [\n",
    "        # windowed features\n",
    "        c,\n",
    "        f'{c}_previous',\n",
    "        # aggregated_features\n",
    "        f'{c}_mode',\n",
    "    ]\n",
    "\n",
    "encs = CategoricalToIntegerEncoders(columns=categorical_cols).fit(train_data)"
   ]
  },
  {
   "cell_type": "code",
   "execution_count": 3,
   "metadata": {},
   "outputs": [
    {
     "name": "stderr",
     "output_type": "stream",
     "text": [
      "22/06/21 03:34:41 WARN package: Truncated the string representation of a plan since it was too large. This behavior can be adjusted by setting 'spark.sql.debug.maxToStringFields'.\n",
      "                                                                                \r"
     ]
    },
    {
     "name": "stdout",
     "output_type": "stream",
     "text": [
      "len(feature_columns): 1307\n",
      " S_2_days_since_previous, P_2, P_2_previous, D_39, D_39_previous, B_1, B_1_previous, B_2, B_2_previous, R_1, R_1_previous, S_3, S_3_previous, D_41, D_41_previous, B_3, B_3_previous, D_42, D_42_previous, D_43, D_43_previous, D_44, D_44_previous, B_4, B_4_previous, D_45, D_45_previous, B_5, B_5_previous, R_2, R_2_previous, D_46, D_46_previous, D_47, D_47_previous, D_48, D_48_previous, D_49, D_49_previous, B_6, B_6_previous, B_7, B_7_previous, B_8, B_8_previous, D_50, D_50_previous, D_51, D_51_previous, B_9, B_9_previous, R_3, R_3_previous, D_52, D_52_previous, P_3, P_3_previous, B_10, B_10_previous, D_53, D_53_previous, S_5, S_5_previous, B_11, B_11_previous, S_6, S_6_previous, D_54, D_54_previous, R_4, R_4_previous, S_7, S_7_previous, B_12, B_12_previous, S_8, S_8_previous, D_55, D_55_previous, D_56, D_56_previous, B_13, B_13_previous, R_5, R_5_previous, D_58, D_58_previous, S_9, S_9_previous, B_14, B_14_previous, D_59, D_59_previous, D_60, D_60_previous, D_61, D_61_previous, B_15, B_15_previous, S_11, S_11_previous, D_62, D_62_previous, D_65, D_65_previous, B_16, B_16_previous, B_17, B_17_previous, B_18, B_18_previous, B_19, B_19_previous, B_20, B_20_previous, S_12, S_12_previous, R_6, R_6_previous, S_13, S_13_previous, B_21, B_21_previous, D_69, D_69_previous, B_22, B_22_previous, D_70, D_70_previous, D_71, D_71_previous, D_72, D_72_previous, S_15, S_15_previous, B_23, B_23_previous, D_73, D_73_previous, P_4, P_4_previous, D_74, D_74_previous, D_75, D_75_previous, D_76, D_76_previous, B_24, B_24_previous, R_7, R_7_previous, D_77, D_77_previous, B_25, B_25_previous, B_26, B_26_previous, D_78, D_78_previous, D_79, D_79_previous, R_8, R_8_previous, R_9, R_9_previous, S_16, S_16_previous, D_80, D_80_previous, R_10, R_10_previous, R_11, R_11_previous, B_27, B_27_previous, D_81, D_81_previous, D_82, D_82_previous, S_17, S_17_previous, R_12, R_12_previous, B_28, B_28_previous, R_13, R_13_previous, D_83, D_83_previous, R_14, R_14_previous, R_15, R_15_previous, D_84, D_84_previous, R_16, R_16_previous, B_29, B_29_previous, S_18, S_18_previous, D_86, D_86_previous, D_87, D_87_previous, R_17, R_17_previous, R_18, R_18_previous, D_88, D_88_previous, B_31, B_31_previous, S_19, S_19_previous, R_19, R_19_previous, B_32, B_32_previous, S_20, S_20_previous, R_20, R_20_previous, R_21, R_21_previous, B_33, B_33_previous, D_89, D_89_previous, R_22, R_22_previous, R_23, R_23_previous, D_91, D_91_previous, D_92, D_92_previous, D_93, D_93_previous, D_94, D_94_previous, R_24, R_24_previous, R_25, R_25_previous, D_96, D_96_previous, S_22, S_22_previous, S_23, S_23_previous, S_24, S_24_previous, S_25, S_25_previous, S_26, S_26_previous, D_102, D_102_previous, D_103, D_103_previous, D_104, D_104_previous, D_105, D_105_previous, D_106, D_106_previous, D_107, D_107_previous, B_36, B_36_previous, B_37, B_37_previous, R_26, R_26_previous, R_27, R_27_previous, D_108, D_108_previous, D_109, D_109_previous, D_110, D_110_previous, D_111, D_111_previous, B_39, B_39_previous, D_112, D_112_previous, B_40, B_40_previous, S_27, S_27_previous, D_113, D_113_previous, D_115, D_115_previous, D_118, D_118_previous, D_119, D_119_previous, D_121, D_121_previous, D_122, D_122_previous, D_123, D_123_previous, D_124, D_124_previous, D_125, D_125_previous, D_127, D_127_previous, D_128, D_128_previous, D_129, D_129_previous, B_41, B_41_previous, B_42, B_42_previous, D_130, D_130_previous, D_131, D_131_previous, D_132, D_132_previous, D_133, D_133_previous, R_28, R_28_previous, D_134, D_134_previous, D_135, D_135_previous, D_136, D_136_previous, D_137, D_137_previous, D_138, D_138_previous, D_139, D_139_previous, D_140, D_140_previous, D_141, D_141_previous, D_142, D_142_previous, D_143, D_143_previous, D_144, D_144_previous, D_145, D_145_previous, P_2_changed, D_39_changed, B_1_changed, B_2_changed, R_1_changed, S_3_changed, D_41_changed, B_3_changed, D_42_changed, D_43_changed, D_44_changed, B_4_changed, D_45_changed, B_5_changed, R_2_changed, D_46_changed, D_47_changed, D_48_changed, D_49_changed, B_6_changed, B_7_changed, B_8_changed, D_50_changed, D_51_changed, B_9_changed, R_3_changed, D_52_changed, P_3_changed, B_10_changed, D_53_changed, S_5_changed, B_11_changed, S_6_changed, D_54_changed, R_4_changed, S_7_changed, B_12_changed, S_8_changed, D_55_changed, D_56_changed, B_13_changed, R_5_changed, D_58_changed, S_9_changed, B_14_changed, D_59_changed, D_60_changed, D_61_changed, B_15_changed, S_11_changed, D_62_changed, D_63_changed, D_64_changed, D_65_changed, B_16_changed, B_17_changed, B_18_changed, B_19_changed, D_66_changed, B_20_changed, D_68_changed, S_12_changed, R_6_changed, S_13_changed, B_21_changed, D_69_changed, B_22_changed, D_70_changed, D_71_changed, D_72_changed, S_15_changed, B_23_changed, D_73_changed, P_4_changed, D_74_changed, D_75_changed, D_76_changed, B_24_changed, R_7_changed, D_77_changed, B_25_changed, B_26_changed, D_78_changed, D_79_changed, R_8_changed, R_9_changed, S_16_changed, D_80_changed, R_10_changed, R_11_changed, B_27_changed, D_81_changed, D_82_changed, S_17_changed, R_12_changed, B_28_changed, R_13_changed, D_83_changed, R_14_changed, R_15_changed, D_84_changed, R_16_changed, B_29_changed, B_30_changed, S_18_changed, D_86_changed, D_87_changed, R_17_changed, R_18_changed, D_88_changed, B_31_changed, S_19_changed, R_19_changed, B_32_changed, S_20_changed, R_20_changed, R_21_changed, B_33_changed, D_89_changed, R_22_changed, R_23_changed, D_91_changed, D_92_changed, D_93_changed, D_94_changed, R_24_changed, R_25_changed, D_96_changed, S_22_changed, S_23_changed, S_24_changed, S_25_changed, S_26_changed, D_102_changed, D_103_changed, D_104_changed, D_105_changed, D_106_changed, D_107_changed, B_36_changed, B_37_changed, R_26_changed, R_27_changed, B_38_changed, D_108_changed, D_109_changed, D_110_changed, D_111_changed, B_39_changed, D_112_changed, B_40_changed, S_27_changed, D_113_changed, D_114_changed, D_115_changed, D_116_changed, D_117_changed, D_118_changed, D_119_changed, D_120_changed, D_121_changed, D_122_changed, D_123_changed, D_124_changed, D_125_changed, D_126_changed, D_127_changed, D_128_changed, D_129_changed, B_41_changed, B_42_changed, D_130_changed, D_131_changed, D_132_changed, D_133_changed, R_28_changed, D_134_changed, D_135_changed, D_136_changed, D_137_changed, D_138_changed, D_139_changed, D_140_changed, D_141_changed, D_142_changed, D_143_changed, D_144_changed, D_145_changed, num_statements, P_2_num_unique, P_2_min, P_2_max, D_39_num_unique, D_39_min, D_39_max, B_1_num_unique, B_1_min, B_1_max, B_2_num_unique, B_2_min, B_2_max, R_1_num_unique, R_1_min, R_1_max, S_3_num_unique, S_3_min, S_3_max, D_41_num_unique, D_41_min, D_41_max, B_3_num_unique, B_3_min, B_3_max, D_42_num_unique, D_42_min, D_42_max, D_43_num_unique, D_43_min, D_43_max, D_44_num_unique, D_44_min, D_44_max, B_4_num_unique, B_4_min, B_4_max, D_45_num_unique, D_45_min, D_45_max, B_5_num_unique, B_5_min, B_5_max, R_2_num_unique, R_2_min, R_2_max, D_46_num_unique, D_46_min, D_46_max, D_47_num_unique, D_47_min, D_47_max, D_48_num_unique, D_48_min, D_48_max, D_49_num_unique, D_49_min, D_49_max, B_6_num_unique, B_6_min, B_6_max, B_7_num_unique, B_7_min, B_7_max, B_8_num_unique, B_8_min, B_8_max, D_50_num_unique, D_50_min, D_50_max, D_51_num_unique, D_51_min, D_51_max, B_9_num_unique, B_9_min, B_9_max, R_3_num_unique, R_3_min, R_3_max, D_52_num_unique, D_52_min, D_52_max, P_3_num_unique, P_3_min, P_3_max, B_10_num_unique, B_10_min, B_10_max, D_53_num_unique, D_53_min, D_53_max, S_5_num_unique, S_5_min, S_5_max, B_11_num_unique, B_11_min, B_11_max, S_6_num_unique, S_6_min, S_6_max, D_54_num_unique, D_54_min, D_54_max, R_4_num_unique, R_4_min, R_4_max, S_7_num_unique, S_7_min, S_7_max, B_12_num_unique, B_12_min, B_12_max, S_8_num_unique, S_8_min, S_8_max, D_55_num_unique, D_55_min, D_55_max, D_56_num_unique, D_56_min, D_56_max, B_13_num_unique, B_13_min, B_13_max, R_5_num_unique, R_5_min, R_5_max, D_58_num_unique, D_58_min, D_58_max, S_9_num_unique, S_9_min, S_9_max, B_14_num_unique, B_14_min, B_14_max, D_59_num_unique, D_59_min, D_59_max, D_60_num_unique, D_60_min, D_60_max, D_61_num_unique, D_61_min, D_61_max, B_15_num_unique, B_15_min, B_15_max, S_11_num_unique, S_11_min, S_11_max, D_62_num_unique, D_62_min, D_62_max, D_63_num_unique, D_64_num_unique, D_65_num_unique, D_65_min, D_65_max, B_16_num_unique, B_16_min, B_16_max, B_17_num_unique, B_17_min, B_17_max, B_18_num_unique, B_18_min, B_18_max, B_19_num_unique, B_19_min, B_19_max, D_66_num_unique, B_20_num_unique, B_20_min, B_20_max, D_68_num_unique, S_12_num_unique, S_12_min, S_12_max, R_6_num_unique, R_6_min, R_6_max, S_13_num_unique, S_13_min, S_13_max, B_21_num_unique, B_21_min, B_21_max, D_69_num_unique, D_69_min, D_69_max, B_22_num_unique, B_22_min, B_22_max, D_70_num_unique, D_70_min, D_70_max, D_71_num_unique, D_71_min, D_71_max, D_72_num_unique, D_72_min, D_72_max, S_15_num_unique, S_15_min, S_15_max, B_23_num_unique, B_23_min, B_23_max, D_73_num_unique, D_73_min, D_73_max, P_4_num_unique, P_4_min, P_4_max, D_74_num_unique, D_74_min, D_74_max, D_75_num_unique, D_75_min, D_75_max, D_76_num_unique, D_76_min, D_76_max, B_24_num_unique, B_24_min, B_24_max, R_7_num_unique, R_7_min, R_7_max, D_77_num_unique, D_77_min, D_77_max, B_25_num_unique, B_25_min, B_25_max, B_26_num_unique, B_26_min, B_26_max, D_78_num_unique, D_78_min, D_78_max, D_79_num_unique, D_79_min, D_79_max, R_8_num_unique, R_8_min, R_8_max, R_9_num_unique, R_9_min, R_9_max, S_16_num_unique, S_16_min, S_16_max, D_80_num_unique, D_80_min, D_80_max, R_10_num_unique, R_10_min, R_10_max, R_11_num_unique, R_11_min, R_11_max, B_27_num_unique, B_27_min, B_27_max, D_81_num_unique, D_81_min, D_81_max, D_82_num_unique, D_82_min, D_82_max, S_17_num_unique, S_17_min, S_17_max, R_12_num_unique, R_12_min, R_12_max, B_28_num_unique, B_28_min, B_28_max, R_13_num_unique, R_13_min, R_13_max, D_83_num_unique, D_83_min, D_83_max, R_14_num_unique, R_14_min, R_14_max, R_15_num_unique, R_15_min, R_15_max, D_84_num_unique, D_84_min, D_84_max, R_16_num_unique, R_16_min, R_16_max, B_29_num_unique, B_29_min, B_29_max, B_30_num_unique, S_18_num_unique, S_18_min, S_18_max, D_86_num_unique, D_86_min, D_86_max, D_87_num_unique, D_87_min, D_87_max, R_17_num_unique, R_17_min, R_17_max, R_18_num_unique, R_18_min, R_18_max, D_88_num_unique, D_88_min, D_88_max, B_31_num_unique, B_31_min, B_31_max, S_19_num_unique, S_19_min, S_19_max, R_19_num_unique, R_19_min, R_19_max, B_32_num_unique, B_32_min, B_32_max, S_20_num_unique, S_20_min, S_20_max, R_20_num_unique, R_20_min, R_20_max, R_21_num_unique, R_21_min, R_21_max, B_33_num_unique, B_33_min, B_33_max, D_89_num_unique, D_89_min, D_89_max, R_22_num_unique, R_22_min, R_22_max, R_23_num_unique, R_23_min, R_23_max, D_91_num_unique, D_91_min, D_91_max, D_92_num_unique, D_92_min, D_92_max, D_93_num_unique, D_93_min, D_93_max, D_94_num_unique, D_94_min, D_94_max, R_24_num_unique, R_24_min, R_24_max, R_25_num_unique, R_25_min, R_25_max, D_96_num_unique, D_96_min, D_96_max, S_22_num_unique, S_22_min, S_22_max, S_23_num_unique, S_23_min, S_23_max, S_24_num_unique, S_24_min, S_24_max, S_25_num_unique, S_25_min, S_25_max, S_26_num_unique, S_26_min, S_26_max, D_102_num_unique, D_102_min, D_102_max, D_103_num_unique, D_103_min, D_103_max, D_104_num_unique, D_104_min, D_104_max, D_105_num_unique, D_105_min, D_105_max, D_106_num_unique, D_106_min, D_106_max, D_107_num_unique, D_107_min, D_107_max, B_36_num_unique, B_36_min, B_36_max, B_37_num_unique, B_37_min, B_37_max, R_26_num_unique, R_26_min, R_26_max, R_27_num_unique, R_27_min, R_27_max, B_38_num_unique, D_108_num_unique, D_108_min, D_108_max, D_109_num_unique, D_109_min, D_109_max, D_110_num_unique, D_110_min, D_110_max, D_111_num_unique, D_111_min, D_111_max, B_39_num_unique, B_39_min, B_39_max, D_112_num_unique, D_112_min, D_112_max, B_40_num_unique, B_40_min, B_40_max, S_27_num_unique, S_27_min, S_27_max, D_113_num_unique, D_113_min, D_113_max, D_114_num_unique, D_115_num_unique, D_115_min, D_115_max, D_116_num_unique, D_117_num_unique, D_118_num_unique, D_118_min, D_118_max, D_119_num_unique, D_119_min, D_119_max, D_120_num_unique, D_121_num_unique, D_121_min, D_121_max, D_122_num_unique, D_122_min, D_122_max, D_123_num_unique, D_123_min, D_123_max, D_124_num_unique, D_124_min, D_124_max, D_125_num_unique, D_125_min, D_125_max, D_126_num_unique, D_127_num_unique, D_127_min, D_127_max, D_128_num_unique, D_128_min, D_128_max, D_129_num_unique, D_129_min, D_129_max, B_41_num_unique, B_41_min, B_41_max, B_42_num_unique, B_42_min, B_42_max, D_130_num_unique, D_130_min, D_130_max, D_131_num_unique, D_131_min, D_131_max, D_132_num_unique, D_132_min, D_132_max, D_133_num_unique, D_133_min, D_133_max, R_28_num_unique, R_28_min, R_28_max, D_134_num_unique, D_134_min, D_134_max, D_135_num_unique, D_135_min, D_135_max, D_136_num_unique, D_136_min, D_136_max, D_137_num_unique, D_137_min, D_137_max, D_138_num_unique, D_138_min, D_138_max, D_139_num_unique, D_139_min, D_139_max, D_140_num_unique, D_140_min, D_140_max, D_141_num_unique, D_141_min, D_141_max, D_142_num_unique, D_142_min, D_142_max, D_143_num_unique, D_143_min, D_143_max, D_144_num_unique, D_144_min, D_144_max, D_145_num_unique, D_145_min, D_145_max, P_2_num_duplicates, D_39_num_duplicates, B_1_num_duplicates, B_2_num_duplicates, R_1_num_duplicates, S_3_num_duplicates, D_41_num_duplicates, B_3_num_duplicates, D_42_num_duplicates, D_43_num_duplicates, D_44_num_duplicates, B_4_num_duplicates, D_45_num_duplicates, B_5_num_duplicates, R_2_num_duplicates, D_46_num_duplicates, D_47_num_duplicates, D_48_num_duplicates, D_49_num_duplicates, B_6_num_duplicates, B_7_num_duplicates, B_8_num_duplicates, D_50_num_duplicates, D_51_num_duplicates, B_9_num_duplicates, R_3_num_duplicates, D_52_num_duplicates, P_3_num_duplicates, B_10_num_duplicates, D_53_num_duplicates, S_5_num_duplicates, B_11_num_duplicates, S_6_num_duplicates, D_54_num_duplicates, R_4_num_duplicates, S_7_num_duplicates, B_12_num_duplicates, S_8_num_duplicates, D_55_num_duplicates, D_56_num_duplicates, B_13_num_duplicates, R_5_num_duplicates, D_58_num_duplicates, S_9_num_duplicates, B_14_num_duplicates, D_59_num_duplicates, D_60_num_duplicates, D_61_num_duplicates, B_15_num_duplicates, S_11_num_duplicates, D_62_num_duplicates, D_63_num_duplicates, D_64_num_duplicates, D_65_num_duplicates, B_16_num_duplicates, B_17_num_duplicates, B_18_num_duplicates, B_19_num_duplicates, D_66_num_duplicates, B_20_num_duplicates, D_68_num_duplicates, S_12_num_duplicates, R_6_num_duplicates, S_13_num_duplicates, B_21_num_duplicates, D_69_num_duplicates, B_22_num_duplicates, D_70_num_duplicates, D_71_num_duplicates, D_72_num_duplicates, S_15_num_duplicates, B_23_num_duplicates, D_73_num_duplicates, P_4_num_duplicates, D_74_num_duplicates, D_75_num_duplicates, D_76_num_duplicates, B_24_num_duplicates, R_7_num_duplicates, D_77_num_duplicates, B_25_num_duplicates, B_26_num_duplicates, D_78_num_duplicates, D_79_num_duplicates, R_8_num_duplicates, R_9_num_duplicates, S_16_num_duplicates, D_80_num_duplicates, R_10_num_duplicates, R_11_num_duplicates, B_27_num_duplicates, D_81_num_duplicates, D_82_num_duplicates, S_17_num_duplicates, R_12_num_duplicates, B_28_num_duplicates, R_13_num_duplicates, D_83_num_duplicates, R_14_num_duplicates, R_15_num_duplicates, D_84_num_duplicates, R_16_num_duplicates, B_29_num_duplicates, B_30_num_duplicates, S_18_num_duplicates, D_86_num_duplicates, D_87_num_duplicates, R_17_num_duplicates, R_18_num_duplicates, D_88_num_duplicates, B_31_num_duplicates, S_19_num_duplicates, R_19_num_duplicates, B_32_num_duplicates, S_20_num_duplicates, R_20_num_duplicates, R_21_num_duplicates, B_33_num_duplicates, D_89_num_duplicates, R_22_num_duplicates, R_23_num_duplicates, D_91_num_duplicates, D_92_num_duplicates, D_93_num_duplicates, D_94_num_duplicates, R_24_num_duplicates, R_25_num_duplicates, D_96_num_duplicates, S_22_num_duplicates, S_23_num_duplicates, S_24_num_duplicates, S_25_num_duplicates, S_26_num_duplicates, D_102_num_duplicates, D_103_num_duplicates, D_104_num_duplicates, D_105_num_duplicates, D_106_num_duplicates, D_107_num_duplicates, B_36_num_duplicates, B_37_num_duplicates, R_26_num_duplicates, R_27_num_duplicates, B_38_num_duplicates, D_108_num_duplicates, D_109_num_duplicates, D_110_num_duplicates, D_111_num_duplicates, B_39_num_duplicates, D_112_num_duplicates, B_40_num_duplicates, S_27_num_duplicates, D_113_num_duplicates, D_114_num_duplicates, D_115_num_duplicates, D_116_num_duplicates, D_117_num_duplicates, D_118_num_duplicates, D_119_num_duplicates, D_120_num_duplicates, D_121_num_duplicates, D_122_num_duplicates, D_123_num_duplicates, D_124_num_duplicates, D_125_num_duplicates, D_126_num_duplicates, D_127_num_duplicates, D_128_num_duplicates, D_129_num_duplicates, B_41_num_duplicates, B_42_num_duplicates, D_130_num_duplicates, D_131_num_duplicates, D_132_num_duplicates, D_133_num_duplicates, R_28_num_duplicates, D_134_num_duplicates, D_135_num_duplicates, D_136_num_duplicates, D_137_num_duplicates, D_138_num_duplicates, D_139_num_duplicates, D_140_num_duplicates, D_141_num_duplicates, D_142_num_duplicates, D_143_num_duplicates, D_144_num_duplicates, D_145_num_duplicates, B_30_CategoricalToIntegerEncoder, B_30_previous_CategoricalToIntegerEncoder, B_30_mode_CategoricalToIntegerEncoder, B_38_CategoricalToIntegerEncoder, B_38_previous_CategoricalToIntegerEncoder, B_38_mode_CategoricalToIntegerEncoder, D_114_CategoricalToIntegerEncoder, D_114_previous_CategoricalToIntegerEncoder, D_114_mode_CategoricalToIntegerEncoder, D_116_CategoricalToIntegerEncoder, D_116_previous_CategoricalToIntegerEncoder, D_116_mode_CategoricalToIntegerEncoder, D_117_CategoricalToIntegerEncoder, D_117_previous_CategoricalToIntegerEncoder, D_117_mode_CategoricalToIntegerEncoder, D_120_CategoricalToIntegerEncoder, D_120_previous_CategoricalToIntegerEncoder, D_120_mode_CategoricalToIntegerEncoder, D_126_CategoricalToIntegerEncoder, D_126_previous_CategoricalToIntegerEncoder, D_126_mode_CategoricalToIntegerEncoder, D_63_CategoricalToIntegerEncoder, D_63_previous_CategoricalToIntegerEncoder, D_63_mode_CategoricalToIntegerEncoder, D_64_CategoricalToIntegerEncoder, D_64_previous_CategoricalToIntegerEncoder, D_64_mode_CategoricalToIntegerEncoder, D_66_CategoricalToIntegerEncoder, D_66_previous_CategoricalToIntegerEncoder, D_66_mode_CategoricalToIntegerEncoder, D_68_CategoricalToIntegerEncoder, D_68_previous_CategoricalToIntegerEncoder, D_68_mode_CategoricalToIntegerEncoder\n",
      "CPU times: user 2.5 s, sys: 3.49 s, total: 5.99 s\n",
      "Wall time: 56.5 s\n"
     ]
    }
   ],
   "source": [
    "%%time\n",
    "from format_data import TARGET_VARIABLE, DATE_VARIABLES, ID_VARIABLES\n",
    "\n",
    "# make train_pdf\n",
    "train_pdf = train_data.join(train_labels, on='customer_ID', how='inner')\n",
    "train_pdf = encs.transform(spark=spark, df=train_pdf).toPandas()\n",
    "\n",
    "# make test_pdf\n",
    "# test_pdf = encs.transform(spark=spark, df=test_data).toPandas()\n",
    "\n",
    "non_feature_columns = [\n",
    "    TARGET_VARIABLE,\n",
    "    *ID_VARIABLES,\n",
    "    *DATE_VARIABLES.keys(),\n",
    "]\n",
    "feature_columns = [c for c in train_pdf.columns if c not in non_feature_columns]\n",
    "print(f'len(feature_columns): {len(feature_columns)}\\n', ', '.join(feature_columns))"
   ]
  },
  {
   "cell_type": "code",
   "execution_count": 7,
   "metadata": {},
   "outputs": [
    {
     "name": "stdout",
     "output_type": "stream",
     "text": [
      "(458913, 1307)\n",
      "(array([0., 1.], dtype=float32), array([340085, 118828]))\n"
     ]
    }
   ],
   "source": [
    "import numpy as np\n",
    "\n",
    "X_fit = train_pdf[feature_columns].reset_index(drop=True).astype(float)\n",
    "print(X_fit.shape)\n",
    "# X_test = test_pdf[feature_columns].reset_index(drop=True)\n",
    "# print(X_test.shape)\n",
    "\n",
    "y_fit = np.array(train_pdf[TARGET_VARIABLE])\n",
    "print(np.unique(y_fit, return_counts=True))"
   ]
  },
  {
   "cell_type": "code",
   "execution_count": 8,
   "metadata": {},
   "outputs": [
    {
     "name": "stdout",
     "output_type": "stream",
     "text": [
      "(344184, 1307) (114729, 1307) (344184,) (114729,)\n"
     ]
    }
   ],
   "source": [
    "from sklearn.model_selection import train_test_split\n",
    "\n",
    "X_train, X_valid, y_train, y_valid = train_test_split(X_fit, y_fit) \n",
    "print(X_train.shape, X_valid.shape, y_train.shape, y_valid.shape)"
   ]
  },
  {
   "cell_type": "code",
   "execution_count": 9,
   "metadata": {},
   "outputs": [
    {
     "name": "stderr",
     "output_type": "stream",
     "text": [
      "/usr/local/lib/python3.8/dist-packages/lightgbm/basic.py:2065: UserWarning: Using categorical_feature in Dataset.\n",
      "  _log_warning('Using categorical_feature in Dataset.')\n",
      "/usr/local/lib/python3.8/dist-packages/lightgbm/basic.py:2068: UserWarning: categorical_feature in Dataset is overridden.\n",
      "New categorical_feature is ['B_30_CategoricalToIntegerEncoder', 'B_30_mode_CategoricalToIntegerEncoder', 'B_30_previous_CategoricalToIntegerEncoder', 'B_38_CategoricalToIntegerEncoder', 'B_38_mode_CategoricalToIntegerEncoder', 'B_38_previous_CategoricalToIntegerEncoder', 'D_114_CategoricalToIntegerEncoder', 'D_114_mode_CategoricalToIntegerEncoder', 'D_114_previous_CategoricalToIntegerEncoder', 'D_116_CategoricalToIntegerEncoder', 'D_116_mode_CategoricalToIntegerEncoder', 'D_116_previous_CategoricalToIntegerEncoder', 'D_117_CategoricalToIntegerEncoder', 'D_117_mode_CategoricalToIntegerEncoder', 'D_117_previous_CategoricalToIntegerEncoder', 'D_120_CategoricalToIntegerEncoder', 'D_120_mode_CategoricalToIntegerEncoder', 'D_120_previous_CategoricalToIntegerEncoder', 'D_126_CategoricalToIntegerEncoder', 'D_126_mode_CategoricalToIntegerEncoder', 'D_126_previous_CategoricalToIntegerEncoder', 'D_63_CategoricalToIntegerEncoder', 'D_63_mode_CategoricalToIntegerEncoder', 'D_63_previous_CategoricalToIntegerEncoder', 'D_64_CategoricalToIntegerEncoder', 'D_64_mode_CategoricalToIntegerEncoder', 'D_64_previous_CategoricalToIntegerEncoder', 'D_66_CategoricalToIntegerEncoder', 'D_66_mode_CategoricalToIntegerEncoder', 'D_66_previous_CategoricalToIntegerEncoder', 'D_68_CategoricalToIntegerEncoder', 'D_68_mode_CategoricalToIntegerEncoder', 'D_68_previous_CategoricalToIntegerEncoder']\n",
      "  _log_warning('categorical_feature in Dataset is overridden.\\n'\n",
      "/usr/local/lib/python3.8/dist-packages/lightgbm/basic.py:1780: UserWarning: Overriding the parameters from Reference Dataset.\n",
      "  _log_warning('Overriding the parameters from Reference Dataset.')\n",
      "/usr/local/lib/python3.8/dist-packages/lightgbm/basic.py:1513: UserWarning: categorical_column in param dict is overridden.\n",
      "  _log_warning(f'{cat_alias} in param dict is overridden.')\n"
     ]
    },
    {
     "name": "stdout",
     "output_type": "stream",
     "text": [
      "[1]\tvalid_0's auc: 0.932108\tvalid_0's average_precision: 0.819139\tvalid_0's binary_logloss: 0.520107\tvalid_0's amex: 0.693407\tvalid_0's amex_gini: 0.864037\tvalid_0's amex_top4: 0.522777\n",
      "[2]\tvalid_0's auc: 0.938503\tvalid_0's average_precision: 0.843151\tvalid_0's binary_logloss: 0.480095\tvalid_0's amex: 0.712521\tvalid_0's amex_gini: 0.876681\tvalid_0's amex_top4: 0.548361\n",
      "[3]\tvalid_0's auc: 0.940349\tvalid_0's average_precision: 0.847258\tvalid_0's binary_logloss: 0.448055\tvalid_0's amex: 0.719135\tvalid_0's amex_gini: 0.880463\tvalid_0's amex_top4: 0.557808\n",
      "[4]\tvalid_0's auc: 0.942117\tvalid_0's average_precision: 0.85239\tvalid_0's binary_logloss: 0.421351\tvalid_0's amex: 0.726549\tvalid_0's amex_gini: 0.884128\tvalid_0's amex_top4: 0.56897\n",
      "[5]\tvalid_0's auc: 0.942932\tvalid_0's average_precision: 0.854871\tvalid_0's binary_logloss: 0.399076\tvalid_0's amex: 0.728253\tvalid_0's amex_gini: 0.885587\tvalid_0's amex_top4: 0.570919\n",
      "[6]\tvalid_0's auc: 0.94459\tvalid_0's average_precision: 0.85828\tvalid_0's binary_logloss: 0.380076\tvalid_0's amex: 0.732583\tvalid_0's amex_gini: 0.889036\tvalid_0's amex_top4: 0.57613\n",
      "[7]\tvalid_0's auc: 0.945797\tvalid_0's average_precision: 0.860379\tvalid_0's binary_logloss: 0.363777\tvalid_0's amex: 0.736573\tvalid_0's amex_gini: 0.891469\tvalid_0's amex_top4: 0.581678\n",
      "[8]\tvalid_0's auc: 0.946524\tvalid_0's average_precision: 0.862218\tvalid_0's binary_logloss: 0.3496\tvalid_0's amex: 0.739558\tvalid_0's amex_gini: 0.892968\tvalid_0's amex_top4: 0.586149\n",
      "[9]\tvalid_0's auc: 0.947098\tvalid_0's average_precision: 0.863846\tvalid_0's binary_logloss: 0.337234\tvalid_0's amex: 0.741172\tvalid_0's amex_gini: 0.89411\tvalid_0's amex_top4: 0.588233\n",
      "[10]\tvalid_0's auc: 0.947563\tvalid_0's average_precision: 0.865135\tvalid_0's binary_logloss: 0.326496\tvalid_0's amex: 0.742307\tvalid_0's amex_gini: 0.895003\tvalid_0's amex_top4: 0.589612\n",
      "[11]\tvalid_0's auc: 0.948097\tvalid_0's average_precision: 0.86622\tvalid_0's binary_logloss: 0.316996\tvalid_0's amex: 0.743632\tvalid_0's amex_gini: 0.896207\tvalid_0's amex_top4: 0.591057\n",
      "[12]\tvalid_0's auc: 0.948731\tvalid_0's average_precision: 0.86746\tvalid_0's binary_logloss: 0.308544\tvalid_0's amex: 0.745745\tvalid_0's amex_gini: 0.89744\tvalid_0's amex_top4: 0.594049\n",
      "[13]\tvalid_0's auc: 0.949053\tvalid_0's average_precision: 0.868322\tvalid_0's binary_logloss: 0.30115\tvalid_0's amex: 0.747549\tvalid_0's amex_gini: 0.898124\tvalid_0's amex_top4: 0.596974\n",
      "[14]\tvalid_0's auc: 0.949414\tvalid_0's average_precision: 0.869316\tvalid_0's binary_logloss: 0.294548\tvalid_0's amex: 0.748287\tvalid_0's amex_gini: 0.89886\tvalid_0's amex_top4: 0.597714\n",
      "[15]\tvalid_0's auc: 0.949872\tvalid_0's average_precision: 0.870286\tvalid_0's binary_logloss: 0.288625\tvalid_0's amex: 0.749679\tvalid_0's amex_gini: 0.899695\tvalid_0's amex_top4: 0.599664\n",
      "[16]\tvalid_0's auc: 0.950256\tvalid_0's average_precision: 0.871176\tvalid_0's binary_logloss: 0.283344\tvalid_0's amex: 0.750685\tvalid_0's amex_gini: 0.90053\tvalid_0's amex_top4: 0.60084\n",
      "[17]\tvalid_0's auc: 0.950559\tvalid_0's average_precision: 0.871964\tvalid_0's binary_logloss: 0.278618\tvalid_0's amex: 0.753264\tvalid_0's amex_gini: 0.901115\tvalid_0's amex_top4: 0.605413\n",
      "[18]\tvalid_0's auc: 0.950938\tvalid_0's average_precision: 0.873126\tvalid_0's binary_logloss: 0.274259\tvalid_0's amex: 0.754512\tvalid_0's amex_gini: 0.901896\tvalid_0's amex_top4: 0.607127\n",
      "[19]\tvalid_0's auc: 0.951252\tvalid_0's average_precision: 0.873839\tvalid_0's binary_logloss: 0.270384\tvalid_0's amex: 0.755126\tvalid_0's amex_gini: 0.90252\tvalid_0's amex_top4: 0.607732\n",
      "[20]\tvalid_0's auc: 0.951451\tvalid_0's average_precision: 0.87431\tvalid_0's binary_logloss: 0.267041\tvalid_0's amex: 0.755741\tvalid_0's amex_gini: 0.902909\tvalid_0's amex_top4: 0.608573\n",
      "[21]\tvalid_0's auc: 0.951782\tvalid_0's average_precision: 0.875299\tvalid_0's binary_logloss: 0.263806\tvalid_0's amex: 0.757314\tvalid_0's amex_gini: 0.903568\tvalid_0's amex_top4: 0.611061\n",
      "[22]\tvalid_0's auc: 0.952086\tvalid_0's average_precision: 0.876102\tvalid_0's binary_logloss: 0.260899\tvalid_0's amex: 0.758172\tvalid_0's amex_gini: 0.904174\tvalid_0's amex_top4: 0.61217\n",
      "[23]\tvalid_0's auc: 0.952349\tvalid_0's average_precision: 0.876863\tvalid_0's binary_logloss: 0.258235\tvalid_0's amex: 0.759472\tvalid_0's amex_gini: 0.90469\tvalid_0's amex_top4: 0.614254\n",
      "[24]\tvalid_0's auc: 0.952626\tvalid_0's average_precision: 0.877535\tvalid_0's binary_logloss: 0.255861\tvalid_0's amex: 0.760325\tvalid_0's amex_gini: 0.905219\tvalid_0's amex_top4: 0.615431\n",
      "[25]\tvalid_0's auc: 0.952883\tvalid_0's average_precision: 0.878174\tvalid_0's binary_logloss: 0.253694\tvalid_0's amex: 0.761185\tvalid_0's amex_gini: 0.905862\tvalid_0's amex_top4: 0.616507\n",
      "[26]\tvalid_0's auc: 0.953097\tvalid_0's average_precision: 0.878798\tvalid_0's binary_logloss: 0.251723\tvalid_0's amex: 0.762014\tvalid_0's amex_gini: 0.906209\tvalid_0's amex_top4: 0.617818\n",
      "[27]\tvalid_0's auc: 0.953294\tvalid_0's average_precision: 0.879246\tvalid_0's binary_logloss: 0.249973\tvalid_0's amex: 0.762405\tvalid_0's amex_gini: 0.906622\tvalid_0's amex_top4: 0.618188\n",
      "[28]\tvalid_0's auc: 0.953523\tvalid_0's average_precision: 0.879792\tvalid_0's binary_logloss: 0.24829\tvalid_0's amex: 0.763758\tvalid_0's amex_gini: 0.907142\tvalid_0's amex_top4: 0.620373\n",
      "[29]\tvalid_0's auc: 0.953883\tvalid_0's average_precision: 0.880498\tvalid_0's binary_logloss: 0.246667\tvalid_0's amex: 0.764868\tvalid_0's amex_gini: 0.907783\tvalid_0's amex_top4: 0.621953\n",
      "[30]\tvalid_0's auc: 0.95407\tvalid_0's average_precision: 0.88094\tvalid_0's binary_logloss: 0.24533\tvalid_0's amex: 0.765442\tvalid_0's amex_gini: 0.908157\tvalid_0's amex_top4: 0.622727\n",
      "[31]\tvalid_0's auc: 0.954339\tvalid_0's average_precision: 0.881518\tvalid_0's binary_logloss: 0.243951\tvalid_0's amex: 0.766465\tvalid_0's amex_gini: 0.90869\tvalid_0's amex_top4: 0.624239\n",
      "[32]\tvalid_0's auc: 0.954581\tvalid_0's average_precision: 0.882067\tvalid_0's binary_logloss: 0.242703\tvalid_0's amex: 0.767194\tvalid_0's amex_gini: 0.909174\tvalid_0's amex_top4: 0.625214\n",
      "[33]\tvalid_0's auc: 0.954833\tvalid_0's average_precision: 0.882606\tvalid_0's binary_logloss: 0.241549\tvalid_0's amex: 0.767161\tvalid_0's amex_gini: 0.90968\tvalid_0's amex_top4: 0.624643\n",
      "[34]\tvalid_0's auc: 0.95498\tvalid_0's average_precision: 0.88296\tvalid_0's binary_logloss: 0.24059\tvalid_0's amex: 0.767793\tvalid_0's amex_gini: 0.909969\tvalid_0's amex_top4: 0.625618\n",
      "[35]\tvalid_0's auc: 0.955116\tvalid_0's average_precision: 0.883329\tvalid_0's binary_logloss: 0.239691\tvalid_0's amex: 0.768438\tvalid_0's amex_gini: 0.910216\tvalid_0's amex_top4: 0.62666\n",
      "[36]\tvalid_0's auc: 0.955268\tvalid_0's average_precision: 0.883784\tvalid_0's binary_logloss: 0.238863\tvalid_0's amex: 0.768737\tvalid_0's amex_gini: 0.910545\tvalid_0's amex_top4: 0.626929\n",
      "[37]\tvalid_0's auc: 0.955404\tvalid_0's average_precision: 0.884087\tvalid_0's binary_logloss: 0.238134\tvalid_0's amex: 0.769512\tvalid_0's amex_gini: 0.910784\tvalid_0's amex_top4: 0.62824\n",
      "[38]\tvalid_0's auc: 0.955555\tvalid_0's average_precision: 0.884489\tvalid_0's binary_logloss: 0.237384\tvalid_0's amex: 0.770026\tvalid_0's amex_gini: 0.911106\tvalid_0's amex_top4: 0.628946\n",
      "[39]\tvalid_0's auc: 0.955695\tvalid_0's average_precision: 0.884754\tvalid_0's binary_logloss: 0.236754\tvalid_0's amex: 0.770866\tvalid_0's amex_gini: 0.911373\tvalid_0's amex_top4: 0.630358\n",
      "[40]\tvalid_0's auc: 0.955842\tvalid_0's average_precision: 0.885087\tvalid_0's binary_logloss: 0.236106\tvalid_0's amex: 0.770412\tvalid_0's amex_gini: 0.911677\tvalid_0's amex_top4: 0.629148\n",
      "[41]\tvalid_0's auc: 0.955984\tvalid_0's average_precision: 0.885433\tvalid_0's binary_logloss: 0.235485\tvalid_0's amex: 0.770999\tvalid_0's amex_gini: 0.911976\tvalid_0's amex_top4: 0.630022\n",
      "[42]\tvalid_0's auc: 0.956123\tvalid_0's average_precision: 0.885744\tvalid_0's binary_logloss: 0.234931\tvalid_0's amex: 0.771384\tvalid_0's amex_gini: 0.912242\tvalid_0's amex_top4: 0.630526\n",
      "[43]\tvalid_0's auc: 0.956245\tvalid_0's average_precision: 0.885995\tvalid_0's binary_logloss: 0.234414\tvalid_0's amex: 0.771558\tvalid_0's amex_gini: 0.91249\tvalid_0's amex_top4: 0.630627\n",
      "[44]\tvalid_0's auc: 0.956409\tvalid_0's average_precision: 0.886396\tvalid_0's binary_logloss: 0.233832\tvalid_0's amex: 0.772395\tvalid_0's amex_gini: 0.912817\tvalid_0's amex_top4: 0.631972\n",
      "[45]\tvalid_0's auc: 0.956509\tvalid_0's average_precision: 0.886623\tvalid_0's binary_logloss: 0.233389\tvalid_0's amex: 0.772529\tvalid_0's amex_gini: 0.913019\tvalid_0's amex_top4: 0.632039\n",
      "[46]\tvalid_0's auc: 0.956618\tvalid_0's average_precision: 0.886846\tvalid_0's binary_logloss: 0.232966\tvalid_0's amex: 0.772772\tvalid_0's amex_gini: 0.913236\tvalid_0's amex_top4: 0.632308\n",
      "[47]\tvalid_0's auc: 0.956725\tvalid_0's average_precision: 0.887103\tvalid_0's binary_logloss: 0.232552\tvalid_0's amex: 0.773433\tvalid_0's amex_gini: 0.913448\tvalid_0's amex_top4: 0.633417\n",
      "[48]\tvalid_0's auc: 0.956813\tvalid_0's average_precision: 0.887287\tvalid_0's binary_logloss: 0.232187\tvalid_0's amex: 0.773841\tvalid_0's amex_gini: 0.913626\tvalid_0's amex_top4: 0.634056\n",
      "[49]\tvalid_0's auc: 0.956948\tvalid_0's average_precision: 0.887575\tvalid_0's binary_logloss: 0.231751\tvalid_0's amex: 0.774379\tvalid_0's amex_gini: 0.913894\tvalid_0's amex_top4: 0.634863\n",
      "[50]\tvalid_0's auc: 0.957048\tvalid_0's average_precision: 0.887788\tvalid_0's binary_logloss: 0.231395\tvalid_0's amex: 0.774698\tvalid_0's amex_gini: 0.914096\tvalid_0's amex_top4: 0.6353\n",
      "[51]\tvalid_0's auc: 0.957149\tvalid_0's average_precision: 0.88801\tvalid_0's binary_logloss: 0.231047\tvalid_0's amex: 0.775134\tvalid_0's amex_gini: 0.914296\tvalid_0's amex_top4: 0.635972\n",
      "[52]\tvalid_0's auc: 0.957256\tvalid_0's average_precision: 0.888234\tvalid_0's binary_logloss: 0.230689\tvalid_0's amex: 0.775074\tvalid_0's amex_gini: 0.914511\tvalid_0's amex_top4: 0.635636\n",
      "[53]\tvalid_0's auc: 0.957363\tvalid_0's average_precision: 0.888464\tvalid_0's binary_logloss: 0.230358\tvalid_0's amex: 0.775416\tvalid_0's amex_gini: 0.914725\tvalid_0's amex_top4: 0.636107\n",
      "[54]\tvalid_0's auc: 0.957458\tvalid_0's average_precision: 0.88867\tvalid_0's binary_logloss: 0.230039\tvalid_0's amex: 0.776418\tvalid_0's amex_gini: 0.914914\tvalid_0's amex_top4: 0.637922\n",
      "[55]\tvalid_0's auc: 0.957567\tvalid_0's average_precision: 0.888918\tvalid_0's binary_logloss: 0.229686\tvalid_0's amex: 0.77641\tvalid_0's amex_gini: 0.915133\tvalid_0's amex_top4: 0.637687\n",
      "[56]\tvalid_0's auc: 0.95765\tvalid_0's average_precision: 0.889091\tvalid_0's binary_logloss: 0.229398\tvalid_0's amex: 0.776359\tvalid_0's amex_gini: 0.915299\tvalid_0's amex_top4: 0.637418\n",
      "[57]\tvalid_0's auc: 0.957732\tvalid_0's average_precision: 0.88927\tvalid_0's binary_logloss: 0.22914\tvalid_0's amex: 0.77671\tvalid_0's amex_gini: 0.915464\tvalid_0's amex_top4: 0.637956\n",
      "[58]\tvalid_0's auc: 0.957837\tvalid_0's average_precision: 0.889496\tvalid_0's binary_logloss: 0.228813\tvalid_0's amex: 0.777033\tvalid_0's amex_gini: 0.915673\tvalid_0's amex_top4: 0.638393\n",
      "[59]\tvalid_0's auc: 0.957925\tvalid_0's average_precision: 0.889665\tvalid_0's binary_logloss: 0.228556\tvalid_0's amex: 0.777373\tvalid_0's amex_gini: 0.915849\tvalid_0's amex_top4: 0.638897\n",
      "[60]\tvalid_0's auc: 0.957996\tvalid_0's average_precision: 0.889801\tvalid_0's binary_logloss: 0.228318\tvalid_0's amex: 0.777797\tvalid_0's amex_gini: 0.915991\tvalid_0's amex_top4: 0.639603\n",
      "[61]\tvalid_0's auc: 0.958048\tvalid_0's average_precision: 0.889919\tvalid_0's binary_logloss: 0.228123\tvalid_0's amex: 0.777731\tvalid_0's amex_gini: 0.916095\tvalid_0's amex_top4: 0.639368\n",
      "[62]\tvalid_0's auc: 0.958128\tvalid_0's average_precision: 0.890093\tvalid_0's binary_logloss: 0.227882\tvalid_0's amex: 0.777929\tvalid_0's amex_gini: 0.916255\tvalid_0's amex_top4: 0.639603\n",
      "[63]\tvalid_0's auc: 0.958201\tvalid_0's average_precision: 0.890257\tvalid_0's binary_logloss: 0.22765\tvalid_0's amex: 0.778355\tvalid_0's amex_gini: 0.9164\tvalid_0's amex_top4: 0.640309\n",
      "[64]\tvalid_0's auc: 0.958251\tvalid_0's average_precision: 0.890353\tvalid_0's binary_logloss: 0.227474\tvalid_0's amex: 0.778892\tvalid_0's amex_gini: 0.9165\tvalid_0's amex_top4: 0.641284\n",
      "[65]\tvalid_0's auc: 0.958328\tvalid_0's average_precision: 0.890543\tvalid_0's binary_logloss: 0.227251\tvalid_0's amex: 0.77934\tvalid_0's amex_gini: 0.916655\tvalid_0's amex_top4: 0.642024\n",
      "[66]\tvalid_0's auc: 0.958387\tvalid_0's average_precision: 0.89065\tvalid_0's binary_logloss: 0.227079\tvalid_0's amex: 0.779702\tvalid_0's amex_gini: 0.916774\tvalid_0's amex_top4: 0.642629\n",
      "[67]\tvalid_0's auc: 0.958459\tvalid_0's average_precision: 0.890834\tvalid_0's binary_logloss: 0.226866\tvalid_0's amex: 0.779655\tvalid_0's amex_gini: 0.916917\tvalid_0's amex_top4: 0.642394\n",
      "[68]\tvalid_0's auc: 0.958513\tvalid_0's average_precision: 0.890922\tvalid_0's binary_logloss: 0.226697\tvalid_0's amex: 0.779558\tvalid_0's amex_gini: 0.917024\tvalid_0's amex_top4: 0.642091\n",
      "[69]\tvalid_0's auc: 0.958577\tvalid_0's average_precision: 0.891065\tvalid_0's binary_logloss: 0.226491\tvalid_0's amex: 0.779824\tvalid_0's amex_gini: 0.917153\tvalid_0's amex_top4: 0.642495\n",
      "[70]\tvalid_0's auc: 0.958622\tvalid_0's average_precision: 0.891166\tvalid_0's binary_logloss: 0.226347\tvalid_0's amex: 0.779751\tvalid_0's amex_gini: 0.917244\tvalid_0's amex_top4: 0.642259\n",
      "[71]\tvalid_0's auc: 0.95867\tvalid_0's average_precision: 0.891269\tvalid_0's binary_logloss: 0.226198\tvalid_0's amex: 0.780556\tvalid_0's amex_gini: 0.91734\tvalid_0's amex_top4: 0.643772\n",
      "[72]\tvalid_0's auc: 0.958719\tvalid_0's average_precision: 0.891392\tvalid_0's binary_logloss: 0.226045\tvalid_0's amex: 0.780823\tvalid_0's amex_gini: 0.917438\tvalid_0's amex_top4: 0.644209\n",
      "[73]\tvalid_0's auc: 0.958764\tvalid_0's average_precision: 0.891472\tvalid_0's binary_logloss: 0.225909\tvalid_0's amex: 0.780801\tvalid_0's amex_gini: 0.917527\tvalid_0's amex_top4: 0.644075\n",
      "[74]\tvalid_0's auc: 0.958805\tvalid_0's average_precision: 0.89156\tvalid_0's binary_logloss: 0.225783\tvalid_0's amex: 0.781044\tvalid_0's amex_gini: 0.91761\tvalid_0's amex_top4: 0.644478\n",
      "[75]\tvalid_0's auc: 0.95887\tvalid_0's average_precision: 0.891703\tvalid_0's binary_logloss: 0.225598\tvalid_0's amex: 0.780974\tvalid_0's amex_gini: 0.917739\tvalid_0's amex_top4: 0.644209\n",
      "[76]\tvalid_0's auc: 0.958925\tvalid_0's average_precision: 0.891832\tvalid_0's binary_logloss: 0.225433\tvalid_0's amex: 0.780996\tvalid_0's amex_gini: 0.91785\tvalid_0's amex_top4: 0.644142\n",
      "[77]\tvalid_0's auc: 0.958977\tvalid_0's average_precision: 0.891966\tvalid_0's binary_logloss: 0.225271\tvalid_0's amex: 0.781165\tvalid_0's amex_gini: 0.917954\tvalid_0's amex_top4: 0.644377\n",
      "[78]\tvalid_0's auc: 0.959015\tvalid_0's average_precision: 0.892059\tvalid_0's binary_logloss: 0.225158\tvalid_0's amex: 0.781405\tvalid_0's amex_gini: 0.918029\tvalid_0's amex_top4: 0.644781\n",
      "[79]\tvalid_0's auc: 0.959058\tvalid_0's average_precision: 0.892204\tvalid_0's binary_logloss: 0.225028\tvalid_0's amex: 0.782221\tvalid_0's amex_gini: 0.918116\tvalid_0's amex_top4: 0.646327\n",
      "[80]\tvalid_0's auc: 0.959119\tvalid_0's average_precision: 0.892319\tvalid_0's binary_logloss: 0.224878\tvalid_0's amex: 0.782383\tvalid_0's amex_gini: 0.918238\tvalid_0's amex_top4: 0.646529\n",
      "[81]\tvalid_0's auc: 0.959166\tvalid_0's average_precision: 0.892429\tvalid_0's binary_logloss: 0.224729\tvalid_0's amex: 0.783085\tvalid_0's amex_gini: 0.918331\tvalid_0's amex_top4: 0.64784\n",
      "[82]\tvalid_0's auc: 0.959191\tvalid_0's average_precision: 0.892501\tvalid_0's binary_logloss: 0.224649\tvalid_0's amex: 0.78301\tvalid_0's amex_gini: 0.918381\tvalid_0's amex_top4: 0.647638\n",
      "[83]\tvalid_0's auc: 0.959235\tvalid_0's average_precision: 0.892582\tvalid_0's binary_logloss: 0.224522\tvalid_0's amex: 0.782869\tvalid_0's amex_gini: 0.918469\tvalid_0's amex_top4: 0.647268\n",
      "[84]\tvalid_0's auc: 0.959279\tvalid_0's average_precision: 0.892704\tvalid_0's binary_logloss: 0.224394\tvalid_0's amex: 0.783031\tvalid_0's amex_gini: 0.918557\tvalid_0's amex_top4: 0.647504\n",
      "[85]\tvalid_0's auc: 0.959319\tvalid_0's average_precision: 0.892804\tvalid_0's binary_logloss: 0.224284\tvalid_0's amex: 0.783507\tvalid_0's amex_gini: 0.918637\tvalid_0's amex_top4: 0.648378\n",
      "[86]\tvalid_0's auc: 0.959365\tvalid_0's average_precision: 0.892918\tvalid_0's binary_logloss: 0.22414\tvalid_0's amex: 0.783436\tvalid_0's amex_gini: 0.918729\tvalid_0's amex_top4: 0.648143\n",
      "[87]\tvalid_0's auc: 0.959403\tvalid_0's average_precision: 0.893013\tvalid_0's binary_logloss: 0.224026\tvalid_0's amex: 0.783322\tvalid_0's amex_gini: 0.918804\tvalid_0's amex_top4: 0.64784\n",
      "[88]\tvalid_0's auc: 0.95943\tvalid_0's average_precision: 0.893097\tvalid_0's binary_logloss: 0.223932\tvalid_0's amex: 0.783249\tvalid_0's amex_gini: 0.918859\tvalid_0's amex_top4: 0.647638\n",
      "[89]\tvalid_0's auc: 0.959469\tvalid_0's average_precision: 0.893215\tvalid_0's binary_logloss: 0.223823\tvalid_0's amex: 0.783506\tvalid_0's amex_gini: 0.918937\tvalid_0's amex_top4: 0.648075\n",
      "[90]\tvalid_0's auc: 0.959502\tvalid_0's average_precision: 0.893278\tvalid_0's binary_logloss: 0.223723\tvalid_0's amex: 0.783472\tvalid_0's amex_gini: 0.919003\tvalid_0's amex_top4: 0.647941\n",
      "[91]\tvalid_0's auc: 0.959539\tvalid_0's average_precision: 0.893363\tvalid_0's binary_logloss: 0.223608\tvalid_0's amex: 0.783946\tvalid_0's amex_gini: 0.919078\tvalid_0's amex_top4: 0.648815\n",
      "[92]\tvalid_0's auc: 0.95957\tvalid_0's average_precision: 0.893439\tvalid_0's binary_logloss: 0.223515\tvalid_0's amex: 0.783624\tvalid_0's amex_gini: 0.919139\tvalid_0's amex_top4: 0.648109\n",
      "[93]\tvalid_0's auc: 0.959598\tvalid_0's average_precision: 0.893546\tvalid_0's binary_logloss: 0.223426\tvalid_0's amex: 0.784207\tvalid_0's amex_gini: 0.919195\tvalid_0's amex_top4: 0.649218\n",
      "[94]\tvalid_0's auc: 0.95962\tvalid_0's average_precision: 0.893588\tvalid_0's binary_logloss: 0.223354\tvalid_0's amex: 0.784212\tvalid_0's amex_gini: 0.91924\tvalid_0's amex_top4: 0.649185\n",
      "[95]\tvalid_0's auc: 0.959654\tvalid_0's average_precision: 0.893649\tvalid_0's binary_logloss: 0.223253\tvalid_0's amex: 0.784699\tvalid_0's amex_gini: 0.919306\tvalid_0's amex_top4: 0.650092\n",
      "[96]\tvalid_0's auc: 0.959694\tvalid_0's average_precision: 0.893763\tvalid_0's binary_logloss: 0.223131\tvalid_0's amex: 0.78474\tvalid_0's amex_gini: 0.919387\tvalid_0's amex_top4: 0.650092\n",
      "[97]\tvalid_0's auc: 0.959717\tvalid_0's average_precision: 0.893838\tvalid_0's binary_logloss: 0.22306\tvalid_0's amex: 0.784914\tvalid_0's amex_gini: 0.919433\tvalid_0's amex_top4: 0.650395\n",
      "[98]\tvalid_0's auc: 0.959738\tvalid_0's average_precision: 0.893899\tvalid_0's binary_logloss: 0.222991\tvalid_0's amex: 0.784969\tvalid_0's amex_gini: 0.919476\tvalid_0's amex_top4: 0.650462\n",
      "[99]\tvalid_0's auc: 0.959769\tvalid_0's average_precision: 0.893974\tvalid_0's binary_logloss: 0.222906\tvalid_0's amex: 0.785117\tvalid_0's amex_gini: 0.919536\tvalid_0's amex_top4: 0.650698\n",
      "[100]\tvalid_0's auc: 0.959794\tvalid_0's average_precision: 0.894035\tvalid_0's binary_logloss: 0.222835\tvalid_0's amex: 0.784957\tvalid_0's amex_gini: 0.919587\tvalid_0's amex_top4: 0.650328\n",
      "CPU times: user 5min 46s, sys: 11.2 s, total: 5min 57s\n",
      "Wall time: 1min 52s\n"
     ]
    }
   ],
   "source": [
    "%%time\n",
    "import mlflow\n",
    "from lightgbm import LGBMClassifier\n",
    "from evaluation import feval_amex, feval_amex_gini, feval_amex_top4\n",
    "\n",
    "mlflow.lightgbm.autolog()\n",
    "experiment_id = mlflow.get_experiment_by_name('v2_aggregated.ipynb').experiment_id\n",
    "with mlflow.start_run(experiment_id=experiment_id) as run:\n",
    "    run_id = run.info.run_id\n",
    "    m = LGBMClassifier().fit(\n",
    "        X=X_train, y=y_train, categorical_feature=encs.columns_encoded,\n",
    "        eval_set=[(X_valid, y_valid)],\n",
    "        eval_metric=['auc', 'average_precision', feval_amex, feval_amex_gini, feval_amex_top4],\n",
    "    )"
   ]
  },
  {
   "cell_type": "code",
   "execution_count": null,
   "metadata": {},
   "outputs": [],
   "source": [
    "# from format_data import PREDICTION_VARIABLE\n",
    "# import pandas as pd\n",
    "\n",
    "# pred_test = pd.DataFrame({\n",
    "#     'customer_ID': test_pdf['customer_ID'],\n",
    "#     PREDICTION_VARIABLE: m.predict(X_test, raw_score=True),\n",
    "# })\n",
    "# pred_test.head()"
   ]
  },
  {
   "cell_type": "code",
   "execution_count": null,
   "metadata": {},
   "outputs": [],
   "source": [
    "# pred_test.to_csv(f'{run_id}.csv', index=False)"
   ]
  },
  {
   "cell_type": "code",
   "execution_count": null,
   "metadata": {},
   "outputs": [],
   "source": [
    "# !kaggle competitions submit -c amex-default-prediction -f 0261ff0b99024adc88cd4b8566e2a4d1.csv -m \"experiments/7/runs/0261ff0b99024adc88cd4b8566e2a4d1\""
   ]
  }
 ],
 "metadata": {
  "kernelspec": {
   "display_name": "Python 3.8.10 64-bit",
   "language": "python",
   "name": "python3"
  },
  "language_info": {
   "codemirror_mode": {
    "name": "ipython",
    "version": 3
   },
   "file_extension": ".py",
   "mimetype": "text/x-python",
   "name": "python",
   "nbconvert_exporter": "python",
   "pygments_lexer": "ipython3",
   "version": "3.8.10"
  },
  "orig_nbformat": 4,
  "vscode": {
   "interpreter": {
    "hash": "e7370f93d1d0cde622a1f8e1c04877d8463912d04d973331ad4851f04de6915a"
   }
  }
 },
 "nbformat": 4,
 "nbformat_minor": 2
}
