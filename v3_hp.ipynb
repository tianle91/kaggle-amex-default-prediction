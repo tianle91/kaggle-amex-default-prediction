{
 "cells": [
  {
   "cell_type": "code",
   "execution_count": 1,
   "metadata": {},
   "outputs": [
    {
     "name": "stderr",
     "output_type": "stream",
     "text": [
      "Warning: Ignoring non-Spark config property: Dio.netty.tryReflectionSetAccessible\n",
      "WARNING: An illegal reflective access operation has occurred\n",
      "WARNING: Illegal reflective access by org.apache.spark.unsafe.Platform (file:/usr/local/lib/python3.8/dist-packages/pyspark/jars/spark-unsafe_2.12-3.2.1.jar) to constructor java.nio.DirectByteBuffer(long,int)\n",
      "WARNING: Please consider reporting this to the maintainers of org.apache.spark.unsafe.Platform\n",
      "WARNING: Use --illegal-access=warn to enable warnings of further illegal reflective access operations\n",
      "WARNING: All illegal access operations will be denied in a future release\n",
      "Using Spark's default log4j profile: org/apache/spark/log4j-defaults.properties\n",
      "Setting default log level to \"WARN\".\n",
      "To adjust logging level use sc.setLogLevel(newLevel). For SparkR, use setLogLevel(newLevel).\n",
      "22/08/01 00:30:01 WARN NativeCodeLoader: Unable to load native-hadoop library for your platform... using builtin-java classes where applicable\n"
     ]
    }
   ],
   "source": [
    "from spark_utils import get_spark_session\n",
    "import pyspark.sql.functions as F\n",
    "\n",
    "spark = get_spark_session()\n",
    "# run transform_latest.py if this don't exist\n",
    "test_data = spark.read.parquet('data_transformed/amex-default-prediction/test_data_latest')\n",
    "train_data = spark.read.parquet('data_transformed/amex-default-prediction/train_data_latest')\n",
    "# run format_data.py if these don't exist\n",
    "train_labels = spark.read.parquet('data/amex-default-prediction/train_labels')\n",
    "sample_submission = spark.read.parquet('data/amex-default-prediction/sample_submission')"
   ]
  },
  {
   "cell_type": "code",
   "execution_count": 2,
   "metadata": {},
   "outputs": [
    {
     "name": "stderr",
     "output_type": "stream",
     "text": [
      "                                                                                \r"
     ]
    },
    {
     "name": "stdout",
     "output_type": "stream",
     "text": [
      "CPU times: user 413 ms, sys: 24.6 ms, total: 438 ms\n",
      "Wall time: 10.5 s\n"
     ]
    }
   ],
   "source": [
    "%%time\n",
    "from format_data import CATEGORICAL_VARIABLES\n",
    "from encoder import CategoricalToIntegerEncoders\n",
    "\n",
    "encs = CategoricalToIntegerEncoders(columns=CATEGORICAL_VARIABLES).fit(train_data)"
   ]
  },
  {
   "cell_type": "code",
   "execution_count": 3,
   "metadata": {},
   "outputs": [
    {
     "name": "stderr",
     "output_type": "stream",
     "text": [
      "22/08/01 00:30:19 WARN package: Truncated the string representation of a plan since it was too large. This behavior can be adjusted by setting 'spark.sql.debug.maxToStringFields'.\n",
      "                                                                                \r"
     ]
    },
    {
     "name": "stdout",
     "output_type": "stream",
     "text": [
      "len(feature_columns): 189\n",
      " P_2, D_39, B_1, B_2, R_1, S_3, D_41, B_3, D_42, D_43, D_44, B_4, D_45, B_5, R_2, D_46, D_47, D_48, D_49, B_6, B_7, B_8, D_50, D_51, B_9, R_3, D_52, P_3, B_10, D_53, S_5, B_11, S_6, D_54, R_4, S_7, B_12, S_8, D_55, D_56, B_13, R_5, D_58, S_9, B_14, D_59, D_60, D_61, B_15, S_11, D_62, D_65, B_16, B_17, B_18, B_19, B_20, S_12, R_6, S_13, B_21, D_69, B_22, D_70, D_71, D_72, S_15, B_23, D_73, P_4, D_74, D_75, D_76, B_24, R_7, D_77, B_25, B_26, D_78, D_79, R_8, R_9, S_16, D_80, R_10, R_11, B_27, D_81, D_82, S_17, R_12, B_28, R_13, D_83, R_14, R_15, D_84, R_16, B_29, S_18, D_86, D_87, R_17, R_18, D_88, B_31, S_19, R_19, B_32, S_20, R_20, R_21, B_33, D_89, R_22, R_23, D_91, D_92, D_93, D_94, R_24, R_25, D_96, S_22, S_23, S_24, S_25, S_26, D_102, D_103, D_104, D_105, D_106, D_107, B_36, B_37, R_26, R_27, D_108, D_109, D_110, D_111, B_39, D_112, B_40, S_27, D_113, D_115, D_118, D_119, D_121, D_122, D_123, D_124, D_125, D_127, D_128, D_129, B_41, B_42, D_130, D_131, D_132, D_133, R_28, D_134, D_135, D_136, D_137, D_138, D_139, D_140, D_141, D_142, D_143, D_144, D_145, num_statements, B_30_CategoricalToIntegerEncoder, B_38_CategoricalToIntegerEncoder, D_114_CategoricalToIntegerEncoder, D_116_CategoricalToIntegerEncoder, D_117_CategoricalToIntegerEncoder, D_120_CategoricalToIntegerEncoder, D_126_CategoricalToIntegerEncoder, D_63_CategoricalToIntegerEncoder, D_64_CategoricalToIntegerEncoder, D_66_CategoricalToIntegerEncoder, D_68_CategoricalToIntegerEncoder\n",
      "CPU times: user 2.22 s, sys: 1.85 s, total: 4.07 s\n",
      "Wall time: 20.4 s\n"
     ]
    }
   ],
   "source": [
    "%%time\n",
    "from format_data import TARGET_VARIABLE, DATE_VARIABLES, ID_VARIABLES\n",
    "\n",
    "# make train_pdf\n",
    "train_pdf = train_data.join(train_labels, on='customer_ID', how='inner')\n",
    "train_pdf = encs.transform(spark=spark, df=train_pdf).toPandas()\n",
    "\n",
    "# make test_pdf\n",
    "test_pdf = encs.transform(spark=spark, df=test_data).toPandas()\n",
    "\n",
    "non_feature_columns = [\n",
    "    TARGET_VARIABLE,\n",
    "    *ID_VARIABLES,\n",
    "    *DATE_VARIABLES.keys(),\n",
    "]\n",
    "feature_columns = [c for c in train_pdf.columns if c not in non_feature_columns]\n",
    "print(f'len(feature_columns): {len(feature_columns)}\\n', ', '.join(feature_columns))"
   ]
  },
  {
   "cell_type": "code",
   "execution_count": 4,
   "metadata": {},
   "outputs": [
    {
     "name": "stdout",
     "output_type": "stream",
     "text": [
      "(458913, 189) (924621, 189)\n",
      "(array([0., 1.], dtype=float32), array([340085, 118828]))\n"
     ]
    }
   ],
   "source": [
    "import numpy as np\n",
    "\n",
    "X_fit = train_pdf[feature_columns].reset_index(drop=True)\n",
    "X_test = test_pdf[feature_columns].reset_index(drop=True)\n",
    "print(X_fit.shape, X_test.shape)\n",
    "\n",
    "y_fit = np.array(train_pdf[TARGET_VARIABLE])\n",
    "print(np.unique(y_fit, return_counts=True))"
   ]
  },
  {
   "cell_type": "code",
   "execution_count": 5,
   "metadata": {},
   "outputs": [
    {
     "name": "stdout",
     "output_type": "stream",
     "text": [
      "(344184, 189) (114729, 189) (344184,) (114729,)\n"
     ]
    }
   ],
   "source": [
    "from sklearn.model_selection import train_test_split\n",
    "\n",
    "X_train, X_test, y_train, y_test = train_test_split(X_fit, y_fit)\n",
    "print(X_train.shape, X_test.shape, y_train.shape, y_test.shape)"
   ]
  },
  {
   "cell_type": "code",
   "execution_count": 6,
   "metadata": {},
   "outputs": [],
   "source": [
    "from evaluation import feval_amex, feval_amex_gini, feval_amex_top4\n",
    "from sklearn import model_selection\n",
    "import pandas as pd\n",
    "from lightgbm import LGBMClassifier\n",
    "import numpy as np\n",
    "\n",
    "\n",
    "RANDOM_STATE = 20220731\n",
    "\n",
    "def get_cv_hp_metrics(\n",
    "    X_train: pd.DataFrame,\n",
    "    y_train: np.array,\n",
    "    lgb_params: dict,\n",
    ") -> dict:\n",
    "    with mlflow.start_run(nested=True) as run:\n",
    "        mlflow.log_params(params=lgb_params)\n",
    "        model = LGBMClassifier(**lgb_params)\n",
    "        y_pred = model_selection.cross_val_predict(\n",
    "            estimator=model, \n",
    "            X=X_train, \n",
    "            y=y_train, \n",
    "            method='predict_proba'\n",
    "        )[:,1]\n",
    "        metrics = {\n",
    "            # returns (metric_name, metric_value, higher_is_better)\n",
    "            'feval_amex': feval_amex(y_true=y_train, y_pred=y_pred)[1],\n",
    "            'feval_amex_gini': feval_amex_gini(y_true=y_train, y_pred=y_pred)[1],\n",
    "            'feval_amex_top4': feval_amex_top4(y_true=y_train, y_pred=y_pred)[1],\n",
    "        }\n",
    "        mlflow.log_metrics(metrics=metrics)\n",
    "    return metrics\n"
   ]
  },
  {
   "cell_type": "code",
   "execution_count": 7,
   "metadata": {},
   "outputs": [],
   "source": [
    "import hyperopt\n",
    "import mlflow\n",
    "\n",
    "def build_train_objective(\n",
    "    X_train: pd.DataFrame,\n",
    "    y_train: np.array,\n",
    "    metric_name: str = 'feval_amex',\n",
    "    higher_is_better: bool = True,\n",
    "):\n",
    "    def obj_fn(lgb_params):\n",
    "        metrics = get_cv_hp_metrics(\n",
    "            X_train=X_train,\n",
    "            y_train=y_train,\n",
    "            lgb_params=lgb_params,\n",
    "        )\n",
    "        return {\n",
    "            'status': hyperopt.STATUS_OK, \n",
    "            'loss': metrics[metric_name] * -1 if higher_is_better else 1.,\n",
    "        }\n",
    "    return obj_fn"
   ]
  },
  {
   "cell_type": "code",
   "execution_count": 8,
   "metadata": {},
   "outputs": [],
   "source": [
    "def find_best_run(\n",
    "    run: mlflow.entities.Run,\n",
    "    metric_name: str = 'feval_amex',\n",
    "    higher_is_better: bool = True,\n",
    "):\n",
    "    client = mlflow.tracking.MlflowClient()\n",
    "    nested_runs = client.search_runs(\n",
    "        [run.info.experiment_id],\n",
    "        \"tags.mlflow.parentRunId = '{run_id}' \".format(run_id=run.info.run_id)\n",
    "    )\n",
    "    best_run = min(\n",
    "        nested_runs, \n",
    "        key=lambda run: run.data.metrics[metric_name] * -1. if higher_is_better else 1.\n",
    "    )\n",
    "    mlflow.set_tag(\"best_run\", best_run.info.run_id)\n",
    "    mlflow.log_metric(f\"best_{metric_name}\", best_run.data.metrics[metric_name])\n",
    "    print(\n",
    "        f'best run id: {best_run.info.run_id} '\n",
    "        f'achieved {metric_name} of {best_run.data.metrics[metric_name]}'\n",
    "    )\n",
    "    return best_run"
   ]
  },
  {
   "cell_type": "code",
   "execution_count": 9,
   "metadata": {},
   "outputs": [
    {
     "name": "stdout",
     "output_type": "stream",
     "text": [
      "  0%|          | 0/10 [00:00<?, ?trial/s, best loss=?]"
     ]
    },
    {
     "name": "stderr",
     "output_type": "stream",
     "text": [
      "[Stage 43:>                                                         (0 + 1) / 1]\r"
     ]
    },
    {
     "name": "stdout",
     "output_type": "stream",
     "text": [
      " 10%|█         | 1/10 [00:56<08:24, 56.06s/trial, best loss: -0.7802366828473533]"
     ]
    },
    {
     "name": "stderr",
     "output_type": "stream",
     "text": [
      "                                                                                \r"
     ]
    },
    {
     "name": "stdout",
     "output_type": "stream",
     "text": [
      " 20%|██        | 2/10 [01:50<07:19, 54.89s/trial, best loss: -0.7802366828473533]"
     ]
    },
    {
     "name": "stderr",
     "output_type": "stream",
     "text": [
      "                                                                                \r"
     ]
    },
    {
     "name": "stdout",
     "output_type": "stream",
     "text": [
      " 30%|███       | 3/10 [02:52<06:47, 58.17s/trial, best loss: -0.7802366828473533]"
     ]
    },
    {
     "name": "stderr",
     "output_type": "stream",
     "text": [
      "                                                                                \r"
     ]
    },
    {
     "name": "stdout",
     "output_type": "stream",
     "text": [
      " 40%|████      | 4/10 [03:58<06:07, 61.29s/trial, best loss: -0.7802366828473533]"
     ]
    },
    {
     "name": "stderr",
     "output_type": "stream",
     "text": [
      "                                                                                \r"
     ]
    },
    {
     "name": "stdout",
     "output_type": "stream",
     "text": [
      " 50%|█████     | 5/10 [05:06<05:18, 63.74s/trial, best loss: -0.7802366828473533]"
     ]
    },
    {
     "name": "stderr",
     "output_type": "stream",
     "text": [
      "[Stage 48:>                                                         (0 + 1) / 1]\r"
     ]
    },
    {
     "name": "stdout",
     "output_type": "stream",
     "text": [
      " 60%|██████    | 6/10 [06:00<04:01, 60.46s/trial, best loss: -0.7805087730692806]"
     ]
    },
    {
     "name": "stderr",
     "output_type": "stream",
     "text": [
      "[Stage 49:>                                                         (0 + 1) / 1]\r"
     ]
    },
    {
     "name": "stdout",
     "output_type": "stream",
     "text": [
      " 70%|███████   | 7/10 [07:05<03:05, 61.97s/trial, best loss: -0.7805087730692806]"
     ]
    },
    {
     "name": "stderr",
     "output_type": "stream",
     "text": [
      "                                                                                \r"
     ]
    },
    {
     "name": "stdout",
     "output_type": "stream",
     "text": [
      " 80%|████████  | 8/10 [08:01<02:00, 60.09s/trial, best loss: -0.7805087730692806]"
     ]
    },
    {
     "name": "stderr",
     "output_type": "stream",
     "text": [
      "                                                                                \r"
     ]
    },
    {
     "name": "stdout",
     "output_type": "stream",
     "text": [
      " 90%|█████████ | 9/10 [08:57<00:58, 58.83s/trial, best loss: -0.7805087730692806]"
     ]
    },
    {
     "name": "stderr",
     "output_type": "stream",
     "text": [
      "                                                                                \r"
     ]
    },
    {
     "name": "stdout",
     "output_type": "stream",
     "text": [
      "100%|██████████| 10/10 [09:52<00:00, 59.27s/trial, best loss: -0.7805087730692806]\n"
     ]
    },
    {
     "name": "stderr",
     "output_type": "stream",
     "text": [
      "Total Trials: 10: 10 succeeded, 0 failed, 0 cancelled.\n"
     ]
    },
    {
     "ename": "ValueError",
     "evalue": "min() arg is an empty sequence",
     "output_type": "error",
     "traceback": [
      "\u001b[0;31m---------------------------------------------------------------------------\u001b[0m",
      "\u001b[0;31mValueError\u001b[0m                                Traceback (most recent call last)",
      "\u001b[1;32m/workspaces/kaggle-amex-default-prediction/v3_hp.ipynb Cell 9\u001b[0m in \u001b[0;36m<cell line: 23>\u001b[0;34m()\u001b[0m\n\u001b[1;32m     <a href='vscode-notebook-cell://dev-container%2B633a5c4769746875625c6b6167676c652d616d65782d64656661756c742d70726564696374696f6e/workspaces/kaggle-amex-default-prediction/v3_hp.ipynb#ch0000011vscode-remote?line=22'>23</a>\u001b[0m \u001b[39mwith\u001b[39;00m mlflow\u001b[39m.\u001b[39mstart_run() \u001b[39mas\u001b[39;00m run:\n\u001b[1;32m     <a href='vscode-notebook-cell://dev-container%2B633a5c4769746875625c6b6167676c652d616d65782d64656661756c742d70726564696374696f6e/workspaces/kaggle-amex-default-prediction/v3_hp.ipynb#ch0000011vscode-remote?line=23'>24</a>\u001b[0m     hyperopt\u001b[39m.\u001b[39mfmin(\n\u001b[1;32m     <a href='vscode-notebook-cell://dev-container%2B633a5c4769746875625c6b6167676c652d616d65782d64656661756c742d70726564696374696f6e/workspaces/kaggle-amex-default-prediction/v3_hp.ipynb#ch0000011vscode-remote?line=24'>25</a>\u001b[0m         fn\u001b[39m=\u001b[39mtrain_objective,\n\u001b[1;32m     <a href='vscode-notebook-cell://dev-container%2B633a5c4769746875625c6b6167676c652d616d65782d64656661756c742d70726564696374696f6e/workspaces/kaggle-amex-default-prediction/v3_hp.ipynb#ch0000011vscode-remote?line=25'>26</a>\u001b[0m         space\u001b[39m=\u001b[39mspace,\n\u001b[0;32m   (...)\u001b[0m\n\u001b[1;32m     <a href='vscode-notebook-cell://dev-container%2B633a5c4769746875625c6b6167676c652d616d65782d64656661756c742d70726564696374696f6e/workspaces/kaggle-amex-default-prediction/v3_hp.ipynb#ch0000011vscode-remote?line=28'>29</a>\u001b[0m         trials\u001b[39m=\u001b[39mtrials\n\u001b[1;32m     <a href='vscode-notebook-cell://dev-container%2B633a5c4769746875625c6b6167676c652d616d65782d64656661756c742d70726564696374696f6e/workspaces/kaggle-amex-default-prediction/v3_hp.ipynb#ch0000011vscode-remote?line=29'>30</a>\u001b[0m     )\n\u001b[0;32m---> <a href='vscode-notebook-cell://dev-container%2B633a5c4769746875625c6b6167676c652d616d65782d64656661756c742d70726564696374696f6e/workspaces/kaggle-amex-default-prediction/v3_hp.ipynb#ch0000011vscode-remote?line=30'>31</a>\u001b[0m     find_best_run(run)\n\u001b[1;32m     <a href='vscode-notebook-cell://dev-container%2B633a5c4769746875625c6b6167676c652d616d65782d64656661756c742d70726564696374696f6e/workspaces/kaggle-amex-default-prediction/v3_hp.ipynb#ch0000011vscode-remote?line=31'>32</a>\u001b[0m     \u001b[39mprint\u001b[39m(\n\u001b[1;32m     <a href='vscode-notebook-cell://dev-container%2B633a5c4769746875625c6b6167676c652d616d65782d64656661756c742d70726564696374696f6e/workspaces/kaggle-amex-default-prediction/v3_hp.ipynb#ch0000011vscode-remote?line=32'>33</a>\u001b[0m         \u001b[39mf\u001b[39m\u001b[39m'\u001b[39m\u001b[39mrun_id: \u001b[39m\u001b[39m{\u001b[39;00mrun\u001b[39m.\u001b[39minfo\u001b[39m.\u001b[39mrun_id\u001b[39m}\u001b[39;00m\u001b[39m \u001b[39m\u001b[39m'\u001b[39m\n\u001b[1;32m     <a href='vscode-notebook-cell://dev-container%2B633a5c4769746875625c6b6167676c652d616d65782d64656661756c742d70726564696374696f6e/workspaces/kaggle-amex-default-prediction/v3_hp.ipynb#ch0000011vscode-remote?line=33'>34</a>\u001b[0m         \u001b[39mf\u001b[39m\u001b[39m'\u001b[39m\u001b[39mexperiment_id: \u001b[39m\u001b[39m{\u001b[39;00mrun\u001b[39m.\u001b[39minfo\u001b[39m.\u001b[39mexperiment_id\u001b[39m}\u001b[39;00m\u001b[39m \u001b[39m\u001b[39m'\u001b[39m\n\u001b[1;32m     <a href='vscode-notebook-cell://dev-container%2B633a5c4769746875625c6b6167676c652d616d65782d64656661756c742d70726564696374696f6e/workspaces/kaggle-amex-default-prediction/v3_hp.ipynb#ch0000011vscode-remote?line=34'>35</a>\u001b[0m     )\n",
      "\u001b[1;32m/workspaces/kaggle-amex-default-prediction/v3_hp.ipynb Cell 9\u001b[0m in \u001b[0;36mfind_best_run\u001b[0;34m(run, metric_name, higher_is_better)\u001b[0m\n\u001b[1;32m      <a href='vscode-notebook-cell://dev-container%2B633a5c4769746875625c6b6167676c652d616d65782d64656661756c742d70726564696374696f6e/workspaces/kaggle-amex-default-prediction/v3_hp.ipynb#ch0000011vscode-remote?line=5'>6</a>\u001b[0m client \u001b[39m=\u001b[39m mlflow\u001b[39m.\u001b[39mtracking\u001b[39m.\u001b[39mMlflowClient()\n\u001b[1;32m      <a href='vscode-notebook-cell://dev-container%2B633a5c4769746875625c6b6167676c652d616d65782d64656661756c742d70726564696374696f6e/workspaces/kaggle-amex-default-prediction/v3_hp.ipynb#ch0000011vscode-remote?line=6'>7</a>\u001b[0m nested_runs \u001b[39m=\u001b[39m client\u001b[39m.\u001b[39msearch_runs(\n\u001b[1;32m      <a href='vscode-notebook-cell://dev-container%2B633a5c4769746875625c6b6167676c652d616d65782d64656661756c742d70726564696374696f6e/workspaces/kaggle-amex-default-prediction/v3_hp.ipynb#ch0000011vscode-remote?line=7'>8</a>\u001b[0m     [run\u001b[39m.\u001b[39minfo\u001b[39m.\u001b[39mexperiment_id],\n\u001b[1;32m      <a href='vscode-notebook-cell://dev-container%2B633a5c4769746875625c6b6167676c652d616d65782d64656661756c742d70726564696374696f6e/workspaces/kaggle-amex-default-prediction/v3_hp.ipynb#ch0000011vscode-remote?line=8'>9</a>\u001b[0m     \u001b[39m\"\u001b[39m\u001b[39mtags.mlflow.parentRunId = \u001b[39m\u001b[39m'\u001b[39m\u001b[39m{run_id}\u001b[39;00m\u001b[39m'\u001b[39m\u001b[39m \u001b[39m\u001b[39m\"\u001b[39m\u001b[39m.\u001b[39mformat(run_id\u001b[39m=\u001b[39mrun\u001b[39m.\u001b[39minfo\u001b[39m.\u001b[39mrun_id)\n\u001b[1;32m     <a href='vscode-notebook-cell://dev-container%2B633a5c4769746875625c6b6167676c652d616d65782d64656661756c742d70726564696374696f6e/workspaces/kaggle-amex-default-prediction/v3_hp.ipynb#ch0000011vscode-remote?line=9'>10</a>\u001b[0m )\n\u001b[0;32m---> <a href='vscode-notebook-cell://dev-container%2B633a5c4769746875625c6b6167676c652d616d65782d64656661756c742d70726564696374696f6e/workspaces/kaggle-amex-default-prediction/v3_hp.ipynb#ch0000011vscode-remote?line=10'>11</a>\u001b[0m best_run \u001b[39m=\u001b[39m \u001b[39mmin\u001b[39;49m(\n\u001b[1;32m     <a href='vscode-notebook-cell://dev-container%2B633a5c4769746875625c6b6167676c652d616d65782d64656661756c742d70726564696374696f6e/workspaces/kaggle-amex-default-prediction/v3_hp.ipynb#ch0000011vscode-remote?line=11'>12</a>\u001b[0m     nested_runs, \n\u001b[1;32m     <a href='vscode-notebook-cell://dev-container%2B633a5c4769746875625c6b6167676c652d616d65782d64656661756c742d70726564696374696f6e/workspaces/kaggle-amex-default-prediction/v3_hp.ipynb#ch0000011vscode-remote?line=12'>13</a>\u001b[0m     key\u001b[39m=\u001b[39;49m\u001b[39mlambda\u001b[39;49;00m run: run\u001b[39m.\u001b[39;49mdata\u001b[39m.\u001b[39;49mmetrics[metric_name] \u001b[39m*\u001b[39;49m \u001b[39m-\u001b[39;49m\u001b[39m1.\u001b[39;49m \u001b[39mif\u001b[39;49;00m higher_is_better \u001b[39melse\u001b[39;49;00m \u001b[39m1.\u001b[39;49m\n\u001b[1;32m     <a href='vscode-notebook-cell://dev-container%2B633a5c4769746875625c6b6167676c652d616d65782d64656661756c742d70726564696374696f6e/workspaces/kaggle-amex-default-prediction/v3_hp.ipynb#ch0000011vscode-remote?line=13'>14</a>\u001b[0m )\n\u001b[1;32m     <a href='vscode-notebook-cell://dev-container%2B633a5c4769746875625c6b6167676c652d616d65782d64656661756c742d70726564696374696f6e/workspaces/kaggle-amex-default-prediction/v3_hp.ipynb#ch0000011vscode-remote?line=14'>15</a>\u001b[0m mlflow\u001b[39m.\u001b[39mset_tag(\u001b[39m\"\u001b[39m\u001b[39mbest_run\u001b[39m\u001b[39m\"\u001b[39m, best_run\u001b[39m.\u001b[39minfo\u001b[39m.\u001b[39mrun_id)\n\u001b[1;32m     <a href='vscode-notebook-cell://dev-container%2B633a5c4769746875625c6b6167676c652d616d65782d64656661756c742d70726564696374696f6e/workspaces/kaggle-amex-default-prediction/v3_hp.ipynb#ch0000011vscode-remote?line=15'>16</a>\u001b[0m mlflow\u001b[39m.\u001b[39mlog_metric(\u001b[39mf\u001b[39m\u001b[39m\"\u001b[39m\u001b[39mbest_\u001b[39m\u001b[39m{\u001b[39;00mmetric_name\u001b[39m}\u001b[39;00m\u001b[39m\"\u001b[39m, best_run\u001b[39m.\u001b[39mdata\u001b[39m.\u001b[39mmetrics[metric_name])\n",
      "\u001b[0;31mValueError\u001b[0m: min() arg is an empty sequence"
     ]
    }
   ],
   "source": [
    "from hyperopt.pyll.base import scope\n",
    "\n",
    "MAX_EVALS = 10\n",
    "PARALLELISM = 1\n",
    "\n",
    "space = {\n",
    "    'class_weight': {\n",
    "        0.: 1.,\n",
    "        1.: hyperopt.hp.uniform('class_weight', 0., 10.)\n",
    "    },\n",
    "    # 'subsample': hyperopt.hp.uniform('subsample', 0.05, 1.0),\n",
    "    # The parameters below are cast to int using the scope.int() wrapper \n",
    "    # 'num_iterations': scope.int(hyperopt.hp.quniform('num_iterations', 10, 200, 1)),\n",
    "    # 'num_leaves': scope.int(hyperopt.hp.quniform('num_leaves', 20, 50, 1))\n",
    "}\n",
    "\n",
    "trials = hyperopt.SparkTrials(parallelism=PARALLELISM)\n",
    "train_objective = build_train_objective(\n",
    "    X_train=X_train,\n",
    "    y_train=y_train,\n",
    ")\n",
    "\n",
    "with mlflow.start_run(nested=False) as run:\n",
    "    hyperopt.fmin(\n",
    "        fn=train_objective,\n",
    "        space=space,\n",
    "        algo=hyperopt.tpe.suggest,\n",
    "        max_evals=MAX_EVALS,\n",
    "        trials=trials\n",
    "    )\n",
    "    find_best_run(run)\n",
    "    print(\n",
    "        f'run_id: {run.info.run_id} '\n",
    "        f'experiment_id: {run.info.experiment_id} '\n",
    "    )\n"
   ]
  },
  {
   "cell_type": "code",
   "execution_count": 10,
   "metadata": {},
   "outputs": [
    {
     "name": "stdout",
     "output_type": "stream",
     "text": [
      "run_id: c1e5c4a2f1cb41e894f626f6faa56a6d experiment_id: 0 \n"
     ]
    }
   ],
   "source": [
    "print(\n",
    "    f'run_id: {run.info.run_id} '\n",
    "    f'experiment_id: {run.info.experiment_id} '\n",
    ")"
   ]
  }
 ],
 "metadata": {
  "kernelspec": {
   "display_name": "Python 3.8.10 64-bit",
   "language": "python",
   "name": "python3"
  },
  "language_info": {
   "codemirror_mode": {
    "name": "ipython",
    "version": 3
   },
   "file_extension": ".py",
   "mimetype": "text/x-python",
   "name": "python",
   "nbconvert_exporter": "python",
   "pygments_lexer": "ipython3",
   "version": "3.8.10"
  },
  "orig_nbformat": 4,
  "vscode": {
   "interpreter": {
    "hash": "916dbcbb3f70747c44a77c7bcd40155683ae19c65e1c03b4aa3499c5328201f1"
   }
  }
 },
 "nbformat": 4,
 "nbformat_minor": 2
}
