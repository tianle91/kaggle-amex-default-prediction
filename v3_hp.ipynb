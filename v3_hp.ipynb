{
 "cells": [
  {
   "cell_type": "code",
   "execution_count": 1,
   "metadata": {},
   "outputs": [],
   "source": [
    "import mlflow\n",
    "import numpy as np\n",
    "\n",
    "from encoder import CategoricalToIntegerEncoders\n",
    "from format_data import (CATEGORICAL_VARIABLES, DATE_VARIABLES, ID_VARIABLES,\n",
    "                         TARGET_VARIABLE)\n",
    "from spark_utils import SparkSessionContext, get_spark_session"
   ]
  },
  {
   "cell_type": "code",
   "execution_count": 2,
   "metadata": {},
   "outputs": [
    {
     "name": "stderr",
     "output_type": "stream",
     "text": [
      "Warning: Ignoring non-Spark config property: Dio.netty.tryReflectionSetAccessible\n",
      "WARNING: An illegal reflective access operation has occurred\n",
      "WARNING: Illegal reflective access by org.apache.spark.unsafe.Platform (file:/usr/local/lib/python3.8/dist-packages/pyspark/jars/spark-unsafe_2.12-3.2.1.jar) to constructor java.nio.DirectByteBuffer(long,int)\n",
      "WARNING: Please consider reporting this to the maintainers of org.apache.spark.unsafe.Platform\n",
      "WARNING: Use --illegal-access=warn to enable warnings of further illegal reflective access operations\n",
      "WARNING: All illegal access operations will be denied in a future release\n",
      "Using Spark's default log4j profile: org/apache/spark/log4j-defaults.properties\n",
      "Setting default log level to \"WARN\".\n",
      "To adjust logging level use sc.setLogLevel(newLevel). For SparkR, use setLogLevel(newLevel).\n",
      "22/08/04 02:06:20 WARN NativeCodeLoader: Unable to load native-hadoop library for your platform... using builtin-java classes where applicable\n",
      "                                                                                \r"
     ]
    },
    {
     "name": "stdout",
     "output_type": "stream",
     "text": [
      "Feature columns 189 Categorical feature columns 11 Numerical feature columns 178 \n"
     ]
    },
    {
     "name": "stderr",
     "output_type": "stream",
     "text": [
      "22/08/04 02:06:48 WARN package: Truncated the string representation of a plan since it was too large. This behavior can be adjusted by setting 'spark.sql.debug.maxToStringFields'.\n",
      "                                                                                \r"
     ]
    },
    {
     "name": "stdout",
     "output_type": "stream",
     "text": [
      "train_pdf.memory_usage in megabytes:  420.59\n"
     ]
    },
    {
     "name": "stderr",
     "output_type": "stream",
     "text": [
      "                                                                                \r"
     ]
    },
    {
     "name": "stdout",
     "output_type": "stream",
     "text": [
      "test_pdf.memory_usage in megabytes:  843.87\n"
     ]
    }
   ],
   "source": [
    "with SparkSessionContext() as spark:\n",
    "    train_data = spark.read.parquet(\n",
    "        'data_transformed/amex-default-prediction/train_data_latest')\n",
    "    train_labels = spark.read.parquet(\n",
    "        'data/amex-default-prediction/train_labels')\n",
    "    train_data_labelled = train_data.join(\n",
    "        train_labels, on=ID_VARIABLES, how='inner')\n",
    "    assert train_data_labelled.count() == train_data.count()\n",
    "    assert train_data_labelled.select(ID_VARIABLES).distinct(\n",
    "    ).count() == train_data.select(ID_VARIABLES).distinct().count()\n",
    "\n",
    "    test_data = spark.read.parquet(\n",
    "        'data_transformed/amex-default-prediction/test_data_latest')\n",
    "    sample_submission = spark.read.parquet(\n",
    "        'data/amex-default-prediction/sample_submission')\n",
    "    test_data_labelled = test_data.join(\n",
    "        sample_submission, on=ID_VARIABLES, how='inner')\n",
    "    assert test_data_labelled.count() == test_data.count()\n",
    "    assert test_data_labelled.select(ID_VARIABLES).distinct(\n",
    "    ).count() == test_data.select(ID_VARIABLES).distinct().count()\n",
    "\n",
    "    non_feature_columns = [\n",
    "        TARGET_VARIABLE,\n",
    "        *ID_VARIABLES,\n",
    "        *DATE_VARIABLES.keys(),\n",
    "    ]\n",
    "    feature_columns = [\n",
    "        c for c in train_data.columns\n",
    "        if c not in non_feature_columns\n",
    "    ]\n",
    "    categorical_feature_columns = CATEGORICAL_VARIABLES\n",
    "    numerical_feature_columns = [\n",
    "        c for c in feature_columns if c not in categorical_feature_columns]\n",
    "    print(\n",
    "        f'Feature columns {len(feature_columns)} '\n",
    "        f'Categorical feature columns {len(categorical_feature_columns)} '\n",
    "        f'Numerical feature columns {len(numerical_feature_columns)} '\n",
    "    )\n",
    "\n",
    "    encs = CategoricalToIntegerEncoders(\n",
    "        columns=categorical_feature_columns).fit(train_data)\n",
    "    transformed_feature_columns = numerical_feature_columns + encs.columns_encoded\n",
    "\n",
    "    train_pdf = encs.transform(spark=spark, df=train_data_labelled).toPandas()\n",
    "    train_pdf_bytes = train_pdf.memory_usage(deep=True).sum()\n",
    "    print(\n",
    "        f'train_pdf.memory_usage in megabytes: {train_pdf_bytes / 1048576: .2f}')\n",
    "\n",
    "    test_pdf = encs.transform(spark=spark, df=test_data).toPandas()\n",
    "    test_pdf_bytes = test_pdf.memory_usage(deep=True).sum()\n",
    "    print(\n",
    "        f'test_pdf.memory_usage in megabytes: {test_pdf_bytes / 1048576: .2f}')\n"
   ]
  },
  {
   "cell_type": "code",
   "execution_count": 3,
   "metadata": {},
   "outputs": [
    {
     "name": "stdout",
     "output_type": "stream",
     "text": [
      "X_train.shape: (458913, 189) y_train.shape: (458913,) y_train uniques: (array([0., 1.], dtype=float32), array([340085, 118828])) \n",
      "X_fit.shape: (413021, 189) X_valid.shape: (45892, 189) y_fit.shape: (413021,) y_valid.shape: (45892,) \n",
      "X_test.shape: (924621, 189) \n"
     ]
    }
   ],
   "source": [
    "from sklearn.model_selection import train_test_split\n",
    "\n",
    "X_train = train_pdf[transformed_feature_columns].reset_index(drop=True)\n",
    "y_train = np.array(train_pdf[TARGET_VARIABLE])\n",
    "print(\n",
    "    f'X_train.shape: {X_train.shape} '\n",
    "    f'y_train.shape: {y_train.shape} '\n",
    "    f'y_train uniques: {np.unique(y_train, return_counts=True)} '\n",
    ")\n",
    "\n",
    "X_fit, X_valid, y_fit, y_valid = train_test_split(\n",
    "    X_train, y_train, test_size=.1)\n",
    "print(\n",
    "    f'X_fit.shape: {X_fit.shape} '\n",
    "    f'X_valid.shape: {X_valid.shape} '\n",
    "    f'y_fit.shape: {y_fit.shape} '\n",
    "    f'y_valid.shape: {y_valid.shape} '\n",
    ")\n",
    "\n",
    "\n",
    "X_test = test_pdf[transformed_feature_columns].reset_index(drop=True)\n",
    "print(\n",
    "    f'X_test.shape: {X_test.shape} '\n",
    ")\n"
   ]
  },
  {
   "cell_type": "code",
   "execution_count": 4,
   "metadata": {},
   "outputs": [
    {
     "name": "stdout",
     "output_type": "stream",
     "text": [
      "{'learning_rate': 0.01962380797591788,\n",
      " 'num_iterations': 1369,\n",
      " 'num_leaves': 60,\n",
      " 'scale_pos_weight': 3.9313947986775477}\n"
     ]
    }
   ],
   "source": [
    "from pprint import pprint\n",
    "import json\n",
    "\n",
    "experiment_id = '0'\n",
    "run_id = 'b96eaeb95d4a463ab68fb3078d6c0a83'\n",
    "\n",
    "client = mlflow.tracking.MlflowClient()\n",
    "best_run = client.get_run(run_id=run_id)\n",
    "best_params = json.loads(best_run.data.params['lgb_params_json'])\n",
    "\n",
    "# we need floats as keys here, but it's string\n",
    "if 'class_weight' in best_params:\n",
    "    best_params['class_weight'] = {float(k): v for k, v in best_params['class_weight'].items()}\n",
    "\n",
    "pprint(best_params)"
   ]
  },
  {
   "cell_type": "code",
   "execution_count": 5,
   "metadata": {},
   "outputs": [
    {
     "name": "stderr",
     "output_type": "stream",
     "text": [
      "/usr/local/lib/python3.8/dist-packages/lightgbm/engine.py:177: UserWarning: Found `num_iterations` in params. Will use it instead of argument\n",
      "  _log_warning(f\"Found `{alias}` in params. Will use it instead of argument\")\n",
      "/usr/local/lib/python3.8/dist-packages/lightgbm/basic.py:2065: UserWarning: Using categorical_feature in Dataset.\n",
      "  _log_warning('Using categorical_feature in Dataset.')\n",
      "/usr/local/lib/python3.8/dist-packages/lightgbm/basic.py:2068: UserWarning: categorical_feature in Dataset is overridden.\n",
      "New categorical_feature is ['B_30_CategoricalToIntegerEncoder', 'B_38_CategoricalToIntegerEncoder', 'D_114_CategoricalToIntegerEncoder', 'D_116_CategoricalToIntegerEncoder', 'D_117_CategoricalToIntegerEncoder', 'D_120_CategoricalToIntegerEncoder', 'D_126_CategoricalToIntegerEncoder', 'D_63_CategoricalToIntegerEncoder', 'D_64_CategoricalToIntegerEncoder', 'D_66_CategoricalToIntegerEncoder', 'D_68_CategoricalToIntegerEncoder']\n",
      "  _log_warning('categorical_feature in Dataset is overridden.\\n'\n",
      "/usr/local/lib/python3.8/dist-packages/lightgbm/basic.py:1780: UserWarning: Overriding the parameters from Reference Dataset.\n",
      "  _log_warning('Overriding the parameters from Reference Dataset.')\n",
      "/usr/local/lib/python3.8/dist-packages/lightgbm/basic.py:1513: UserWarning: categorical_column in param dict is overridden.\n",
      "  _log_warning(f'{cat_alias} in param dict is overridden.')\n"
     ]
    },
    {
     "name": "stdout",
     "output_type": "stream",
     "text": [
      "Training until validation scores don't improve for 10 rounds\n",
      "Did not meet early stopping. Best iteration is:\n",
      "[1369]\tvalid10pct's binary_logloss: 0.270919\n"
     ]
    },
    {
     "name": "stderr",
     "output_type": "stream",
     "text": [
      "2022/08/04 02:09:25 WARNING mlflow.utils.autologging_utils: MLflow autologging encountered a warning: \"/usr/local/lib/python3.8/dist-packages/mlflow/models/signature.py:129: UserWarning: Hint: Inferred schema contains integer column(s). Integer columns in Python cannot represent missing values. If your input data contains missing values at inference time, it will be encoded as floats and will cause a schema enforcement error. The best way to avoid this problem is to infer the model schema based on a realistic data sample (training dataset) that includes missing values. Alternatively, you can declare integer columns as doubles (float64) whenever these columns may have missing values. See `Handling Integers With Missing Values <https://www.mlflow.org/docs/latest/models.html#handling-integers-with-missing-values>`_ for more details.\"\n"
     ]
    },
    {
     "name": "stdout",
     "output_type": "stream",
     "text": [
      "{'learning_rate': 0.01962380797591788, 'num_iterations': 1369, 'num_leaves': 60, 'scale_pos_weight': 3.9313947986775477}\n",
      "{'test_feval_amex': 0.7822104577291258, 'test_feval_amex_gini': 0.91960987261674, 'test_feval_amex_top4': 0.6448110428415117}\n",
      "{'test_feval_amex': 0.7822104577291258,\n",
      " 'test_feval_amex_gini': 0.91960987261674,\n",
      " 'test_feval_amex_top4': 0.6448110428415117}\n"
     ]
    }
   ],
   "source": [
    "from pprint import pprint\n",
    "import mlflow\n",
    "from hp import get_cv_hp_metrics\n",
    "\n",
    "model, metrics = get_cv_hp_metrics(\n",
    "    X_train=X_fit,\n",
    "    y_train=y_fit,\n",
    "    X_test=X_valid,\n",
    "    y_test=y_valid,\n",
    "    categorical_feature=encs.columns_encoded,\n",
    "    lgb_params=best_params,\n",
    "    nested=False,\n",
    ")\n",
    "pprint(metrics)\n"
   ]
  },
  {
   "cell_type": "code",
   "execution_count": 6,
   "metadata": {},
   "outputs": [
    {
     "data": {
      "text/html": [
       "<div>\n",
       "<style scoped>\n",
       "    .dataframe tbody tr th:only-of-type {\n",
       "        vertical-align: middle;\n",
       "    }\n",
       "\n",
       "    .dataframe tbody tr th {\n",
       "        vertical-align: top;\n",
       "    }\n",
       "\n",
       "    .dataframe thead th {\n",
       "        text-align: right;\n",
       "    }\n",
       "</style>\n",
       "<table border=\"1\" class=\"dataframe\">\n",
       "  <thead>\n",
       "    <tr style=\"text-align: right;\">\n",
       "      <th></th>\n",
       "      <th>customer_ID</th>\n",
       "      <th>prediction</th>\n",
       "    </tr>\n",
       "  </thead>\n",
       "  <tbody>\n",
       "    <tr>\n",
       "      <th>0</th>\n",
       "      <td>61fb2dd47f7a2eb2e81c3bf89e147bc61d6a42914cf570...</td>\n",
       "      <td>-5.865666</td>\n",
       "    </tr>\n",
       "    <tr>\n",
       "      <th>1</th>\n",
       "      <td>117a23d25e3b45d80250045da0d9a1bd50a7f57468cf5e...</td>\n",
       "      <td>1.491204</td>\n",
       "    </tr>\n",
       "    <tr>\n",
       "      <th>2</th>\n",
       "      <td>344029ccdb720001501d138a9a5ab1ff7abf827d296bba...</td>\n",
       "      <td>1.797380</td>\n",
       "    </tr>\n",
       "    <tr>\n",
       "      <th>3</th>\n",
       "      <td>4b09ee54b4254d63fa938bb67b93b9c134f336d78945d5...</td>\n",
       "      <td>-0.247041</td>\n",
       "    </tr>\n",
       "    <tr>\n",
       "      <th>4</th>\n",
       "      <td>c4e6c35ecccc7d71d7d677513fe15cb52dd034420cad2b...</td>\n",
       "      <td>-6.408206</td>\n",
       "    </tr>\n",
       "  </tbody>\n",
       "</table>\n",
       "</div>"
      ],
      "text/plain": [
       "                                         customer_ID  prediction\n",
       "0  61fb2dd47f7a2eb2e81c3bf89e147bc61d6a42914cf570...   -5.865666\n",
       "1  117a23d25e3b45d80250045da0d9a1bd50a7f57468cf5e...    1.491204\n",
       "2  344029ccdb720001501d138a9a5ab1ff7abf827d296bba...    1.797380\n",
       "3  4b09ee54b4254d63fa938bb67b93b9c134f336d78945d5...   -0.247041\n",
       "4  c4e6c35ecccc7d71d7d677513fe15cb52dd034420cad2b...   -6.408206"
      ]
     },
     "execution_count": 6,
     "metadata": {},
     "output_type": "execute_result"
    }
   ],
   "source": [
    "from format_data import PREDICTION_VARIABLE\n",
    "import pandas as pd\n",
    "\n",
    "pred_test = pd.DataFrame({\n",
    "    'customer_ID': test_pdf['customer_ID'],\n",
    "    PREDICTION_VARIABLE: model.predict(X_test, raw_score=True),\n",
    "})\n",
    "pred_test.to_csv('submission.csv', index=False)\n",
    "pred_test.head()"
   ]
  }
 ],
 "metadata": {
  "kernelspec": {
   "display_name": "Python 3.8.10 64-bit",
   "language": "python",
   "name": "python3"
  },
  "language_info": {
   "codemirror_mode": {
    "name": "ipython",
    "version": 3
   },
   "file_extension": ".py",
   "mimetype": "text/x-python",
   "name": "python",
   "nbconvert_exporter": "python",
   "pygments_lexer": "ipython3",
   "version": "3.8.10"
  },
  "orig_nbformat": 4,
  "vscode": {
   "interpreter": {
    "hash": "e7370f93d1d0cde622a1f8e1c04877d8463912d04d973331ad4851f04de6915a"
   }
  }
 },
 "nbformat": 4,
 "nbformat_minor": 2
}
