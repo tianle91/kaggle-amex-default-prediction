{
 "cells": [
  {
   "cell_type": "code",
   "execution_count": 1,
   "metadata": {},
   "outputs": [
    {
     "name": "stderr",
     "output_type": "stream",
     "text": [
      "Warning: Ignoring non-Spark config property: Dio.netty.tryReflectionSetAccessible\n",
      "WARNING: An illegal reflective access operation has occurred\n",
      "WARNING: Illegal reflective access by org.apache.spark.unsafe.Platform (file:/usr/local/lib/python3.8/dist-packages/pyspark/jars/spark-unsafe_2.12-3.2.1.jar) to constructor java.nio.DirectByteBuffer(long,int)\n",
      "WARNING: Please consider reporting this to the maintainers of org.apache.spark.unsafe.Platform\n",
      "WARNING: Use --illegal-access=warn to enable warnings of further illegal reflective access operations\n",
      "WARNING: All illegal access operations will be denied in a future release\n",
      "Using Spark's default log4j profile: org/apache/spark/log4j-defaults.properties\n",
      "Setting default log level to \"WARN\".\n",
      "To adjust logging level use sc.setLogLevel(newLevel). For SparkR, use setLogLevel(newLevel).\n",
      "22/06/20 21:14:56 WARN NativeCodeLoader: Unable to load native-hadoop library for your platform... using builtin-java classes where applicable\n"
     ]
    },
    {
     "name": "stdout",
     "output_type": "stream",
     "text": [
      "5531451 458913\n"
     ]
    }
   ],
   "source": [
    "from spark_utils import get_spark_session\n",
    "import pyspark.sql.functions as F\n",
    "\n",
    "spark = get_spark_session()\n",
    "\n",
    "# run format_data.py if these don't exist\n",
    "train_data = spark.read.parquet('data/amex-default-prediction/train_data')\n",
    "train_labels = spark.read.parquet('data/amex-default-prediction/train_labels')\n",
    "print(train_data.count(), train_labels.count())\n",
    "\n",
    "# test_data = spark.read.parquet('data/amex-default-prediction/test_data')\n",
    "# sample_submission = spark.read.parquet('data/amex-default-prediction/sample_submission')\n"
   ]
  },
  {
   "cell_type": "code",
   "execution_count": 2,
   "metadata": {},
   "outputs": [
    {
     "name": "stderr",
     "output_type": "stream",
     "text": [
      "                                                                                \r"
     ]
    }
   ],
   "source": [
    "assert train_data.count() == train_data.select('customer_ID', 'S_2').distinct().count()\n",
    "# assert test_data.count() == test_data.select('customer_ID', 'S_2').distinct().count()"
   ]
  },
  {
   "cell_type": "code",
   "execution_count": 3,
   "metadata": {},
   "outputs": [],
   "source": [
    "from pyspark.sql.window import Window\n",
    "from format_data import TARGET_VARIABLE\n",
    "\n",
    "window_latest_date_by_id = (\n",
    "    Window\n",
    "    .partitionBy('customer_ID')\n",
    "    .orderBy(F.col('S_2').desc())\n",
    "    .rangeBetween(\n",
    "        Window.unboundedPreceding,\n",
    "        Window.unboundedFollowing,\n",
    "    )\n",
    ")\n",
    "\n",
    "train_data = train_data.withColumn('S_2_max', F.max('S_2').over(window_latest_date_by_id))\n",
    "# test_data = test_data.withColumn('S_2_max', F.max('S_2').over(window_latest_date_by_id))"
   ]
  },
  {
   "cell_type": "code",
   "execution_count": 4,
   "metadata": {},
   "outputs": [],
   "source": [
    "# train_labels_imputed = (\n",
    "#     train_data\n",
    "#     .select('customer_ID', 'S_2', 'S_2_max')\n",
    "#     .join(train_labels, on='customer_ID', how='inner')\n",
    "#     .withColumn(\n",
    "#         'imputed_target',\n",
    "#         F.when(F.col('S_2') == F.col('S_2_max'), F.col(TARGET_VARIABLE)).otherwise(F.lit(0.))\n",
    "#     )\n",
    "#     .cache()\n",
    "# )\n",
    "\n",
    "# train_labels_imputed.filter(F.col(TARGET_VARIABLE) == 1.).show()"
   ]
  },
  {
   "cell_type": "code",
   "execution_count": 5,
   "metadata": {},
   "outputs": [
    {
     "name": "stdout",
     "output_type": "stream",
     "text": [
      "CPU times: user 279 ms, sys: 99.8 ms, total: 379 ms\n",
      "Wall time: 5.11 s\n"
     ]
    }
   ],
   "source": [
    "%%time\n",
    "from format_data import CATEGORICAL_VARIABLES\n",
    "from encoder import CategoricalToIntegerEncoders\n",
    "\n",
    "encs = CategoricalToIntegerEncoders(columns=CATEGORICAL_VARIABLES).fit(train_data)"
   ]
  },
  {
   "cell_type": "code",
   "execution_count": 6,
   "metadata": {},
   "outputs": [
    {
     "name": "stderr",
     "output_type": "stream",
     "text": [
      "22/06/20 21:15:12 WARN package: Truncated the string representation of a plan since it was too large. This behavior can be adjusted by setting 'spark.sql.debug.maxToStringFields'.\n",
      "                                                                                \r"
     ]
    },
    {
     "name": "stdout",
     "output_type": "stream",
     "text": [
      "train_pdf.shape (5531451, 192)\n",
      "len(feature_columns): 188\n",
      " P_2, D_39, B_1, B_2, R_1, S_3, D_41, B_3, D_42, D_43, D_44, B_4, D_45, B_5, R_2, D_46, D_47, D_48, D_49, B_6, B_7, B_8, D_50, D_51, B_9, R_3, D_52, P_3, B_10, D_53, S_5, B_11, S_6, D_54, R_4, S_7, B_12, S_8, D_55, D_56, B_13, R_5, D_58, S_9, B_14, D_59, D_60, D_61, B_15, S_11, D_62, D_65, B_16, B_17, B_18, B_19, B_20, S_12, R_6, S_13, B_21, D_69, B_22, D_70, D_71, D_72, S_15, B_23, D_73, P_4, D_74, D_75, D_76, B_24, R_7, D_77, B_25, B_26, D_78, D_79, R_8, R_9, S_16, D_80, R_10, R_11, B_27, D_81, D_82, S_17, R_12, B_28, R_13, D_83, R_14, R_15, D_84, R_16, B_29, S_18, D_86, D_87, R_17, R_18, D_88, B_31, S_19, R_19, B_32, S_20, R_20, R_21, B_33, D_89, R_22, R_23, D_91, D_92, D_93, D_94, R_24, R_25, D_96, S_22, S_23, S_24, S_25, S_26, D_102, D_103, D_104, D_105, D_106, D_107, B_36, B_37, R_26, R_27, D_108, D_109, D_110, D_111, B_39, D_112, B_40, S_27, D_113, D_115, D_118, D_119, D_121, D_122, D_123, D_124, D_125, D_127, D_128, D_129, B_41, B_42, D_130, D_131, D_132, D_133, R_28, D_134, D_135, D_136, D_137, D_138, D_139, D_140, D_141, D_142, D_143, D_144, D_145, B_30_CategoricalToIntegerEncoder, B_38_CategoricalToIntegerEncoder, D_114_CategoricalToIntegerEncoder, D_116_CategoricalToIntegerEncoder, D_117_CategoricalToIntegerEncoder, D_120_CategoricalToIntegerEncoder, D_126_CategoricalToIntegerEncoder, D_63_CategoricalToIntegerEncoder, D_64_CategoricalToIntegerEncoder, D_66_CategoricalToIntegerEncoder, D_68_CategoricalToIntegerEncoder\n",
      "CPU times: user 3.83 s, sys: 3.14 s, total: 6.98 s\n",
      "Wall time: 1min 4s\n"
     ]
    }
   ],
   "source": [
    "%%time\n",
    "from format_data import TARGET_VARIABLE, DATE_VARIABLES, ID_VARIABLES\n",
    "\n",
    "# make train_pdf\n",
    "# train_pdf = train_data.join(\n",
    "#     train_labels_imputed.select(\n",
    "#         'S_2', 'customer_ID', 'imputed_target',\n",
    "#     ),\n",
    "#     on=['S_2', 'customer_ID'],\n",
    "#     how='inner'\n",
    "# )\n",
    "train_pdf = train_data.join(train_labels, on='customer_ID', how='inner')\n",
    "train_pdf = encs.transform(spark=spark, df=train_pdf).toPandas()\n",
    "print('train_pdf.shape', train_pdf.shape)\n",
    "\n",
    "# # make test_pdf\n",
    "# test_pdf = encs.transform(spark=spark, df=test_data).toPandas()\n",
    "# print('test_pdf.shape', test_pdf.shape)\n",
    "\n",
    "non_feature_columns = [\n",
    "    TARGET_VARIABLE,\n",
    "    'imputed_target',\n",
    "    *ID_VARIABLES,\n",
    "    *DATE_VARIABLES.keys(),\n",
    "    'S_2_max',\n",
    "]\n",
    "feature_columns = [c for c in train_pdf.columns if c not in non_feature_columns]\n",
    "print(f'len(feature_columns): {len(feature_columns)}\\n', ', '.join(feature_columns))"
   ]
  },
  {
   "cell_type": "code",
   "execution_count": 7,
   "metadata": {},
   "outputs": [
    {
     "name": "stdout",
     "output_type": "stream",
     "text": [
      "(5531451, 188)\n",
      "(array([0., 1.], dtype=float32), array([4153582, 1377869]))\n"
     ]
    }
   ],
   "source": [
    "import numpy as np\n",
    "\n",
    "X_fit = train_pdf[feature_columns].reset_index(drop=True)\n",
    "print(X_fit.shape)\n",
    "\n",
    "# X_test = test_pdf[feature_columns].reset_index(drop=True)\n",
    "# print(X_test.shape)\n",
    "\n",
    "# y_fit = np.array(train_pdf['imputed_target'])\n",
    "y_fit = np.array(train_pdf[TARGET_VARIABLE])\n",
    "print(np.unique(y_fit, return_counts=True))"
   ]
  },
  {
   "cell_type": "code",
   "execution_count": 8,
   "metadata": {},
   "outputs": [
    {
     "data": {
      "text/plain": [
       "((4148588, 188), (1382863, 188), (4148588,), (1382863,))"
      ]
     },
     "execution_count": 8,
     "metadata": {},
     "output_type": "execute_result"
    }
   ],
   "source": [
    "from sklearn.model_selection import train_test_split \n",
    "\n",
    "X_train, X_valid, y_train, y_valid = train_test_split(X_fit, y_fit)\n",
    "X_train.shape, X_valid.shape, y_train.shape, y_valid.shape"
   ]
  },
  {
   "cell_type": "code",
   "execution_count": 9,
   "metadata": {},
   "outputs": [
    {
     "name": "stderr",
     "output_type": "stream",
     "text": [
      "/usr/local/lib/python3.8/dist-packages/lightgbm/basic.py:2065: UserWarning: Using categorical_feature in Dataset.\n",
      "  _log_warning('Using categorical_feature in Dataset.')\n"
     ]
    },
    {
     "name": "stdout",
     "output_type": "stream",
     "text": [
      "[LightGBM] [Warning] Auto-choosing col-wise multi-threading, the overhead of testing was 2.005103 seconds.\n",
      "You can set `force_col_wise=true` to remove the overhead.\n",
      "[LightGBM] [Info] Total Bins 44501\n",
      "[LightGBM] [Info] Number of data points in the train set: 4148588, number of used features: 188\n"
     ]
    },
    {
     "name": "stderr",
     "output_type": "stream",
     "text": [
      "/usr/local/lib/python3.8/dist-packages/lightgbm/basic.py:1780: UserWarning: Overriding the parameters from Reference Dataset.\n",
      "  _log_warning('Overriding the parameters from Reference Dataset.')\n",
      "/usr/local/lib/python3.8/dist-packages/lightgbm/basic.py:1513: UserWarning: categorical_column in param dict is overridden.\n",
      "  _log_warning(f'{cat_alias} in param dict is overridden.')\n"
     ]
    },
    {
     "name": "stdout",
     "output_type": "stream",
     "text": [
      "[LightGBM] [Info] Start training from score 0.249144\n",
      "[1]\tvalid_0's auc: 0.907426\tvalid_0's average_precision: 0.731737\tvalid_0's amex: 0.606174\tvalid_0's amex_gini: 0.814805\tvalid_0's amex_top4: 0.397543\n",
      "[2]\tvalid_0's auc: 0.912403\tvalid_0's average_precision: 0.74482\tvalid_0's amex: 0.621747\tvalid_0's amex_gini: 0.824755\tvalid_0's amex_top4: 0.418738\n",
      "[3]\tvalid_0's auc: 0.915658\tvalid_0's average_precision: 0.756997\tvalid_0's amex: 0.631018\tvalid_0's amex_gini: 0.831229\tvalid_0's amex_top4: 0.430807\n",
      "[4]\tvalid_0's auc: 0.916921\tvalid_0's average_precision: 0.763836\tvalid_0's amex: 0.636024\tvalid_0's amex_gini: 0.833777\tvalid_0's amex_top4: 0.438272\n",
      "[5]\tvalid_0's auc: 0.918905\tvalid_0's average_precision: 0.770039\tvalid_0's amex: 0.639743\tvalid_0's amex_gini: 0.837743\tvalid_0's amex_top4: 0.441743\n",
      "[6]\tvalid_0's auc: 0.919782\tvalid_0's average_precision: 0.773604\tvalid_0's amex: 0.642405\tvalid_0's amex_gini: 0.839489\tvalid_0's amex_top4: 0.445321\n",
      "[7]\tvalid_0's auc: 0.921034\tvalid_0's average_precision: 0.776938\tvalid_0's amex: 0.64631\tvalid_0's amex_gini: 0.842041\tvalid_0's amex_top4: 0.450579\n",
      "[8]\tvalid_0's auc: 0.921703\tvalid_0's average_precision: 0.779645\tvalid_0's amex: 0.64855\tvalid_0's amex_gini: 0.843371\tvalid_0's amex_top4: 0.45373\n",
      "[9]\tvalid_0's auc: 0.922557\tvalid_0's average_precision: 0.78176\tvalid_0's amex: 0.651087\tvalid_0's amex_gini: 0.845088\tvalid_0's amex_top4: 0.457085\n",
      "[10]\tvalid_0's auc: 0.923422\tvalid_0's average_precision: 0.783543\tvalid_0's amex: 0.65286\tvalid_0's amex_gini: 0.846816\tvalid_0's amex_top4: 0.458903\n",
      "[11]\tvalid_0's auc: 0.924173\tvalid_0's average_precision: 0.785598\tvalid_0's amex: 0.655038\tvalid_0's amex_gini: 0.848318\tvalid_0's amex_top4: 0.461759\n",
      "[12]\tvalid_0's auc: 0.924817\tvalid_0's average_precision: 0.787203\tvalid_0's amex: 0.657006\tvalid_0's amex_gini: 0.849614\tvalid_0's amex_top4: 0.464399\n",
      "[13]\tvalid_0's auc: 0.925414\tvalid_0's average_precision: 0.788443\tvalid_0's amex: 0.658855\tvalid_0's amex_gini: 0.850799\tvalid_0's amex_top4: 0.466912\n",
      "[14]\tvalid_0's auc: 0.925962\tvalid_0's average_precision: 0.789724\tvalid_0's amex: 0.66027\tvalid_0's amex_gini: 0.8519\tvalid_0's amex_top4: 0.46864\n",
      "[15]\tvalid_0's auc: 0.926456\tvalid_0's average_precision: 0.790796\tvalid_0's amex: 0.661479\tvalid_0's amex_gini: 0.8529\tvalid_0's amex_top4: 0.470057\n",
      "[16]\tvalid_0's auc: 0.926926\tvalid_0's average_precision: 0.792437\tvalid_0's amex: 0.663161\tvalid_0's amex_gini: 0.853842\tvalid_0's amex_top4: 0.47248\n",
      "[17]\tvalid_0's auc: 0.92745\tvalid_0's average_precision: 0.793984\tvalid_0's amex: 0.664793\tvalid_0's amex_gini: 0.854892\tvalid_0's amex_top4: 0.474693\n",
      "[18]\tvalid_0's auc: 0.927916\tvalid_0's average_precision: 0.795399\tvalid_0's amex: 0.66638\tvalid_0's amex_gini: 0.855839\tvalid_0's amex_top4: 0.476921\n",
      "[19]\tvalid_0's auc: 0.928374\tvalid_0's average_precision: 0.796592\tvalid_0's amex: 0.667851\tvalid_0's amex_gini: 0.856742\tvalid_0's amex_top4: 0.47896\n",
      "[20]\tvalid_0's auc: 0.928739\tvalid_0's average_precision: 0.797651\tvalid_0's amex: 0.669118\tvalid_0's amex_gini: 0.857485\tvalid_0's amex_top4: 0.480752\n",
      "[21]\tvalid_0's auc: 0.929087\tvalid_0's average_precision: 0.798641\tvalid_0's amex: 0.670288\tvalid_0's amex_gini: 0.858169\tvalid_0's amex_top4: 0.482408\n",
      "[22]\tvalid_0's auc: 0.929421\tvalid_0's average_precision: 0.799516\tvalid_0's amex: 0.671317\tvalid_0's amex_gini: 0.858846\tvalid_0's amex_top4: 0.483788\n",
      "[23]\tvalid_0's auc: 0.929726\tvalid_0's average_precision: 0.800302\tvalid_0's amex: 0.672188\tvalid_0's amex_gini: 0.859451\tvalid_0's amex_top4: 0.484926\n",
      "[24]\tvalid_0's auc: 0.930002\tvalid_0's average_precision: 0.800958\tvalid_0's amex: 0.673025\tvalid_0's amex_gini: 0.860005\tvalid_0's amex_top4: 0.486045\n",
      "[25]\tvalid_0's auc: 0.930245\tvalid_0's average_precision: 0.801719\tvalid_0's amex: 0.673522\tvalid_0's amex_gini: 0.860488\tvalid_0's amex_top4: 0.486556\n",
      "[26]\tvalid_0's auc: 0.930512\tvalid_0's average_precision: 0.802522\tvalid_0's amex: 0.674453\tvalid_0's amex_gini: 0.861023\tvalid_0's amex_top4: 0.487883\n",
      "[27]\tvalid_0's auc: 0.930765\tvalid_0's average_precision: 0.803272\tvalid_0's amex: 0.675374\tvalid_0's amex_gini: 0.86153\tvalid_0's amex_top4: 0.489219\n",
      "[28]\tvalid_0's auc: 0.931004\tvalid_0's average_precision: 0.80408\tvalid_0's amex: 0.676052\tvalid_0's amex_gini: 0.862009\tvalid_0's amex_top4: 0.490094\n",
      "[29]\tvalid_0's auc: 0.931224\tvalid_0's average_precision: 0.804796\tvalid_0's amex: 0.677014\tvalid_0's amex_gini: 0.862449\tvalid_0's amex_top4: 0.491578\n",
      "[30]\tvalid_0's auc: 0.931459\tvalid_0's average_precision: 0.805539\tvalid_0's amex: 0.67793\tvalid_0's amex_gini: 0.862917\tvalid_0's amex_top4: 0.492943\n",
      "[31]\tvalid_0's auc: 0.931667\tvalid_0's average_precision: 0.806165\tvalid_0's amex: 0.678588\tvalid_0's amex_gini: 0.863336\tvalid_0's amex_top4: 0.493841\n",
      "[32]\tvalid_0's auc: 0.931894\tvalid_0's average_precision: 0.806751\tvalid_0's amex: 0.679482\tvalid_0's amex_gini: 0.863788\tvalid_0's amex_top4: 0.495177\n",
      "[33]\tvalid_0's auc: 0.932126\tvalid_0's average_precision: 0.807345\tvalid_0's amex: 0.680087\tvalid_0's amex_gini: 0.864253\tvalid_0's amex_top4: 0.49592\n",
      "[34]\tvalid_0's auc: 0.932358\tvalid_0's average_precision: 0.807914\tvalid_0's amex: 0.680812\tvalid_0's amex_gini: 0.864716\tvalid_0's amex_top4: 0.496908\n",
      "[35]\tvalid_0's auc: 0.932524\tvalid_0's average_precision: 0.808509\tvalid_0's amex: 0.681588\tvalid_0's amex_gini: 0.865049\tvalid_0's amex_top4: 0.498128\n",
      "[36]\tvalid_0's auc: 0.932742\tvalid_0's average_precision: 0.809083\tvalid_0's amex: 0.68238\tvalid_0's amex_gini: 0.865484\tvalid_0's amex_top4: 0.499275\n",
      "[37]\tvalid_0's auc: 0.932908\tvalid_0's average_precision: 0.809508\tvalid_0's amex: 0.682778\tvalid_0's amex_gini: 0.865817\tvalid_0's amex_top4: 0.49974\n",
      "[38]\tvalid_0's auc: 0.933095\tvalid_0's average_precision: 0.810105\tvalid_0's amex: 0.683606\tvalid_0's amex_gini: 0.86619\tvalid_0's amex_top4: 0.501021\n",
      "[39]\tvalid_0's auc: 0.933258\tvalid_0's average_precision: 0.810544\tvalid_0's amex: 0.684058\tvalid_0's amex_gini: 0.866515\tvalid_0's amex_top4: 0.501602\n",
      "[40]\tvalid_0's auc: 0.93342\tvalid_0's average_precision: 0.811047\tvalid_0's amex: 0.684588\tvalid_0's amex_gini: 0.866839\tvalid_0's amex_top4: 0.502337\n",
      "[41]\tvalid_0's auc: 0.933566\tvalid_0's average_precision: 0.811419\tvalid_0's amex: 0.685208\tvalid_0's amex_gini: 0.867133\tvalid_0's amex_top4: 0.503284\n",
      "[42]\tvalid_0's auc: 0.933728\tvalid_0's average_precision: 0.811872\tvalid_0's amex: 0.685685\tvalid_0's amex_gini: 0.867456\tvalid_0's amex_top4: 0.503914\n",
      "[43]\tvalid_0's auc: 0.933867\tvalid_0's average_precision: 0.812296\tvalid_0's amex: 0.68621\tvalid_0's amex_gini: 0.867733\tvalid_0's amex_top4: 0.504687\n",
      "[44]\tvalid_0's auc: 0.933997\tvalid_0's average_precision: 0.812695\tvalid_0's amex: 0.686423\tvalid_0's amex_gini: 0.867995\tvalid_0's amex_top4: 0.504852\n",
      "[45]\tvalid_0's auc: 0.93413\tvalid_0's average_precision: 0.813056\tvalid_0's amex: 0.687075\tvalid_0's amex_gini: 0.86826\tvalid_0's amex_top4: 0.505889\n",
      "[46]\tvalid_0's auc: 0.93425\tvalid_0's average_precision: 0.813381\tvalid_0's amex: 0.687456\tvalid_0's amex_gini: 0.8685\tvalid_0's amex_top4: 0.506412\n",
      "[47]\tvalid_0's auc: 0.934365\tvalid_0's average_precision: 0.813728\tvalid_0's amex: 0.68783\tvalid_0's amex_gini: 0.868731\tvalid_0's amex_top4: 0.506929\n",
      "[48]\tvalid_0's auc: 0.934463\tvalid_0's average_precision: 0.81403\tvalid_0's amex: 0.688158\tvalid_0's amex_gini: 0.868925\tvalid_0's amex_top4: 0.507391\n",
      "[49]\tvalid_0's auc: 0.934582\tvalid_0's average_precision: 0.814367\tvalid_0's amex: 0.688478\tvalid_0's amex_gini: 0.869165\tvalid_0's amex_top4: 0.507792\n",
      "[50]\tvalid_0's auc: 0.934684\tvalid_0's average_precision: 0.814656\tvalid_0's amex: 0.688854\tvalid_0's amex_gini: 0.869367\tvalid_0's amex_top4: 0.508341\n",
      "[51]\tvalid_0's auc: 0.934778\tvalid_0's average_precision: 0.814937\tvalid_0's amex: 0.689086\tvalid_0's amex_gini: 0.869556\tvalid_0's amex_top4: 0.508617\n",
      "[52]\tvalid_0's auc: 0.934875\tvalid_0's average_precision: 0.815243\tvalid_0's amex: 0.689601\tvalid_0's amex_gini: 0.869751\tvalid_0's amex_top4: 0.50945\n",
      "[53]\tvalid_0's auc: 0.934975\tvalid_0's average_precision: 0.815526\tvalid_0's amex: 0.689778\tvalid_0's amex_gini: 0.869949\tvalid_0's amex_top4: 0.509607\n",
      "[54]\tvalid_0's auc: 0.935075\tvalid_0's average_precision: 0.815807\tvalid_0's amex: 0.690164\tvalid_0's amex_gini: 0.870149\tvalid_0's amex_top4: 0.510179\n",
      "[55]\tvalid_0's auc: 0.935177\tvalid_0's average_precision: 0.816087\tvalid_0's amex: 0.690583\tvalid_0's amex_gini: 0.870354\tvalid_0's amex_top4: 0.510813\n",
      "[56]\tvalid_0's auc: 0.935254\tvalid_0's average_precision: 0.816332\tvalid_0's amex: 0.690937\tvalid_0's amex_gini: 0.870507\tvalid_0's amex_top4: 0.511367\n",
      "[57]\tvalid_0's auc: 0.935333\tvalid_0's average_precision: 0.816606\tvalid_0's amex: 0.691337\tvalid_0's amex_gini: 0.870665\tvalid_0's amex_top4: 0.512009\n",
      "[58]\tvalid_0's auc: 0.935412\tvalid_0's average_precision: 0.816832\tvalid_0's amex: 0.69167\tvalid_0's amex_gini: 0.870825\tvalid_0's amex_top4: 0.512515\n",
      "[59]\tvalid_0's auc: 0.935506\tvalid_0's average_precision: 0.817113\tvalid_0's amex: 0.692051\tvalid_0's amex_gini: 0.871013\tvalid_0's amex_top4: 0.51309\n",
      "[60]\tvalid_0's auc: 0.935578\tvalid_0's average_precision: 0.817309\tvalid_0's amex: 0.692263\tvalid_0's amex_gini: 0.871155\tvalid_0's amex_top4: 0.513372\n",
      "[61]\tvalid_0's auc: 0.935657\tvalid_0's average_precision: 0.817519\tvalid_0's amex: 0.692575\tvalid_0's amex_gini: 0.871313\tvalid_0's amex_top4: 0.513836\n",
      "[62]\tvalid_0's auc: 0.935729\tvalid_0's average_precision: 0.817735\tvalid_0's amex: 0.692768\tvalid_0's amex_gini: 0.871458\tvalid_0's amex_top4: 0.514077\n",
      "[63]\tvalid_0's auc: 0.935803\tvalid_0's average_precision: 0.817975\tvalid_0's amex: 0.693049\tvalid_0's amex_gini: 0.871605\tvalid_0's amex_top4: 0.514493\n",
      "[64]\tvalid_0's auc: 0.93587\tvalid_0's average_precision: 0.818174\tvalid_0's amex: 0.693372\tvalid_0's amex_gini: 0.87174\tvalid_0's amex_top4: 0.515004\n",
      "[65]\tvalid_0's auc: 0.935944\tvalid_0's average_precision: 0.818363\tvalid_0's amex: 0.693546\tvalid_0's amex_gini: 0.871887\tvalid_0's amex_top4: 0.515204\n",
      "[66]\tvalid_0's auc: 0.936013\tvalid_0's average_precision: 0.818532\tvalid_0's amex: 0.693831\tvalid_0's amex_gini: 0.872025\tvalid_0's amex_top4: 0.515637\n",
      "[67]\tvalid_0's auc: 0.936084\tvalid_0's average_precision: 0.818748\tvalid_0's amex: 0.69418\tvalid_0's amex_gini: 0.872167\tvalid_0's amex_top4: 0.516192\n",
      "[68]\tvalid_0's auc: 0.936165\tvalid_0's average_precision: 0.818978\tvalid_0's amex: 0.694448\tvalid_0's amex_gini: 0.87233\tvalid_0's amex_top4: 0.516567\n",
      "[69]\tvalid_0's auc: 0.936246\tvalid_0's average_precision: 0.819227\tvalid_0's amex: 0.694616\tvalid_0's amex_gini: 0.872491\tvalid_0's amex_top4: 0.516741\n",
      "[70]\tvalid_0's auc: 0.9363\tvalid_0's average_precision: 0.819384\tvalid_0's amex: 0.694822\tvalid_0's amex_gini: 0.872601\tvalid_0's amex_top4: 0.517043\n",
      "[71]\tvalid_0's auc: 0.936359\tvalid_0's average_precision: 0.819589\tvalid_0's amex: 0.695088\tvalid_0's amex_gini: 0.872717\tvalid_0's amex_top4: 0.517458\n",
      "[72]\tvalid_0's auc: 0.936421\tvalid_0's average_precision: 0.819794\tvalid_0's amex: 0.69539\tvalid_0's amex_gini: 0.872842\tvalid_0's amex_top4: 0.517938\n",
      "[73]\tvalid_0's auc: 0.936474\tvalid_0's average_precision: 0.819966\tvalid_0's amex: 0.695559\tvalid_0's amex_gini: 0.872948\tvalid_0's amex_top4: 0.51817\n",
      "[74]\tvalid_0's auc: 0.936529\tvalid_0's average_precision: 0.820129\tvalid_0's amex: 0.695782\tvalid_0's amex_gini: 0.873057\tvalid_0's amex_top4: 0.518507\n",
      "[75]\tvalid_0's auc: 0.936594\tvalid_0's average_precision: 0.820305\tvalid_0's amex: 0.69599\tvalid_0's amex_gini: 0.873188\tvalid_0's amex_top4: 0.518792\n",
      "[76]\tvalid_0's auc: 0.936647\tvalid_0's average_precision: 0.820453\tvalid_0's amex: 0.696127\tvalid_0's amex_gini: 0.873294\tvalid_0's amex_top4: 0.51896\n",
      "[77]\tvalid_0's auc: 0.936693\tvalid_0's average_precision: 0.820569\tvalid_0's amex: 0.696313\tvalid_0's amex_gini: 0.873386\tvalid_0's amex_top4: 0.519239\n",
      "[78]\tvalid_0's auc: 0.936743\tvalid_0's average_precision: 0.820722\tvalid_0's amex: 0.696581\tvalid_0's amex_gini: 0.873487\tvalid_0's amex_top4: 0.519675\n",
      "[79]\tvalid_0's auc: 0.936794\tvalid_0's average_precision: 0.820893\tvalid_0's amex: 0.696757\tvalid_0's amex_gini: 0.873589\tvalid_0's amex_top4: 0.519924\n",
      "[80]\tvalid_0's auc: 0.936842\tvalid_0's average_precision: 0.821054\tvalid_0's amex: 0.696832\tvalid_0's amex_gini: 0.873685\tvalid_0's amex_top4: 0.51998\n",
      "[81]\tvalid_0's auc: 0.9369\tvalid_0's average_precision: 0.821247\tvalid_0's amex: 0.697188\tvalid_0's amex_gini: 0.8738\tvalid_0's amex_top4: 0.520575\n",
      "[82]\tvalid_0's auc: 0.936947\tvalid_0's average_precision: 0.82135\tvalid_0's amex: 0.697331\tvalid_0's amex_gini: 0.873893\tvalid_0's amex_top4: 0.52077\n",
      "[83]\tvalid_0's auc: 0.936989\tvalid_0's average_precision: 0.821489\tvalid_0's amex: 0.697439\tvalid_0's amex_gini: 0.873978\tvalid_0's amex_top4: 0.5209\n",
      "[84]\tvalid_0's auc: 0.937041\tvalid_0's average_precision: 0.82164\tvalid_0's amex: 0.697725\tvalid_0's amex_gini: 0.874082\tvalid_0's amex_top4: 0.521368\n",
      "[85]\tvalid_0's auc: 0.937086\tvalid_0's average_precision: 0.821766\tvalid_0's amex: 0.697825\tvalid_0's amex_gini: 0.874172\tvalid_0's amex_top4: 0.521478\n",
      "[86]\tvalid_0's auc: 0.937138\tvalid_0's average_precision: 0.821911\tvalid_0's amex: 0.697983\tvalid_0's amex_gini: 0.874276\tvalid_0's amex_top4: 0.521691\n",
      "[87]\tvalid_0's auc: 0.93718\tvalid_0's average_precision: 0.822035\tvalid_0's amex: 0.698334\tvalid_0's amex_gini: 0.87436\tvalid_0's amex_top4: 0.522309\n",
      "[88]\tvalid_0's auc: 0.937224\tvalid_0's average_precision: 0.822202\tvalid_0's amex: 0.698537\tvalid_0's amex_gini: 0.874448\tvalid_0's amex_top4: 0.522626\n",
      "[89]\tvalid_0's auc: 0.937262\tvalid_0's average_precision: 0.822307\tvalid_0's amex: 0.698568\tvalid_0's amex_gini: 0.874524\tvalid_0's amex_top4: 0.522611\n",
      "[90]\tvalid_0's auc: 0.9373\tvalid_0's average_precision: 0.822447\tvalid_0's amex: 0.698684\tvalid_0's amex_gini: 0.8746\tvalid_0's amex_top4: 0.522768\n",
      "[91]\tvalid_0's auc: 0.937335\tvalid_0's average_precision: 0.822569\tvalid_0's amex: 0.698812\tvalid_0's amex_gini: 0.87467\tvalid_0's amex_top4: 0.522954\n",
      "[92]\tvalid_0's auc: 0.937371\tvalid_0's average_precision: 0.822673\tvalid_0's amex: 0.698996\tvalid_0's amex_gini: 0.874741\tvalid_0's amex_top4: 0.52325\n",
      "[93]\tvalid_0's auc: 0.937425\tvalid_0's average_precision: 0.822813\tvalid_0's amex: 0.699279\tvalid_0's amex_gini: 0.87485\tvalid_0's amex_top4: 0.523709\n",
      "[94]\tvalid_0's auc: 0.937458\tvalid_0's average_precision: 0.82293\tvalid_0's amex: 0.699446\tvalid_0's amex_gini: 0.874916\tvalid_0's amex_top4: 0.523976\n",
      "[95]\tvalid_0's auc: 0.937496\tvalid_0's average_precision: 0.823038\tvalid_0's amex: 0.699538\tvalid_0's amex_gini: 0.874992\tvalid_0's amex_top4: 0.524084\n",
      "[96]\tvalid_0's auc: 0.93753\tvalid_0's average_precision: 0.823147\tvalid_0's amex: 0.699612\tvalid_0's amex_gini: 0.875061\tvalid_0's amex_top4: 0.524162\n",
      "[97]\tvalid_0's auc: 0.937571\tvalid_0's average_precision: 0.823258\tvalid_0's amex: 0.699671\tvalid_0's amex_gini: 0.875141\tvalid_0's amex_top4: 0.5242\n",
      "[98]\tvalid_0's auc: 0.937603\tvalid_0's average_precision: 0.823345\tvalid_0's amex: 0.699736\tvalid_0's amex_gini: 0.875205\tvalid_0's amex_top4: 0.524267\n",
      "[99]\tvalid_0's auc: 0.937634\tvalid_0's average_precision: 0.823446\tvalid_0's amex: 0.699904\tvalid_0's amex_gini: 0.875268\tvalid_0's amex_top4: 0.52454\n",
      "[100]\tvalid_0's auc: 0.937683\tvalid_0's average_precision: 0.823567\tvalid_0's amex: 0.70001\tvalid_0's amex_gini: 0.875366\tvalid_0's amex_top4: 0.524653\n",
      "CPU times: user 19min 37s, sys: 35.5 s, total: 20min 13s\n",
      "Wall time: 8min 56s\n"
     ]
    }
   ],
   "source": [
    "%%time\n",
    "from lightgbm import train, Dataset\n",
    "from evaluation import feval_amex, feval_amex_gini, feval_amex_top4\n",
    "\n",
    "train_set = Dataset(data=X_train, label=y_train, categorical_feature=encs.columns_encoded)\n",
    "valid_set = Dataset(data=X_valid, label=y_valid, categorical_feature=encs.columns_encoded)\n",
    "\n",
    "m = train(\n",
    "    params={\n",
    "        'metric': ['auc', 'average_precision'],\n",
    "    },\n",
    "    train_set=train_set,\n",
    "    valid_sets=[valid_set],\n",
    "    feval=[feval_amex, feval_amex_gini, feval_amex_top4],\n",
    ")"
   ]
  },
  {
   "cell_type": "code",
   "execution_count": 10,
   "metadata": {},
   "outputs": [
    {
     "name": "stderr",
     "output_type": "stream",
     "text": [
      "                                                                                \r"
     ]
    }
   ],
   "source": [
    "train_data_latest = train_data.filter(F.col('S_2') == F.col('S_2_max'))\n",
    "train_data_latest = train_data_latest.join(train_labels, on='customer_ID', how='inner')\n",
    "train_data_latest = encs.transform(spark=spark, df=train_data_latest).toPandas()"
   ]
  },
  {
   "cell_type": "code",
   "execution_count": 11,
   "metadata": {},
   "outputs": [
    {
     "name": "stdout",
     "output_type": "stream",
     "text": [
      "('amex', 0.7757070634257448, True)\n",
      "('amex_gini', 0.9148385722683947, True)\n",
      "('amex_top4', 0.6365755545830949, True)\n"
     ]
    }
   ],
   "source": [
    "X_train_latest = train_data_latest[feature_columns].reset_index(drop=True)\n",
    "train_data_latest = Dataset(\n",
    "    data=train_data_latest[feature_columns].reset_index(drop=True),\n",
    "    label=train_data_latest[TARGET_VARIABLE].reset_index(drop=True),\n",
    ")\n",
    "for feval in [feval_amex, feval_amex_gini, feval_amex_top4]:\n",
    "    print(feval(m.predict(X_train_latest), train_data_latest))"
   ]
  }
 ],
 "metadata": {
  "kernelspec": {
   "display_name": "Python 3.8.10 64-bit",
   "language": "python",
   "name": "python3"
  },
  "language_info": {
   "codemirror_mode": {
    "name": "ipython",
    "version": 3
   },
   "file_extension": ".py",
   "mimetype": "text/x-python",
   "name": "python",
   "nbconvert_exporter": "python",
   "pygments_lexer": "ipython3",
   "version": "3.8.10"
  },
  "orig_nbformat": 4,
  "vscode": {
   "interpreter": {
    "hash": "e7370f93d1d0cde622a1f8e1c04877d8463912d04d973331ad4851f04de6915a"
   }
  }
 },
 "nbformat": 4,
 "nbformat_minor": 2
}
