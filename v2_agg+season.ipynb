{
 "cells": [
  {
   "cell_type": "code",
   "execution_count": 1,
   "metadata": {},
   "outputs": [
    {
     "name": "stderr",
     "output_type": "stream",
     "text": [
      "Warning: Ignoring non-Spark config property: Dio.netty.tryReflectionSetAccessible\n",
      "WARNING: An illegal reflective access operation has occurred\n",
      "WARNING: Illegal reflective access by org.apache.spark.unsafe.Platform (file:/usr/local/lib/python3.8/dist-packages/pyspark/jars/spark-unsafe_2.12-3.2.1.jar) to constructor java.nio.DirectByteBuffer(long,int)\n",
      "WARNING: Please consider reporting this to the maintainers of org.apache.spark.unsafe.Platform\n",
      "WARNING: Use --illegal-access=warn to enable warnings of further illegal reflective access operations\n",
      "WARNING: All illegal access operations will be denied in a future release\n",
      "Using Spark's default log4j profile: org/apache/spark/log4j-defaults.properties\n",
      "Setting default log level to \"WARN\".\n",
      "To adjust logging level use sc.setLogLevel(newLevel). For SparkR, use setLogLevel(newLevel).\n",
      "22/06/20 23:07:27 WARN NativeCodeLoader: Unable to load native-hadoop library for your platform... using builtin-java classes where applicable\n",
      "22/06/20 23:07:28 WARN Utils: Service 'SparkUI' could not bind on port 4040. Attempting port 4041.\n",
      "22/06/20 23:07:28 WARN Utils: Service 'SparkUI' could not bind on port 4041. Attempting port 4042.\n"
     ]
    }
   ],
   "source": [
    "from spark_utils import get_spark_session\n",
    "import pyspark.sql.functions as F\n",
    "\n",
    "spark = get_spark_session()\n",
    "# run transform_latest.py if this don't exist\n",
    "test_data = spark.read.parquet('data_transformed/amex-default-prediction/test_data_aggregated')\n",
    "train_data = spark.read.parquet('data_transformed/amex-default-prediction/train_data_aggregated')\n",
    "# run format_data.py if these don't exist\n",
    "train_labels = spark.read.parquet('data/amex-default-prediction/train_labels')\n",
    "sample_submission = spark.read.parquet('data/amex-default-prediction/sample_submission')"
   ]
  },
  {
   "cell_type": "code",
   "execution_count": 2,
   "metadata": {},
   "outputs": [
    {
     "data": {
      "text/plain": [
       "'customer_ID, S_2_first, S_2_last, num_statements, P_2_first, P_2_last, P_2_mean, D_39_first, D_39_last, D_39_mean, B_1_first, B_1_last, B_1_mean, B_2_first, B_2_last, B_2_mean, R_1_first, R_1_last, R_1_mean, S_3_first, S_3_last, S_3_mean, D_41_first, D_41_last, D_41_mean, B_3_first, B_3_last, B_3_mean, D_42_first, D_42_last, D_42_mean, D_43_first, D_43_last, D_43_mean, D_44_first, D_44_last, D_44_mean, B_4_first, B_4_last, B_4_mean, D_45_first, D_45_last, D_45_mean, B_5_first, B_5_last, B_5_mean, R_2_first, R_2_last, R_2_mean, D_46_first, D_46_last, D_46_mean, D_47_first, D_47_last, D_47_mean, D_48_first, D_48_last, D_48_mean, D_49_first, D_49_last, D_49_mean, B_6_first, B_6_last, B_6_mean, B_7_first, B_7_last, B_7_mean, B_8_first, B_8_last, B_8_mean, D_50_first, D_50_last, D_50_mean, D_51_first, D_51_last, D_51_mean, B_9_first, B_9_last, B_9_mean, R_3_first, R_3_last, R_3_mean, D_52_first, D_52_last, D_52_mean, P_3_first, P_3_last, P_3_mean, B_10_first, B_10_last, B_10_mean, D_53_first, D_53_last, D_53_mean, S_5_first, S_5_last, S_5_mean, B_11_first, B_11_last, B_11_mean, S_6_first, S_6_last, S_6_mean, D_54_first, D_54_last, D_54_mean, R_4_first, R_4_last, R_4_mean, S_7_first, S_7_last, S_7_mean, B_12_first, B_12_last, B_12_mean, S_8_first, S_8_last, S_8_mean, D_55_first, D_55_last, D_55_mean, D_56_first, D_56_last, D_56_mean, B_13_first, B_13_last, B_13_mean, R_5_first, R_5_last, R_5_mean, D_58_first, D_58_last, D_58_mean, S_9_first, S_9_last, S_9_mean, B_14_first, B_14_last, B_14_mean, D_59_first, D_59_last, D_59_mean, D_60_first, D_60_last, D_60_mean, D_61_first, D_61_last, D_61_mean, B_15_first, B_15_last, B_15_mean, S_11_first, S_11_last, S_11_mean, D_62_first, D_62_last, D_62_mean, D_63_first, D_63_last, D_63_mode, D_64_first, D_64_last, D_64_mode, D_65_first, D_65_last, D_65_mean, B_16_first, B_16_last, B_16_mean, B_17_first, B_17_last, B_17_mean, B_18_first, B_18_last, B_18_mean, B_19_first, B_19_last, B_19_mean, D_66_first, D_66_last, D_66_mode, B_20_first, B_20_last, B_20_mean, D_68_first, D_68_last, D_68_mode, S_12_first, S_12_last, S_12_mean, R_6_first, R_6_last, R_6_mean, S_13_first, S_13_last, S_13_mean, B_21_first, B_21_last, B_21_mean, D_69_first, D_69_last, D_69_mean, B_22_first, B_22_last, B_22_mean, D_70_first, D_70_last, D_70_mean, D_71_first, D_71_last, D_71_mean, D_72_first, D_72_last, D_72_mean, S_15_first, S_15_last, S_15_mean, B_23_first, B_23_last, B_23_mean, D_73_first, D_73_last, D_73_mean, P_4_first, P_4_last, P_4_mean, D_74_first, D_74_last, D_74_mean, D_75_first, D_75_last, D_75_mean, D_76_first, D_76_last, D_76_mean, B_24_first, B_24_last, B_24_mean, R_7_first, R_7_last, R_7_mean, D_77_first, D_77_last, D_77_mean, B_25_first, B_25_last, B_25_mean, B_26_first, B_26_last, B_26_mean, D_78_first, D_78_last, D_78_mean, D_79_first, D_79_last, D_79_mean, R_8_first, R_8_last, R_8_mean, R_9_first, R_9_last, R_9_mean, S_16_first, S_16_last, S_16_mean, D_80_first, D_80_last, D_80_mean, R_10_first, R_10_last, R_10_mean, R_11_first, R_11_last, R_11_mean, B_27_first, B_27_last, B_27_mean, D_81_first, D_81_last, D_81_mean, D_82_first, D_82_last, D_82_mean, S_17_first, S_17_last, S_17_mean, R_12_first, R_12_last, R_12_mean, B_28_first, B_28_last, B_28_mean, R_13_first, R_13_last, R_13_mean, D_83_first, D_83_last, D_83_mean, R_14_first, R_14_last, R_14_mean, R_15_first, R_15_last, R_15_mean, D_84_first, D_84_last, D_84_mean, R_16_first, R_16_last, R_16_mean, B_29_first, B_29_last, B_29_mean, B_30_first, B_30_last, B_30_mode, S_18_first, S_18_last, S_18_mean, D_86_first, D_86_last, D_86_mean, D_87_first, D_87_last, D_87_mean, R_17_first, R_17_last, R_17_mean, R_18_first, R_18_last, R_18_mean, D_88_first, D_88_last, D_88_mean, B_31_first, B_31_last, B_31_mean, S_19_first, S_19_last, S_19_mean, R_19_first, R_19_last, R_19_mean, B_32_first, B_32_last, B_32_mean, S_20_first, S_20_last, S_20_mean, R_20_first, R_20_last, R_20_mean, R_21_first, R_21_last, R_21_mean, B_33_first, B_33_last, B_33_mean, D_89_first, D_89_last, D_89_mean, R_22_first, R_22_last, R_22_mean, R_23_first, R_23_last, R_23_mean, D_91_first, D_91_last, D_91_mean, D_92_first, D_92_last, D_92_mean, D_93_first, D_93_last, D_93_mean, D_94_first, D_94_last, D_94_mean, R_24_first, R_24_last, R_24_mean, R_25_first, R_25_last, R_25_mean, D_96_first, D_96_last, D_96_mean, S_22_first, S_22_last, S_22_mean, S_23_first, S_23_last, S_23_mean, S_24_first, S_24_last, S_24_mean, S_25_first, S_25_last, S_25_mean, S_26_first, S_26_last, S_26_mean, D_102_first, D_102_last, D_102_mean, D_103_first, D_103_last, D_103_mean, D_104_first, D_104_last, D_104_mean, D_105_first, D_105_last, D_105_mean, D_106_first, D_106_last, D_106_mean, D_107_first, D_107_last, D_107_mean, B_36_first, B_36_last, B_36_mean, B_37_first, B_37_last, B_37_mean, R_26_first, R_26_last, R_26_mean, R_27_first, R_27_last, R_27_mean, B_38_first, B_38_last, B_38_mode, D_108_first, D_108_last, D_108_mean, D_109_first, D_109_last, D_109_mean, D_110_first, D_110_last, D_110_mean, D_111_first, D_111_last, D_111_mean, B_39_first, B_39_last, B_39_mean, D_112_first, D_112_last, D_112_mean, B_40_first, B_40_last, B_40_mean, S_27_first, S_27_last, S_27_mean, D_113_first, D_113_last, D_113_mean, D_114_first, D_114_last, D_114_mode, D_115_first, D_115_last, D_115_mean, D_116_first, D_116_last, D_116_mode, D_117_first, D_117_last, D_117_mode, D_118_first, D_118_last, D_118_mean, D_119_first, D_119_last, D_119_mean, D_120_first, D_120_last, D_120_mode, D_121_first, D_121_last, D_121_mean, D_122_first, D_122_last, D_122_mean, D_123_first, D_123_last, D_123_mean, D_124_first, D_124_last, D_124_mean, D_125_first, D_125_last, D_125_mean, D_126_first, D_126_last, D_126_mode, D_127_first, D_127_last, D_127_mean, D_128_first, D_128_last, D_128_mean, D_129_first, D_129_last, D_129_mean, B_41_first, B_41_last, B_41_mean, B_42_first, B_42_last, B_42_mean, D_130_first, D_130_last, D_130_mean, D_131_first, D_131_last, D_131_mean, D_132_first, D_132_last, D_132_mean, D_133_first, D_133_last, D_133_mean, R_28_first, R_28_last, R_28_mean, D_134_first, D_134_last, D_134_mean, D_135_first, D_135_last, D_135_mean, D_136_first, D_136_last, D_136_mean, D_137_first, D_137_last, D_137_mean, D_138_first, D_138_last, D_138_mean, D_139_first, D_139_last, D_139_mean, D_140_first, D_140_last, D_140_mean, D_141_first, D_141_last, D_141_mean, D_142_first, D_142_last, D_142_mean, D_143_first, D_143_last, D_143_mean, D_144_first, D_144_last, D_144_mean, D_145_first, D_145_last, D_145_mean'"
      ]
     },
     "execution_count": 2,
     "metadata": {},
     "output_type": "execute_result"
    }
   ],
   "source": [
    "', '.join(train_data.columns)"
   ]
  },
  {
   "cell_type": "code",
   "execution_count": 3,
   "metadata": {},
   "outputs": [
    {
     "name": "stderr",
     "output_type": "stream",
     "text": [
      "                                                                                \r"
     ]
    },
    {
     "name": "stdout",
     "output_type": "stream",
     "text": [
      "[2017, 2018, 2019]\n",
      "[2016, 2017, 2018, 2019, 2020]\n",
      "CPU times: user 403 ms, sys: 67.2 ms, total: 470 ms\n",
      "Wall time: 21.7 s\n"
     ]
    },
    {
     "name": "stderr",
     "output_type": "stream",
     "text": [
      "                                                                                \r"
     ]
    }
   ],
   "source": [
    "%%time\n",
    "from format_data import CATEGORICAL_VARIABLES\n",
    "from encoder import CategoricalToIntegerEncoders, HolidayFeatures, FourierFeatures\n",
    "\n",
    "categorical_cols = []\n",
    "for c in CATEGORICAL_VARIABLES:\n",
    "    categorical_cols += [\n",
    "        f'{c}_first',\n",
    "        f'{c}_last',\n",
    "        f'{c}_mode',\n",
    "    ]\n",
    "\n",
    "encs = CategoricalToIntegerEncoders(columns=categorical_cols).fit(train_data)\n",
    "\n",
    "\n",
    "years = [row['S_2_first'].year for row in train_data.select('S_2_first').distinct().collect()]\n",
    "years += [row['S_2_first'].year for row in test_data.select('S_2_first').distinct().collect()]\n",
    "years += [row['S_2_last'].year for row in train_data.select('S_2_last').distinct().collect()]\n",
    "years += [row['S_2_last'].year for row in test_data.select('S_2_last').distinct().collect()]\n",
    "years = sorted(list(set(years)))\n",
    "print(years)\n",
    "years = [min(years) + i for i in range(-1, max(years) - min(years) + 2)]\n",
    "print(years)\n",
    "\n",
    "# holiday_first = HolidayFeatures(column='S_2_first', years=years)\n",
    "holiday_last = HolidayFeatures(column='S_2_last', years=years)\n",
    "\n",
    "\n",
    "# fourier_first = FourierFeatures(\n",
    "#     column='S_2_first',\n",
    "#     hour_of_day=False,\n",
    "#     minute_of_hour=False,\n",
    "#     use_period_fraction=.5,\n",
    "# )\n",
    "fourier_last = FourierFeatures(\n",
    "    column='S_2_last',\n",
    "    # last dates are in a single month\n",
    "    week_of_year=False,\n",
    "    # no sub-date level information\n",
    "    hour_of_day=False,\n",
    "    minute_of_hour=False,\n",
    "    use_period_fraction=.5,\n",
    ")"
   ]
  },
  {
   "cell_type": "code",
   "execution_count": 4,
   "metadata": {},
   "outputs": [
    {
     "name": "stderr",
     "output_type": "stream",
     "text": [
      "22/06/20 23:08:02 WARN package: Truncated the string representation of a plan since it was too large. This behavior can be adjusted by setting 'spark.sql.debug.maxToStringFields'.\n",
      "                                                                                \r"
     ]
    },
    {
     "name": "stdout",
     "output_type": "stream",
     "text": [
      "len(feature_columns): 661\n",
      " num_statements, P_2_first, P_2_last, P_2_mean, D_39_first, D_39_last, D_39_mean, B_1_first, B_1_last, B_1_mean, B_2_first, B_2_last, B_2_mean, R_1_first, R_1_last, R_1_mean, S_3_first, S_3_last, S_3_mean, D_41_first, D_41_last, D_41_mean, B_3_first, B_3_last, B_3_mean, D_42_first, D_42_last, D_42_mean, D_43_first, D_43_last, D_43_mean, D_44_first, D_44_last, D_44_mean, B_4_first, B_4_last, B_4_mean, D_45_first, D_45_last, D_45_mean, B_5_first, B_5_last, B_5_mean, R_2_first, R_2_last, R_2_mean, D_46_first, D_46_last, D_46_mean, D_47_first, D_47_last, D_47_mean, D_48_first, D_48_last, D_48_mean, D_49_first, D_49_last, D_49_mean, B_6_first, B_6_last, B_6_mean, B_7_first, B_7_last, B_7_mean, B_8_first, B_8_last, B_8_mean, D_50_first, D_50_last, D_50_mean, D_51_first, D_51_last, D_51_mean, B_9_first, B_9_last, B_9_mean, R_3_first, R_3_last, R_3_mean, D_52_first, D_52_last, D_52_mean, P_3_first, P_3_last, P_3_mean, B_10_first, B_10_last, B_10_mean, D_53_first, D_53_last, D_53_mean, S_5_first, S_5_last, S_5_mean, B_11_first, B_11_last, B_11_mean, S_6_first, S_6_last, S_6_mean, D_54_first, D_54_last, D_54_mean, R_4_first, R_4_last, R_4_mean, S_7_first, S_7_last, S_7_mean, B_12_first, B_12_last, B_12_mean, S_8_first, S_8_last, S_8_mean, D_55_first, D_55_last, D_55_mean, D_56_first, D_56_last, D_56_mean, B_13_first, B_13_last, B_13_mean, R_5_first, R_5_last, R_5_mean, D_58_first, D_58_last, D_58_mean, S_9_first, S_9_last, S_9_mean, B_14_first, B_14_last, B_14_mean, D_59_first, D_59_last, D_59_mean, D_60_first, D_60_last, D_60_mean, D_61_first, D_61_last, D_61_mean, B_15_first, B_15_last, B_15_mean, S_11_first, S_11_last, S_11_mean, D_62_first, D_62_last, D_62_mean, D_65_first, D_65_last, D_65_mean, B_16_first, B_16_last, B_16_mean, B_17_first, B_17_last, B_17_mean, B_18_first, B_18_last, B_18_mean, B_19_first, B_19_last, B_19_mean, B_20_first, B_20_last, B_20_mean, S_12_first, S_12_last, S_12_mean, R_6_first, R_6_last, R_6_mean, S_13_first, S_13_last, S_13_mean, B_21_first, B_21_last, B_21_mean, D_69_first, D_69_last, D_69_mean, B_22_first, B_22_last, B_22_mean, D_70_first, D_70_last, D_70_mean, D_71_first, D_71_last, D_71_mean, D_72_first, D_72_last, D_72_mean, S_15_first, S_15_last, S_15_mean, B_23_first, B_23_last, B_23_mean, D_73_first, D_73_last, D_73_mean, P_4_first, P_4_last, P_4_mean, D_74_first, D_74_last, D_74_mean, D_75_first, D_75_last, D_75_mean, D_76_first, D_76_last, D_76_mean, B_24_first, B_24_last, B_24_mean, R_7_first, R_7_last, R_7_mean, D_77_first, D_77_last, D_77_mean, B_25_first, B_25_last, B_25_mean, B_26_first, B_26_last, B_26_mean, D_78_first, D_78_last, D_78_mean, D_79_first, D_79_last, D_79_mean, R_8_first, R_8_last, R_8_mean, R_9_first, R_9_last, R_9_mean, S_16_first, S_16_last, S_16_mean, D_80_first, D_80_last, D_80_mean, R_10_first, R_10_last, R_10_mean, R_11_first, R_11_last, R_11_mean, B_27_first, B_27_last, B_27_mean, D_81_first, D_81_last, D_81_mean, D_82_first, D_82_last, D_82_mean, S_17_first, S_17_last, S_17_mean, R_12_first, R_12_last, R_12_mean, B_28_first, B_28_last, B_28_mean, R_13_first, R_13_last, R_13_mean, D_83_first, D_83_last, D_83_mean, R_14_first, R_14_last, R_14_mean, R_15_first, R_15_last, R_15_mean, D_84_first, D_84_last, D_84_mean, R_16_first, R_16_last, R_16_mean, B_29_first, B_29_last, B_29_mean, S_18_first, S_18_last, S_18_mean, D_86_first, D_86_last, D_86_mean, D_87_first, D_87_last, D_87_mean, R_17_first, R_17_last, R_17_mean, R_18_first, R_18_last, R_18_mean, D_88_first, D_88_last, D_88_mean, B_31_first, B_31_last, B_31_mean, S_19_first, S_19_last, S_19_mean, R_19_first, R_19_last, R_19_mean, B_32_first, B_32_last, B_32_mean, S_20_first, S_20_last, S_20_mean, R_20_first, R_20_last, R_20_mean, R_21_first, R_21_last, R_21_mean, B_33_first, B_33_last, B_33_mean, D_89_first, D_89_last, D_89_mean, R_22_first, R_22_last, R_22_mean, R_23_first, R_23_last, R_23_mean, D_91_first, D_91_last, D_91_mean, D_92_first, D_92_last, D_92_mean, D_93_first, D_93_last, D_93_mean, D_94_first, D_94_last, D_94_mean, R_24_first, R_24_last, R_24_mean, R_25_first, R_25_last, R_25_mean, D_96_first, D_96_last, D_96_mean, S_22_first, S_22_last, S_22_mean, S_23_first, S_23_last, S_23_mean, S_24_first, S_24_last, S_24_mean, S_25_first, S_25_last, S_25_mean, S_26_first, S_26_last, S_26_mean, D_102_first, D_102_last, D_102_mean, D_103_first, D_103_last, D_103_mean, D_104_first, D_104_last, D_104_mean, D_105_first, D_105_last, D_105_mean, D_106_first, D_106_last, D_106_mean, D_107_first, D_107_last, D_107_mean, B_36_first, B_36_last, B_36_mean, B_37_first, B_37_last, B_37_mean, R_26_first, R_26_last, R_26_mean, R_27_first, R_27_last, R_27_mean, D_108_first, D_108_last, D_108_mean, D_109_first, D_109_last, D_109_mean, D_110_first, D_110_last, D_110_mean, D_111_first, D_111_last, D_111_mean, B_39_first, B_39_last, B_39_mean, D_112_first, D_112_last, D_112_mean, B_40_first, B_40_last, B_40_mean, S_27_first, S_27_last, S_27_mean, D_113_first, D_113_last, D_113_mean, D_115_first, D_115_last, D_115_mean, D_118_first, D_118_last, D_118_mean, D_119_first, D_119_last, D_119_mean, D_121_first, D_121_last, D_121_mean, D_122_first, D_122_last, D_122_mean, D_123_first, D_123_last, D_123_mean, D_124_first, D_124_last, D_124_mean, D_125_first, D_125_last, D_125_mean, D_127_first, D_127_last, D_127_mean, D_128_first, D_128_last, D_128_mean, D_129_first, D_129_last, D_129_mean, B_41_first, B_41_last, B_41_mean, B_42_first, B_42_last, B_42_mean, D_130_first, D_130_last, D_130_mean, D_131_first, D_131_last, D_131_mean, D_132_first, D_132_last, D_132_mean, D_133_first, D_133_last, D_133_mean, R_28_first, R_28_last, R_28_mean, D_134_first, D_134_last, D_134_mean, D_135_first, D_135_last, D_135_mean, D_136_first, D_136_last, D_136_mean, D_137_first, D_137_last, D_137_mean, D_138_first, D_138_last, D_138_mean, D_139_first, D_139_last, D_139_mean, D_140_first, D_140_last, D_140_mean, D_141_first, D_141_last, D_141_mean, D_142_first, D_142_last, D_142_mean, D_143_first, D_143_last, D_143_mean, D_144_first, D_144_last, D_144_mean, D_145_first, D_145_last, D_145_mean, S_2_last_FourierFeatures_week_of_year_sine_phase_0, S_2_last_FourierFeatures_week_of_year_sine_phase_1, S_2_last_FourierFeatures_week_of_year_sine_phase_2, S_2_last_FourierFeatures_week_of_year_sine_phase_3, S_2_last_FourierFeatures_week_of_year_sine_phase_4, S_2_last_FourierFeatures_week_of_year_sine_phase_5, S_2_last_FourierFeatures_week_of_year_sine_phase_6, S_2_last_FourierFeatures_week_of_year_sine_phase_7, S_2_last_FourierFeatures_week_of_year_sine_phase_8, S_2_last_FourierFeatures_week_of_year_sine_phase_9, S_2_last_FourierFeatures_week_of_year_sine_phase_10, S_2_last_FourierFeatures_week_of_year_sine_phase_11, S_2_last_FourierFeatures_week_of_year_sine_phase_12, S_2_last_FourierFeatures_week_of_year_sine_phase_13, S_2_last_FourierFeatures_week_of_year_sine_phase_14, S_2_last_FourierFeatures_week_of_year_sine_phase_15, S_2_last_FourierFeatures_week_of_year_sine_phase_16, S_2_last_FourierFeatures_week_of_year_sine_phase_17, S_2_last_FourierFeatures_week_of_year_sine_phase_18, S_2_last_FourierFeatures_week_of_year_sine_phase_19, S_2_last_FourierFeatures_week_of_year_sine_phase_20, S_2_last_FourierFeatures_week_of_year_sine_phase_21, S_2_last_FourierFeatures_week_of_year_sine_phase_22, S_2_last_FourierFeatures_week_of_year_sine_phase_23, S_2_last_FourierFeatures_week_of_year_sine_phase_24, S_2_last_FourierFeatures_week_of_year_sine_phase_25, S_2_last_FourierFeatures_week_of_year_sine_phase_26, S_2_last_FourierFeatures_week_of_year_cos_phase_0, S_2_last_FourierFeatures_week_of_year_cos_phase_1, S_2_last_FourierFeatures_week_of_year_cos_phase_2, S_2_last_FourierFeatures_week_of_year_cos_phase_3, S_2_last_FourierFeatures_week_of_year_cos_phase_4, S_2_last_FourierFeatures_week_of_year_cos_phase_5, S_2_last_FourierFeatures_week_of_year_cos_phase_6, S_2_last_FourierFeatures_week_of_year_cos_phase_7, S_2_last_FourierFeatures_week_of_year_cos_phase_8, S_2_last_FourierFeatures_week_of_year_cos_phase_9, S_2_last_FourierFeatures_week_of_year_cos_phase_10, S_2_last_FourierFeatures_week_of_year_cos_phase_11, S_2_last_FourierFeatures_week_of_year_cos_phase_12, S_2_last_FourierFeatures_week_of_year_cos_phase_13, S_2_last_FourierFeatures_week_of_year_cos_phase_14, S_2_last_FourierFeatures_week_of_year_cos_phase_15, S_2_last_FourierFeatures_week_of_year_cos_phase_16, S_2_last_FourierFeatures_week_of_year_cos_phase_17, S_2_last_FourierFeatures_week_of_year_cos_phase_18, S_2_last_FourierFeatures_week_of_year_cos_phase_19, S_2_last_FourierFeatures_week_of_year_cos_phase_20, S_2_last_FourierFeatures_week_of_year_cos_phase_21, S_2_last_FourierFeatures_week_of_year_cos_phase_22, S_2_last_FourierFeatures_week_of_year_cos_phase_23, S_2_last_FourierFeatures_week_of_year_cos_phase_24, S_2_last_FourierFeatures_week_of_year_cos_phase_25, S_2_last_FourierFeatures_week_of_year_cos_phase_26, S_2_last_FourierFeatures_day_of_month_sine_phase_0, S_2_last_FourierFeatures_day_of_month_sine_phase_1, S_2_last_FourierFeatures_day_of_month_sine_phase_2, S_2_last_FourierFeatures_day_of_month_sine_phase_3, S_2_last_FourierFeatures_day_of_month_sine_phase_4, S_2_last_FourierFeatures_day_of_month_sine_phase_5, S_2_last_FourierFeatures_day_of_month_sine_phase_6, S_2_last_FourierFeatures_day_of_month_sine_phase_7, S_2_last_FourierFeatures_day_of_month_sine_phase_8, S_2_last_FourierFeatures_day_of_month_sine_phase_9, S_2_last_FourierFeatures_day_of_month_sine_phase_10, S_2_last_FourierFeatures_day_of_month_sine_phase_11, S_2_last_FourierFeatures_day_of_month_sine_phase_12, S_2_last_FourierFeatures_day_of_month_sine_phase_13, S_2_last_FourierFeatures_day_of_month_sine_phase_14, S_2_last_FourierFeatures_day_of_month_sine_phase_15, S_2_last_FourierFeatures_day_of_month_cos_phase_0, S_2_last_FourierFeatures_day_of_month_cos_phase_1, S_2_last_FourierFeatures_day_of_month_cos_phase_2, S_2_last_FourierFeatures_day_of_month_cos_phase_3, S_2_last_FourierFeatures_day_of_month_cos_phase_4, S_2_last_FourierFeatures_day_of_month_cos_phase_5, S_2_last_FourierFeatures_day_of_month_cos_phase_6, S_2_last_FourierFeatures_day_of_month_cos_phase_7, S_2_last_FourierFeatures_day_of_month_cos_phase_8, S_2_last_FourierFeatures_day_of_month_cos_phase_9, S_2_last_FourierFeatures_day_of_month_cos_phase_10, S_2_last_FourierFeatures_day_of_month_cos_phase_11, S_2_last_FourierFeatures_day_of_month_cos_phase_12, S_2_last_FourierFeatures_day_of_month_cos_phase_13, S_2_last_FourierFeatures_day_of_month_cos_phase_14, S_2_last_FourierFeatures_day_of_month_cos_phase_15, S_2_last_FourierFeatures_day_of_week_sine_phase_0, S_2_last_FourierFeatures_day_of_week_sine_phase_1, S_2_last_FourierFeatures_day_of_week_sine_phase_2, S_2_last_FourierFeatures_day_of_week_sine_phase_3, S_2_last_FourierFeatures_day_of_week_cos_phase_0, S_2_last_FourierFeatures_day_of_week_cos_phase_1, S_2_last_FourierFeatures_day_of_week_cos_phase_2, S_2_last_FourierFeatures_day_of_week_cos_phase_3, S_2_last_HolidayFeatures_us_holiday_days_since_last, S_2_last_HolidayFeatures_us_holiday_days_to_next, B_30_first_CategoricalToIntegerEncoder, B_30_last_CategoricalToIntegerEncoder, B_30_mode_CategoricalToIntegerEncoder, B_38_first_CategoricalToIntegerEncoder, B_38_last_CategoricalToIntegerEncoder, B_38_mode_CategoricalToIntegerEncoder, D_114_first_CategoricalToIntegerEncoder, D_114_last_CategoricalToIntegerEncoder, D_114_mode_CategoricalToIntegerEncoder, D_116_first_CategoricalToIntegerEncoder, D_116_last_CategoricalToIntegerEncoder, D_116_mode_CategoricalToIntegerEncoder, D_117_first_CategoricalToIntegerEncoder, D_117_last_CategoricalToIntegerEncoder, D_117_mode_CategoricalToIntegerEncoder, D_120_first_CategoricalToIntegerEncoder, D_120_last_CategoricalToIntegerEncoder, D_120_mode_CategoricalToIntegerEncoder, D_126_first_CategoricalToIntegerEncoder, D_126_last_CategoricalToIntegerEncoder, D_126_mode_CategoricalToIntegerEncoder, D_63_first_CategoricalToIntegerEncoder, D_63_last_CategoricalToIntegerEncoder, D_63_mode_CategoricalToIntegerEncoder, D_64_first_CategoricalToIntegerEncoder, D_64_last_CategoricalToIntegerEncoder, D_64_mode_CategoricalToIntegerEncoder, D_66_first_CategoricalToIntegerEncoder, D_66_last_CategoricalToIntegerEncoder, D_66_mode_CategoricalToIntegerEncoder, D_68_first_CategoricalToIntegerEncoder, D_68_last_CategoricalToIntegerEncoder, D_68_mode_CategoricalToIntegerEncoder\n",
      "CPU times: user 3.31 s, sys: 13.3 s, total: 16.6 s\n",
      "Wall time: 2min 21s\n"
     ]
    }
   ],
   "source": [
    "%%time\n",
    "from format_data import TARGET_VARIABLE, DATE_VARIABLES, ID_VARIABLES\n",
    "\n",
    "# make train_pdf\n",
    "train_pdf = train_data.join(train_labels, on='customer_ID', how='inner')\n",
    "train_pdf = fourier_last.transform(spark=spark, df=train_pdf)\n",
    "train_pdf = holiday_last.transform(spark=spark, df=train_pdf)\n",
    "train_pdf = encs.transform(spark=spark, df=train_pdf).toPandas()\n",
    "\n",
    "# make test_pdf\n",
    "test_pdf = fourier_last.transform(spark=spark, df=test_data)\n",
    "test_pdf = holiday_last.transform(spark=spark, df=test_pdf)\n",
    "test_pdf = encs.transform(spark=spark, df=test_pdf).toPandas()\n",
    "\n",
    "non_feature_columns = [\n",
    "    TARGET_VARIABLE,\n",
    "    *ID_VARIABLES,\n",
    "    *DATE_VARIABLES.keys(),\n",
    "    'S_2_first',\n",
    "    'S_2_last',\n",
    "]\n",
    "feature_columns = [c for c in train_pdf.columns if c not in non_feature_columns]\n",
    "print(f'len(feature_columns): {len(feature_columns)}\\n', ', '.join(feature_columns))"
   ]
  },
  {
   "cell_type": "code",
   "execution_count": 5,
   "metadata": {},
   "outputs": [
    {
     "name": "stdout",
     "output_type": "stream",
     "text": [
      "(458913, 661) (924621, 661)\n",
      "(array([0., 1.], dtype=float32), array([340085, 118828]))\n"
     ]
    }
   ],
   "source": [
    "import numpy as np\n",
    "\n",
    "X_fit = train_pdf[feature_columns].reset_index(drop=True)\n",
    "X_test = test_pdf[feature_columns].reset_index(drop=True)\n",
    "print(X_fit.shape, X_test.shape)\n",
    "\n",
    "y_fit = np.array(train_pdf[TARGET_VARIABLE])\n",
    "print(np.unique(y_fit, return_counts=True))"
   ]
  },
  {
   "cell_type": "code",
   "execution_count": 6,
   "metadata": {},
   "outputs": [
    {
     "name": "stdout",
     "output_type": "stream",
     "text": [
      "(344184, 661) (114729, 661) (344184,) (114729,)\n"
     ]
    }
   ],
   "source": [
    "from sklearn.model_selection import train_test_split\n",
    "\n",
    "X_train, X_valid, y_train, y_valid = train_test_split(X_fit, y_fit)\n",
    "print(X_train.shape, X_valid.shape, y_train.shape, y_valid.shape)"
   ]
  },
  {
   "cell_type": "code",
   "execution_count": 7,
   "metadata": {},
   "outputs": [
    {
     "name": "stderr",
     "output_type": "stream",
     "text": [
      "/usr/local/lib/python3.8/dist-packages/lightgbm/basic.py:2065: UserWarning: Using categorical_feature in Dataset.\n",
      "  _log_warning('Using categorical_feature in Dataset.')\n",
      "/usr/local/lib/python3.8/dist-packages/lightgbm/basic.py:2068: UserWarning: categorical_feature in Dataset is overridden.\n",
      "New categorical_feature is ['B_30_first_CategoricalToIntegerEncoder', 'B_30_last_CategoricalToIntegerEncoder', 'B_30_mode_CategoricalToIntegerEncoder', 'B_38_first_CategoricalToIntegerEncoder', 'B_38_last_CategoricalToIntegerEncoder', 'B_38_mode_CategoricalToIntegerEncoder', 'D_114_first_CategoricalToIntegerEncoder', 'D_114_last_CategoricalToIntegerEncoder', 'D_114_mode_CategoricalToIntegerEncoder', 'D_116_first_CategoricalToIntegerEncoder', 'D_116_last_CategoricalToIntegerEncoder', 'D_116_mode_CategoricalToIntegerEncoder', 'D_117_first_CategoricalToIntegerEncoder', 'D_117_last_CategoricalToIntegerEncoder', 'D_117_mode_CategoricalToIntegerEncoder', 'D_120_first_CategoricalToIntegerEncoder', 'D_120_last_CategoricalToIntegerEncoder', 'D_120_mode_CategoricalToIntegerEncoder', 'D_126_first_CategoricalToIntegerEncoder', 'D_126_last_CategoricalToIntegerEncoder', 'D_126_mode_CategoricalToIntegerEncoder', 'D_63_first_CategoricalToIntegerEncoder', 'D_63_last_CategoricalToIntegerEncoder', 'D_63_mode_CategoricalToIntegerEncoder', 'D_64_first_CategoricalToIntegerEncoder', 'D_64_last_CategoricalToIntegerEncoder', 'D_64_mode_CategoricalToIntegerEncoder', 'D_66_first_CategoricalToIntegerEncoder', 'D_66_last_CategoricalToIntegerEncoder', 'D_66_mode_CategoricalToIntegerEncoder', 'D_68_first_CategoricalToIntegerEncoder', 'D_68_last_CategoricalToIntegerEncoder', 'D_68_mode_CategoricalToIntegerEncoder']\n",
      "  _log_warning('categorical_feature in Dataset is overridden.\\n'\n",
      "/usr/local/lib/python3.8/dist-packages/lightgbm/basic.py:1780: UserWarning: Overriding the parameters from Reference Dataset.\n",
      "  _log_warning('Overriding the parameters from Reference Dataset.')\n",
      "/usr/local/lib/python3.8/dist-packages/lightgbm/basic.py:1513: UserWarning: categorical_column in param dict is overridden.\n",
      "  _log_warning(f'{cat_alias} in param dict is overridden.')\n"
     ]
    },
    {
     "name": "stdout",
     "output_type": "stream",
     "text": [
      "[1]\tvalid_0's auc: 0.933419\tvalid_0's average_precision: 0.818307\tvalid_0's binary_logloss: 0.520426\tvalid_0's amex: 0.69659\tvalid_0's amex_gini: 0.867245\tvalid_0's amex_top4: 0.525936\n",
      "[2]\tvalid_0's auc: 0.937503\tvalid_0's average_precision: 0.838594\tvalid_0's binary_logloss: 0.480513\tvalid_0's amex: 0.71237\tvalid_0's amex_gini: 0.875101\tvalid_0's amex_top4: 0.549639\n",
      "[3]\tvalid_0's auc: 0.940183\tvalid_0's average_precision: 0.84382\tvalid_0's binary_logloss: 0.448297\tvalid_0's amex: 0.719411\tvalid_0's amex_gini: 0.880554\tvalid_0's amex_top4: 0.558268\n",
      "[4]\tvalid_0's auc: 0.941533\tvalid_0's average_precision: 0.849449\tvalid_0's binary_logloss: 0.421644\tvalid_0's amex: 0.723213\tvalid_0's amex_gini: 0.883157\tvalid_0's amex_top4: 0.56327\n",
      "[5]\tvalid_0's auc: 0.942875\tvalid_0's average_precision: 0.852568\tvalid_0's binary_logloss: 0.399306\tvalid_0's amex: 0.726942\tvalid_0's amex_gini: 0.885879\tvalid_0's amex_top4: 0.568004\n",
      "[6]\tvalid_0's auc: 0.943734\tvalid_0's average_precision: 0.854883\tvalid_0's binary_logloss: 0.380386\tvalid_0's amex: 0.7313\tvalid_0's amex_gini: 0.887612\tvalid_0's amex_top4: 0.574987\n",
      "[7]\tvalid_0's auc: 0.944705\tvalid_0's average_precision: 0.856636\tvalid_0's binary_logloss: 0.36413\tvalid_0's amex: 0.732919\tvalid_0's amex_gini: 0.889407\tvalid_0's amex_top4: 0.576431\n",
      "[8]\tvalid_0's auc: 0.945186\tvalid_0's average_precision: 0.858482\tvalid_0's binary_logloss: 0.350068\tvalid_0's amex: 0.734263\tvalid_0's amex_gini: 0.890584\tvalid_0's amex_top4: 0.577942\n",
      "[9]\tvalid_0's auc: 0.94617\tvalid_0's average_precision: 0.860679\tvalid_0's binary_logloss: 0.3377\tvalid_0's amex: 0.737105\tvalid_0's amex_gini: 0.892406\tvalid_0's amex_top4: 0.581803\n",
      "[10]\tvalid_0's auc: 0.946787\tvalid_0's average_precision: 0.86214\tvalid_0's binary_logloss: 0.326829\tvalid_0's amex: 0.740047\tvalid_0's amex_gini: 0.893825\tvalid_0's amex_top4: 0.586268\n",
      "[11]\tvalid_0's auc: 0.947171\tvalid_0's average_precision: 0.863215\tvalid_0's binary_logloss: 0.317405\tvalid_0's amex: 0.741572\tvalid_0's amex_gini: 0.894559\tvalid_0's amex_top4: 0.588585\n",
      "[12]\tvalid_0's auc: 0.947775\tvalid_0's average_precision: 0.864438\tvalid_0's binary_logloss: 0.308959\tvalid_0's amex: 0.742468\tvalid_0's amex_gini: 0.895713\tvalid_0's amex_top4: 0.589223\n",
      "[13]\tvalid_0's auc: 0.948241\tvalid_0's average_precision: 0.865757\tvalid_0's binary_logloss: 0.301469\tvalid_0's amex: 0.743618\tvalid_0's amex_gini: 0.896636\tvalid_0's amex_top4: 0.590599\n",
      "[14]\tvalid_0's auc: 0.948601\tvalid_0's average_precision: 0.866501\tvalid_0's binary_logloss: 0.295017\tvalid_0's amex: 0.746212\tvalid_0's amex_gini: 0.897293\tvalid_0's amex_top4: 0.595132\n",
      "[15]\tvalid_0's auc: 0.949087\tvalid_0's average_precision: 0.867632\tvalid_0's binary_logloss: 0.289147\tvalid_0's amex: 0.746046\tvalid_0's amex_gini: 0.898236\tvalid_0's amex_top4: 0.593856\n",
      "[16]\tvalid_0's auc: 0.949403\tvalid_0's average_precision: 0.868366\tvalid_0's binary_logloss: 0.283944\tvalid_0's amex: 0.747779\tvalid_0's amex_gini: 0.898681\tvalid_0's amex_top4: 0.596878\n",
      "[17]\tvalid_0's auc: 0.949949\tvalid_0's average_precision: 0.869517\tvalid_0's binary_logloss: 0.279135\tvalid_0's amex: 0.749353\tvalid_0's amex_gini: 0.899914\tvalid_0's amex_top4: 0.598791\n",
      "[18]\tvalid_0's auc: 0.950366\tvalid_0's average_precision: 0.870774\tvalid_0's binary_logloss: 0.274868\tvalid_0's amex: 0.750941\tvalid_0's amex_gini: 0.900707\tvalid_0's amex_top4: 0.601175\n",
      "[19]\tvalid_0's auc: 0.950768\tvalid_0's average_precision: 0.87154\tvalid_0's binary_logloss: 0.271048\tvalid_0's amex: 0.751327\tvalid_0's amex_gini: 0.901479\tvalid_0's amex_top4: 0.601175\n",
      "[20]\tvalid_0's auc: 0.951036\tvalid_0's average_precision: 0.872217\tvalid_0's binary_logloss: 0.267714\tvalid_0's amex: 0.752709\tvalid_0's amex_gini: 0.902026\tvalid_0's amex_top4: 0.603391\n",
      "[21]\tvalid_0's auc: 0.951419\tvalid_0's average_precision: 0.873164\tvalid_0's binary_logloss: 0.264413\tvalid_0's amex: 0.753958\tvalid_0's amex_gini: 0.902913\tvalid_0's amex_top4: 0.605003\n",
      "[22]\tvalid_0's auc: 0.951695\tvalid_0's average_precision: 0.873913\tvalid_0's binary_logloss: 0.261593\tvalid_0's amex: 0.754714\tvalid_0's amex_gini: 0.903351\tvalid_0's amex_top4: 0.606077\n",
      "[23]\tvalid_0's auc: 0.952008\tvalid_0's average_precision: 0.874904\tvalid_0's binary_logloss: 0.25892\tvalid_0's amex: 0.755546\tvalid_0's amex_gini: 0.904009\tvalid_0's amex_top4: 0.607084\n",
      "[24]\tvalid_0's auc: 0.952325\tvalid_0's average_precision: 0.875765\tvalid_0's binary_logloss: 0.256416\tvalid_0's amex: 0.756915\tvalid_0's amex_gini: 0.904631\tvalid_0's amex_top4: 0.609199\n",
      "[25]\tvalid_0's auc: 0.952573\tvalid_0's average_precision: 0.87642\tvalid_0's binary_logloss: 0.254239\tvalid_0's amex: 0.757873\tvalid_0's amex_gini: 0.905137\tvalid_0's amex_top4: 0.610609\n",
      "[26]\tvalid_0's auc: 0.952788\tvalid_0's average_precision: 0.87711\tvalid_0's binary_logloss: 0.252303\tvalid_0's amex: 0.758723\tvalid_0's amex_gini: 0.905561\tvalid_0's amex_top4: 0.611885\n",
      "[27]\tvalid_0's auc: 0.953017\tvalid_0's average_precision: 0.877723\tvalid_0's binary_logloss: 0.250541\tvalid_0's amex: 0.76055\tvalid_0's amex_gini: 0.906092\tvalid_0's amex_top4: 0.615008\n",
      "[28]\tvalid_0's auc: 0.953225\tvalid_0's average_precision: 0.878292\tvalid_0's binary_logloss: 0.248889\tvalid_0's amex: 0.761518\tvalid_0's amex_gini: 0.906451\tvalid_0's amex_top4: 0.616586\n",
      "[29]\tvalid_0's auc: 0.953441\tvalid_0's average_precision: 0.878823\tvalid_0's binary_logloss: 0.2474\tvalid_0's amex: 0.761264\tvalid_0's amex_gini: 0.906849\tvalid_0's amex_top4: 0.615679\n",
      "[30]\tvalid_0's auc: 0.953697\tvalid_0's average_precision: 0.879487\tvalid_0's binary_logloss: 0.246014\tvalid_0's amex: 0.762089\tvalid_0's amex_gini: 0.907391\tvalid_0's amex_top4: 0.616787\n",
      "[31]\tvalid_0's auc: 0.9539\tvalid_0's average_precision: 0.879982\tvalid_0's binary_logloss: 0.244731\tvalid_0's amex: 0.76338\tvalid_0's amex_gini: 0.90779\tvalid_0's amex_top4: 0.618969\n",
      "[32]\tvalid_0's auc: 0.954078\tvalid_0's average_precision: 0.880454\tvalid_0's binary_logloss: 0.243587\tvalid_0's amex: 0.7641\tvalid_0's amex_gini: 0.908123\tvalid_0's amex_top4: 0.620077\n",
      "[33]\tvalid_0's auc: 0.954338\tvalid_0's average_precision: 0.88099\tvalid_0's binary_logloss: 0.242457\tvalid_0's amex: 0.764141\tvalid_0's amex_gini: 0.908675\tvalid_0's amex_top4: 0.619607\n",
      "[34]\tvalid_0's auc: 0.954483\tvalid_0's average_precision: 0.881366\tvalid_0's binary_logloss: 0.241516\tvalid_0's amex: 0.764683\tvalid_0's amex_gini: 0.908954\tvalid_0's amex_top4: 0.620413\n",
      "[35]\tvalid_0's auc: 0.954639\tvalid_0's average_precision: 0.881751\tvalid_0's binary_logloss: 0.240617\tvalid_0's amex: 0.765159\tvalid_0's amex_gini: 0.909267\tvalid_0's amex_top4: 0.621051\n",
      "[36]\tvalid_0's auc: 0.954841\tvalid_0's average_precision: 0.882215\tvalid_0's binary_logloss: 0.239737\tvalid_0's amex: 0.766294\tvalid_0's amex_gini: 0.90969\tvalid_0's amex_top4: 0.622897\n",
      "[37]\tvalid_0's auc: 0.95499\tvalid_0's average_precision: 0.882576\tvalid_0's binary_logloss: 0.238938\tvalid_0's amex: 0.766542\tvalid_0's amex_gini: 0.909985\tvalid_0's amex_top4: 0.623099\n",
      "[38]\tvalid_0's auc: 0.955182\tvalid_0's average_precision: 0.883014\tvalid_0's binary_logloss: 0.238146\tvalid_0's amex: 0.766849\tvalid_0's amex_gini: 0.910363\tvalid_0's amex_top4: 0.623334\n",
      "[39]\tvalid_0's auc: 0.955353\tvalid_0's average_precision: 0.883426\tvalid_0's binary_logloss: 0.237425\tvalid_0's amex: 0.76715\tvalid_0's amex_gini: 0.910697\tvalid_0's amex_top4: 0.623602\n",
      "[40]\tvalid_0's auc: 0.955497\tvalid_0's average_precision: 0.883819\tvalid_0's binary_logloss: 0.236788\tvalid_0's amex: 0.767428\tvalid_0's amex_gini: 0.910986\tvalid_0's amex_top4: 0.623871\n",
      "[41]\tvalid_0's auc: 0.955643\tvalid_0's average_precision: 0.884146\tvalid_0's binary_logloss: 0.236163\tvalid_0's amex: 0.767998\tvalid_0's amex_gini: 0.911286\tvalid_0's amex_top4: 0.62471\n",
      "[42]\tvalid_0's auc: 0.955762\tvalid_0's average_precision: 0.884394\tvalid_0's binary_logloss: 0.235633\tvalid_0's amex: 0.768958\tvalid_0's amex_gini: 0.911526\tvalid_0's amex_top4: 0.626389\n",
      "[43]\tvalid_0's auc: 0.955876\tvalid_0's average_precision: 0.884683\tvalid_0's binary_logloss: 0.23514\tvalid_0's amex: 0.768869\tvalid_0's amex_gini: 0.911751\tvalid_0's amex_top4: 0.625986\n",
      "[44]\tvalid_0's auc: 0.955988\tvalid_0's average_precision: 0.884948\tvalid_0's binary_logloss: 0.234654\tvalid_0's amex: 0.769064\tvalid_0's amex_gini: 0.911975\tvalid_0's amex_top4: 0.626154\n",
      "[45]\tvalid_0's auc: 0.956135\tvalid_0's average_precision: 0.885338\tvalid_0's binary_logloss: 0.234105\tvalid_0's amex: 0.7699\tvalid_0's amex_gini: 0.912269\tvalid_0's amex_top4: 0.627531\n",
      "[46]\tvalid_0's auc: 0.956264\tvalid_0's average_precision: 0.885625\tvalid_0's binary_logloss: 0.233655\tvalid_0's amex: 0.7706\tvalid_0's amex_gini: 0.912528\tvalid_0's amex_top4: 0.628672\n",
      "[47]\tvalid_0's auc: 0.956366\tvalid_0's average_precision: 0.88589\tvalid_0's binary_logloss: 0.233225\tvalid_0's amex: 0.771525\tvalid_0's amex_gini: 0.912733\tvalid_0's amex_top4: 0.630317\n",
      "[48]\tvalid_0's auc: 0.956479\tvalid_0's average_precision: 0.88617\tvalid_0's binary_logloss: 0.232821\tvalid_0's amex: 0.772326\tvalid_0's amex_gini: 0.912957\tvalid_0's amex_top4: 0.631694\n",
      "[49]\tvalid_0's auc: 0.956591\tvalid_0's average_precision: 0.886424\tvalid_0's binary_logloss: 0.232444\tvalid_0's amex: 0.77237\tvalid_0's amex_gini: 0.91318\tvalid_0's amex_top4: 0.63156\n",
      "[50]\tvalid_0's auc: 0.956708\tvalid_0's average_precision: 0.886703\tvalid_0's binary_logloss: 0.232057\tvalid_0's amex: 0.772873\tvalid_0's amex_gini: 0.913415\tvalid_0's amex_top4: 0.632332\n",
      "[51]\tvalid_0's auc: 0.956796\tvalid_0's average_precision: 0.886905\tvalid_0's binary_logloss: 0.231729\tvalid_0's amex: 0.773046\tvalid_0's amex_gini: 0.913592\tvalid_0's amex_top4: 0.6325\n",
      "[52]\tvalid_0's auc: 0.956886\tvalid_0's average_precision: 0.887098\tvalid_0's binary_logloss: 0.231433\tvalid_0's amex: 0.773589\tvalid_0's amex_gini: 0.913771\tvalid_0's amex_top4: 0.633406\n",
      "[53]\tvalid_0's auc: 0.956974\tvalid_0's average_precision: 0.887273\tvalid_0's binary_logloss: 0.231121\tvalid_0's amex: 0.774247\tvalid_0's amex_gini: 0.913946\tvalid_0's amex_top4: 0.634548\n",
      "[54]\tvalid_0's auc: 0.957086\tvalid_0's average_precision: 0.887504\tvalid_0's binary_logloss: 0.230776\tvalid_0's amex: 0.773772\tvalid_0's amex_gini: 0.914172\tvalid_0's amex_top4: 0.633373\n",
      "[55]\tvalid_0's auc: 0.957177\tvalid_0's average_precision: 0.887709\tvalid_0's binary_logloss: 0.230485\tvalid_0's amex: 0.774215\tvalid_0's amex_gini: 0.914353\tvalid_0's amex_top4: 0.634078\n",
      "[56]\tvalid_0's auc: 0.957263\tvalid_0's average_precision: 0.887904\tvalid_0's binary_logloss: 0.230222\tvalid_0's amex: 0.774352\tvalid_0's amex_gini: 0.914525\tvalid_0's amex_top4: 0.634178\n",
      "[57]\tvalid_0's auc: 0.957359\tvalid_0's average_precision: 0.888147\tvalid_0's binary_logloss: 0.229935\tvalid_0's amex: 0.774783\tvalid_0's amex_gini: 0.914717\tvalid_0's amex_top4: 0.63485\n",
      "[58]\tvalid_0's auc: 0.957436\tvalid_0's average_precision: 0.888297\tvalid_0's binary_logloss: 0.229686\tvalid_0's amex: 0.774961\tvalid_0's amex_gini: 0.914871\tvalid_0's amex_top4: 0.635051\n",
      "[59]\tvalid_0's auc: 0.957489\tvalid_0's average_precision: 0.888405\tvalid_0's binary_logloss: 0.229496\tvalid_0's amex: 0.775316\tvalid_0's amex_gini: 0.914977\tvalid_0's amex_top4: 0.635656\n",
      "[60]\tvalid_0's auc: 0.957559\tvalid_0's average_precision: 0.888553\tvalid_0's binary_logloss: 0.229273\tvalid_0's amex: 0.775605\tvalid_0's amex_gini: 0.915117\tvalid_0's amex_top4: 0.636092\n",
      "[61]\tvalid_0's auc: 0.957648\tvalid_0's average_precision: 0.888759\tvalid_0's binary_logloss: 0.229006\tvalid_0's amex: 0.776315\tvalid_0's amex_gini: 0.915295\tvalid_0's amex_top4: 0.637334\n",
      "[62]\tvalid_0's auc: 0.957711\tvalid_0's average_precision: 0.888905\tvalid_0's binary_logloss: 0.22878\tvalid_0's amex: 0.776227\tvalid_0's amex_gini: 0.915421\tvalid_0's amex_top4: 0.637032\n",
      "[63]\tvalid_0's auc: 0.957778\tvalid_0's average_precision: 0.88905\tvalid_0's binary_logloss: 0.228586\tvalid_0's amex: 0.776428\tvalid_0's amex_gini: 0.915555\tvalid_0's amex_top4: 0.637301\n",
      "[64]\tvalid_0's auc: 0.957863\tvalid_0's average_precision: 0.889227\tvalid_0's binary_logloss: 0.228333\tvalid_0's amex: 0.776915\tvalid_0's amex_gini: 0.915724\tvalid_0's amex_top4: 0.638106\n",
      "[65]\tvalid_0's auc: 0.957893\tvalid_0's average_precision: 0.889036\tvalid_0's binary_logloss: 0.228356\tvalid_0's amex: 0.777383\tvalid_0's amex_gini: 0.915786\tvalid_0's amex_top4: 0.638979\n",
      "[66]\tvalid_0's auc: 0.957969\tvalid_0's average_precision: 0.889225\tvalid_0's binary_logloss: 0.228119\tvalid_0's amex: 0.777442\tvalid_0's amex_gini: 0.915938\tvalid_0's amex_top4: 0.638946\n",
      "[67]\tvalid_0's auc: 0.958033\tvalid_0's average_precision: 0.889391\tvalid_0's binary_logloss: 0.227928\tvalid_0's amex: 0.777606\tvalid_0's amex_gini: 0.916064\tvalid_0's amex_top4: 0.639147\n",
      "[68]\tvalid_0's auc: 0.958083\tvalid_0's average_precision: 0.889551\tvalid_0's binary_logloss: 0.227769\tvalid_0's amex: 0.77774\tvalid_0's amex_gini: 0.916164\tvalid_0's amex_top4: 0.639315\n",
      "[69]\tvalid_0's auc: 0.958139\tvalid_0's average_precision: 0.889672\tvalid_0's binary_logloss: 0.227603\tvalid_0's amex: 0.778048\tvalid_0's amex_gini: 0.916278\tvalid_0's amex_top4: 0.639819\n",
      "[70]\tvalid_0's auc: 0.958171\tvalid_0's average_precision: 0.889747\tvalid_0's binary_logloss: 0.227503\tvalid_0's amex: 0.778449\tvalid_0's amex_gini: 0.916341\tvalid_0's amex_top4: 0.640557\n",
      "[71]\tvalid_0's auc: 0.95823\tvalid_0's average_precision: 0.889911\tvalid_0's binary_logloss: 0.227318\tvalid_0's amex: 0.77829\tvalid_0's amex_gini: 0.916458\tvalid_0's amex_top4: 0.640121\n",
      "[72]\tvalid_0's auc: 0.958275\tvalid_0's average_precision: 0.890027\tvalid_0's binary_logloss: 0.227182\tvalid_0's amex: 0.778671\tvalid_0's amex_gini: 0.916549\tvalid_0's amex_top4: 0.640792\n",
      "[73]\tvalid_0's auc: 0.958332\tvalid_0's average_precision: 0.890161\tvalid_0's binary_logloss: 0.227017\tvalid_0's amex: 0.778778\tvalid_0's amex_gini: 0.916662\tvalid_0's amex_top4: 0.640893\n",
      "[74]\tvalid_0's auc: 0.958387\tvalid_0's average_precision: 0.890282\tvalid_0's binary_logloss: 0.226853\tvalid_0's amex: 0.77937\tvalid_0's amex_gini: 0.916773\tvalid_0's amex_top4: 0.641967\n",
      "[75]\tvalid_0's auc: 0.958458\tvalid_0's average_precision: 0.890422\tvalid_0's binary_logloss: 0.226648\tvalid_0's amex: 0.779189\tvalid_0's amex_gini: 0.916915\tvalid_0's amex_top4: 0.641464\n",
      "[76]\tvalid_0's auc: 0.958489\tvalid_0's average_precision: 0.890524\tvalid_0's binary_logloss: 0.226539\tvalid_0's amex: 0.779557\tvalid_0's amex_gini: 0.916978\tvalid_0's amex_top4: 0.642135\n",
      "[77]\tvalid_0's auc: 0.958532\tvalid_0's average_precision: 0.890638\tvalid_0's binary_logloss: 0.226416\tvalid_0's amex: 0.779717\tvalid_0's amex_gini: 0.917064\tvalid_0's amex_top4: 0.64237\n",
      "[78]\tvalid_0's auc: 0.958568\tvalid_0's average_precision: 0.890729\tvalid_0's binary_logloss: 0.226302\tvalid_0's amex: 0.779685\tvalid_0's amex_gini: 0.917134\tvalid_0's amex_top4: 0.642236\n",
      "[79]\tvalid_0's auc: 0.958615\tvalid_0's average_precision: 0.89085\tvalid_0's binary_logloss: 0.22617\tvalid_0's amex: 0.779548\tvalid_0's amex_gini: 0.917229\tvalid_0's amex_top4: 0.641867\n",
      "[80]\tvalid_0's auc: 0.958653\tvalid_0's average_precision: 0.890948\tvalid_0's binary_logloss: 0.22606\tvalid_0's amex: 0.779687\tvalid_0's amex_gini: 0.917305\tvalid_0's amex_top4: 0.642068\n",
      "[81]\tvalid_0's auc: 0.958694\tvalid_0's average_precision: 0.891049\tvalid_0's binary_logloss: 0.225932\tvalid_0's amex: 0.780315\tvalid_0's amex_gini: 0.917387\tvalid_0's amex_top4: 0.643243\n",
      "[82]\tvalid_0's auc: 0.958729\tvalid_0's average_precision: 0.891144\tvalid_0's binary_logloss: 0.225827\tvalid_0's amex: 0.780366\tvalid_0's amex_gini: 0.917456\tvalid_0's amex_top4: 0.643277\n",
      "[83]\tvalid_0's auc: 0.958755\tvalid_0's average_precision: 0.891228\tvalid_0's binary_logloss: 0.225747\tvalid_0's amex: 0.780494\tvalid_0's amex_gini: 0.91751\tvalid_0's amex_top4: 0.643478\n",
      "[84]\tvalid_0's auc: 0.958809\tvalid_0's average_precision: 0.891371\tvalid_0's binary_logloss: 0.225603\tvalid_0's amex: 0.781119\tvalid_0's amex_gini: 0.917617\tvalid_0's amex_top4: 0.64462\n",
      "[85]\tvalid_0's auc: 0.958846\tvalid_0's average_precision: 0.891471\tvalid_0's binary_logloss: 0.2255\tvalid_0's amex: 0.781189\tvalid_0's amex_gini: 0.91769\tvalid_0's amex_top4: 0.644687\n",
      "[86]\tvalid_0's auc: 0.958877\tvalid_0's average_precision: 0.89157\tvalid_0's binary_logloss: 0.225397\tvalid_0's amex: 0.781287\tvalid_0's amex_gini: 0.917754\tvalid_0's amex_top4: 0.644821\n",
      "[87]\tvalid_0's auc: 0.958906\tvalid_0's average_precision: 0.891648\tvalid_0's binary_logloss: 0.225306\tvalid_0's amex: 0.781601\tvalid_0's amex_gini: 0.917811\tvalid_0's amex_top4: 0.645392\n",
      "[88]\tvalid_0's auc: 0.958945\tvalid_0's average_precision: 0.891758\tvalid_0's binary_logloss: 0.225192\tvalid_0's amex: 0.781658\tvalid_0's amex_gini: 0.91789\tvalid_0's amex_top4: 0.645426\n",
      "[89]\tvalid_0's auc: 0.958989\tvalid_0's average_precision: 0.891875\tvalid_0's binary_logloss: 0.225074\tvalid_0's amex: 0.781567\tvalid_0's amex_gini: 0.917976\tvalid_0's amex_top4: 0.645157\n",
      "[90]\tvalid_0's auc: 0.959019\tvalid_0's average_precision: 0.89196\tvalid_0's binary_logloss: 0.224984\tvalid_0's amex: 0.781396\tvalid_0's amex_gini: 0.918038\tvalid_0's amex_top4: 0.644754\n",
      "[91]\tvalid_0's auc: 0.959047\tvalid_0's average_precision: 0.89203\tvalid_0's binary_logloss: 0.224906\tvalid_0's amex: 0.781793\tvalid_0's amex_gini: 0.918093\tvalid_0's amex_top4: 0.645493\n",
      "[92]\tvalid_0's auc: 0.959085\tvalid_0's average_precision: 0.892141\tvalid_0's binary_logloss: 0.224797\tvalid_0's amex: 0.781848\tvalid_0's amex_gini: 0.918169\tvalid_0's amex_top4: 0.645526\n",
      "[93]\tvalid_0's auc: 0.959119\tvalid_0's average_precision: 0.892218\tvalid_0's binary_logloss: 0.224701\tvalid_0's amex: 0.781999\tvalid_0's amex_gini: 0.918238\tvalid_0's amex_top4: 0.645761\n",
      "[94]\tvalid_0's auc: 0.95914\tvalid_0's average_precision: 0.892289\tvalid_0's binary_logloss: 0.224634\tvalid_0's amex: 0.781986\tvalid_0's amex_gini: 0.918279\tvalid_0's amex_top4: 0.645694\n",
      "[95]\tvalid_0's auc: 0.959169\tvalid_0's average_precision: 0.89237\tvalid_0's binary_logloss: 0.22455\tvalid_0's amex: 0.782267\tvalid_0's amex_gini: 0.918337\tvalid_0's amex_top4: 0.646198\n",
      "[96]\tvalid_0's auc: 0.959195\tvalid_0's average_precision: 0.892437\tvalid_0's binary_logloss: 0.224474\tvalid_0's amex: 0.78226\tvalid_0's amex_gini: 0.918389\tvalid_0's amex_top4: 0.646131\n",
      "[97]\tvalid_0's auc: 0.959228\tvalid_0's average_precision: 0.892505\tvalid_0's binary_logloss: 0.224377\tvalid_0's amex: 0.782058\tvalid_0's amex_gini: 0.918456\tvalid_0's amex_top4: 0.645661\n",
      "[98]\tvalid_0's auc: 0.959249\tvalid_0's average_precision: 0.892557\tvalid_0's binary_logloss: 0.224316\tvalid_0's amex: 0.78233\tvalid_0's amex_gini: 0.918497\tvalid_0's amex_top4: 0.646164\n",
      "[99]\tvalid_0's auc: 0.959276\tvalid_0's average_precision: 0.892616\tvalid_0's binary_logloss: 0.224237\tvalid_0's amex: 0.78224\tvalid_0's amex_gini: 0.91855\tvalid_0's amex_top4: 0.645929\n",
      "[100]\tvalid_0's auc: 0.959312\tvalid_0's average_precision: 0.892686\tvalid_0's binary_logloss: 0.224141\tvalid_0's amex: 0.782796\tvalid_0's amex_gini: 0.918623\tvalid_0's amex_top4: 0.64697\n"
     ]
    },
    {
     "name": "stderr",
     "output_type": "stream",
     "text": [
      "2022/06/20 23:12:49 WARNING mlflow.utils.autologging_utils: MLflow autologging encountered a warning: \"/usr/local/lib/python3.8/dist-packages/mlflow/models/signature.py:129: UserWarning: Hint: Inferred schema contains integer column(s). Integer columns in Python cannot represent missing values. If your input data contains missing values at inference time, it will be encoded as floats and will cause a schema enforcement error. The best way to avoid this problem is to infer the model schema based on a realistic data sample (training dataset) that includes missing values. Alternatively, you can declare integer columns as doubles (float64) whenever these columns may have missing values. See `Handling Integers With Missing Values <https://www.mlflow.org/docs/latest/models.html#handling-integers-with-missing-values>`_ for more details.\"\n"
     ]
    },
    {
     "name": "stdout",
     "output_type": "stream",
     "text": [
      "CPU times: user 5min 37s, sys: 8.84 s, total: 5min 46s\n",
      "Wall time: 1min 45s\n"
     ]
    }
   ],
   "source": [
    "%%time\n",
    "import mlflow\n",
    "from lightgbm import LGBMClassifier\n",
    "from evaluation import feval_amex, feval_amex_gini, feval_amex_top4\n",
    "\n",
    "mlflow.lightgbm.autolog()\n",
    "experiment_id = mlflow.get_experiment_by_name('v2_agg+season.ipynb').experiment_id\n",
    "with mlflow.start_run(experiment_id=experiment_id) as run:\n",
    "    run_id = run.info.run_id\n",
    "    m = LGBMClassifier().fit(\n",
    "        X=X_train, y=y_train, categorical_feature=encs.columns_encoded,\n",
    "        eval_set=[(X_valid, y_valid)],\n",
    "        eval_metric=['auc', 'average_precision', feval_amex, feval_amex_gini, feval_amex_top4],\n",
    "    )"
   ]
  },
  {
   "cell_type": "code",
   "execution_count": 8,
   "metadata": {},
   "outputs": [
    {
     "ename": "",
     "evalue": "",
     "output_type": "error",
     "traceback": [
      "\u001b[1;31mCanceled future for execute_request message before replies were done"
     ]
    },
    {
     "ename": "",
     "evalue": "",
     "output_type": "error",
     "traceback": [
      "\u001b[1;31mThe Kernel crashed while executing code in the the current cell or a previous cell. Please review the code in the cell(s) to identify a possible cause of the failure. Click <a href='https://aka.ms/vscodeJupyterKernelCrash'>here</a> for more info. View Jupyter <a href='command:jupyter.viewOutput'>log</a> for further details."
     ]
    }
   ],
   "source": [
    "from format_data import PREDICTION_VARIABLE\n",
    "import pandas as pd\n",
    "\n",
    "pred_test = pd.DataFrame({\n",
    "    'customer_ID': test_pdf['customer_ID'],\n",
    "    PREDICTION_VARIABLE: m.predict(X_test, raw_score=True),\n",
    "})\n",
    "pred_test.head()"
   ]
  },
  {
   "cell_type": "code",
   "execution_count": null,
   "metadata": {},
   "outputs": [],
   "source": [
    "# pred_test.to_csv(f'{run_id}.csv', index=False)"
   ]
  },
  {
   "cell_type": "code",
   "execution_count": null,
   "metadata": {},
   "outputs": [],
   "source": [
    "# !kaggle competitions submit -c amex-default-prediction -f 0261ff0b99024adc88cd4b8566e2a4d1.csv -m \"experiments/7/runs/0261ff0b99024adc88cd4b8566e2a4d1\""
   ]
  }
 ],
 "metadata": {
  "kernelspec": {
   "display_name": "Python 3.8.10 64-bit",
   "language": "python",
   "name": "python3"
  },
  "language_info": {
   "codemirror_mode": {
    "name": "ipython",
    "version": 3
   },
   "file_extension": ".py",
   "mimetype": "text/x-python",
   "name": "python",
   "nbconvert_exporter": "python",
   "pygments_lexer": "ipython3",
   "version": "3.8.10"
  },
  "orig_nbformat": 4,
  "vscode": {
   "interpreter": {
    "hash": "e7370f93d1d0cde622a1f8e1c04877d8463912d04d973331ad4851f04de6915a"
   }
  }
 },
 "nbformat": 4,
 "nbformat_minor": 2
}
