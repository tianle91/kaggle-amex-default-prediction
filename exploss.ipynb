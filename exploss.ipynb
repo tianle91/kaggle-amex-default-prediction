{
 "cells": [
  {
   "cell_type": "code",
   "execution_count": 1,
   "metadata": {},
   "outputs": [
    {
     "name": "stderr",
     "output_type": "stream",
     "text": [
      "Warning: Ignoring non-Spark config property: Dio.netty.tryReflectionSetAccessible\n",
      "WARNING: An illegal reflective access operation has occurred\n",
      "WARNING: Illegal reflective access by org.apache.spark.unsafe.Platform (file:/usr/local/lib/python3.9/site-packages/pyspark/jars/spark-unsafe_2.12-3.2.0.jar) to constructor java.nio.DirectByteBuffer(long,int)\n",
      "WARNING: Please consider reporting this to the maintainers of org.apache.spark.unsafe.Platform\n",
      "WARNING: Use --illegal-access=warn to enable warnings of further illegal reflective access operations\n",
      "WARNING: All illegal access operations will be denied in a future release\n",
      "Using Spark's default log4j profile: org/apache/spark/log4j-defaults.properties\n",
      "Setting default log level to \"WARN\".\n",
      "To adjust logging level use sc.setLogLevel(newLevel). For SparkR, use setLogLevel(newLevel).\n",
      "22/08/09 12:54:20 WARN NativeCodeLoader: Unable to load native-hadoop library for your platform... using builtin-java classes where applicable\n",
      "                                                                                \r"
     ]
    },
    {
     "name": "stdout",
     "output_type": "stream",
     "text": [
      "sample_fraction: 0.1807843909310595\n"
     ]
    },
    {
     "name": "stderr",
     "output_type": "stream",
     "text": [
      "22/08/09 12:54:31 WARN package: Truncated the string representation of a plan since it was too large. This behavior can be adjusted by setting 'spark.sql.debug.maxToStringFields'.\n",
      "                                                                                \r"
     ]
    },
    {
     "name": "stdout",
     "output_type": "stream",
     "text": [
      "train_pdf.memory_usage in megabytes:  1459.77\n"
     ]
    }
   ],
   "source": [
    "from spark_utils import SparkSessionContext\n",
    "from format_data import TARGET_VARIABLE\n",
    "from pyspark.sql.window import Window\n",
    "import pyspark.sql.functions as F\n",
    "\n",
    "with SparkSessionContext() as spark:\n",
    "    train_data = spark.read.parquet('data/amex-default-prediction/train_data')\n",
    "    train_labels = spark.read.parquet('data/amex-default-prediction/train_labels')\n",
    "\n",
    "    window_latest_date_by_id = (\n",
    "        Window\n",
    "        .partitionBy('customer_ID')\n",
    "        .orderBy(F.col('S_2').desc())\n",
    "        .rangeBetween(\n",
    "            Window.unboundedPreceding,\n",
    "            Window.unboundedFollowing,\n",
    "        )\n",
    "    )\n",
    "\n",
    "    train_data_labelled = (\n",
    "        train_data\n",
    "        .join(train_labels, on='customer_ID', how='inner')\n",
    "        .withColumn('S_2_max', F.max('S_2').over(window_latest_date_by_id))\n",
    "        .withColumn('days_to_S_2_max', F.datediff(end='S_2_max', start='S_2'))\n",
    "    )\n",
    "    sample_num_rows = 1000000\n",
    "    sample_fraction = sample_num_rows / train_data_labelled.count()\n",
    "    print(f'sample_fraction: {sample_fraction}')\n",
    "\n",
    "    train_pdf = train_data_labelled.sample(fraction=sample_fraction).toPandas()\n",
    "    train_pdf_bytes = train_pdf.memory_usage(deep=True).sum()\n",
    "    print(\n",
    "        f'train_pdf.memory_usage in megabytes: {train_pdf_bytes / 1048576: .2f}')"
   ]
  },
  {
   "cell_type": "code",
   "execution_count": 2,
   "metadata": {},
   "outputs": [
    {
     "data": {
      "text/html": [
       "<style>#sk-container-id-1 {color: black;background-color: white;}#sk-container-id-1 pre{padding: 0;}#sk-container-id-1 div.sk-toggleable {background-color: white;}#sk-container-id-1 label.sk-toggleable__label {cursor: pointer;display: block;width: 100%;margin-bottom: 0;padding: 0.3em;box-sizing: border-box;text-align: center;}#sk-container-id-1 label.sk-toggleable__label-arrow:before {content: \"▸\";float: left;margin-right: 0.25em;color: #696969;}#sk-container-id-1 label.sk-toggleable__label-arrow:hover:before {color: black;}#sk-container-id-1 div.sk-estimator:hover label.sk-toggleable__label-arrow:before {color: black;}#sk-container-id-1 div.sk-toggleable__content {max-height: 0;max-width: 0;overflow: hidden;text-align: left;background-color: #f0f8ff;}#sk-container-id-1 div.sk-toggleable__content pre {margin: 0.2em;color: black;border-radius: 0.25em;background-color: #f0f8ff;}#sk-container-id-1 input.sk-toggleable__control:checked~div.sk-toggleable__content {max-height: 200px;max-width: 100%;overflow: auto;}#sk-container-id-1 input.sk-toggleable__control:checked~label.sk-toggleable__label-arrow:before {content: \"▾\";}#sk-container-id-1 div.sk-estimator input.sk-toggleable__control:checked~label.sk-toggleable__label {background-color: #d4ebff;}#sk-container-id-1 div.sk-label input.sk-toggleable__control:checked~label.sk-toggleable__label {background-color: #d4ebff;}#sk-container-id-1 input.sk-hidden--visually {border: 0;clip: rect(1px 1px 1px 1px);clip: rect(1px, 1px, 1px, 1px);height: 1px;margin: -1px;overflow: hidden;padding: 0;position: absolute;width: 1px;}#sk-container-id-1 div.sk-estimator {font-family: monospace;background-color: #f0f8ff;border: 1px dotted black;border-radius: 0.25em;box-sizing: border-box;margin-bottom: 0.5em;}#sk-container-id-1 div.sk-estimator:hover {background-color: #d4ebff;}#sk-container-id-1 div.sk-parallel-item::after {content: \"\";width: 100%;border-bottom: 1px solid gray;flex-grow: 1;}#sk-container-id-1 div.sk-label:hover label.sk-toggleable__label {background-color: #d4ebff;}#sk-container-id-1 div.sk-serial::before {content: \"\";position: absolute;border-left: 1px solid gray;box-sizing: border-box;top: 0;bottom: 0;left: 50%;z-index: 0;}#sk-container-id-1 div.sk-serial {display: flex;flex-direction: column;align-items: center;background-color: white;padding-right: 0.2em;padding-left: 0.2em;position: relative;}#sk-container-id-1 div.sk-item {position: relative;z-index: 1;}#sk-container-id-1 div.sk-parallel {display: flex;align-items: stretch;justify-content: center;background-color: white;position: relative;}#sk-container-id-1 div.sk-item::before, #sk-container-id-1 div.sk-parallel-item::before {content: \"\";position: absolute;border-left: 1px solid gray;box-sizing: border-box;top: 0;bottom: 0;left: 50%;z-index: -1;}#sk-container-id-1 div.sk-parallel-item {display: flex;flex-direction: column;z-index: 1;position: relative;background-color: white;}#sk-container-id-1 div.sk-parallel-item:first-child::after {align-self: flex-end;width: 50%;}#sk-container-id-1 div.sk-parallel-item:last-child::after {align-self: flex-start;width: 50%;}#sk-container-id-1 div.sk-parallel-item:only-child::after {width: 0;}#sk-container-id-1 div.sk-dashed-wrapped {border: 1px dashed gray;margin: 0 0.4em 0.5em 0.4em;box-sizing: border-box;padding-bottom: 0.4em;background-color: white;}#sk-container-id-1 div.sk-label label {font-family: monospace;font-weight: bold;display: inline-block;line-height: 1.2em;}#sk-container-id-1 div.sk-label-container {text-align: center;}#sk-container-id-1 div.sk-container {/* jupyter's `normalize.less` sets `[hidden] { display: none; }` but bootstrap.min.css set `[hidden] { display: none !important; }` so we also need the `!important` here to be able to override the default hidden behavior on the sphinx rendered scikit-learn.org. See: https://github.com/scikit-learn/scikit-learn/issues/21755 */display: inline-block !important;position: relative;}#sk-container-id-1 div.sk-text-repr-fallback {display: none;}</style><div id=\"sk-container-id-1\" class=\"sk-top-container\"><div class=\"sk-text-repr-fallback\"><pre>ColumnTransformer(transformers=[(&#x27;&#x27;, &#x27;passthrough&#x27;,\n",
       "                                 [&#x27;customer_ID&#x27;, &#x27;S_2&#x27;, &#x27;target&#x27;, &#x27;S_2_max&#x27;,\n",
       "                                  &#x27;days_to_S_2_max&#x27;]),\n",
       "                                (&#x27;Qtl&#x27;, QuantileTransformer(),\n",
       "                                 [&#x27;D_69&#x27;, &#x27;D_86&#x27;, &#x27;D_84&#x27;, &#x27;R_16&#x27;, &#x27;D_78&#x27;,\n",
       "                                  &#x27;B_32&#x27;, &#x27;D_128&#x27;, &#x27;D_77&#x27;, &#x27;D_81&#x27;, &#x27;S_16&#x27;,\n",
       "                                  &#x27;R_22&#x27;, &#x27;D_82&#x27;, &#x27;R_6&#x27;, &#x27;S_11&#x27;, &#x27;R_23&#x27;,\n",
       "                                  &#x27;D_132&#x27;, &#x27;D_102&#x27;, &#x27;B_16&#x27;, &#x27;B_33&#x27;, &#x27;B_26&#x27;,\n",
       "                                  &#x27;R_20&#x27;, &#x27;D_93&#x27;, &#x27;D_131&#x27;, &#x27;D_61&#x27;, &#x27;D_130&#x27;,\n",
       "                                  &#x27;D_58&#x27;, &#x27;P_4&#x27;, &#x27;S_27&#x27;, &#x27;D_76&#x27;, &#x27;R_11&#x27;, ...]),\n",
       "                                (&#x27;Ohe&#x27;,\n",
       "                                 OneHotEncoder(dtype=&lt;class &#x27;int&#x27;&gt;,\n",
       "                                               handle_unknown=&#x27;ignore&#x27;),\n",
       "                                 [&#x27;B_30&#x27;, &#x27;B_38&#x27;, &#x27;D_114&#x27;, &#x27;D_116&#x27;, &#x27;D_117&#x27;,\n",
       "                                  &#x27;D_120&#x27;, &#x27;D_126&#x27;, &#x27;D_63&#x27;, &#x27;D_64&#x27;, &#x27;D_66&#x27;,\n",
       "                                  &#x27;D_68&#x27;])],\n",
       "                  verbose_feature_names_out=False)</pre><b>In a Jupyter environment, please rerun this cell to show the HTML representation or trust the notebook. <br />On GitHub, the HTML representation is unable to render, please try loading this page with nbviewer.org.</b></div><div class=\"sk-container\" hidden><div class=\"sk-item sk-dashed-wrapped\"><div class=\"sk-label-container\"><div class=\"sk-label sk-toggleable\"><input class=\"sk-toggleable__control sk-hidden--visually\" id=\"sk-estimator-id-1\" type=\"checkbox\" ><label for=\"sk-estimator-id-1\" class=\"sk-toggleable__label sk-toggleable__label-arrow\">ColumnTransformer</label><div class=\"sk-toggleable__content\"><pre>ColumnTransformer(transformers=[(&#x27;&#x27;, &#x27;passthrough&#x27;,\n",
       "                                 [&#x27;customer_ID&#x27;, &#x27;S_2&#x27;, &#x27;target&#x27;, &#x27;S_2_max&#x27;,\n",
       "                                  &#x27;days_to_S_2_max&#x27;]),\n",
       "                                (&#x27;Qtl&#x27;, QuantileTransformer(),\n",
       "                                 [&#x27;D_69&#x27;, &#x27;D_86&#x27;, &#x27;D_84&#x27;, &#x27;R_16&#x27;, &#x27;D_78&#x27;,\n",
       "                                  &#x27;B_32&#x27;, &#x27;D_128&#x27;, &#x27;D_77&#x27;, &#x27;D_81&#x27;, &#x27;S_16&#x27;,\n",
       "                                  &#x27;R_22&#x27;, &#x27;D_82&#x27;, &#x27;R_6&#x27;, &#x27;S_11&#x27;, &#x27;R_23&#x27;,\n",
       "                                  &#x27;D_132&#x27;, &#x27;D_102&#x27;, &#x27;B_16&#x27;, &#x27;B_33&#x27;, &#x27;B_26&#x27;,\n",
       "                                  &#x27;R_20&#x27;, &#x27;D_93&#x27;, &#x27;D_131&#x27;, &#x27;D_61&#x27;, &#x27;D_130&#x27;,\n",
       "                                  &#x27;D_58&#x27;, &#x27;P_4&#x27;, &#x27;S_27&#x27;, &#x27;D_76&#x27;, &#x27;R_11&#x27;, ...]),\n",
       "                                (&#x27;Ohe&#x27;,\n",
       "                                 OneHotEncoder(dtype=&lt;class &#x27;int&#x27;&gt;,\n",
       "                                               handle_unknown=&#x27;ignore&#x27;),\n",
       "                                 [&#x27;B_30&#x27;, &#x27;B_38&#x27;, &#x27;D_114&#x27;, &#x27;D_116&#x27;, &#x27;D_117&#x27;,\n",
       "                                  &#x27;D_120&#x27;, &#x27;D_126&#x27;, &#x27;D_63&#x27;, &#x27;D_64&#x27;, &#x27;D_66&#x27;,\n",
       "                                  &#x27;D_68&#x27;])],\n",
       "                  verbose_feature_names_out=False)</pre></div></div></div><div class=\"sk-parallel\"><div class=\"sk-parallel-item\"><div class=\"sk-item\"><div class=\"sk-serial\"><div class=\"sk-item\"><div class=\"sk-estimator sk-toggleable\"><input class=\"sk-toggleable__control sk-hidden--visually\" id=\"sk-estimator-id-2\" type=\"checkbox\" ><label for=\"sk-estimator-id-2\" class=\"sk-toggleable__label sk-toggleable__label-arrow\">passthrough</label><div class=\"sk-toggleable__content\"><pre>passthrough</pre></div></div></div></div></div></div><div class=\"sk-parallel-item\"><div class=\"sk-item\"><div class=\"sk-label-container\"><div class=\"sk-label sk-toggleable\"><input class=\"sk-toggleable__control sk-hidden--visually\" id=\"sk-estimator-id-3\" type=\"checkbox\" ><label for=\"sk-estimator-id-3\" class=\"sk-toggleable__label sk-toggleable__label-arrow\">Qtl</label><div class=\"sk-toggleable__content\"><pre>[&#x27;D_69&#x27;, &#x27;D_86&#x27;, &#x27;D_84&#x27;, &#x27;R_16&#x27;, &#x27;D_78&#x27;, &#x27;B_32&#x27;, &#x27;D_128&#x27;, &#x27;D_77&#x27;, &#x27;D_81&#x27;, &#x27;S_16&#x27;, &#x27;R_22&#x27;, &#x27;D_82&#x27;, &#x27;R_6&#x27;, &#x27;S_11&#x27;, &#x27;R_23&#x27;, &#x27;D_132&#x27;, &#x27;D_102&#x27;, &#x27;B_16&#x27;, &#x27;B_33&#x27;, &#x27;B_26&#x27;, &#x27;R_20&#x27;, &#x27;D_93&#x27;, &#x27;D_131&#x27;, &#x27;D_61&#x27;, &#x27;D_130&#x27;, &#x27;D_58&#x27;, &#x27;P_4&#x27;, &#x27;S_27&#x27;, &#x27;D_76&#x27;, &#x27;R_11&#x27;, &#x27;B_29&#x27;, &#x27;D_124&#x27;, &#x27;S_19&#x27;, &#x27;R_1&#x27;, &#x27;D_91&#x27;, &#x27;D_121&#x27;, &#x27;B_12&#x27;, &#x27;D_46&#x27;, &#x27;D_113&#x27;, &#x27;B_24&#x27;, &#x27;D_87&#x27;, &#x27;B_8&#x27;, &#x27;D_56&#x27;, &#x27;S_7&#x27;, &#x27;D_110&#x27;, &#x27;S_18&#x27;, &#x27;R_27&#x27;, &#x27;D_111&#x27;, &#x27;D_119&#x27;, &#x27;R_2&#x27;, &#x27;B_19&#x27;, &#x27;D_125&#x27;, &#x27;R_7&#x27;, &#x27;B_25&#x27;, &#x27;D_92&#x27;, &#x27;D_127&#x27;, &#x27;D_143&#x27;, &#x27;D_134&#x27;, &#x27;D_43&#x27;, &#x27;R_13&#x27;, &#x27;S_8&#x27;, &#x27;S_22&#x27;, &#x27;B_13&#x27;, &#x27;B_18&#x27;, &#x27;B_27&#x27;, &#x27;B_37&#x27;, &#x27;D_48&#x27;, &#x27;D_145&#x27;, &#x27;D_62&#x27;, &#x27;D_137&#x27;, &#x27;B_11&#x27;, &#x27;S_23&#x27;, &#x27;D_70&#x27;, &#x27;R_25&#x27;, &#x27;D_41&#x27;, &#x27;B_10&#x27;, &#x27;D_89&#x27;, &#x27;D_59&#x27;, &#x27;R_17&#x27;, &#x27;D_60&#x27;, &#x27;D_96&#x27;, &#x27;D_54&#x27;, &#x27;B_1&#x27;, &#x27;D_51&#x27;, &#x27;R_19&#x27;, &#x27;R_28&#x27;, &#x27;B_7&#x27;, &#x27;B_28&#x27;, &#x27;R_10&#x27;, &#x27;D_88&#x27;, &#x27;S_6&#x27;, &#x27;D_53&#x27;, &#x27;B_23&#x27;, &#x27;D_136&#x27;, &#x27;R_3&#x27;, &#x27;R_18&#x27;, &#x27;D_49&#x27;, &#x27;S_26&#x27;, &#x27;R_26&#x27;, &#x27;S_20&#x27;, &#x27;D_105&#x27;, &#x27;S_13&#x27;, &#x27;B_20&#x27;, &#x27;R_24&#x27;, &#x27;B_22&#x27;, &#x27;S_24&#x27;, &#x27;D_140&#x27;, &#x27;D_52&#x27;, &#x27;S_12&#x27;, &#x27;B_14&#x27;, &#x27;D_94&#x27;, &#x27;B_9&#x27;, &#x27;S_17&#x27;, &#x27;D_74&#x27;, &#x27;P_2&#x27;, &#x27;S_3&#x27;, &#x27;D_71&#x27;, &#x27;S_5&#x27;, &#x27;B_5&#x27;, &#x27;D_65&#x27;, &#x27;D_83&#x27;, &#x27;B_40&#x27;, &#x27;D_115&#x27;, &#x27;D_122&#x27;, &#x27;D_104&#x27;, &#x27;D_47&#x27;, &#x27;R_5&#x27;, &#x27;S_9&#x27;, &#x27;B_3&#x27;, &#x27;D_108&#x27;, &#x27;D_80&#x27;, &#x27;D_142&#x27;, &#x27;D_139&#x27;, &#x27;D_106&#x27;, &#x27;D_112&#x27;, &#x27;R_15&#x27;, &#x27;R_4&#x27;, &#x27;B_41&#x27;, &#x27;D_39&#x27;, &#x27;R_9&#x27;, &#x27;R_21&#x27;, &#x27;D_79&#x27;, &#x27;B_6&#x27;, &#x27;B_36&#x27;, &#x27;R_12&#x27;, &#x27;S_25&#x27;, &#x27;B_39&#x27;, &#x27;D_133&#x27;, &#x27;B_15&#x27;, &#x27;B_4&#x27;, &#x27;D_45&#x27;, &#x27;B_21&#x27;, &#x27;B_42&#x27;, &#x27;D_44&#x27;, &#x27;D_72&#x27;, &#x27;D_109&#x27;, &#x27;D_123&#x27;, &#x27;D_138&#x27;, &#x27;B_2&#x27;, &#x27;B_31&#x27;, &#x27;D_103&#x27;, &#x27;P_3&#x27;, &#x27;B_17&#x27;, &#x27;D_141&#x27;, &#x27;R_8&#x27;, &#x27;D_144&#x27;, &#x27;R_14&#x27;, &#x27;D_135&#x27;, &#x27;D_50&#x27;, &#x27;D_73&#x27;, &#x27;D_118&#x27;, &#x27;D_55&#x27;, &#x27;S_15&#x27;, &#x27;D_129&#x27;, &#x27;D_75&#x27;, &#x27;D_42&#x27;, &#x27;D_107&#x27;]</pre></div></div></div><div class=\"sk-serial\"><div class=\"sk-item\"><div class=\"sk-estimator sk-toggleable\"><input class=\"sk-toggleable__control sk-hidden--visually\" id=\"sk-estimator-id-4\" type=\"checkbox\" ><label for=\"sk-estimator-id-4\" class=\"sk-toggleable__label sk-toggleable__label-arrow\">QuantileTransformer</label><div class=\"sk-toggleable__content\"><pre>QuantileTransformer()</pre></div></div></div></div></div></div><div class=\"sk-parallel-item\"><div class=\"sk-item\"><div class=\"sk-label-container\"><div class=\"sk-label sk-toggleable\"><input class=\"sk-toggleable__control sk-hidden--visually\" id=\"sk-estimator-id-5\" type=\"checkbox\" ><label for=\"sk-estimator-id-5\" class=\"sk-toggleable__label sk-toggleable__label-arrow\">Ohe</label><div class=\"sk-toggleable__content\"><pre>[&#x27;B_30&#x27;, &#x27;B_38&#x27;, &#x27;D_114&#x27;, &#x27;D_116&#x27;, &#x27;D_117&#x27;, &#x27;D_120&#x27;, &#x27;D_126&#x27;, &#x27;D_63&#x27;, &#x27;D_64&#x27;, &#x27;D_66&#x27;, &#x27;D_68&#x27;]</pre></div></div></div><div class=\"sk-serial\"><div class=\"sk-item\"><div class=\"sk-estimator sk-toggleable\"><input class=\"sk-toggleable__control sk-hidden--visually\" id=\"sk-estimator-id-6\" type=\"checkbox\" ><label for=\"sk-estimator-id-6\" class=\"sk-toggleable__label sk-toggleable__label-arrow\">OneHotEncoder</label><div class=\"sk-toggleable__content\"><pre>OneHotEncoder(dtype=&lt;class &#x27;int&#x27;&gt;, handle_unknown=&#x27;ignore&#x27;)</pre></div></div></div></div></div></div></div></div></div></div>"
      ],
      "text/plain": [
       "ColumnTransformer(transformers=[('', 'passthrough',\n",
       "                                 ['customer_ID', 'S_2', 'target', 'S_2_max',\n",
       "                                  'days_to_S_2_max']),\n",
       "                                ('Qtl', QuantileTransformer(),\n",
       "                                 ['D_69', 'D_86', 'D_84', 'R_16', 'D_78',\n",
       "                                  'B_32', 'D_128', 'D_77', 'D_81', 'S_16',\n",
       "                                  'R_22', 'D_82', 'R_6', 'S_11', 'R_23',\n",
       "                                  'D_132', 'D_102', 'B_16', 'B_33', 'B_26',\n",
       "                                  'R_20', 'D_93', 'D_131', 'D_61', 'D_130',\n",
       "                                  'D_58', 'P_4', 'S_27', 'D_76', 'R_11', ...]),\n",
       "                                ('Ohe',\n",
       "                                 OneHotEncoder(dtype=<class 'int'>,\n",
       "                                               handle_unknown='ignore'),\n",
       "                                 ['B_30', 'B_38', 'D_114', 'D_116', 'D_117',\n",
       "                                  'D_120', 'D_126', 'D_63', 'D_64', 'D_66',\n",
       "                                  'D_68'])],\n",
       "                  verbose_feature_names_out=False)"
      ]
     },
     "execution_count": 2,
     "metadata": {},
     "output_type": "execute_result"
    }
   ],
   "source": [
    "from format_data import CATEGORICAL_VARIABLES, FEATURE_VARIABLES, TARGET_VARIABLE, DATE_VARIABLES, ID_VARIABLES\n",
    "from sklearn.preprocessing import OneHotEncoder, QuantileTransformer\n",
    "from sklearn.compose import ColumnTransformer\n",
    "\n",
    "passthrough_features = [\n",
    "    *ID_VARIABLES,\n",
    "    *DATE_VARIABLES,\n",
    "    TARGET_VARIABLE,\n",
    "    'S_2_max',\n",
    "    'days_to_S_2_max',\n",
    "]\n",
    "numerical_features = list(set(FEATURE_VARIABLES) - set(CATEGORICAL_VARIABLES))\n",
    "categorical_features = CATEGORICAL_VARIABLES\n",
    "\n",
    "\n",
    "trf = ColumnTransformer(\n",
    "    transformers=[\n",
    "        # name, transformer, columns\n",
    "        ('', 'passthrough', passthrough_features),\n",
    "        ('Qtl', QuantileTransformer(), numerical_features),\n",
    "        ('Ohe', OneHotEncoder(dtype=int, handle_unknown='ignore'), categorical_features),\n",
    "    ],\n",
    "    verbose_feature_names_out=False\n",
    ")\n",
    "trf.fit(train_pdf)\n"
   ]
  },
  {
   "cell_type": "code",
   "execution_count": 3,
   "metadata": {},
   "outputs": [
    {
     "data": {
      "text/plain": [
       "232"
      ]
     },
     "execution_count": 3,
     "metadata": {},
     "output_type": "execute_result"
    }
   ],
   "source": [
    "feature_columns = list(set(trf.get_feature_names_out(train_pdf.columns)) - set(passthrough_features))\n",
    "len(feature_columns)"
   ]
  },
  {
   "cell_type": "code",
   "execution_count": 4,
   "metadata": {},
   "outputs": [
    {
     "name": "stdout",
     "output_type": "stream",
     "text": [
      "Transform shape: (997699, 193) -> (997699, 237)\n",
      "Transformed feature names:\n",
      "customer_ID, S_2, target, S_2_max, days_to_S_2_max, D_69, D_86, D_84, R_16, D_78, B_32, D_128, D_77, D_81, S_16, R_22, D_82, R_6, S_11, R_23, D_132, D_102, B_16, B_33, B_26, R_20, D_93, D_131, D_61, D_130, D_58, P_4, S_27, D_76, R_11, B_29, D_124, S_19, R_1, D_91, D_121, B_12, D_46, D_113, B_24, D_87, B_8, D_56, S_7, D_110, S_18, R_27, D_111, D_119, R_2, B_19, D_125, R_7, B_25, D_92, D_127, D_143, D_134, D_43, R_13, S_8, S_22, B_13, B_18, B_27, B_37, D_48, D_145, D_62, D_137, B_11, S_23, D_70, R_25, D_41, B_10, D_89, D_59, R_17, D_60, D_96, D_54, B_1, D_51, R_19, R_28, B_7, B_28, R_10, D_88, S_6, D_53, B_23, D_136, R_3, R_18, D_49, S_26, R_26, S_20, D_105, S_13, B_20, R_24, B_22, S_24, D_140, D_52, S_12, B_14, D_94, B_9, S_17, D_74, P_2, S_3, D_71, S_5, B_5, D_65, D_83, B_40, D_115, D_122, D_104, D_47, R_5, S_9, B_3, D_108, D_80, D_142, D_139, D_106, D_112, R_15, R_4, B_41, D_39, R_9, R_21, D_79, B_6, B_36, R_12, S_25, B_39, D_133, B_15, B_4, D_45, B_21, B_42, D_44, D_72, D_109, D_123, D_138, B_2, B_31, D_103, P_3, B_17, D_141, R_8, D_144, R_14, D_135, D_50, D_73, D_118, D_55, S_15, D_129, D_75, D_42, D_107, B_30_0.0, B_30_1.0, B_30_2.0, B_30_None, B_38_1.0, B_38_2.0, B_38_3.0, B_38_4.0, B_38_5.0, B_38_6.0, B_38_7.0, B_38_None, D_114_0.0, D_114_1.0, D_114_None, D_116_0.0, D_116_1.0, D_116_None, D_117_-1.0, D_117_1.0, D_117_2.0, D_117_3.0, D_117_4.0, D_117_5.0, D_117_6.0, D_117_None, D_120_0.0, D_120_1.0, D_120_None, D_126_-1.0, D_126_0.0, D_126_1.0, D_126_None, D_63_CL, D_63_CO, D_63_CR, D_63_XL, D_63_XM, D_63_XZ, D_64_-1, D_64_O, D_64_R, D_64_U, D_64_None, D_66_0.0, D_66_1.0, D_66_None, D_68_0.0, D_68_1.0, D_68_2.0, D_68_3.0, D_68_4.0, D_68_5.0, D_68_6.0, D_68_None\n"
     ]
    }
   ],
   "source": [
    "import pandas as pd\n",
    "\n",
    "fit_pdf = pd.DataFrame(\n",
    "    trf.transform(train_pdf),\n",
    "    columns=trf.get_feature_names_out(train_pdf.columns)\n",
    ").fillna(0)\n",
    "print(\n",
    "    f'Transform shape: {train_pdf.shape} -> {fit_pdf.shape}\\n'\n",
    "    + 'Transformed feature names:\\n'\n",
    "    + ', '.join(trf.get_feature_names_out(train_pdf.columns))\n",
    ")"
   ]
  },
  {
   "cell_type": "code",
   "execution_count": 5,
   "metadata": {},
   "outputs": [
    {
     "name": "stderr",
     "output_type": "stream",
     "text": [
      "/usr/local/lib/python3.9/site-packages/tqdm/auto.py:22: TqdmWarning: IProgress not found. Please update jupyter and ipywidgets. See https://ipywidgets.readthedocs.io/en/stable/user_install.html\n",
      "  from .autonotebook import tqdm as notebook_tqdm\n"
     ]
    }
   ],
   "source": [
    "import torch.nn as nn\n",
    "import torch.nn.functional as F\n",
    "\n",
    "class Model(nn.Module):\n",
    "    def __init__(self):\n",
    "        super().__init__()\n",
    "        self.linear1 = nn.Linear(len(feature_columns), 100)\n",
    "        self.linear2 = nn.Linear(100, 10)\n",
    "        self.linear3 = nn.Linear(10, 1)\n",
    "        self.softplus = nn.Softplus()\n",
    "\n",
    "    def forward(self, x):\n",
    "        x = self.linear1(torch.sigmoid(x))\n",
    "        x = self.linear2(torch.sigmoid(x))\n",
    "        x = self.linear3(torch.sigmoid(x))\n",
    "        x = self.softplus(x)\n",
    "        return x"
   ]
  },
  {
   "cell_type": "code",
   "execution_count": 6,
   "metadata": {},
   "outputs": [],
   "source": [
    "import torch\n",
    "\n",
    "def log_surv(scale: torch.tensor, t: torch.tensor) -> torch.tensor:\n",
    "    return -t/scale\n",
    "\n",
    "def log_density(scale: torch.tensor, t: torch.tensor) -> torch.tensor:\n",
    "    return -torch.log(scale) - t / scale\n",
    "\n",
    "def nll(scale: torch.tensor, days_to_last_statement: torch.tensor, is_defaulted: torch.tensor):\n",
    "    return -torch.mean(torch.where(\n",
    "        is_defaulted, \n",
    "        log_density(scale=scale, t=days_to_last_statement),\n",
    "        log_surv(scale=scale, t=days_to_last_statement),\n",
    "    ))"
   ]
  },
  {
   "cell_type": "code",
   "execution_count": 7,
   "metadata": {},
   "outputs": [
    {
     "name": "stdout",
     "output_type": "stream",
     "text": [
      "0 197.34136962890625\n",
      "25 134.53286743164062\n",
      "50 117.17635345458984\n",
      "75 106.55329895019531\n",
      "100 99.89532470703125\n",
      "125 92.96701049804688\n",
      "150 88.06147766113281\n",
      "175 82.30079650878906\n",
      "200 79.21365356445312\n",
      "225 76.15546417236328\n",
      "250 72.36813354492188\n",
      "275 69.11006164550781\n",
      "300 67.17908477783203\n",
      "325 64.99711608886719\n",
      "350 63.3442497253418\n",
      "375 61.31256866455078\n",
      "400 59.090179443359375\n",
      "425 58.2453498840332\n",
      "450 56.320892333984375\n",
      "475 54.26259994506836\n",
      "500 53.38283920288086\n",
      "525 52.31086730957031\n",
      "550 50.67742919921875\n",
      "575 50.07609176635742\n",
      "600 48.63405227661133\n",
      "625 47.71711730957031\n",
      "650 47.32984924316406\n",
      "675 46.46696853637695\n",
      "700 45.22964096069336\n",
      "725 44.517494201660156\n",
      "750 44.02064514160156\n",
      "775 43.27619552612305\n",
      "800 42.92375946044922\n",
      "825 42.431312561035156\n",
      "850 40.951717376708984\n",
      "875 40.98512649536133\n",
      "900 39.7378044128418\n",
      "925 39.33896255493164\n",
      "950 38.707313537597656\n",
      "975 38.5063362121582\n"
     ]
    }
   ],
   "source": [
    "import torch.optim as optim\n",
    "import numpy as np\n",
    "\n",
    "m = Model()\n",
    "optimizer = optim.Adam(m.parameters())\n",
    "\n",
    "for i in range(1000):\n",
    "    fit_pdf_small = fit_pdf.sample(10000, ignore_index=True)\n",
    "\n",
    "    inputs = torch.tensor(np.array(fit_pdf_small[feature_columns])).float()\n",
    "    days_to_last_statement = torch.tensor(fit_pdf_small['days_to_S_2_max']).reshape((-1, 1)).float()\n",
    "    is_defaulted = torch.tensor(fit_pdf_small[TARGET_VARIABLE] == 1.).reshape((-1, 1))\n",
    "\n",
    "    optimizer.zero_grad()\n",
    "    rate = m(torch.nan_to_num(inputs))\n",
    "    loss = nll(rate, days_to_last_statement, is_defaulted)\n",
    "    if i % 25 == 0:\n",
    "        print(i, loss.item())\n",
    "\n",
    "    # torch.nn.utils.clip_grad_norm_(m.parameters(), max_norm=1.)\n",
    "    loss.backward()\n",
    "    optimizer.step()\n"
   ]
  },
  {
   "cell_type": "code",
   "execution_count": 8,
   "metadata": {},
   "outputs": [],
   "source": [
    "from format_data import PREDICTION_VARIABLE\n",
    "import pandas as pd\n",
    "\n",
    "with torch.no_grad():\n",
    "    inputs = torch.tensor(np.array(fit_pdf[feature_columns])).float()\n",
    "    rate = np.array(m(torch.nan_to_num(inputs))).flatten()\n",
    "    pred_df = pd.DataFrame({\n",
    "        PREDICTION_VARIABLE: rate,\n",
    "        'customer_ID': fit_pdf['customer_ID'],\n",
    "        'S_2': fit_pdf['S_2'],\n",
    "        'S_2_max': fit_pdf['S_2_max'],\n",
    "    })"
   ]
  },
  {
   "cell_type": "code",
   "execution_count": 9,
   "metadata": {},
   "outputs": [
    {
     "data": {
      "text/html": [
       "<div>\n",
       "<style scoped>\n",
       "    .dataframe tbody tr th:only-of-type {\n",
       "        vertical-align: middle;\n",
       "    }\n",
       "\n",
       "    .dataframe tbody tr th {\n",
       "        vertical-align: top;\n",
       "    }\n",
       "\n",
       "    .dataframe thead th {\n",
       "        text-align: right;\n",
       "    }\n",
       "</style>\n",
       "<table border=\"1\" class=\"dataframe\">\n",
       "  <thead>\n",
       "    <tr style=\"text-align: right;\">\n",
       "      <th></th>\n",
       "      <th>customer_ID</th>\n",
       "      <th>prediction</th>\n",
       "    </tr>\n",
       "  </thead>\n",
       "  <tbody>\n",
       "    <tr>\n",
       "      <th>0</th>\n",
       "      <td>00d769dbf0a5e3e73a8223566b33adc5686954dd337359...</td>\n",
       "      <td>4.701720</td>\n",
       "    </tr>\n",
       "    <tr>\n",
       "      <th>1</th>\n",
       "      <td>01439ee3abf1b4552d54f75cc46d18e1f9d4aed4b816de...</td>\n",
       "      <td>4.701695</td>\n",
       "    </tr>\n",
       "    <tr>\n",
       "      <th>2</th>\n",
       "      <td>01500e2a9f82cfab49e8abb8ebf2101abea15287012509...</td>\n",
       "      <td>4.701704</td>\n",
       "    </tr>\n",
       "    <tr>\n",
       "      <th>3</th>\n",
       "      <td>017c62c2d536df82410d9f3427c2da1f8d3c277efe592b...</td>\n",
       "      <td>4.701714</td>\n",
       "    </tr>\n",
       "    <tr>\n",
       "      <th>4</th>\n",
       "      <td>01f3396eacb7b77bae4ed9058ac5e596ea33b921b89509...</td>\n",
       "      <td>4.701694</td>\n",
       "    </tr>\n",
       "    <tr>\n",
       "      <th>...</th>\n",
       "      <td>...</td>\n",
       "      <td>...</td>\n",
       "    </tr>\n",
       "    <tr>\n",
       "      <th>83184</th>\n",
       "      <td>ff8c898ca80f20d794e6f5829b26d637c3edd0267f358f...</td>\n",
       "      <td>4.701713</td>\n",
       "    </tr>\n",
       "    <tr>\n",
       "      <th>83185</th>\n",
       "      <td>ffa47104b584db6ba11affb18ae14932320bac18bc0226...</td>\n",
       "      <td>4.701720</td>\n",
       "    </tr>\n",
       "    <tr>\n",
       "      <th>83186</th>\n",
       "      <td>ffc0893ba6cd0c90d794da28bae8fa810ef9c17db24947...</td>\n",
       "      <td>4.701696</td>\n",
       "    </tr>\n",
       "    <tr>\n",
       "      <th>83187</th>\n",
       "      <td>ffd968fe02b1dfa9e26e3369e36e2c5b67fa9d42f9f926...</td>\n",
       "      <td>4.701724</td>\n",
       "    </tr>\n",
       "    <tr>\n",
       "      <th>83188</th>\n",
       "      <td>ffdbfc624676e06b1b8c5b45c8ce5fd08e1aad96797b6d...</td>\n",
       "      <td>4.701706</td>\n",
       "    </tr>\n",
       "  </tbody>\n",
       "</table>\n",
       "<p>83189 rows × 2 columns</p>\n",
       "</div>"
      ],
      "text/plain": [
       "                                             customer_ID  prediction\n",
       "0      00d769dbf0a5e3e73a8223566b33adc5686954dd337359...    4.701720\n",
       "1      01439ee3abf1b4552d54f75cc46d18e1f9d4aed4b816de...    4.701695\n",
       "2      01500e2a9f82cfab49e8abb8ebf2101abea15287012509...    4.701704\n",
       "3      017c62c2d536df82410d9f3427c2da1f8d3c277efe592b...    4.701714\n",
       "4      01f3396eacb7b77bae4ed9058ac5e596ea33b921b89509...    4.701694\n",
       "...                                                  ...         ...\n",
       "83184  ff8c898ca80f20d794e6f5829b26d637c3edd0267f358f...    4.701713\n",
       "83185  ffa47104b584db6ba11affb18ae14932320bac18bc0226...    4.701720\n",
       "83186  ffc0893ba6cd0c90d794da28bae8fa810ef9c17db24947...    4.701696\n",
       "83187  ffd968fe02b1dfa9e26e3369e36e2c5b67fa9d42f9f926...    4.701724\n",
       "83188  ffdbfc624676e06b1b8c5b45c8ce5fd08e1aad96797b6d...    4.701706\n",
       "\n",
       "[83189 rows x 2 columns]"
      ]
     },
     "execution_count": 9,
     "metadata": {},
     "output_type": "execute_result"
    }
   ],
   "source": [
    "y_pred = pred_df.loc[pred_df['S_2'] == pred_df['S_2_max']].reset_index(drop=True)\n",
    "y_pred = y_pred[['customer_ID', PREDICTION_VARIABLE]]\n",
    "y_pred"
   ]
  },
  {
   "cell_type": "code",
   "execution_count": 10,
   "metadata": {},
   "outputs": [
    {
     "data": {
      "text/html": [
       "<div>\n",
       "<style scoped>\n",
       "    .dataframe tbody tr th:only-of-type {\n",
       "        vertical-align: middle;\n",
       "    }\n",
       "\n",
       "    .dataframe tbody tr th {\n",
       "        vertical-align: top;\n",
       "    }\n",
       "\n",
       "    .dataframe thead th {\n",
       "        text-align: right;\n",
       "    }\n",
       "</style>\n",
       "<table border=\"1\" class=\"dataframe\">\n",
       "  <thead>\n",
       "    <tr style=\"text-align: right;\">\n",
       "      <th></th>\n",
       "      <th>customer_ID</th>\n",
       "      <th>target</th>\n",
       "    </tr>\n",
       "  </thead>\n",
       "  <tbody>\n",
       "    <tr>\n",
       "      <th>0</th>\n",
       "      <td>00d769dbf0a5e3e73a8223566b33adc5686954dd337359...</td>\n",
       "      <td>0.0</td>\n",
       "    </tr>\n",
       "    <tr>\n",
       "      <th>1</th>\n",
       "      <td>01439ee3abf1b4552d54f75cc46d18e1f9d4aed4b816de...</td>\n",
       "      <td>0.0</td>\n",
       "    </tr>\n",
       "    <tr>\n",
       "      <th>2</th>\n",
       "      <td>01500e2a9f82cfab49e8abb8ebf2101abea15287012509...</td>\n",
       "      <td>0.0</td>\n",
       "    </tr>\n",
       "    <tr>\n",
       "      <th>3</th>\n",
       "      <td>017c62c2d536df82410d9f3427c2da1f8d3c277efe592b...</td>\n",
       "      <td>0.0</td>\n",
       "    </tr>\n",
       "    <tr>\n",
       "      <th>4</th>\n",
       "      <td>01f3396eacb7b77bae4ed9058ac5e596ea33b921b89509...</td>\n",
       "      <td>1.0</td>\n",
       "    </tr>\n",
       "    <tr>\n",
       "      <th>...</th>\n",
       "      <td>...</td>\n",
       "      <td>...</td>\n",
       "    </tr>\n",
       "    <tr>\n",
       "      <th>83184</th>\n",
       "      <td>ff8c898ca80f20d794e6f5829b26d637c3edd0267f358f...</td>\n",
       "      <td>0.0</td>\n",
       "    </tr>\n",
       "    <tr>\n",
       "      <th>83185</th>\n",
       "      <td>ffa47104b584db6ba11affb18ae14932320bac18bc0226...</td>\n",
       "      <td>1.0</td>\n",
       "    </tr>\n",
       "    <tr>\n",
       "      <th>83186</th>\n",
       "      <td>ffc0893ba6cd0c90d794da28bae8fa810ef9c17db24947...</td>\n",
       "      <td>0.0</td>\n",
       "    </tr>\n",
       "    <tr>\n",
       "      <th>83187</th>\n",
       "      <td>ffd968fe02b1dfa9e26e3369e36e2c5b67fa9d42f9f926...</td>\n",
       "      <td>1.0</td>\n",
       "    </tr>\n",
       "    <tr>\n",
       "      <th>83188</th>\n",
       "      <td>ffdbfc624676e06b1b8c5b45c8ce5fd08e1aad96797b6d...</td>\n",
       "      <td>0.0</td>\n",
       "    </tr>\n",
       "  </tbody>\n",
       "</table>\n",
       "<p>83189 rows × 2 columns</p>\n",
       "</div>"
      ],
      "text/plain": [
       "                                             customer_ID  target\n",
       "0      00d769dbf0a5e3e73a8223566b33adc5686954dd337359...     0.0\n",
       "1      01439ee3abf1b4552d54f75cc46d18e1f9d4aed4b816de...     0.0\n",
       "2      01500e2a9f82cfab49e8abb8ebf2101abea15287012509...     0.0\n",
       "3      017c62c2d536df82410d9f3427c2da1f8d3c277efe592b...     0.0\n",
       "4      01f3396eacb7b77bae4ed9058ac5e596ea33b921b89509...     1.0\n",
       "...                                                  ...     ...\n",
       "83184  ff8c898ca80f20d794e6f5829b26d637c3edd0267f358f...     0.0\n",
       "83185  ffa47104b584db6ba11affb18ae14932320bac18bc0226...     1.0\n",
       "83186  ffc0893ba6cd0c90d794da28bae8fa810ef9c17db24947...     0.0\n",
       "83187  ffd968fe02b1dfa9e26e3369e36e2c5b67fa9d42f9f926...     1.0\n",
       "83188  ffdbfc624676e06b1b8c5b45c8ce5fd08e1aad96797b6d...     0.0\n",
       "\n",
       "[83189 rows x 2 columns]"
      ]
     },
     "execution_count": 10,
     "metadata": {},
     "output_type": "execute_result"
    }
   ],
   "source": [
    "y_true = fit_pdf.loc[fit_pdf['S_2'] == fit_pdf['S_2_max']].reset_index(drop=True)\n",
    "y_true = y_true[['customer_ID', TARGET_VARIABLE]]\n",
    "y_true"
   ]
  },
  {
   "cell_type": "code",
   "execution_count": 11,
   "metadata": {},
   "outputs": [
    {
     "data": {
      "text/plain": [
       "<matplotlib.legend.Legend at 0x7f5c19c8cd60>"
      ]
     },
     "execution_count": 11,
     "metadata": {},
     "output_type": "execute_result"
    },
    {
     "data": {
      "image/png": "[encoded data removed]",
      "text/plain": [
       "<Figure size 432x288 with 1 Axes>"
      ]
     },
     "metadata": {
      "needs_background": "light"
     },
     "output_type": "display_data"
    }
   ],
   "source": [
    "import matplotlib.pyplot as plt\n",
    "\n",
    "n, bins, array = plt.hist(\n",
    "    y_pred.loc[y_true[TARGET_VARIABLE] == 1.].reset_index(drop=True)[PREDICTION_VARIABLE],\n",
    "    color=(1, 0, 0, .5),\n",
    "    log=True,\n",
    "    label='Defaulted'\n",
    ")\n",
    "n, bins, array = plt.hist(\n",
    "    y_pred.loc[y_true[TARGET_VARIABLE] == 0.].reset_index(drop=True)[PREDICTION_VARIABLE],\n",
    "    bins=bins,\n",
    "    color=(0, 0, 1, .5),\n",
    "    log=True,\n",
    "    label='No default'\n",
    ")\n",
    "plt.xlabel('Predicted scale parameter')\n",
    "plt.title('Histogram of predictions')\n",
    "plt.legend()"
   ]
  },
  {
   "cell_type": "code",
   "execution_count": 12,
   "metadata": {},
   "outputs": [
    {
     "data": {
      "image/png": "[encoded data removed]",
      "text/plain": [
       "<Figure size 432x288 with 1 Axes>"
      ]
     },
     "metadata": {
      "needs_background": "light"
     },
     "output_type": "display_data"
    }
   ],
   "source": [
    "from sklearn.metrics import roc_curve, roc_auc_score\n",
    "\n",
    "fpr, tpr, thresholds = roc_curve(\n",
    "    y_true[TARGET_VARIABLE], \n",
    "    y_pred[PREDICTION_VARIABLE],\n",
    ")\n",
    "v = roc_auc_score(\n",
    "    y_true[TARGET_VARIABLE], \n",
    "    y_pred[PREDICTION_VARIABLE],\n",
    ")\n",
    "plt.plot(fpr, tpr)\n",
    "plt.plot(fpr, fpr, ls=':', color=(1, 0, 1, .5))\n",
    "plt.title(f'ROC AUC: {v:.2f}')\n",
    "plt.show()"
   ]
  },
  {
   "cell_type": "code",
   "execution_count": 13,
   "metadata": {},
   "outputs": [
    {
     "data": {
      "text/html": [
       "<div>\n",
       "<style scoped>\n",
       "    .dataframe tbody tr th:only-of-type {\n",
       "        vertical-align: middle;\n",
       "    }\n",
       "\n",
       "    .dataframe tbody tr th {\n",
       "        vertical-align: top;\n",
       "    }\n",
       "\n",
       "    .dataframe thead th {\n",
       "        text-align: right;\n",
       "    }\n",
       "</style>\n",
       "<table border=\"1\" class=\"dataframe\">\n",
       "  <thead>\n",
       "    <tr style=\"text-align: right;\">\n",
       "      <th></th>\n",
       "      <th>customer_ID</th>\n",
       "      <th>prediction</th>\n",
       "    </tr>\n",
       "  </thead>\n",
       "  <tbody>\n",
       "    <tr>\n",
       "      <th>0</th>\n",
       "      <td>00d769dbf0a5e3e73a8223566b33adc5686954dd337359...</td>\n",
       "      <td>4.701720</td>\n",
       "    </tr>\n",
       "    <tr>\n",
       "      <th>1</th>\n",
       "      <td>01439ee3abf1b4552d54f75cc46d18e1f9d4aed4b816de...</td>\n",
       "      <td>4.701695</td>\n",
       "    </tr>\n",
       "    <tr>\n",
       "      <th>2</th>\n",
       "      <td>01500e2a9f82cfab49e8abb8ebf2101abea15287012509...</td>\n",
       "      <td>4.701704</td>\n",
       "    </tr>\n",
       "    <tr>\n",
       "      <th>3</th>\n",
       "      <td>017c62c2d536df82410d9f3427c2da1f8d3c277efe592b...</td>\n",
       "      <td>4.701714</td>\n",
       "    </tr>\n",
       "    <tr>\n",
       "      <th>4</th>\n",
       "      <td>01f3396eacb7b77bae4ed9058ac5e596ea33b921b89509...</td>\n",
       "      <td>4.701694</td>\n",
       "    </tr>\n",
       "    <tr>\n",
       "      <th>...</th>\n",
       "      <td>...</td>\n",
       "      <td>...</td>\n",
       "    </tr>\n",
       "    <tr>\n",
       "      <th>83184</th>\n",
       "      <td>ff8c898ca80f20d794e6f5829b26d637c3edd0267f358f...</td>\n",
       "      <td>4.701713</td>\n",
       "    </tr>\n",
       "    <tr>\n",
       "      <th>83185</th>\n",
       "      <td>ffa47104b584db6ba11affb18ae14932320bac18bc0226...</td>\n",
       "      <td>4.701720</td>\n",
       "    </tr>\n",
       "    <tr>\n",
       "      <th>83186</th>\n",
       "      <td>ffc0893ba6cd0c90d794da28bae8fa810ef9c17db24947...</td>\n",
       "      <td>4.701696</td>\n",
       "    </tr>\n",
       "    <tr>\n",
       "      <th>83187</th>\n",
       "      <td>ffd968fe02b1dfa9e26e3369e36e2c5b67fa9d42f9f926...</td>\n",
       "      <td>4.701724</td>\n",
       "    </tr>\n",
       "    <tr>\n",
       "      <th>83188</th>\n",
       "      <td>ffdbfc624676e06b1b8c5b45c8ce5fd08e1aad96797b6d...</td>\n",
       "      <td>4.701706</td>\n",
       "    </tr>\n",
       "  </tbody>\n",
       "</table>\n",
       "<p>83189 rows × 2 columns</p>\n",
       "</div>"
      ],
      "text/plain": [
       "                                             customer_ID  prediction\n",
       "0      00d769dbf0a5e3e73a8223566b33adc5686954dd337359...    4.701720\n",
       "1      01439ee3abf1b4552d54f75cc46d18e1f9d4aed4b816de...    4.701695\n",
       "2      01500e2a9f82cfab49e8abb8ebf2101abea15287012509...    4.701704\n",
       "3      017c62c2d536df82410d9f3427c2da1f8d3c277efe592b...    4.701714\n",
       "4      01f3396eacb7b77bae4ed9058ac5e596ea33b921b89509...    4.701694\n",
       "...                                                  ...         ...\n",
       "83184  ff8c898ca80f20d794e6f5829b26d637c3edd0267f358f...    4.701713\n",
       "83185  ffa47104b584db6ba11affb18ae14932320bac18bc0226...    4.701720\n",
       "83186  ffc0893ba6cd0c90d794da28bae8fa810ef9c17db24947...    4.701696\n",
       "83187  ffd968fe02b1dfa9e26e3369e36e2c5b67fa9d42f9f926...    4.701724\n",
       "83188  ffdbfc624676e06b1b8c5b45c8ce5fd08e1aad96797b6d...    4.701706\n",
       "\n",
       "[83189 rows x 2 columns]"
      ]
     },
     "execution_count": 13,
     "metadata": {},
     "output_type": "execute_result"
    }
   ],
   "source": [
    "y_pred"
   ]
  },
  {
   "cell_type": "code",
   "execution_count": 14,
   "metadata": {},
   "outputs": [
    {
     "data": {
      "text/plain": [
       "(0.3987906716579934, 0.585630844608931, 0.2119504987070558)"
      ]
     },
     "execution_count": 14,
     "metadata": {},
     "output_type": "execute_result"
    }
   ],
   "source": [
    "from evaluation import amex_metric\n",
    "\n",
    "amex_metric(y_true=y_true[TARGET_VARIABLE], y_pred=y_pred[PREDICTION_VARIABLE])"
   ]
  }
 ],
 "metadata": {
  "kernelspec": {
   "display_name": "Python 3.9.8 64-bit",
   "language": "python",
   "name": "python3"
  },
  "language_info": {
   "codemirror_mode": {
    "name": "ipython",
    "version": 3
   },
   "file_extension": ".py",
   "mimetype": "text/x-python",
   "name": "python",
   "nbconvert_exporter": "python",
   "pygments_lexer": "ipython3",
   "version": "3.9.8"
  },
  "orig_nbformat": 4,
  "vscode": {
   "interpreter": {
    "hash": "949777d72b0d2535278d3dc13498b2535136f6dfe0678499012e853ee9abcab1"
   }
  }
 },
 "nbformat": 4,
 "nbformat_minor": 2
}
