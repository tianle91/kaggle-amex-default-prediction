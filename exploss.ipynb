{
 "cells": [
  {
   "cell_type": "code",
   "execution_count": 1,
   "metadata": {},
   "outputs": [
    {
     "name": "stderr",
     "output_type": "stream",
     "text": [
      "Warning: Ignoring non-Spark config property: Dio.netty.tryReflectionSetAccessible\n",
      "WARNING: An illegal reflective access operation has occurred\n",
      "WARNING: Illegal reflective access by org.apache.spark.unsafe.Platform (file:/usr/local/lib/python3.8/dist-packages/pyspark/jars/spark-unsafe_2.12-3.2.1.jar) to constructor java.nio.DirectByteBuffer(long,int)\n",
      "WARNING: Please consider reporting this to the maintainers of org.apache.spark.unsafe.Platform\n",
      "WARNING: Use --illegal-access=warn to enable warnings of further illegal reflective access operations\n",
      "WARNING: All illegal access operations will be denied in a future release\n",
      "Using Spark's default log4j profile: org/apache/spark/log4j-defaults.properties\n",
      "Setting default log level to \"WARN\".\n",
      "To adjust logging level use sc.setLogLevel(newLevel). For SparkR, use setLogLevel(newLevel).\n",
      "22/06/20 03:55:05 WARN NativeCodeLoader: Unable to load native-hadoop library for your platform... using builtin-java classes where applicable\n",
      "                                                                                \r"
     ]
    }
   ],
   "source": [
    "from spark_utils import get_spark_session\n",
    "\n",
    "spark = get_spark_session()\n",
    "# run format_data.py if these don't exist\n",
    "train_data = spark.read.parquet('data/amex-default-prediction/train_data')\n",
    "train_labels = spark.read.parquet('data/amex-default-prediction/train_labels')\n",
    "# test_data = spark.read.parquet('data/amex-default-prediction/test_data')\n",
    "# sample_submission = spark.read.parquet('data/amex-default-prediction/sample_submission')"
   ]
  },
  {
   "cell_type": "code",
   "execution_count": 2,
   "metadata": {},
   "outputs": [],
   "source": [
    "from format_data import TARGET_VARIABLE\n",
    "from pyspark.sql.window import Window\n",
    "import pyspark.sql.functions as F\n",
    "\n",
    "window_latest_date_by_id = (\n",
    "    Window\n",
    "    .partitionBy('customer_ID')\n",
    "    .orderBy(F.col('S_2').desc())\n",
    "    .rangeBetween(\n",
    "        Window.unboundedPreceding,\n",
    "        Window.unboundedFollowing,\n",
    "    )\n",
    ")\n",
    "\n",
    "train_data = (\n",
    "    train_data\n",
    "    .join(train_labels, on='customer_ID', how='inner')\n",
    "    .withColumn('S_2_max', F.max('S_2').over(window_latest_date_by_id))\n",
    "    .withColumn('days_to_S_2_max', F.datediff(end='S_2_max', start='S_2'))\n",
    ")"
   ]
  },
  {
   "cell_type": "code",
   "execution_count": 3,
   "metadata": {},
   "outputs": [
    {
     "name": "stderr",
     "output_type": "stream",
     "text": [
      "22/06/20 03:55:45 WARN package: Truncated the string representation of a plan since it was too large. This behavior can be adjusted by setting 'spark.sql.debug.maxToStringFields'.\n",
      "                                                                                \r"
     ]
    },
    {
     "name": "stdout",
     "output_type": "stream",
     "text": [
      "fit_pdf.shape: (4977965, 193)\n",
      " feature_columns\n",
      " P_2, D_39, B_1, B_2, R_1, S_3, D_41, B_3, D_42, D_43, D_44, B_4, D_45, B_5, R_2, D_46, D_47, D_48, D_49, B_6, B_7, B_8, D_50, D_51, B_9, R_3, D_52, P_3, B_10, D_53, S_5, B_11, S_6, D_54, R_4, S_7, B_12, S_8, D_55, D_56, B_13, R_5, D_58, S_9, B_14, D_59, D_60, D_61, B_15, S_11, D_62, D_65, B_16, B_17, B_18, B_19, B_20, S_12, R_6, S_13, B_21, D_69, B_22, D_70, D_71, D_72, S_15, B_23, D_73, P_4, D_74, D_75, D_76, B_24, R_7, D_77, B_25, B_26, D_78, D_79, R_8, R_9, S_16, D_80, R_10, R_11, B_27, D_81, D_82, S_17, R_12, B_28, R_13, D_83, R_14, R_15, D_84, R_16, B_29, S_18, D_86, D_87, R_17, R_18, D_88, B_31, S_19, R_19, B_32, S_20, R_20, R_21, B_33, D_89, R_22, R_23, D_91, D_92, D_93, D_94, R_24, R_25, D_96, S_22, S_23, S_24, S_25, S_26, D_102, D_103, D_104, D_105, D_106, D_107, B_36, B_37, R_26, R_27, D_108, D_109, D_110, D_111, B_39, D_112, B_40, S_27, D_113, D_115, D_118, D_119, D_121, D_122, D_123, D_124, D_125, D_127, D_128, D_129, B_41, B_42, D_130, D_131, D_132, D_133, R_28, D_134, D_135, D_136, D_137, D_138, D_139, D_140, D_141, D_142, D_143, D_144, D_145, B_30_CategoricalToIntegerEncoder, B_38_CategoricalToIntegerEncoder, D_114_CategoricalToIntegerEncoder, D_116_CategoricalToIntegerEncoder, D_117_CategoricalToIntegerEncoder, D_120_CategoricalToIntegerEncoder, D_126_CategoricalToIntegerEncoder, D_63_CategoricalToIntegerEncoder, D_64_CategoricalToIntegerEncoder, D_66_CategoricalToIntegerEncoder, D_68_CategoricalToIntegerEncoder\n",
      "CPU times: user 4.5 s, sys: 4.98 s, total: 9.48 s\n",
      "Wall time: 2min 11s\n"
     ]
    }
   ],
   "source": [
    "%%time\n",
    "from format_data import CATEGORICAL_VARIABLES\n",
    "from encoder import CategoricalToIntegerEncoders\n",
    "from format_data import TARGET_VARIABLE, DATE_VARIABLES, ID_VARIABLES\n",
    "\n",
    "\n",
    "encs = CategoricalToIntegerEncoders(columns=CATEGORICAL_VARIABLES).fit(train_data)\n",
    "\n",
    "train_data_splits = train_data.randomSplit(weights=[.9, .1], seed=20220619)\n",
    "fit_data, valid_data = train_data_splits[0], train_data_splits[1]\n",
    "\n",
    "fit_pdf = encs.transform(spark=spark, df=fit_data).toPandas()\n",
    "valid_pdf = encs.transform(spark=spark, df=valid_data).toPandas()\n",
    "\n",
    "feature_columns = [\n",
    "    c for c in fit_pdf.columns \n",
    "    if c not in [\n",
    "        TARGET_VARIABLE,\n",
    "        *ID_VARIABLES,\n",
    "        *DATE_VARIABLES.keys(),\n",
    "        'S_2_max', 'days_to_S_2_max',\n",
    "    ]\n",
    "]\n",
    "print(\n",
    "    f'fit_pdf.shape: {fit_pdf.shape}\\n',\n",
    "    'feature_columns\\n', ', '.join(feature_columns)\n",
    ")"
   ]
  },
  {
   "cell_type": "code",
   "execution_count": 4,
   "metadata": {},
   "outputs": [
    {
     "name": "stderr",
     "output_type": "stream",
     "text": [
      "/usr/local/lib/python3.8/dist-packages/tqdm/auto.py:22: TqdmWarning: IProgress not found. Please update jupyter and ipywidgets. See https://ipywidgets.readthedocs.io/en/stable/user_install.html\n",
      "  from .autonotebook import tqdm as notebook_tqdm\n"
     ]
    }
   ],
   "source": [
    "import torch.nn as nn\n",
    "import torch.nn.functional as F\n",
    "\n",
    "class Model(nn.Module):\n",
    "    def __init__(self):\n",
    "        super().__init__()\n",
    "        self.linear1 = nn.Linear(len(feature_columns), 10)\n",
    "        self.linear2 = nn.Linear(10, 1)\n",
    "        self.softplus = nn.Softplus()\n",
    "\n",
    "    def forward(self, x):\n",
    "        x = self.linear1(x)\n",
    "        x = self.linear2(F.relu(x))\n",
    "        x = self.softplus(x)\n",
    "        return x"
   ]
  },
  {
   "cell_type": "code",
   "execution_count": 5,
   "metadata": {},
   "outputs": [],
   "source": [
    "import torch\n",
    "\n",
    "def log_surv(scale: torch.tensor, t: torch.tensor) -> torch.tensor:\n",
    "    return -t/scale\n",
    "\n",
    "def log_density(scale: torch.tensor, t: torch.tensor) -> torch.tensor:\n",
    "    return -torch.log(scale) - t / scale\n",
    "\n",
    "def nll(scale: torch.tensor, days_to_last_statement: torch.tensor, is_defaulted: torch.tensor):\n",
    "    return -torch.mean(torch.where(\n",
    "        is_defaulted, \n",
    "        log_density(scale=scale, t=days_to_last_statement),\n",
    "        log_surv(scale=scale, t=days_to_last_statement),\n",
    "    ))"
   ]
  },
  {
   "cell_type": "code",
   "execution_count": 6,
   "metadata": {},
   "outputs": [
    {
     "name": "stdout",
     "output_type": "stream",
     "text": [
      "0 350.65435791015625\n",
      "25 2.514943838119507\n",
      "50 2.312058210372925\n",
      "75 2.3175346851348877\n",
      "100 2.264357328414917\n",
      "125 2.2968099117279053\n",
      "150 2.276468276977539\n",
      "175 2.256378412246704\n",
      "200 2.2060863971710205\n",
      "225 2.2204573154449463\n",
      "250 2.218632221221924\n",
      "275 2.2370786666870117\n",
      "300 2.27341365814209\n",
      "325 2.1974239349365234\n",
      "350 2.1953961849212646\n",
      "375 2.2061843872070312\n",
      "400 2.2133073806762695\n",
      "425 2.195636034011841\n",
      "450 2.182149887084961\n",
      "475 2.133458137512207\n",
      "500 2.166782855987549\n",
      "525 2.1848208904266357\n",
      "550 2.1263766288757324\n",
      "575 2.138812780380249\n",
      "600 2.1714136600494385\n",
      "625 2.151339054107666\n",
      "650 2.1499433517456055\n",
      "675 2.161252737045288\n",
      "700 2.1111412048339844\n",
      "725 2.1084399223327637\n",
      "750 2.105173349380493\n",
      "775 2.0923235416412354\n",
      "800 2.059784412384033\n",
      "825 2.0925099849700928\n",
      "850 2.1023855209350586\n",
      "875 2.0773487091064453\n",
      "900 2.085273504257202\n",
      "925 2.095215320587158\n",
      "950 2.088402032852173\n",
      "975 2.064613103866577\n"
     ]
    }
   ],
   "source": [
    "import torch.optim as optim\n",
    "import numpy as np\n",
    "\n",
    "m = Model()\n",
    "optimizer = optim.SGD(m.parameters(), lr=0.001, momentum=0.9)\n",
    "\n",
    "for i in range(1000):\n",
    "    fit_pdf_small = fit_pdf.sample(10000, ignore_index=True)\n",
    "\n",
    "    inputs = torch.tensor(np.array(fit_pdf_small[feature_columns])).float()\n",
    "    days_to_last_statement = torch.tensor(fit_pdf_small['days_to_S_2_max']).reshape((-1, 1)).float()\n",
    "    is_defaulted = torch.tensor(fit_pdf_small[TARGET_VARIABLE] == 1.).reshape((-1, 1))\n",
    "\n",
    "    optimizer.zero_grad()\n",
    "    rate = m(torch.nan_to_num(inputs))\n",
    "    loss = nll(rate, days_to_last_statement, is_defaulted)\n",
    "    if i % 25 == 0:\n",
    "        print(i, loss.item())\n",
    "\n",
    "    torch.nn.utils.clip_grad_norm_(m.parameters(), max_norm=1.)\n",
    "    loss.backward()\n",
    "    optimizer.step()\n"
   ]
  },
  {
   "cell_type": "code",
   "execution_count": 7,
   "metadata": {},
   "outputs": [],
   "source": [
    "from format_data import PREDICTION_VARIABLE\n",
    "import pandas as pd\n",
    "\n",
    "with torch.no_grad():\n",
    "    inputs = torch.tensor(np.array(fit_pdf[feature_columns])).float()\n",
    "    rate = np.array(m(torch.nan_to_num(inputs))).flatten()\n",
    "    pred_df = pd.DataFrame({\n",
    "        PREDICTION_VARIABLE: rate,\n",
    "        'customer_ID': fit_pdf['customer_ID'],\n",
    "        'S_2': fit_pdf['S_2'],\n",
    "        'S_2_max': fit_pdf['S_2_max'],\n",
    "    })"
   ]
  },
  {
   "cell_type": "code",
   "execution_count": 8,
   "metadata": {},
   "outputs": [
    {
     "data": {
      "text/html": [
       "<div>\n",
       "<style scoped>\n",
       "    .dataframe tbody tr th:only-of-type {\n",
       "        vertical-align: middle;\n",
       "    }\n",
       "\n",
       "    .dataframe tbody tr th {\n",
       "        vertical-align: top;\n",
       "    }\n",
       "\n",
       "    .dataframe thead th {\n",
       "        text-align: right;\n",
       "    }\n",
       "</style>\n",
       "<table border=\"1\" class=\"dataframe\">\n",
       "  <thead>\n",
       "    <tr style=\"text-align: right;\">\n",
       "      <th></th>\n",
       "      <th>customer_ID</th>\n",
       "      <th>prediction</th>\n",
       "    </tr>\n",
       "  </thead>\n",
       "  <tbody>\n",
       "    <tr>\n",
       "      <th>0</th>\n",
       "      <td>00093b69756b1afe3029c79b981e8d699b2a48bf4464a9...</td>\n",
       "      <td>303.240906</td>\n",
       "    </tr>\n",
       "    <tr>\n",
       "      <th>1</th>\n",
       "      <td>0012e41fe6caa3ba31b55b3de2030cbb77b01203aeb4a5...</td>\n",
       "      <td>218.799957</td>\n",
       "    </tr>\n",
       "    <tr>\n",
       "      <th>2</th>\n",
       "      <td>00582971eb87cf0bb643ed23cc0e0b3ad475379513c460...</td>\n",
       "      <td>332.896393</td>\n",
       "    </tr>\n",
       "    <tr>\n",
       "      <th>3</th>\n",
       "      <td>00d769dbf0a5e3e73a8223566b33adc5686954dd337359...</td>\n",
       "      <td>318.874329</td>\n",
       "    </tr>\n",
       "    <tr>\n",
       "      <th>4</th>\n",
       "      <td>00dbda372d97f23579e6946331110052ee81573eccd963...</td>\n",
       "      <td>230.528320</td>\n",
       "    </tr>\n",
       "    <tr>\n",
       "      <th>...</th>\n",
       "      <td>...</td>\n",
       "      <td>...</td>\n",
       "    </tr>\n",
       "    <tr>\n",
       "      <th>413054</th>\n",
       "      <td>ff9d4ec798248d6bb46685896f788c4319c8c6ad9e0929...</td>\n",
       "      <td>303.438293</td>\n",
       "    </tr>\n",
       "    <tr>\n",
       "      <th>413055</th>\n",
       "      <td>ffa47104b584db6ba11affb18ae14932320bac18bc0226...</td>\n",
       "      <td>365.256805</td>\n",
       "    </tr>\n",
       "    <tr>\n",
       "      <th>413056</th>\n",
       "      <td>ffc0893ba6cd0c90d794da28bae8fa810ef9c17db24947...</td>\n",
       "      <td>299.717773</td>\n",
       "    </tr>\n",
       "    <tr>\n",
       "      <th>413057</th>\n",
       "      <td>ffd079877a5ab95c79aecb822639503213497119294ab7...</td>\n",
       "      <td>288.425140</td>\n",
       "    </tr>\n",
       "    <tr>\n",
       "      <th>413058</th>\n",
       "      <td>ffd5012c68a24b140d1a269fe378517687855774fc1a17...</td>\n",
       "      <td>229.039062</td>\n",
       "    </tr>\n",
       "  </tbody>\n",
       "</table>\n",
       "<p>413059 rows × 2 columns</p>\n",
       "</div>"
      ],
      "text/plain": [
       "                                              customer_ID  prediction\n",
       "0       00093b69756b1afe3029c79b981e8d699b2a48bf4464a9...  303.240906\n",
       "1       0012e41fe6caa3ba31b55b3de2030cbb77b01203aeb4a5...  218.799957\n",
       "2       00582971eb87cf0bb643ed23cc0e0b3ad475379513c460...  332.896393\n",
       "3       00d769dbf0a5e3e73a8223566b33adc5686954dd337359...  318.874329\n",
       "4       00dbda372d97f23579e6946331110052ee81573eccd963...  230.528320\n",
       "...                                                   ...         ...\n",
       "413054  ff9d4ec798248d6bb46685896f788c4319c8c6ad9e0929...  303.438293\n",
       "413055  ffa47104b584db6ba11affb18ae14932320bac18bc0226...  365.256805\n",
       "413056  ffc0893ba6cd0c90d794da28bae8fa810ef9c17db24947...  299.717773\n",
       "413057  ffd079877a5ab95c79aecb822639503213497119294ab7...  288.425140\n",
       "413058  ffd5012c68a24b140d1a269fe378517687855774fc1a17...  229.039062\n",
       "\n",
       "[413059 rows x 2 columns]"
      ]
     },
     "execution_count": 8,
     "metadata": {},
     "output_type": "execute_result"
    }
   ],
   "source": [
    "y_pred = pred_df.loc[pred_df['S_2'] == pred_df['S_2_max']].reset_index(drop=True)\n",
    "y_pred = y_pred[['customer_ID', PREDICTION_VARIABLE]]\n",
    "y_pred"
   ]
  },
  {
   "cell_type": "code",
   "execution_count": 9,
   "metadata": {},
   "outputs": [
    {
     "data": {
      "text/html": [
       "<div>\n",
       "<style scoped>\n",
       "    .dataframe tbody tr th:only-of-type {\n",
       "        vertical-align: middle;\n",
       "    }\n",
       "\n",
       "    .dataframe tbody tr th {\n",
       "        vertical-align: top;\n",
       "    }\n",
       "\n",
       "    .dataframe thead th {\n",
       "        text-align: right;\n",
       "    }\n",
       "</style>\n",
       "<table border=\"1\" class=\"dataframe\">\n",
       "  <thead>\n",
       "    <tr style=\"text-align: right;\">\n",
       "      <th></th>\n",
       "      <th>customer_ID</th>\n",
       "      <th>target</th>\n",
       "    </tr>\n",
       "  </thead>\n",
       "  <tbody>\n",
       "    <tr>\n",
       "      <th>0</th>\n",
       "      <td>00093b69756b1afe3029c79b981e8d699b2a48bf4464a9...</td>\n",
       "      <td>0.0</td>\n",
       "    </tr>\n",
       "    <tr>\n",
       "      <th>1</th>\n",
       "      <td>0012e41fe6caa3ba31b55b3de2030cbb77b01203aeb4a5...</td>\n",
       "      <td>0.0</td>\n",
       "    </tr>\n",
       "    <tr>\n",
       "      <th>2</th>\n",
       "      <td>00582971eb87cf0bb643ed23cc0e0b3ad475379513c460...</td>\n",
       "      <td>1.0</td>\n",
       "    </tr>\n",
       "    <tr>\n",
       "      <th>3</th>\n",
       "      <td>00d769dbf0a5e3e73a8223566b33adc5686954dd337359...</td>\n",
       "      <td>0.0</td>\n",
       "    </tr>\n",
       "    <tr>\n",
       "      <th>4</th>\n",
       "      <td>00dbda372d97f23579e6946331110052ee81573eccd963...</td>\n",
       "      <td>0.0</td>\n",
       "    </tr>\n",
       "    <tr>\n",
       "      <th>...</th>\n",
       "      <td>...</td>\n",
       "      <td>...</td>\n",
       "    </tr>\n",
       "    <tr>\n",
       "      <th>413054</th>\n",
       "      <td>ff9d4ec798248d6bb46685896f788c4319c8c6ad9e0929...</td>\n",
       "      <td>0.0</td>\n",
       "    </tr>\n",
       "    <tr>\n",
       "      <th>413055</th>\n",
       "      <td>ffa47104b584db6ba11affb18ae14932320bac18bc0226...</td>\n",
       "      <td>1.0</td>\n",
       "    </tr>\n",
       "    <tr>\n",
       "      <th>413056</th>\n",
       "      <td>ffc0893ba6cd0c90d794da28bae8fa810ef9c17db24947...</td>\n",
       "      <td>0.0</td>\n",
       "    </tr>\n",
       "    <tr>\n",
       "      <th>413057</th>\n",
       "      <td>ffd079877a5ab95c79aecb822639503213497119294ab7...</td>\n",
       "      <td>1.0</td>\n",
       "    </tr>\n",
       "    <tr>\n",
       "      <th>413058</th>\n",
       "      <td>ffd5012c68a24b140d1a269fe378517687855774fc1a17...</td>\n",
       "      <td>0.0</td>\n",
       "    </tr>\n",
       "  </tbody>\n",
       "</table>\n",
       "<p>413059 rows × 2 columns</p>\n",
       "</div>"
      ],
      "text/plain": [
       "                                              customer_ID  target\n",
       "0       00093b69756b1afe3029c79b981e8d699b2a48bf4464a9...     0.0\n",
       "1       0012e41fe6caa3ba31b55b3de2030cbb77b01203aeb4a5...     0.0\n",
       "2       00582971eb87cf0bb643ed23cc0e0b3ad475379513c460...     1.0\n",
       "3       00d769dbf0a5e3e73a8223566b33adc5686954dd337359...     0.0\n",
       "4       00dbda372d97f23579e6946331110052ee81573eccd963...     0.0\n",
       "...                                                   ...     ...\n",
       "413054  ff9d4ec798248d6bb46685896f788c4319c8c6ad9e0929...     0.0\n",
       "413055  ffa47104b584db6ba11affb18ae14932320bac18bc0226...     1.0\n",
       "413056  ffc0893ba6cd0c90d794da28bae8fa810ef9c17db24947...     0.0\n",
       "413057  ffd079877a5ab95c79aecb822639503213497119294ab7...     1.0\n",
       "413058  ffd5012c68a24b140d1a269fe378517687855774fc1a17...     0.0\n",
       "\n",
       "[413059 rows x 2 columns]"
      ]
     },
     "execution_count": 9,
     "metadata": {},
     "output_type": "execute_result"
    }
   ],
   "source": [
    "y_true = fit_pdf.loc[fit_pdf['S_2'] == fit_pdf['S_2_max']].reset_index(drop=True)\n",
    "y_true = y_true[['customer_ID', TARGET_VARIABLE]]\n",
    "y_true"
   ]
  },
  {
   "cell_type": "code",
   "execution_count": 10,
   "metadata": {},
   "outputs": [
    {
     "data": {
      "text/plain": [
       "<matplotlib.legend.Legend at 0x7fb4f2f46280>"
      ]
     },
     "execution_count": 10,
     "metadata": {},
     "output_type": "execute_result"
    },
    {
     "data": {
      "image/png": "[encoded data removed]",
      "text/plain": [
       "<Figure size 432x288 with 1 Axes>"
      ]
     },
     "metadata": {
      "needs_background": "light"
     },
     "output_type": "display_data"
    }
   ],
   "source": [
    "import matplotlib.pyplot as plt\n",
    "\n",
    "n, bins, array = plt.hist(\n",
    "    y_pred.loc[y_true[TARGET_VARIABLE] == 1.].reset_index(drop=True)[PREDICTION_VARIABLE],\n",
    "    color=(1, 0, 0, .5),\n",
    "    log=True,\n",
    "    label='Defaulted'\n",
    ")\n",
    "n, bins, array = plt.hist(\n",
    "    y_pred.loc[y_true[TARGET_VARIABLE] == 0.].reset_index(drop=True)[PREDICTION_VARIABLE],\n",
    "    bins=bins,\n",
    "    color=(0, 0, 1, .5),\n",
    "    log=True,\n",
    "    label='No default'\n",
    ")\n",
    "plt.xlabel('Predicted scale parameter')\n",
    "plt.title('Histogram of predictions')\n",
    "plt.legend()"
   ]
  },
  {
   "cell_type": "code",
   "execution_count": 11,
   "metadata": {},
   "outputs": [
    {
     "data": {
      "text/plain": [
       "-0.010234000158646676"
      ]
     },
     "execution_count": 11,
     "metadata": {},
     "output_type": "execute_result"
    }
   ],
   "source": [
    "from evaluation import amex_metric\n",
    "\n",
    "amex_metric(y_true=y_true, y_pred=y_pred)"
   ]
  }
 ],
 "metadata": {
  "kernelspec": {
   "display_name": "Python 3.8.10 64-bit",
   "language": "python",
   "name": "python3"
  },
  "language_info": {
   "codemirror_mode": {
    "name": "ipython",
    "version": 3
   },
   "file_extension": ".py",
   "mimetype": "text/x-python",
   "name": "python",
   "nbconvert_exporter": "python",
   "pygments_lexer": "ipython3",
   "version": "3.8.10"
  },
  "orig_nbformat": 4,
  "vscode": {
   "interpreter": {
    "hash": "e7370f93d1d0cde622a1f8e1c04877d8463912d04d973331ad4851f04de6915a"
   }
  }
 },
 "nbformat": 4,
 "nbformat_minor": 2
}
