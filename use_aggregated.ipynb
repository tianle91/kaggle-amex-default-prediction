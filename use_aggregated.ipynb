{
 "cells": [
  {
   "cell_type": "code",
   "execution_count": 1,
   "metadata": {},
   "outputs": [
    {
     "name": "stderr",
     "output_type": "stream",
     "text": [
      "Warning: Ignoring non-Spark config property: Dio.netty.tryReflectionSetAccessible\n",
      "WARNING: An illegal reflective access operation has occurred\n",
      "WARNING: Illegal reflective access by org.apache.spark.unsafe.Platform (file:/usr/local/lib/python3.8/dist-packages/pyspark/jars/spark-unsafe_2.12-3.2.1.jar) to constructor java.nio.DirectByteBuffer(long,int)\n",
      "WARNING: Please consider reporting this to the maintainers of org.apache.spark.unsafe.Platform\n",
      "WARNING: Use --illegal-access=warn to enable warnings of further illegal reflective access operations\n",
      "WARNING: All illegal access operations will be denied in a future release\n",
      "Using Spark's default log4j profile: org/apache/spark/log4j-defaults.properties\n",
      "Setting default log level to \"WARN\".\n",
      "To adjust logging level use sc.setLogLevel(newLevel). For SparkR, use setLogLevel(newLevel).\n",
      "22/06/16 23:48:32 WARN NativeCodeLoader: Unable to load native-hadoop library for your platform... using builtin-java classes where applicable\n"
     ]
    }
   ],
   "source": [
    "from spark_utils import get_spark_session\n",
    "import pyspark.sql.functions as F\n",
    "\n",
    "spark = get_spark_session()\n",
    "# run transform_latest.py if this don't exist\n",
    "test_data = spark.read.parquet('data_transformed/amex-default-prediction/test_data_aggregated')\n",
    "train_data = spark.read.parquet('data_transformed/amex-default-prediction/train_data_aggregated')\n",
    "# run format_data.py if these don't exist\n",
    "train_labels = spark.read.parquet('data/amex-default-prediction/train_labels')\n",
    "sample_submission = spark.read.parquet('data/amex-default-prediction/sample_submission')"
   ]
  },
  {
   "cell_type": "code",
   "execution_count": 2,
   "metadata": {},
   "outputs": [
    {
     "name": "stderr",
     "output_type": "stream",
     "text": [
      "                                                                                \r"
     ]
    }
   ],
   "source": [
    "assert train_data.count() == train_data.select('customer_ID').distinct().count()\n",
    "assert train_labels.count() == train_labels.select('customer_ID').distinct().count()\n",
    "assert train_data.count() == train_data.join(train_labels, on='customer_ID', how='inner').count()\n",
    "\n",
    "assert test_data.count() == test_data.select('customer_ID').distinct().count()\n",
    "assert sample_submission.count() == sample_submission.select('customer_ID').distinct().count()\n",
    "assert test_data.count() == test_data.join(sample_submission, on='customer_ID', how='inner').count()"
   ]
  },
  {
   "cell_type": "code",
   "execution_count": 3,
   "metadata": {},
   "outputs": [
    {
     "name": "stdout",
     "output_type": "stream",
     "text": [
      "CPU times: user 54.2 ms, sys: 52.7 ms, total: 107 ms\n",
      "Wall time: 16.2 s\n"
     ]
    }
   ],
   "source": [
    "%%time\n",
    "from format_data import CATEGORICAL_VARIABLES\n",
    "from encoder import CategoricalToIntegerEncoders\n",
    "\n",
    "categorical_columns = []\n",
    "for c in CATEGORICAL_VARIABLES:\n",
    "    categorical_columns += [\n",
    "        f'{c}_first',\n",
    "        f'{c}_last',\n",
    "        f'{c}_mode',\n",
    "    ]\n",
    "encs = CategoricalToIntegerEncoders(columns=categorical_columns).fit(train_data)"
   ]
  },
  {
   "cell_type": "code",
   "execution_count": 4,
   "metadata": {},
   "outputs": [
    {
     "name": "stderr",
     "output_type": "stream",
     "text": [
      "22/06/16 23:49:11 WARN package: Truncated the string representation of a plan since it was too large. This behavior can be adjusted by setting 'spark.sql.debug.maxToStringFields'.\n",
      "                                                                                \r"
     ]
    },
    {
     "name": "stdout",
     "output_type": "stream",
     "text": [
      "CPU times: user 1.63 s, sys: 1.26 s, total: 2.89 s\n",
      "Wall time: 29.3 s\n"
     ]
    }
   ],
   "source": [
    "%%time\n",
    "train_pdf = encs.transform(\n",
    "    spark=spark,\n",
    "    df=train_data.join(train_labels, on='customer_ID', how='inner')\n",
    ").toPandas()"
   ]
  },
  {
   "cell_type": "code",
   "execution_count": 5,
   "metadata": {},
   "outputs": [
    {
     "name": "stderr",
     "output_type": "stream",
     "text": [
      "                                                                                \r"
     ]
    },
    {
     "name": "stdout",
     "output_type": "stream",
     "text": [
      "CPU times: user 1.97 s, sys: 3.69 s, total: 5.66 s\n",
      "Wall time: 31 s\n"
     ]
    }
   ],
   "source": [
    "%%time\n",
    "test_pdf = encs.transform(\n",
    "    spark=spark,\n",
    "    df=test_data\n",
    ").toPandas()"
   ]
  },
  {
   "cell_type": "code",
   "execution_count": 6,
   "metadata": {},
   "outputs": [
    {
     "data": {
      "text/plain": [
       "'num_statements, P_2_first, P_2_last, P_2_mean, D_39_first, D_39_last, D_39_mean, B_1_first, B_1_last, B_1_mean, B_2_first, B_2_last, B_2_mean, R_1_first, R_1_last, R_1_mean, S_3_first, S_3_last, S_3_mean, D_41_first, D_41_last, D_41_mean, B_3_first, B_3_last, B_3_mean, D_42_first, D_42_last, D_42_mean, D_43_first, D_43_last, D_43_mean, D_44_first, D_44_last, D_44_mean, B_4_first, B_4_last, B_4_mean, D_45_first, D_45_last, D_45_mean, B_5_first, B_5_last, B_5_mean, R_2_first, R_2_last, R_2_mean, D_46_first, D_46_last, D_46_mean, D_47_first, D_47_last, D_47_mean, D_48_first, D_48_last, D_48_mean, D_49_first, D_49_last, D_49_mean, B_6_first, B_6_last, B_6_mean, B_7_first, B_7_last, B_7_mean, B_8_first, B_8_last, B_8_mean, D_50_first, D_50_last, D_50_mean, D_51_first, D_51_last, D_51_mean, B_9_first, B_9_last, B_9_mean, R_3_first, R_3_last, R_3_mean, D_52_first, D_52_last, D_52_mean, P_3_first, P_3_last, P_3_mean, B_10_first, B_10_last, B_10_mean, D_53_first, D_53_last, D_53_mean, S_5_first, S_5_last, S_5_mean, B_11_first, B_11_last, B_11_mean, S_6_first, S_6_last, S_6_mean, D_54_first, D_54_last, D_54_mean, R_4_first, R_4_last, R_4_mean, S_7_first, S_7_last, S_7_mean, B_12_first, B_12_last, B_12_mean, S_8_first, S_8_last, S_8_mean, D_55_first, D_55_last, D_55_mean, D_56_first, D_56_last, D_56_mean, B_13_first, B_13_last, B_13_mean, R_5_first, R_5_last, R_5_mean, D_58_first, D_58_last, D_58_mean, S_9_first, S_9_last, S_9_mean, B_14_first, B_14_last, B_14_mean, D_59_first, D_59_last, D_59_mean, D_60_first, D_60_last, D_60_mean, D_61_first, D_61_last, D_61_mean, B_15_first, B_15_last, B_15_mean, S_11_first, S_11_last, S_11_mean, D_62_first, D_62_last, D_62_mean, D_65_first, D_65_last, D_65_mean, B_16_first, B_16_last, B_16_mean, B_17_first, B_17_last, B_17_mean, B_18_first, B_18_last, B_18_mean, B_19_first, B_19_last, B_19_mean, B_20_first, B_20_last, B_20_mean, S_12_first, S_12_last, S_12_mean, R_6_first, R_6_last, R_6_mean, S_13_first, S_13_last, S_13_mean, B_21_first, B_21_last, B_21_mean, D_69_first, D_69_last, D_69_mean, B_22_first, B_22_last, B_22_mean, D_70_first, D_70_last, D_70_mean, D_71_first, D_71_last, D_71_mean, D_72_first, D_72_last, D_72_mean, S_15_first, S_15_last, S_15_mean, B_23_first, B_23_last, B_23_mean, D_73_first, D_73_last, D_73_mean, P_4_first, P_4_last, P_4_mean, D_74_first, D_74_last, D_74_mean, D_75_first, D_75_last, D_75_mean, D_76_first, D_76_last, D_76_mean, B_24_first, B_24_last, B_24_mean, R_7_first, R_7_last, R_7_mean, D_77_first, D_77_last, D_77_mean, B_25_first, B_25_last, B_25_mean, B_26_first, B_26_last, B_26_mean, D_78_first, D_78_last, D_78_mean, D_79_first, D_79_last, D_79_mean, R_8_first, R_8_last, R_8_mean, R_9_first, R_9_last, R_9_mean, S_16_first, S_16_last, S_16_mean, D_80_first, D_80_last, D_80_mean, R_10_first, R_10_last, R_10_mean, R_11_first, R_11_last, R_11_mean, B_27_first, B_27_last, B_27_mean, D_81_first, D_81_last, D_81_mean, D_82_first, D_82_last, D_82_mean, S_17_first, S_17_last, S_17_mean, R_12_first, R_12_last, R_12_mean, B_28_first, B_28_last, B_28_mean, R_13_first, R_13_last, R_13_mean, D_83_first, D_83_last, D_83_mean, R_14_first, R_14_last, R_14_mean, R_15_first, R_15_last, R_15_mean, D_84_first, D_84_last, D_84_mean, R_16_first, R_16_last, R_16_mean, B_29_first, B_29_last, B_29_mean, S_18_first, S_18_last, S_18_mean, D_86_first, D_86_last, D_86_mean, D_87_first, D_87_last, D_87_mean, R_17_first, R_17_last, R_17_mean, R_18_first, R_18_last, R_18_mean, D_88_first, D_88_last, D_88_mean, B_31_first, B_31_last, B_31_mean, S_19_first, S_19_last, S_19_mean, R_19_first, R_19_last, R_19_mean, B_32_first, B_32_last, B_32_mean, S_20_first, S_20_last, S_20_mean, R_20_first, R_20_last, R_20_mean, R_21_first, R_21_last, R_21_mean, B_33_first, B_33_last, B_33_mean, D_89_first, D_89_last, D_89_mean, R_22_first, R_22_last, R_22_mean, R_23_first, R_23_last, R_23_mean, D_91_first, D_91_last, D_91_mean, D_92_first, D_92_last, D_92_mean, D_93_first, D_93_last, D_93_mean, D_94_first, D_94_last, D_94_mean, R_24_first, R_24_last, R_24_mean, R_25_first, R_25_last, R_25_mean, D_96_first, D_96_last, D_96_mean, S_22_first, S_22_last, S_22_mean, S_23_first, S_23_last, S_23_mean, S_24_first, S_24_last, S_24_mean, S_25_first, S_25_last, S_25_mean, S_26_first, S_26_last, S_26_mean, D_102_first, D_102_last, D_102_mean, D_103_first, D_103_last, D_103_mean, D_104_first, D_104_last, D_104_mean, D_105_first, D_105_last, D_105_mean, D_106_first, D_106_last, D_106_mean, D_107_first, D_107_last, D_107_mean, B_36_first, B_36_last, B_36_mean, B_37_first, B_37_last, B_37_mean, R_26_first, R_26_last, R_26_mean, R_27_first, R_27_last, R_27_mean, D_108_first, D_108_last, D_108_mean, D_109_first, D_109_last, D_109_mean, D_110_first, D_110_last, D_110_mean, D_111_first, D_111_last, D_111_mean, B_39_first, B_39_last, B_39_mean, D_112_first, D_112_last, D_112_mean, B_40_first, B_40_last, B_40_mean, S_27_first, S_27_last, S_27_mean, D_113_first, D_113_last, D_113_mean, D_115_first, D_115_last, D_115_mean, D_118_first, D_118_last, D_118_mean, D_119_first, D_119_last, D_119_mean, D_121_first, D_121_last, D_121_mean, D_122_first, D_122_last, D_122_mean, D_123_first, D_123_last, D_123_mean, D_124_first, D_124_last, D_124_mean, D_125_first, D_125_last, D_125_mean, D_127_first, D_127_last, D_127_mean, D_128_first, D_128_last, D_128_mean, D_129_first, D_129_last, D_129_mean, B_41_first, B_41_last, B_41_mean, B_42_first, B_42_last, B_42_mean, D_130_first, D_130_last, D_130_mean, D_131_first, D_131_last, D_131_mean, D_132_first, D_132_last, D_132_mean, D_133_first, D_133_last, D_133_mean, R_28_first, R_28_last, R_28_mean, D_134_first, D_134_last, D_134_mean, D_135_first, D_135_last, D_135_mean, D_136_first, D_136_last, D_136_mean, D_137_first, D_137_last, D_137_mean, D_138_first, D_138_last, D_138_mean, D_139_first, D_139_last, D_139_mean, D_140_first, D_140_last, D_140_mean, D_141_first, D_141_last, D_141_mean, D_142_first, D_142_last, D_142_mean, D_143_first, D_143_last, D_143_mean, D_144_first, D_144_last, D_144_mean, D_145_first, D_145_last, D_145_mean, B_30_first_CategoricalToIntegerEncoder, B_30_last_CategoricalToIntegerEncoder, B_30_mode_CategoricalToIntegerEncoder, B_38_first_CategoricalToIntegerEncoder, B_38_last_CategoricalToIntegerEncoder, B_38_mode_CategoricalToIntegerEncoder, D_114_first_CategoricalToIntegerEncoder, D_114_last_CategoricalToIntegerEncoder, D_114_mode_CategoricalToIntegerEncoder, D_116_first_CategoricalToIntegerEncoder, D_116_last_CategoricalToIntegerEncoder, D_116_mode_CategoricalToIntegerEncoder, D_117_first_CategoricalToIntegerEncoder, D_117_last_CategoricalToIntegerEncoder, D_117_mode_CategoricalToIntegerEncoder, D_120_first_CategoricalToIntegerEncoder, D_120_last_CategoricalToIntegerEncoder, D_120_mode_CategoricalToIntegerEncoder, D_126_first_CategoricalToIntegerEncoder, D_126_last_CategoricalToIntegerEncoder, D_126_mode_CategoricalToIntegerEncoder, D_63_first_CategoricalToIntegerEncoder, D_63_last_CategoricalToIntegerEncoder, D_63_mode_CategoricalToIntegerEncoder, D_64_first_CategoricalToIntegerEncoder, D_64_last_CategoricalToIntegerEncoder, D_64_mode_CategoricalToIntegerEncoder, D_66_first_CategoricalToIntegerEncoder, D_66_last_CategoricalToIntegerEncoder, D_66_mode_CategoricalToIntegerEncoder, D_68_first_CategoricalToIntegerEncoder, D_68_last_CategoricalToIntegerEncoder, D_68_mode_CategoricalToIntegerEncoder'"
      ]
     },
     "execution_count": 6,
     "metadata": {},
     "output_type": "execute_result"
    }
   ],
   "source": [
    "from format_data import TARGET_VARIABLE, ID_VARIABLES\n",
    "\n",
    "date_cols = ['S_2_first', 'S_2_last']\n",
    "feature_columns = [\n",
    "    c for c in train_pdf.columns \n",
    "    if c not in [TARGET_VARIABLE,] + ID_VARIABLES + date_cols\n",
    "]\n",
    "', '.join(feature_columns)"
   ]
  },
  {
   "cell_type": "code",
   "execution_count": 7,
   "metadata": {},
   "outputs": [
    {
     "name": "stdout",
     "output_type": "stream",
     "text": [
      "[0. 1.]\n",
      "[ 1. 20.]\n"
     ]
    }
   ],
   "source": [
    "X = train_pdf[feature_columns]\n",
    "y = train_pdf[TARGET_VARIABLE]\n",
    "print(y.unique())\n",
    "# Note that the negative class has been subsampled for this dataset at 5%, and thus receives a 20x weighting in the scoring metric.\n",
    "w = y.apply(lambda x: 20. if x == 1. else 1.)\n",
    "print(w.unique())"
   ]
  },
  {
   "cell_type": "code",
   "execution_count": 8,
   "metadata": {},
   "outputs": [],
   "source": [
    "X_test = test_pdf[feature_columns]"
   ]
  },
  {
   "cell_type": "code",
   "execution_count": 9,
   "metadata": {},
   "outputs": [
    {
     "data": {
      "text/plain": [
       "((344184, 565), (114729, 565), (344184,), (114729,), (344184,), (114729,))"
      ]
     },
     "execution_count": 9,
     "metadata": {},
     "output_type": "execute_result"
    }
   ],
   "source": [
    "from sklearn.model_selection import train_test_split\n",
    "\n",
    "X_train, X_valid, y_train, y_valid, w_train, w_valid = train_test_split(X, y, w)\n",
    "X_train.shape, X_valid.shape, y_train.shape, y_valid.shape, w_train.shape, w_valid.shape"
   ]
  },
  {
   "cell_type": "code",
   "execution_count": 10,
   "metadata": {},
   "outputs": [
    {
     "name": "stdout",
     "output_type": "stream",
     "text": [
      "run_id: 1e0a4409d0f64b01a242d38c75df61cd\n"
     ]
    },
    {
     "name": "stderr",
     "output_type": "stream",
     "text": [
      "/usr/local/lib/python3.8/dist-packages/lightgbm/basic.py:2065: UserWarning: Using categorical_feature in Dataset.\n",
      "  _log_warning('Using categorical_feature in Dataset.')\n",
      "2022/06/16 23:51:02 WARNING mlflow.utils.autologging_utils: MLflow autologging encountered a warning: \"/usr/local/lib/python3.8/dist-packages/mlflow/models/signature.py:129: UserWarning: Hint: Inferred schema contains integer column(s). Integer columns in Python cannot represent missing values. If your input data contains missing values at inference time, it will be encoded as floats and will cause a schema enforcement error. The best way to avoid this problem is to infer the model schema based on a realistic data sample (training dataset) that includes missing values. Alternatively, you can declare integer columns as doubles (float64) whenever these columns may have missing values. See `Handling Integers With Missing Values <https://www.mlflow.org/docs/latest/models.html#handling-integers-with-missing-values>`_ for more details.\"\n",
      "22/06/16 23:51:26 WARN TaskSetManager: Stage 164 contains a task of very large size (8582 KiB). The maximum recommended task size is 1000 KiB.\n",
      "                                                                                \r"
     ]
    },
    {
     "name": "stdout",
     "output_type": "stream",
     "text": [
      "CPU times: user 4min 33s, sys: 18.4 s, total: 4min 51s\n",
      "Wall time: 1min 20s\n"
     ]
    }
   ],
   "source": [
    "%%time\n",
    "import os\n",
    "from tempfile import TemporaryDirectory\n",
    "from format_data import PREDICTION_VARIABLE\n",
    "import pandas as pd\n",
    "from evaluation import evaluate\n",
    "from lightgbm import LGBMClassifier\n",
    "import mlflow\n",
    "\n",
    "\n",
    "mlflow.lightgbm.autolog()\n",
    "experiment_id = mlflow.get_experiment_by_name('use_aggregated.ipynb').experiment_id\n",
    "with mlflow.start_run(experiment_id=experiment_id) as run:\n",
    "    run_id = run.info.run_id\n",
    "    print(f'run_id: {run_id}')\n",
    "\n",
    "    m = LGBMClassifier().fit(\n",
    "        X=X_train, y=y_train, sample_weight=w_train,\n",
    "        categorical_feature=encs.columns_encoded,\n",
    "    )\n",
    "    # these are auto logged\n",
    "    score_train = m.score(X=X_train, y=y_train, sample_weight=w_train)\n",
    "    score_valid = m.score(X=X_valid, y=y_valid, sample_weight=w_valid)\n",
    "    # these are not, so we'll need to log them manually\n",
    "    score_amex_train = evaluate(X_train, y_train, m=m)\n",
    "    score_amex_valid = evaluate(X_valid, y_valid, m=m)\n",
    "    mlflow.log_metric('score_amex_train', score_amex_train)\n",
    "    mlflow.log_metric('score_amex_valid', score_amex_valid)\n",
    "\n",
    "    pred_df = pd.DataFrame({\n",
    "        PREDICTION_VARIABLE: m.predict_proba(X_test)[:, 1],\n",
    "        'customer_ID': test_pdf['customer_ID'],\n",
    "    })\n",
    "    pred_and_sample_joined_counts = (\n",
    "        spark\n",
    "        .createDataFrame(pred_df)\n",
    "        .join(sample_submission, on='customer_ID', how='inner')\n",
    "        .count()\n",
    "    )\n",
    "    assert pred_and_sample_joined_counts == len(pred_df), \\\n",
    "        f'''These should be identical:\n",
    "        sample_submission has {sample_submission.count()} rows,\n",
    "        pred_and_sample_joined_counts is {pred_and_sample_joined_counts},\n",
    "        pred_df has {len(pred_df)} rows\n",
    "        '''\n",
    "    with TemporaryDirectory() as p:\n",
    "        p = os.path.join(p, 'submission.csv')\n",
    "        pred_df.to_csv(p, header=True, index=False)\n",
    "        mlflow.log_artifact(local_path=p)\n"
   ]
  }
 ],
 "metadata": {
  "kernelspec": {
   "display_name": "Python 3.8.10 64-bit",
   "language": "python",
   "name": "python3"
  },
  "language_info": {
   "codemirror_mode": {
    "name": "ipython",
    "version": 3
   },
   "file_extension": ".py",
   "mimetype": "text/x-python",
   "name": "python",
   "nbconvert_exporter": "python",
   "pygments_lexer": "ipython3",
   "version": "3.8.10"
  },
  "orig_nbformat": 4,
  "vscode": {
   "interpreter": {
    "hash": "e7370f93d1d0cde622a1f8e1c04877d8463912d04d973331ad4851f04de6915a"
   }
  }
 },
 "nbformat": 4,
 "nbformat_minor": 2
}
