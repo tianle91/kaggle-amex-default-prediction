{
 "cells": [
  {
   "cell_type": "code",
   "execution_count": 1,
   "metadata": {},
   "outputs": [
    {
     "name": "stderr",
     "output_type": "stream",
     "text": [
      "Warning: Ignoring non-Spark config property: Dio.netty.tryReflectionSetAccessible\n",
      "WARNING: An illegal reflective access operation has occurred\n",
      "WARNING: Illegal reflective access by org.apache.spark.unsafe.Platform (file:/usr/local/lib/python3.8/dist-packages/pyspark/jars/spark-unsafe_2.12-3.2.1.jar) to constructor java.nio.DirectByteBuffer(long,int)\n",
      "WARNING: Please consider reporting this to the maintainers of org.apache.spark.unsafe.Platform\n",
      "WARNING: Use --illegal-access=warn to enable warnings of further illegal reflective access operations\n",
      "WARNING: All illegal access operations will be denied in a future release\n",
      "Using Spark's default log4j profile: org/apache/spark/log4j-defaults.properties\n",
      "Setting default log level to \"WARN\".\n",
      "To adjust logging level use sc.setLogLevel(newLevel). For SparkR, use setLogLevel(newLevel).\n",
      "22/06/20 22:14:10 WARN NativeCodeLoader: Unable to load native-hadoop library for your platform... using builtin-java classes where applicable\n",
      "22/06/20 22:14:11 WARN Utils: Service 'SparkUI' could not bind on port 4040. Attempting port 4041.\n"
     ]
    }
   ],
   "source": [
    "from spark_utils import get_spark_session\n",
    "import pyspark.sql.functions as F\n",
    "\n",
    "spark = get_spark_session()\n",
    "# run transform_latest.py if this don't exist\n",
    "test_data = spark.read.parquet('data_transformed/amex-default-prediction/test_data_latest')\n",
    "train_data = spark.read.parquet('data_transformed/amex-default-prediction/train_data_latest')\n",
    "# run format_data.py if these don't exist\n",
    "train_labels = spark.read.parquet('data/amex-default-prediction/train_labels')\n",
    "sample_submission = spark.read.parquet('data/amex-default-prediction/sample_submission')"
   ]
  },
  {
   "cell_type": "code",
   "execution_count": 2,
   "metadata": {},
   "outputs": [
    {
     "name": "stderr",
     "output_type": "stream",
     "text": [
      "                                                                                \r"
     ]
    },
    {
     "name": "stdout",
     "output_type": "stream",
     "text": [
      "CPU times: user 327 ms, sys: 53.7 ms, total: 381 ms\n",
      "Wall time: 8.49 s\n"
     ]
    }
   ],
   "source": [
    "%%time\n",
    "from format_data import CATEGORICAL_VARIABLES\n",
    "from encoder import CategoricalToIntegerEncoders\n",
    "\n",
    "encs = CategoricalToIntegerEncoders(columns=CATEGORICAL_VARIABLES).fit(train_data)"
   ]
  },
  {
   "cell_type": "code",
   "execution_count": 3,
   "metadata": {},
   "outputs": [
    {
     "name": "stderr",
     "output_type": "stream",
     "text": [
      "22/06/20 22:14:25 WARN package: Truncated the string representation of a plan since it was too large. This behavior can be adjusted by setting 'spark.sql.debug.maxToStringFields'.\n",
      "                                                                                \r"
     ]
    },
    {
     "name": "stdout",
     "output_type": "stream",
     "text": [
      "len(feature_columns): 189\n",
      " P_2, D_39, B_1, B_2, R_1, S_3, D_41, B_3, D_42, D_43, D_44, B_4, D_45, B_5, R_2, D_46, D_47, D_48, D_49, B_6, B_7, B_8, D_50, D_51, B_9, R_3, D_52, P_3, B_10, D_53, S_5, B_11, S_6, D_54, R_4, S_7, B_12, S_8, D_55, D_56, B_13, R_5, D_58, S_9, B_14, D_59, D_60, D_61, B_15, S_11, D_62, D_65, B_16, B_17, B_18, B_19, B_20, S_12, R_6, S_13, B_21, D_69, B_22, D_70, D_71, D_72, S_15, B_23, D_73, P_4, D_74, D_75, D_76, B_24, R_7, D_77, B_25, B_26, D_78, D_79, R_8, R_9, S_16, D_80, R_10, R_11, B_27, D_81, D_82, S_17, R_12, B_28, R_13, D_83, R_14, R_15, D_84, R_16, B_29, S_18, D_86, D_87, R_17, R_18, D_88, B_31, S_19, R_19, B_32, S_20, R_20, R_21, B_33, D_89, R_22, R_23, D_91, D_92, D_93, D_94, R_24, R_25, D_96, S_22, S_23, S_24, S_25, S_26, D_102, D_103, D_104, D_105, D_106, D_107, B_36, B_37, R_26, R_27, D_108, D_109, D_110, D_111, B_39, D_112, B_40, S_27, D_113, D_115, D_118, D_119, D_121, D_122, D_123, D_124, D_125, D_127, D_128, D_129, B_41, B_42, D_130, D_131, D_132, D_133, R_28, D_134, D_135, D_136, D_137, D_138, D_139, D_140, D_141, D_142, D_143, D_144, D_145, num_statements, B_30_CategoricalToIntegerEncoder, B_38_CategoricalToIntegerEncoder, D_114_CategoricalToIntegerEncoder, D_116_CategoricalToIntegerEncoder, D_117_CategoricalToIntegerEncoder, D_120_CategoricalToIntegerEncoder, D_126_CategoricalToIntegerEncoder, D_63_CategoricalToIntegerEncoder, D_64_CategoricalToIntegerEncoder, D_66_CategoricalToIntegerEncoder, D_68_CategoricalToIntegerEncoder\n",
      "CPU times: user 1.33 s, sys: 888 ms, total: 2.22 s\n",
      "Wall time: 21 s\n"
     ]
    }
   ],
   "source": [
    "%%time\n",
    "from format_data import TARGET_VARIABLE, DATE_VARIABLES, ID_VARIABLES\n",
    "\n",
    "# make train_pdf\n",
    "train_pdf = train_data.join(train_labels, on='customer_ID', how='inner')\n",
    "train_pdf = encs.transform(spark=spark, df=train_pdf).toPandas()\n",
    "\n",
    "# make test_pdf\n",
    "test_pdf = encs.transform(spark=spark, df=test_data).toPandas()\n",
    "\n",
    "non_feature_columns = [\n",
    "    TARGET_VARIABLE,\n",
    "    *ID_VARIABLES,\n",
    "    *DATE_VARIABLES.keys(),\n",
    "]\n",
    "feature_columns = [c for c in train_pdf.columns if c not in non_feature_columns]\n",
    "print(f'len(feature_columns): {len(feature_columns)}\\n', ', '.join(feature_columns))"
   ]
  },
  {
   "cell_type": "code",
   "execution_count": 4,
   "metadata": {},
   "outputs": [
    {
     "name": "stdout",
     "output_type": "stream",
     "text": [
      "(458913, 189) (924621, 189)\n",
      "(array([0., 1.], dtype=float32), array([340085, 118828]))\n"
     ]
    }
   ],
   "source": [
    "import numpy as np\n",
    "\n",
    "X_fit = train_pdf[feature_columns].reset_index(drop=True)\n",
    "X_test = test_pdf[feature_columns].reset_index(drop=True)\n",
    "print(X_fit.shape, X_test.shape)\n",
    "\n",
    "y_fit = np.array(train_pdf[TARGET_VARIABLE])\n",
    "print(np.unique(y_fit, return_counts=True))"
   ]
  },
  {
   "cell_type": "code",
   "execution_count": 5,
   "metadata": {},
   "outputs": [
    {
     "name": "stdout",
     "output_type": "stream",
     "text": [
      "(344184, 189) (114729, 189) (344184,) (114729,)\n"
     ]
    }
   ],
   "source": [
    "from sklearn.model_selection import train_test_split\n",
    "\n",
    "X_train, X_valid, y_train, y_valid = train_test_split(X_fit, y_fit)\n",
    "print(X_train.shape, X_valid.shape, y_train.shape, y_valid.shape)"
   ]
  },
  {
   "cell_type": "code",
   "execution_count": 6,
   "metadata": {},
   "outputs": [
    {
     "name": "stderr",
     "output_type": "stream",
     "text": [
      "/usr/local/lib/python3.8/dist-packages/lightgbm/basic.py:2065: UserWarning: Using categorical_feature in Dataset.\n",
      "  _log_warning('Using categorical_feature in Dataset.')\n",
      "/usr/local/lib/python3.8/dist-packages/lightgbm/basic.py:2068: UserWarning: categorical_feature in Dataset is overridden.\n",
      "New categorical_feature is ['B_30_CategoricalToIntegerEncoder', 'B_38_CategoricalToIntegerEncoder', 'D_114_CategoricalToIntegerEncoder', 'D_116_CategoricalToIntegerEncoder', 'D_117_CategoricalToIntegerEncoder', 'D_120_CategoricalToIntegerEncoder', 'D_126_CategoricalToIntegerEncoder', 'D_63_CategoricalToIntegerEncoder', 'D_64_CategoricalToIntegerEncoder', 'D_66_CategoricalToIntegerEncoder', 'D_68_CategoricalToIntegerEncoder']\n",
      "  _log_warning('categorical_feature in Dataset is overridden.\\n'\n",
      "/usr/local/lib/python3.8/dist-packages/lightgbm/basic.py:1780: UserWarning: Overriding the parameters from Reference Dataset.\n",
      "  _log_warning('Overriding the parameters from Reference Dataset.')\n",
      "/usr/local/lib/python3.8/dist-packages/lightgbm/basic.py:1513: UserWarning: categorical_column in param dict is overridden.\n",
      "  _log_warning(f'{cat_alias} in param dict is overridden.')\n"
     ]
    },
    {
     "name": "stdout",
     "output_type": "stream",
     "text": [
      "[1]\tvalid_0's auc: 0.931128\tvalid_0's average_precision: 0.813688\tvalid_0's binary_logloss: 0.519549\tvalid_0's amex: 0.694826\tvalid_0's amex_gini: 0.862129\tvalid_0's amex_top4: 0.527523\n",
      "[2]\tvalid_0's auc: 0.937062\tvalid_0's average_precision: 0.835216\tvalid_0's binary_logloss: 0.47978\tvalid_0's amex: 0.706384\tvalid_0's amex_gini: 0.874621\tvalid_0's amex_top4: 0.538148\n",
      "[3]\tvalid_0's auc: 0.940298\tvalid_0's average_precision: 0.845113\tvalid_0's binary_logloss: 0.44767\tvalid_0's amex: 0.716623\tvalid_0's amex_gini: 0.880764\tvalid_0's amex_top4: 0.552482\n",
      "[4]\tvalid_0's auc: 0.941381\tvalid_0's average_precision: 0.849213\tvalid_0's binary_logloss: 0.421264\tvalid_0's amex: 0.719297\tvalid_0's amex_gini: 0.882772\tvalid_0's amex_top4: 0.555822\n",
      "[5]\tvalid_0's auc: 0.942403\tvalid_0's average_precision: 0.851436\tvalid_0's binary_logloss: 0.399134\tvalid_0's amex: 0.722836\tvalid_0's amex_gini: 0.884858\tvalid_0's amex_top4: 0.560814\n",
      "[6]\tvalid_0's auc: 0.943176\tvalid_0's average_precision: 0.853406\tvalid_0's binary_logloss: 0.380237\tvalid_0's amex: 0.725502\tvalid_0's amex_gini: 0.886514\tvalid_0's amex_top4: 0.56449\n",
      "[7]\tvalid_0's auc: 0.944316\tvalid_0's average_precision: 0.856148\tvalid_0's binary_logloss: 0.363937\tvalid_0's amex: 0.727305\tvalid_0's amex_gini: 0.88894\tvalid_0's amex_top4: 0.565671\n",
      "[8]\tvalid_0's auc: 0.94543\tvalid_0's average_precision: 0.858359\tvalid_0's binary_logloss: 0.349816\tvalid_0's amex: 0.731233\tvalid_0's amex_gini: 0.890959\tvalid_0's amex_top4: 0.571506\n",
      "[9]\tvalid_0's auc: 0.946006\tvalid_0's average_precision: 0.859359\tvalid_0's binary_logloss: 0.337535\tvalid_0's amex: 0.733385\tvalid_0's amex_gini: 0.892128\tvalid_0's amex_top4: 0.574642\n",
      "[10]\tvalid_0's auc: 0.946649\tvalid_0's average_precision: 0.86123\tvalid_0's binary_logloss: 0.326628\tvalid_0's amex: 0.735773\tvalid_0's amex_gini: 0.893329\tvalid_0's amex_top4: 0.578218\n",
      "[11]\tvalid_0's auc: 0.946938\tvalid_0's average_precision: 0.861818\tvalid_0's binary_logloss: 0.317319\tvalid_0's amex: 0.735624\tvalid_0's amex_gini: 0.893873\tvalid_0's amex_top4: 0.577375\n",
      "[12]\tvalid_0's auc: 0.947637\tvalid_0's average_precision: 0.86332\tvalid_0's binary_logloss: 0.308901\tvalid_0's amex: 0.738173\tvalid_0's amex_gini: 0.895194\tvalid_0's amex_top4: 0.581152\n",
      "[13]\tvalid_0's auc: 0.948202\tvalid_0's average_precision: 0.864535\tvalid_0's binary_logloss: 0.301504\tvalid_0's amex: 0.739032\tvalid_0's amex_gini: 0.896371\tvalid_0's amex_top4: 0.581692\n",
      "[14]\tvalid_0's auc: 0.948822\tvalid_0's average_precision: 0.865708\tvalid_0's binary_logloss: 0.294836\tvalid_0's amex: 0.741604\tvalid_0's amex_gini: 0.897705\tvalid_0's amex_top4: 0.585503\n",
      "[15]\tvalid_0's auc: 0.949168\tvalid_0's average_precision: 0.86677\tvalid_0's binary_logloss: 0.28896\tvalid_0's amex: 0.742859\tvalid_0's amex_gini: 0.89836\tvalid_0's amex_top4: 0.587358\n",
      "[16]\tvalid_0's auc: 0.949646\tvalid_0's average_precision: 0.867752\tvalid_0's binary_logloss: 0.283682\tvalid_0's amex: 0.744179\tvalid_0's amex_gini: 0.899347\tvalid_0's amex_top4: 0.589011\n",
      "[17]\tvalid_0's auc: 0.950092\tvalid_0's average_precision: 0.868957\tvalid_0's binary_logloss: 0.278823\tvalid_0's amex: 0.746813\tvalid_0's amex_gini: 0.900096\tvalid_0's amex_top4: 0.593531\n",
      "[18]\tvalid_0's auc: 0.950514\tvalid_0's average_precision: 0.869943\tvalid_0's binary_logloss: 0.274485\tvalid_0's amex: 0.748467\tvalid_0's amex_gini: 0.900975\tvalid_0's amex_top4: 0.595959\n",
      "[19]\tvalid_0's auc: 0.95101\tvalid_0's average_precision: 0.871137\tvalid_0's binary_logloss: 0.270547\tvalid_0's amex: 0.750203\tvalid_0's amex_gini: 0.902018\tvalid_0's amex_top4: 0.598388\n",
      "[20]\tvalid_0's auc: 0.951374\tvalid_0's average_precision: 0.871979\tvalid_0's binary_logloss: 0.267052\tvalid_0's amex: 0.751516\tvalid_0's amex_gini: 0.902722\tvalid_0's amex_top4: 0.60031\n",
      "[21]\tvalid_0's auc: 0.951684\tvalid_0's average_precision: 0.872687\tvalid_0's binary_logloss: 0.264027\tvalid_0's amex: 0.752443\tvalid_0's amex_gini: 0.903361\tvalid_0's amex_top4: 0.601525\n",
      "[22]\tvalid_0's auc: 0.951943\tvalid_0's average_precision: 0.87336\tvalid_0's binary_logloss: 0.261149\tvalid_0's amex: 0.753231\tvalid_0's amex_gini: 0.903893\tvalid_0's amex_top4: 0.60257\n",
      "[23]\tvalid_0's auc: 0.952185\tvalid_0's average_precision: 0.874071\tvalid_0's binary_logloss: 0.258577\tvalid_0's amex: 0.754317\tvalid_0's amex_gini: 0.904378\tvalid_0's amex_top4: 0.604257\n",
      "[24]\tvalid_0's auc: 0.952462\tvalid_0's average_precision: 0.874993\tvalid_0's binary_logloss: 0.256168\tvalid_0's amex: 0.755463\tvalid_0's amex_gini: 0.904949\tvalid_0's amex_top4: 0.605977\n",
      "[25]\tvalid_0's auc: 0.952757\tvalid_0's average_precision: 0.875926\tvalid_0's binary_logloss: 0.25391\tvalid_0's amex: 0.756734\tvalid_0's amex_gini: 0.905536\tvalid_0's amex_top4: 0.607933\n",
      "[26]\tvalid_0's auc: 0.952967\tvalid_0's average_precision: 0.876478\tvalid_0's binary_logloss: 0.251986\tvalid_0's amex: 0.757967\tvalid_0's amex_gini: 0.90591\tvalid_0's amex_top4: 0.610024\n",
      "[27]\tvalid_0's auc: 0.953221\tvalid_0's average_precision: 0.877157\tvalid_0's binary_logloss: 0.25013\tvalid_0's amex: 0.759199\tvalid_0's amex_gini: 0.906452\tvalid_0's amex_top4: 0.611947\n",
      "[28]\tvalid_0's auc: 0.953424\tvalid_0's average_precision: 0.87776\tvalid_0's binary_logloss: 0.248491\tvalid_0's amex: 0.759752\tvalid_0's amex_gini: 0.906816\tvalid_0's amex_top4: 0.612689\n",
      "[29]\tvalid_0's auc: 0.9536\tvalid_0's average_precision: 0.878218\tvalid_0's binary_logloss: 0.247051\tvalid_0's amex: 0.761064\tvalid_0's amex_gini: 0.907247\tvalid_0's amex_top4: 0.614881\n",
      "[30]\tvalid_0's auc: 0.953829\tvalid_0's average_precision: 0.878833\tvalid_0's binary_logloss: 0.245641\tvalid_0's amex: 0.762042\tvalid_0's amex_gini: 0.907616\tvalid_0's amex_top4: 0.616467\n",
      "[31]\tvalid_0's auc: 0.95403\tvalid_0's average_precision: 0.879356\tvalid_0's binary_logloss: 0.244332\tvalid_0's amex: 0.762272\tvalid_0's amex_gini: 0.908045\tvalid_0's amex_top4: 0.6165\n",
      "[32]\tvalid_0's auc: 0.954211\tvalid_0's average_precision: 0.879835\tvalid_0's binary_logloss: 0.243174\tvalid_0's amex: 0.762809\tvalid_0's amex_gini: 0.90841\tvalid_0's amex_top4: 0.617209\n",
      "[33]\tvalid_0's auc: 0.954351\tvalid_0's average_precision: 0.880194\tvalid_0's binary_logloss: 0.242182\tvalid_0's amex: 0.763672\tvalid_0's amex_gini: 0.908684\tvalid_0's amex_top4: 0.618659\n",
      "[34]\tvalid_0's auc: 0.954503\tvalid_0's average_precision: 0.880582\tvalid_0's binary_logloss: 0.241235\tvalid_0's amex: 0.763918\tvalid_0's amex_gini: 0.908941\tvalid_0's amex_top4: 0.618895\n",
      "[35]\tvalid_0's auc: 0.954673\tvalid_0's average_precision: 0.880986\tvalid_0's binary_logloss: 0.240297\tvalid_0's amex: 0.764211\tvalid_0's amex_gini: 0.909359\tvalid_0's amex_top4: 0.619064\n",
      "[36]\tvalid_0's auc: 0.954807\tvalid_0's average_precision: 0.881278\tvalid_0's binary_logloss: 0.2395\tvalid_0's amex: 0.764978\tvalid_0's amex_gini: 0.909611\tvalid_0's amex_top4: 0.620345\n",
      "[37]\tvalid_0's auc: 0.954998\tvalid_0's average_precision: 0.881679\tvalid_0's binary_logloss: 0.238712\tvalid_0's amex: 0.765718\tvalid_0's amex_gini: 0.909978\tvalid_0's amex_top4: 0.621458\n",
      "[38]\tvalid_0's auc: 0.955155\tvalid_0's average_precision: 0.882046\tvalid_0's binary_logloss: 0.237977\tvalid_0's amex: 0.766047\tvalid_0's amex_gini: 0.910298\tvalid_0's amex_top4: 0.621796\n",
      "[39]\tvalid_0's auc: 0.95534\tvalid_0's average_precision: 0.882454\tvalid_0's binary_logloss: 0.237267\tvalid_0's amex: 0.766593\tvalid_0's amex_gini: 0.910682\tvalid_0's amex_top4: 0.622504\n",
      "[40]\tvalid_0's auc: 0.955473\tvalid_0's average_precision: 0.882836\tvalid_0's binary_logloss: 0.236623\tvalid_0's amex: 0.767537\tvalid_0's amex_gini: 0.91095\tvalid_0's amex_top4: 0.624123\n",
      "[41]\tvalid_0's auc: 0.955623\tvalid_0's average_precision: 0.883132\tvalid_0's binary_logloss: 0.236016\tvalid_0's amex: 0.768053\tvalid_0's amex_gini: 0.911242\tvalid_0's amex_top4: 0.624865\n",
      "[42]\tvalid_0's auc: 0.955735\tvalid_0's average_precision: 0.883395\tvalid_0's binary_logloss: 0.235515\tvalid_0's amex: 0.767513\tvalid_0's amex_gini: 0.911477\tvalid_0's amex_top4: 0.62355\n",
      "[43]\tvalid_0's auc: 0.955866\tvalid_0's average_precision: 0.883698\tvalid_0's binary_logloss: 0.23499\tvalid_0's amex: 0.767912\tvalid_0's amex_gini: 0.911735\tvalid_0's amex_top4: 0.624089\n",
      "[44]\tvalid_0's auc: 0.955958\tvalid_0's average_precision: 0.883914\tvalid_0's binary_logloss: 0.234559\tvalid_0's amex: 0.768154\tvalid_0's amex_gini: 0.911915\tvalid_0's amex_top4: 0.624393\n",
      "[45]\tvalid_0's auc: 0.956074\tvalid_0's average_precision: 0.884198\tvalid_0's binary_logloss: 0.234089\tvalid_0's amex: 0.76876\tvalid_0's amex_gini: 0.912149\tvalid_0's amex_top4: 0.625371\n",
      "[46]\tvalid_0's auc: 0.956149\tvalid_0's average_precision: 0.884385\tvalid_0's binary_logloss: 0.233703\tvalid_0's amex: 0.769593\tvalid_0's amex_gini: 0.912298\tvalid_0's amex_top4: 0.626889\n",
      "[47]\tvalid_0's auc: 0.956261\tvalid_0's average_precision: 0.884695\tvalid_0's binary_logloss: 0.233272\tvalid_0's amex: 0.769755\tvalid_0's amex_gini: 0.91252\tvalid_0's amex_top4: 0.62699\n",
      "[48]\tvalid_0's auc: 0.956373\tvalid_0's average_precision: 0.884967\tvalid_0's binary_logloss: 0.232874\tvalid_0's amex: 0.769985\tvalid_0's amex_gini: 0.912745\tvalid_0's amex_top4: 0.627226\n",
      "[49]\tvalid_0's auc: 0.956453\tvalid_0's average_precision: 0.885158\tvalid_0's binary_logloss: 0.232555\tvalid_0's amex: 0.770437\tvalid_0's amex_gini: 0.912905\tvalid_0's amex_top4: 0.627968\n",
      "[50]\tvalid_0's auc: 0.956569\tvalid_0's average_precision: 0.885415\tvalid_0's binary_logloss: 0.232155\tvalid_0's amex: 0.770806\tvalid_0's amex_gini: 0.913137\tvalid_0's amex_top4: 0.628474\n",
      "[51]\tvalid_0's auc: 0.956639\tvalid_0's average_precision: 0.885568\tvalid_0's binary_logloss: 0.231857\tvalid_0's amex: 0.770471\tvalid_0's amex_gini: 0.913278\tvalid_0's amex_top4: 0.627665\n",
      "[52]\tvalid_0's auc: 0.956721\tvalid_0's average_precision: 0.885739\tvalid_0's binary_logloss: 0.231577\tvalid_0's amex: 0.770789\tvalid_0's amex_gini: 0.913442\tvalid_0's amex_top4: 0.628137\n",
      "[53]\tvalid_0's auc: 0.956828\tvalid_0's average_precision: 0.885986\tvalid_0's binary_logloss: 0.231241\tvalid_0's amex: 0.771756\tvalid_0's amex_gini: 0.913655\tvalid_0's amex_top4: 0.629857\n",
      "[54]\tvalid_0's auc: 0.956914\tvalid_0's average_precision: 0.886156\tvalid_0's binary_logloss: 0.230944\tvalid_0's amex: 0.771775\tvalid_0's amex_gini: 0.913827\tvalid_0's amex_top4: 0.629722\n",
      "[55]\tvalid_0's auc: 0.957003\tvalid_0's average_precision: 0.886369\tvalid_0's binary_logloss: 0.23064\tvalid_0's amex: 0.771678\tvalid_0's amex_gini: 0.914006\tvalid_0's amex_top4: 0.629351\n",
      "[56]\tvalid_0's auc: 0.957113\tvalid_0's average_precision: 0.886626\tvalid_0's binary_logloss: 0.230303\tvalid_0's amex: 0.772058\tvalid_0's amex_gini: 0.914225\tvalid_0's amex_top4: 0.629891\n",
      "[57]\tvalid_0's auc: 0.957186\tvalid_0's average_precision: 0.886792\tvalid_0's binary_logloss: 0.230056\tvalid_0's amex: 0.772383\tvalid_0's amex_gini: 0.91437\tvalid_0's amex_top4: 0.630397\n",
      "[58]\tvalid_0's auc: 0.95726\tvalid_0's average_precision: 0.886928\tvalid_0's binary_logloss: 0.229809\tvalid_0's amex: 0.772475\tvalid_0's amex_gini: 0.914519\tvalid_0's amex_top4: 0.63043\n",
      "[59]\tvalid_0's auc: 0.957328\tvalid_0's average_precision: 0.887084\tvalid_0's binary_logloss: 0.229604\tvalid_0's amex: 0.772812\tvalid_0's amex_gini: 0.914655\tvalid_0's amex_top4: 0.63097\n",
      "[60]\tvalid_0's auc: 0.957399\tvalid_0's average_precision: 0.887277\tvalid_0's binary_logloss: 0.229384\tvalid_0's amex: 0.773018\tvalid_0's amex_gini: 0.914796\tvalid_0's amex_top4: 0.63124\n",
      "[61]\tvalid_0's auc: 0.957458\tvalid_0's average_precision: 0.887412\tvalid_0's binary_logloss: 0.229181\tvalid_0's amex: 0.773094\tvalid_0's amex_gini: 0.914914\tvalid_0's amex_top4: 0.631274\n",
      "[62]\tvalid_0's auc: 0.95752\tvalid_0's average_precision: 0.887552\tvalid_0's binary_logloss: 0.228971\tvalid_0's amex: 0.773545\tvalid_0's amex_gini: 0.91504\tvalid_0's amex_top4: 0.632049\n",
      "[63]\tvalid_0's auc: 0.957586\tvalid_0's average_precision: 0.887724\tvalid_0's binary_logloss: 0.228755\tvalid_0's amex: 0.773712\tvalid_0's amex_gini: 0.915172\tvalid_0's amex_top4: 0.632252\n",
      "[64]\tvalid_0's auc: 0.957642\tvalid_0's average_precision: 0.887865\tvalid_0's binary_logloss: 0.228567\tvalid_0's amex: 0.774054\tvalid_0's amex_gini: 0.915283\tvalid_0's amex_top4: 0.632825\n",
      "[65]\tvalid_0's auc: 0.957698\tvalid_0's average_precision: 0.888019\tvalid_0's binary_logloss: 0.228397\tvalid_0's amex: 0.774178\tvalid_0's amex_gini: 0.915396\tvalid_0's amex_top4: 0.63296\n",
      "[66]\tvalid_0's auc: 0.957747\tvalid_0's average_precision: 0.888163\tvalid_0's binary_logloss: 0.228237\tvalid_0's amex: 0.774766\tvalid_0's amex_gini: 0.915493\tvalid_0's amex_top4: 0.634039\n",
      "[67]\tvalid_0's auc: 0.957802\tvalid_0's average_precision: 0.888285\tvalid_0's binary_logloss: 0.228072\tvalid_0's amex: 0.775007\tvalid_0's amex_gini: 0.915604\tvalid_0's amex_top4: 0.63441\n",
      "[68]\tvalid_0's auc: 0.957861\tvalid_0's average_precision: 0.888432\tvalid_0's binary_logloss: 0.227903\tvalid_0's amex: 0.77542\tvalid_0's amex_gini: 0.915721\tvalid_0's amex_top4: 0.635119\n",
      "[69]\tvalid_0's auc: 0.957907\tvalid_0's average_precision: 0.888544\tvalid_0's binary_logloss: 0.227769\tvalid_0's amex: 0.775567\tvalid_0's amex_gini: 0.915813\tvalid_0's amex_top4: 0.635321\n",
      "[70]\tvalid_0's auc: 0.957955\tvalid_0's average_precision: 0.888666\tvalid_0's binary_logloss: 0.227619\tvalid_0's amex: 0.77548\tvalid_0's amex_gini: 0.915909\tvalid_0's amex_top4: 0.635051\n",
      "[71]\tvalid_0's auc: 0.958\tvalid_0's average_precision: 0.888786\tvalid_0's binary_logloss: 0.22747\tvalid_0's amex: 0.775896\tvalid_0's amex_gini: 0.915999\tvalid_0's amex_top4: 0.635793\n",
      "[72]\tvalid_0's auc: 0.958058\tvalid_0's average_precision: 0.888915\tvalid_0's binary_logloss: 0.227302\tvalid_0's amex: 0.776056\tvalid_0's amex_gini: 0.916116\tvalid_0's amex_top4: 0.635996\n",
      "[73]\tvalid_0's auc: 0.958111\tvalid_0's average_precision: 0.889049\tvalid_0's binary_logloss: 0.227153\tvalid_0's amex: 0.776243\tvalid_0's amex_gini: 0.916221\tvalid_0's amex_top4: 0.636266\n",
      "[74]\tvalid_0's auc: 0.958159\tvalid_0's average_precision: 0.889176\tvalid_0's binary_logloss: 0.227003\tvalid_0's amex: 0.776392\tvalid_0's amex_gini: 0.916317\tvalid_0's amex_top4: 0.636468\n",
      "[75]\tvalid_0's auc: 0.958211\tvalid_0's average_precision: 0.889281\tvalid_0's binary_logloss: 0.226848\tvalid_0's amex: 0.776444\tvalid_0's amex_gini: 0.91642\tvalid_0's amex_top4: 0.636468\n",
      "[76]\tvalid_0's auc: 0.958248\tvalid_0's average_precision: 0.889364\tvalid_0's binary_logloss: 0.226726\tvalid_0's amex: 0.776937\tvalid_0's amex_gini: 0.916495\tvalid_0's amex_top4: 0.637379\n",
      "[77]\tvalid_0's auc: 0.958297\tvalid_0's average_precision: 0.889489\tvalid_0's binary_logloss: 0.226576\tvalid_0's amex: 0.777289\tvalid_0's amex_gini: 0.916593\tvalid_0's amex_top4: 0.637986\n",
      "[78]\tvalid_0's auc: 0.958348\tvalid_0's average_precision: 0.889634\tvalid_0's binary_logloss: 0.226421\tvalid_0's amex: 0.777728\tvalid_0's amex_gini: 0.916695\tvalid_0's amex_top4: 0.638761\n",
      "[79]\tvalid_0's auc: 0.958388\tvalid_0's average_precision: 0.889728\tvalid_0's binary_logloss: 0.226296\tvalid_0's amex: 0.777297\tvalid_0's amex_gini: 0.916776\tvalid_0's amex_top4: 0.637817\n",
      "[80]\tvalid_0's auc: 0.958421\tvalid_0's average_precision: 0.889809\tvalid_0's binary_logloss: 0.226203\tvalid_0's amex: 0.777329\tvalid_0's amex_gini: 0.91684\tvalid_0's amex_top4: 0.637817\n",
      "[81]\tvalid_0's auc: 0.958458\tvalid_0's average_precision: 0.889907\tvalid_0's binary_logloss: 0.226091\tvalid_0's amex: 0.777855\tvalid_0's amex_gini: 0.916915\tvalid_0's amex_top4: 0.638795\n",
      "[82]\tvalid_0's auc: 0.958488\tvalid_0's average_precision: 0.890013\tvalid_0's binary_logloss: 0.225988\tvalid_0's amex: 0.777565\tvalid_0's amex_gini: 0.916975\tvalid_0's amex_top4: 0.638154\n",
      "[83]\tvalid_0's auc: 0.958528\tvalid_0's average_precision: 0.89011\tvalid_0's binary_logloss: 0.225868\tvalid_0's amex: 0.778431\tvalid_0's amex_gini: 0.917055\tvalid_0's amex_top4: 0.639807\n",
      "[84]\tvalid_0's auc: 0.958553\tvalid_0's average_precision: 0.890192\tvalid_0's binary_logloss: 0.225786\tvalid_0's amex: 0.778692\tvalid_0's amex_gini: 0.917104\tvalid_0's amex_top4: 0.640279\n",
      "[85]\tvalid_0's auc: 0.958589\tvalid_0's average_precision: 0.89028\tvalid_0's binary_logloss: 0.225677\tvalid_0's amex: 0.778914\tvalid_0's amex_gini: 0.917177\tvalid_0's amex_top4: 0.64065\n",
      "[86]\tvalid_0's auc: 0.95861\tvalid_0's average_precision: 0.89034\tvalid_0's binary_logloss: 0.225605\tvalid_0's amex: 0.779205\tvalid_0's amex_gini: 0.917219\tvalid_0's amex_top4: 0.64119\n",
      "[87]\tvalid_0's auc: 0.958623\tvalid_0's average_precision: 0.890383\tvalid_0's binary_logloss: 0.225556\tvalid_0's amex: 0.778914\tvalid_0's amex_gini: 0.917245\tvalid_0's amex_top4: 0.640583\n",
      "[88]\tvalid_0's auc: 0.95865\tvalid_0's average_precision: 0.89044\tvalid_0's binary_logloss: 0.225468\tvalid_0's amex: 0.778789\tvalid_0's amex_gini: 0.917299\tvalid_0's amex_top4: 0.640279\n",
      "[89]\tvalid_0's auc: 0.958673\tvalid_0's average_precision: 0.890491\tvalid_0's binary_logloss: 0.225399\tvalid_0's amex: 0.779049\tvalid_0's amex_gini: 0.917346\tvalid_0's amex_top4: 0.640751\n",
      "[90]\tvalid_0's auc: 0.958697\tvalid_0's average_precision: 0.890547\tvalid_0's binary_logloss: 0.225334\tvalid_0's amex: 0.779207\tvalid_0's amex_gini: 0.917392\tvalid_0's amex_top4: 0.641021\n",
      "[91]\tvalid_0's auc: 0.958735\tvalid_0's average_precision: 0.890642\tvalid_0's binary_logloss: 0.225225\tvalid_0's amex: 0.779229\tvalid_0's amex_gini: 0.91747\tvalid_0's amex_top4: 0.640988\n",
      "[92]\tvalid_0's auc: 0.958758\tvalid_0's average_precision: 0.890713\tvalid_0's binary_logloss: 0.22516\tvalid_0's amex: 0.779133\tvalid_0's amex_gini: 0.917515\tvalid_0's amex_top4: 0.640751\n",
      "[93]\tvalid_0's auc: 0.958787\tvalid_0's average_precision: 0.890783\tvalid_0's binary_logloss: 0.225064\tvalid_0's amex: 0.77923\tvalid_0's amex_gini: 0.917573\tvalid_0's amex_top4: 0.640886\n",
      "[94]\tvalid_0's auc: 0.958805\tvalid_0's average_precision: 0.890827\tvalid_0's binary_logloss: 0.225009\tvalid_0's amex: 0.779484\tvalid_0's amex_gini: 0.91761\tvalid_0's amex_top4: 0.641359\n",
      "[95]\tvalid_0's auc: 0.958813\tvalid_0's average_precision: 0.890846\tvalid_0's binary_logloss: 0.22498\tvalid_0's amex: 0.779677\tvalid_0's amex_gini: 0.917624\tvalid_0's amex_top4: 0.64173\n",
      "[96]\tvalid_0's auc: 0.958838\tvalid_0's average_precision: 0.890921\tvalid_0's binary_logloss: 0.224897\tvalid_0's amex: 0.779854\tvalid_0's amex_gini: 0.917675\tvalid_0's amex_top4: 0.642033\n",
      "[97]\tvalid_0's auc: 0.958851\tvalid_0's average_precision: 0.890959\tvalid_0's binary_logloss: 0.224857\tvalid_0's amex: 0.77985\tvalid_0's amex_gini: 0.9177\tvalid_0's amex_top4: 0.641999\n",
      "[98]\tvalid_0's auc: 0.958868\tvalid_0's average_precision: 0.89102\tvalid_0's binary_logloss: 0.224797\tvalid_0's amex: 0.780019\tvalid_0's amex_gini: 0.917735\tvalid_0's amex_top4: 0.642303\n",
      "[99]\tvalid_0's auc: 0.958903\tvalid_0's average_precision: 0.891128\tvalid_0's binary_logloss: 0.224703\tvalid_0's amex: 0.779834\tvalid_0's amex_gini: 0.917804\tvalid_0's amex_top4: 0.641865\n",
      "[100]\tvalid_0's auc: 0.958928\tvalid_0's average_precision: 0.891189\tvalid_0's binary_logloss: 0.224631\tvalid_0's amex: 0.780316\tvalid_0's amex_gini: 0.917856\tvalid_0's amex_top4: 0.642775\n"
     ]
    },
    {
     "name": "stderr",
     "output_type": "stream",
     "text": [
      "2022/06/20 22:15:38 WARNING mlflow.utils.autologging_utils: MLflow autologging encountered a warning: \"/usr/local/lib/python3.8/dist-packages/mlflow/models/signature.py:129: UserWarning: Hint: Inferred schema contains integer column(s). Integer columns in Python cannot represent missing values. If your input data contains missing values at inference time, it will be encoded as floats and will cause a schema enforcement error. The best way to avoid this problem is to infer the model schema based on a realistic data sample (training dataset) that includes missing values. Alternatively, you can declare integer columns as doubles (float64) whenever these columns may have missing values. See `Handling Integers With Missing Values <https://www.mlflow.org/docs/latest/models.html#handling-integers-with-missing-values>`_ for more details.\"\n"
     ]
    },
    {
     "name": "stdout",
     "output_type": "stream",
     "text": [
      "CPU times: user 2min 1s, sys: 2.56 s, total: 2min 4s\n",
      "Wall time: 53.5 s\n"
     ]
    }
   ],
   "source": [
    "%%time\n",
    "import mlflow\n",
    "from lightgbm import LGBMClassifier\n",
    "from evaluation import feval_amex, feval_amex_gini, feval_amex_top4\n",
    "\n",
    "mlflow.lightgbm.autolog()\n",
    "experiment_id = mlflow.get_experiment_by_name('v2.ipynb').experiment_id\n",
    "with mlflow.start_run(experiment_id=experiment_id) as run:\n",
    "    run_id = run.info.run_id\n",
    "    m = LGBMClassifier().fit(\n",
    "        X=X_train, y=y_train, categorical_feature=encs.columns_encoded,\n",
    "        eval_set=[(X_valid, y_valid)],\n",
    "        eval_metric=['auc', 'average_precision', feval_amex, feval_amex_gini, feval_amex_top4],\n",
    "    )"
   ]
  },
  {
   "cell_type": "code",
   "execution_count": 7,
   "metadata": {},
   "outputs": [
    {
     "data": {
      "text/html": [
       "<div>\n",
       "<style scoped>\n",
       "    .dataframe tbody tr th:only-of-type {\n",
       "        vertical-align: middle;\n",
       "    }\n",
       "\n",
       "    .dataframe tbody tr th {\n",
       "        vertical-align: top;\n",
       "    }\n",
       "\n",
       "    .dataframe thead th {\n",
       "        text-align: right;\n",
       "    }\n",
       "</style>\n",
       "<table border=\"1\" class=\"dataframe\">\n",
       "  <thead>\n",
       "    <tr style=\"text-align: right;\">\n",
       "      <th></th>\n",
       "      <th>customer_ID</th>\n",
       "      <th>prediction</th>\n",
       "    </tr>\n",
       "  </thead>\n",
       "  <tbody>\n",
       "    <tr>\n",
       "      <th>0</th>\n",
       "      <td>61fb2dd47f7a2eb2e81c3bf89e147bc61d6a42914cf570...</td>\n",
       "      <td>-5.333210</td>\n",
       "    </tr>\n",
       "    <tr>\n",
       "      <th>1</th>\n",
       "      <td>117a23d25e3b45d80250045da0d9a1bd50a7f57468cf5e...</td>\n",
       "      <td>0.601343</td>\n",
       "    </tr>\n",
       "    <tr>\n",
       "      <th>2</th>\n",
       "      <td>344029ccdb720001501d138a9a5ab1ff7abf827d296bba...</td>\n",
       "      <td>0.164597</td>\n",
       "    </tr>\n",
       "    <tr>\n",
       "      <th>3</th>\n",
       "      <td>4b09ee54b4254d63fa938bb67b93b9c134f336d78945d5...</td>\n",
       "      <td>-1.942375</td>\n",
       "    </tr>\n",
       "    <tr>\n",
       "      <th>4</th>\n",
       "      <td>c4e6c35ecccc7d71d7d677513fe15cb52dd034420cad2b...</td>\n",
       "      <td>-6.197563</td>\n",
       "    </tr>\n",
       "  </tbody>\n",
       "</table>\n",
       "</div>"
      ],
      "text/plain": [
       "                                         customer_ID  prediction\n",
       "0  61fb2dd47f7a2eb2e81c3bf89e147bc61d6a42914cf570...   -5.333210\n",
       "1  117a23d25e3b45d80250045da0d9a1bd50a7f57468cf5e...    0.601343\n",
       "2  344029ccdb720001501d138a9a5ab1ff7abf827d296bba...    0.164597\n",
       "3  4b09ee54b4254d63fa938bb67b93b9c134f336d78945d5...   -1.942375\n",
       "4  c4e6c35ecccc7d71d7d677513fe15cb52dd034420cad2b...   -6.197563"
      ]
     },
     "execution_count": 7,
     "metadata": {},
     "output_type": "execute_result"
    }
   ],
   "source": [
    "from format_data import PREDICTION_VARIABLE\n",
    "import pandas as pd\n",
    "\n",
    "pred_test = pd.DataFrame({\n",
    "    'customer_ID': test_pdf['customer_ID'],\n",
    "    PREDICTION_VARIABLE: m.predict(X_test, raw_score=True),\n",
    "})\n",
    "pred_test.head()"
   ]
  }
 ],
 "metadata": {
  "kernelspec": {
   "display_name": "Python 3.8.10 64-bit",
   "language": "python",
   "name": "python3"
  },
  "language_info": {
   "codemirror_mode": {
    "name": "ipython",
    "version": 3
   },
   "file_extension": ".py",
   "mimetype": "text/x-python",
   "name": "python",
   "nbconvert_exporter": "python",
   "pygments_lexer": "ipython3",
   "version": "3.8.10"
  },
  "orig_nbformat": 4,
  "vscode": {
   "interpreter": {
    "hash": "e7370f93d1d0cde622a1f8e1c04877d8463912d04d973331ad4851f04de6915a"
   }
  }
 },
 "nbformat": 4,
 "nbformat_minor": 2
}
