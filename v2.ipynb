{
 "cells": [
  {
   "cell_type": "code",
   "execution_count": 1,
   "metadata": {},
   "outputs": [
    {
     "name": "stderr",
     "output_type": "stream",
     "text": [
      "Warning: Ignoring non-Spark config property: Dio.netty.tryReflectionSetAccessible\n",
      "WARNING: An illegal reflective access operation has occurred\n",
      "WARNING: Illegal reflective access by org.apache.spark.unsafe.Platform (file:/usr/local/lib/python3.8/dist-packages/pyspark/jars/spark-unsafe_2.12-3.2.1.jar) to constructor java.nio.DirectByteBuffer(long,int)\n",
      "WARNING: Please consider reporting this to the maintainers of org.apache.spark.unsafe.Platform\n",
      "WARNING: Use --illegal-access=warn to enable warnings of further illegal reflective access operations\n",
      "WARNING: All illegal access operations will be denied in a future release\n",
      "Using Spark's default log4j profile: org/apache/spark/log4j-defaults.properties\n",
      "Setting default log level to \"WARN\".\n",
      "To adjust logging level use sc.setLogLevel(newLevel). For SparkR, use setLogLevel(newLevel).\n",
      "22/06/20 13:12:41 WARN NativeCodeLoader: Unable to load native-hadoop library for your platform... using builtin-java classes where applicable\n",
      "22/06/20 13:12:42 WARN Utils: Service 'SparkUI' could not bind on port 4040. Attempting port 4041.\n",
      "                                                                                \r"
     ]
    }
   ],
   "source": [
    "from spark_utils import get_spark_session\n",
    "import pyspark.sql.functions as F\n",
    "\n",
    "spark = get_spark_session()\n",
    "# run transform_latest.py if this don't exist\n",
    "test_data = spark.read.parquet('data_transformed/amex-default-prediction/test_data_latest')\n",
    "train_data = spark.read.parquet('data_transformed/amex-default-prediction/train_data_latest')\n",
    "# run format_data.py if these don't exist\n",
    "train_labels = spark.read.parquet('data/amex-default-prediction/train_labels')\n",
    "sample_submission = spark.read.parquet('data/amex-default-prediction/sample_submission')"
   ]
  },
  {
   "cell_type": "code",
   "execution_count": 2,
   "metadata": {},
   "outputs": [
    {
     "name": "stderr",
     "output_type": "stream",
     "text": [
      "                                                                                \r"
     ]
    },
    {
     "name": "stdout",
     "output_type": "stream",
     "text": [
      "CPU times: user 372 ms, sys: 53 ms, total: 425 ms\n",
      "Wall time: 8.82 s\n"
     ]
    }
   ],
   "source": [
    "%%time\n",
    "from format_data import CATEGORICAL_VARIABLES\n",
    "from encoder import CategoricalToIntegerEncoders\n",
    "\n",
    "encs = CategoricalToIntegerEncoders(columns=CATEGORICAL_VARIABLES).fit(train_data)"
   ]
  },
  {
   "cell_type": "code",
   "execution_count": 3,
   "metadata": {},
   "outputs": [
    {
     "name": "stderr",
     "output_type": "stream",
     "text": [
      "22/06/20 13:12:58 WARN package: Truncated the string representation of a plan since it was too large. This behavior can be adjusted by setting 'spark.sql.debug.maxToStringFields'.\n",
      "                                                                                \r"
     ]
    },
    {
     "name": "stdout",
     "output_type": "stream",
     "text": [
      "len(feature_columns): 188\n",
      " P_2, D_39, B_1, B_2, R_1, S_3, D_41, B_3, D_42, D_43, D_44, B_4, D_45, B_5, R_2, D_46, D_47, D_48, D_49, B_6, B_7, B_8, D_50, D_51, B_9, R_3, D_52, P_3, B_10, D_53, S_5, B_11, S_6, D_54, R_4, S_7, B_12, S_8, D_55, D_56, B_13, R_5, D_58, S_9, B_14, D_59, D_60, D_61, B_15, S_11, D_62, D_65, B_16, B_17, B_18, B_19, B_20, S_12, R_6, S_13, B_21, D_69, B_22, D_70, D_71, D_72, S_15, B_23, D_73, P_4, D_74, D_75, D_76, B_24, R_7, D_77, B_25, B_26, D_78, D_79, R_8, R_9, S_16, D_80, R_10, R_11, B_27, D_81, D_82, S_17, R_12, B_28, R_13, D_83, R_14, R_15, D_84, R_16, B_29, S_18, D_86, D_87, R_17, R_18, D_88, B_31, S_19, R_19, B_32, S_20, R_20, R_21, B_33, D_89, R_22, R_23, D_91, D_92, D_93, D_94, R_24, R_25, D_96, S_22, S_23, S_24, S_25, S_26, D_102, D_103, D_104, D_105, D_106, D_107, B_36, B_37, R_26, R_27, D_108, D_109, D_110, D_111, B_39, D_112, B_40, S_27, D_113, D_115, D_118, D_119, D_121, D_122, D_123, D_124, D_125, D_127, D_128, D_129, B_41, B_42, D_130, D_131, D_132, D_133, R_28, D_134, D_135, D_136, D_137, D_138, D_139, D_140, D_141, D_142, D_143, D_144, D_145, B_30_CategoricalToIntegerEncoder, B_38_CategoricalToIntegerEncoder, D_114_CategoricalToIntegerEncoder, D_116_CategoricalToIntegerEncoder, D_117_CategoricalToIntegerEncoder, D_120_CategoricalToIntegerEncoder, D_126_CategoricalToIntegerEncoder, D_63_CategoricalToIntegerEncoder, D_64_CategoricalToIntegerEncoder, D_66_CategoricalToIntegerEncoder, D_68_CategoricalToIntegerEncoder\n",
      "CPU times: user 1.34 s, sys: 974 ms, total: 2.32 s\n",
      "Wall time: 21.2 s\n"
     ]
    }
   ],
   "source": [
    "%%time\n",
    "from format_data import TARGET_VARIABLE, DATE_VARIABLES, ID_VARIABLES\n",
    "\n",
    "# make train_pdf\n",
    "train_pdf = train_data.join(train_labels, on='customer_ID', how='inner')\n",
    "train_pdf = encs.transform(spark=spark, df=train_pdf).toPandas()\n",
    "\n",
    "# make test_pdf\n",
    "test_pdf = encs.transform(spark=spark, df=test_data).toPandas()\n",
    "\n",
    "feature_columns = [\n",
    "    c for c in train_pdf.columns \n",
    "    if c not in [TARGET_VARIABLE,] + ID_VARIABLES + list(DATE_VARIABLES.keys())\n",
    "]\n",
    "print(f'len(feature_columns): {len(feature_columns)}\\n', ', '.join(feature_columns))"
   ]
  },
  {
   "cell_type": "code",
   "execution_count": 4,
   "metadata": {},
   "outputs": [
    {
     "name": "stdout",
     "output_type": "stream",
     "text": [
      "(458913, 188) (924621, 188)\n",
      "(array([0., 1.], dtype=float32), array([340085, 118828]))\n"
     ]
    }
   ],
   "source": [
    "import numpy as np\n",
    "\n",
    "X_fit = train_pdf[feature_columns].reset_index(drop=True)\n",
    "X_test = test_pdf[feature_columns].reset_index(drop=True)\n",
    "print(X_fit.shape, X_test.shape)\n",
    "\n",
    "y_fit = np.array(train_pdf[TARGET_VARIABLE])\n",
    "print(np.unique(y_fit, return_counts=True))"
   ]
  },
  {
   "cell_type": "code",
   "execution_count": 5,
   "metadata": {},
   "outputs": [
    {
     "data": {
      "text/plain": [
       "((344184, 188), (114729, 188), (344184,), (114729,))"
      ]
     },
     "execution_count": 5,
     "metadata": {},
     "output_type": "execute_result"
    }
   ],
   "source": [
    "from sklearn.model_selection import train_test_split\n",
    "\n",
    "X_train, X_valid, y_train, y_valid = train_test_split(X_fit, y_fit)\n",
    "X_train.shape, X_valid.shape, y_train.shape, y_valid.shape"
   ]
  },
  {
   "cell_type": "code",
   "execution_count": 6,
   "metadata": {},
   "outputs": [],
   "source": [
    "from evaluation import amex_metric\n",
    "from lightgbm import Dataset\n",
    "\n",
    "\n",
    "def feval_amex(preds, eval_data: Dataset):\n",
    "    # https://github.com/microsoft/LightGBM/blob/2f5baa3d39efb518cd13a7932fe4d8602c36762f/python-package/lightgbm/engine.py#L54-L71\n",
    "    eval_result, _, _ = amex_metric(y_true=eval_data.label, y_pred=preds)\n",
    "    # return eval_name, eval_result, is_higher_better\n",
    "    return 'amex', eval_result, True\n",
    "\n",
    "def feval_amex_gini(preds, eval_data: Dataset):\n",
    "    # https://github.com/microsoft/LightGBM/blob/2f5baa3d39efb518cd13a7932fe4d8602c36762f/python-package/lightgbm/engine.py#L54-L71\n",
    "    _, eval_result, _ = amex_metric(y_true=eval_data.label, y_pred=preds)\n",
    "    # return eval_name, eval_result, is_higher_better\n",
    "    return 'amex_gini', eval_result, True\n",
    "\n",
    "def feval_amex_top4(preds, eval_data: Dataset):\n",
    "    # https://github.com/microsoft/LightGBM/blob/2f5baa3d39efb518cd13a7932fe4d8602c36762f/python-package/lightgbm/engine.py#L54-L71\n",
    "    _, _, eval_result = amex_metric(y_true=eval_data.label, y_pred=preds)\n",
    "    # return eval_name, eval_result, is_higher_better\n",
    "    return 'amex_top4', eval_result, True"
   ]
  },
  {
   "cell_type": "code",
   "execution_count": 7,
   "metadata": {},
   "outputs": [
    {
     "name": "stderr",
     "output_type": "stream",
     "text": [
      "/usr/local/lib/python3.8/dist-packages/lightgbm/basic.py:2065: UserWarning: Using categorical_feature in Dataset.\n",
      "  _log_warning('Using categorical_feature in Dataset.')\n"
     ]
    },
    {
     "name": "stdout",
     "output_type": "stream",
     "text": [
      "[LightGBM] [Warning] Auto-choosing col-wise multi-threading, the overhead of testing was 0.267793 seconds.\n",
      "You can set `force_col_wise=true` to remove the overhead.\n",
      "[LightGBM] [Info] Total Bins 44546\n",
      "[LightGBM] [Info] Number of data points in the train set: 344184, number of used features: 188\n"
     ]
    },
    {
     "name": "stderr",
     "output_type": "stream",
     "text": [
      "/usr/local/lib/python3.8/dist-packages/lightgbm/basic.py:1780: UserWarning: Overriding the parameters from Reference Dataset.\n",
      "  _log_warning('Overriding the parameters from Reference Dataset.')\n",
      "/usr/local/lib/python3.8/dist-packages/lightgbm/basic.py:1513: UserWarning: categorical_column in param dict is overridden.\n",
      "  _log_warning(f'{cat_alias} in param dict is overridden.')\n"
     ]
    },
    {
     "name": "stdout",
     "output_type": "stream",
     "text": [
      "[LightGBM] [Info] Start training from score 0.258495\n",
      "[1]\tvalid_0's auc: 0.931035\tvalid_0's average_precision: 0.809948\tvalid_0's amex: 0.692304\tvalid_0's amex_gini: 0.862067\tvalid_0's amex_top4: 0.52254\n",
      "[2]\tvalid_0's auc: 0.934723\tvalid_0's average_precision: 0.833461\tvalid_0's amex: 0.705269\tvalid_0's amex_gini: 0.869712\tvalid_0's amex_top4: 0.540827\n",
      "[3]\tvalid_0's auc: 0.938419\tvalid_0's average_precision: 0.842473\tvalid_0's amex: 0.711287\tvalid_0's amex_gini: 0.876959\tvalid_0's amex_top4: 0.545616\n",
      "[4]\tvalid_0's auc: 0.940622\tvalid_0's average_precision: 0.847922\tvalid_0's amex: 0.719197\tvalid_0's amex_gini: 0.881458\tvalid_0's amex_top4: 0.556936\n",
      "[5]\tvalid_0's auc: 0.941942\tvalid_0's average_precision: 0.851769\tvalid_0's amex: 0.724439\tvalid_0's amex_gini: 0.883837\tvalid_0's amex_top4: 0.565041\n",
      "[6]\tvalid_0's auc: 0.943468\tvalid_0's average_precision: 0.854067\tvalid_0's amex: 0.726171\tvalid_0's amex_gini: 0.887168\tvalid_0's amex_top4: 0.565175\n",
      "[7]\tvalid_0's auc: 0.944657\tvalid_0's average_precision: 0.856484\tvalid_0's amex: 0.729616\tvalid_0's amex_gini: 0.889402\tvalid_0's amex_top4: 0.569831\n",
      "[8]\tvalid_0's auc: 0.945366\tvalid_0's average_precision: 0.858727\tvalid_0's amex: 0.733038\tvalid_0's amex_gini: 0.891021\tvalid_0's amex_top4: 0.575055\n",
      "[9]\tvalid_0's auc: 0.946073\tvalid_0's average_precision: 0.859761\tvalid_0's amex: 0.734438\tvalid_0's amex_gini: 0.892213\tvalid_0's amex_top4: 0.576663\n",
      "[10]\tvalid_0's auc: 0.946671\tvalid_0's average_precision: 0.861492\tvalid_0's amex: 0.735994\tvalid_0's amex_gini: 0.893315\tvalid_0's amex_top4: 0.578672\n",
      "[11]\tvalid_0's auc: 0.947189\tvalid_0's average_precision: 0.862912\tvalid_0's amex: 0.73859\tvalid_0's amex_gini: 0.894422\tvalid_0's amex_top4: 0.582758\n",
      "[12]\tvalid_0's auc: 0.947686\tvalid_0's average_precision: 0.864163\tvalid_0's amex: 0.739044\tvalid_0's amex_gini: 0.89533\tvalid_0's amex_top4: 0.582758\n",
      "[13]\tvalid_0's auc: 0.948336\tvalid_0's average_precision: 0.865505\tvalid_0's amex: 0.740823\tvalid_0's amex_gini: 0.896643\tvalid_0's amex_top4: 0.585002\n",
      "[14]\tvalid_0's auc: 0.948843\tvalid_0's average_precision: 0.866685\tvalid_0's amex: 0.743068\tvalid_0's amex_gini: 0.897684\tvalid_0's amex_top4: 0.588452\n",
      "[15]\tvalid_0's auc: 0.949224\tvalid_0's average_precision: 0.86759\tvalid_0's amex: 0.74411\tvalid_0's amex_gini: 0.898461\tvalid_0's amex_top4: 0.589758\n",
      "[16]\tvalid_0's auc: 0.949662\tvalid_0's average_precision: 0.868675\tvalid_0's amex: 0.745804\tvalid_0's amex_gini: 0.899305\tvalid_0's amex_top4: 0.592304\n",
      "[17]\tvalid_0's auc: 0.950035\tvalid_0's average_precision: 0.869633\tvalid_0's amex: 0.747006\tvalid_0's amex_gini: 0.9001\tvalid_0's amex_top4: 0.593911\n",
      "[18]\tvalid_0's auc: 0.95036\tvalid_0's average_precision: 0.870504\tvalid_0's amex: 0.747631\tvalid_0's amex_gini: 0.900749\tvalid_0's amex_top4: 0.594514\n",
      "[19]\tvalid_0's auc: 0.950665\tvalid_0's average_precision: 0.871418\tvalid_0's amex: 0.749262\tvalid_0's amex_gini: 0.90133\tvalid_0's amex_top4: 0.597193\n",
      "[20]\tvalid_0's auc: 0.950915\tvalid_0's average_precision: 0.871998\tvalid_0's amex: 0.750056\tvalid_0's amex_gini: 0.901814\tvalid_0's amex_top4: 0.598299\n",
      "[21]\tvalid_0's auc: 0.951202\tvalid_0's average_precision: 0.872578\tvalid_0's amex: 0.750794\tvalid_0's amex_gini: 0.90242\tvalid_0's amex_top4: 0.599169\n",
      "[22]\tvalid_0's auc: 0.951465\tvalid_0's average_precision: 0.873149\tvalid_0's amex: 0.751742\tvalid_0's amex_gini: 0.902941\tvalid_0's amex_top4: 0.600543\n",
      "[23]\tvalid_0's auc: 0.951708\tvalid_0's average_precision: 0.873795\tvalid_0's amex: 0.751861\tvalid_0's amex_gini: 0.903414\tvalid_0's amex_top4: 0.600308\n",
      "[24]\tvalid_0's auc: 0.951938\tvalid_0's average_precision: 0.874439\tvalid_0's amex: 0.753184\tvalid_0's amex_gini: 0.903882\tvalid_0's amex_top4: 0.602485\n",
      "[25]\tvalid_0's auc: 0.952153\tvalid_0's average_precision: 0.875094\tvalid_0's amex: 0.75424\tvalid_0's amex_gini: 0.904321\tvalid_0's amex_top4: 0.60416\n",
      "[26]\tvalid_0's auc: 0.952352\tvalid_0's average_precision: 0.875618\tvalid_0's amex: 0.754619\tvalid_0's amex_gini: 0.904677\tvalid_0's amex_top4: 0.604562\n",
      "[27]\tvalid_0's auc: 0.952542\tvalid_0's average_precision: 0.876136\tvalid_0's amex: 0.755062\tvalid_0's amex_gini: 0.905093\tvalid_0's amex_top4: 0.60503\n",
      "[28]\tvalid_0's auc: 0.952732\tvalid_0's average_precision: 0.876643\tvalid_0's amex: 0.755804\tvalid_0's amex_gini: 0.905473\tvalid_0's amex_top4: 0.606136\n",
      "[29]\tvalid_0's auc: 0.952877\tvalid_0's average_precision: 0.877104\tvalid_0's amex: 0.756819\tvalid_0's amex_gini: 0.905761\tvalid_0's amex_top4: 0.607877\n",
      "[30]\tvalid_0's auc: 0.953025\tvalid_0's average_precision: 0.877619\tvalid_0's amex: 0.757619\tvalid_0's amex_gini: 0.906054\tvalid_0's amex_top4: 0.609183\n",
      "[31]\tvalid_0's auc: 0.953201\tvalid_0's average_precision: 0.878077\tvalid_0's amex: 0.758442\tvalid_0's amex_gini: 0.906395\tvalid_0's amex_top4: 0.61049\n",
      "[32]\tvalid_0's auc: 0.953306\tvalid_0's average_precision: 0.878386\tvalid_0's amex: 0.759278\tvalid_0's amex_gini: 0.906626\tvalid_0's amex_top4: 0.61193\n",
      "[33]\tvalid_0's auc: 0.953469\tvalid_0's average_precision: 0.878795\tvalid_0's amex: 0.759298\tvalid_0's amex_gini: 0.906933\tvalid_0's amex_top4: 0.611662\n",
      "[34]\tvalid_0's auc: 0.953615\tvalid_0's average_precision: 0.879172\tvalid_0's amex: 0.759666\tvalid_0's amex_gini: 0.907235\tvalid_0's amex_top4: 0.612097\n",
      "[35]\tvalid_0's auc: 0.953726\tvalid_0's average_precision: 0.879456\tvalid_0's amex: 0.760158\tvalid_0's amex_gini: 0.907448\tvalid_0's amex_top4: 0.612868\n",
      "[36]\tvalid_0's auc: 0.953897\tvalid_0's average_precision: 0.879823\tvalid_0's amex: 0.760382\tvalid_0's amex_gini: 0.907795\tvalid_0's amex_top4: 0.612968\n",
      "[37]\tvalid_0's auc: 0.954058\tvalid_0's average_precision: 0.880254\tvalid_0's amex: 0.760995\tvalid_0's amex_gini: 0.908118\tvalid_0's amex_top4: 0.613872\n",
      "[38]\tvalid_0's auc: 0.954169\tvalid_0's average_precision: 0.880509\tvalid_0's amex: 0.76127\tvalid_0's amex_gini: 0.908333\tvalid_0's amex_top4: 0.614207\n",
      "[39]\tvalid_0's auc: 0.95427\tvalid_0's average_precision: 0.880834\tvalid_0's amex: 0.761641\tvalid_0's amex_gini: 0.908539\tvalid_0's amex_top4: 0.614743\n",
      "[40]\tvalid_0's auc: 0.954402\tvalid_0's average_precision: 0.881209\tvalid_0's amex: 0.762628\tvalid_0's amex_gini: 0.908805\tvalid_0's amex_top4: 0.616451\n",
      "[41]\tvalid_0's auc: 0.95451\tvalid_0's average_precision: 0.881428\tvalid_0's amex: 0.76297\tvalid_0's amex_gini: 0.909019\tvalid_0's amex_top4: 0.61692\n",
      "[42]\tvalid_0's auc: 0.954608\tvalid_0's average_precision: 0.881656\tvalid_0's amex: 0.762918\tvalid_0's amex_gini: 0.909216\tvalid_0's amex_top4: 0.616619\n",
      "[43]\tvalid_0's auc: 0.954688\tvalid_0's average_precision: 0.881911\tvalid_0's amex: 0.763348\tvalid_0's amex_gini: 0.909374\tvalid_0's amex_top4: 0.617322\n",
      "[44]\tvalid_0's auc: 0.954795\tvalid_0's average_precision: 0.882178\tvalid_0's amex: 0.764159\tvalid_0's amex_gini: 0.909589\tvalid_0's amex_top4: 0.618729\n",
      "[45]\tvalid_0's auc: 0.954866\tvalid_0's average_precision: 0.882398\tvalid_0's amex: 0.764314\tvalid_0's amex_gini: 0.909732\tvalid_0's amex_top4: 0.618896\n",
      "[46]\tvalid_0's auc: 0.954952\tvalid_0's average_precision: 0.882589\tvalid_0's amex: 0.764768\tvalid_0's amex_gini: 0.909903\tvalid_0's amex_top4: 0.619633\n",
      "[47]\tvalid_0's auc: 0.955031\tvalid_0's average_precision: 0.882739\tvalid_0's amex: 0.764931\tvalid_0's amex_gini: 0.910061\tvalid_0's amex_top4: 0.6198\n",
      "[48]\tvalid_0's auc: 0.955109\tvalid_0's average_precision: 0.882924\tvalid_0's amex: 0.765444\tvalid_0's amex_gini: 0.910217\tvalid_0's amex_top4: 0.620671\n",
      "[49]\tvalid_0's auc: 0.955212\tvalid_0's average_precision: 0.883145\tvalid_0's amex: 0.765799\tvalid_0's amex_gini: 0.910424\tvalid_0's amex_top4: 0.621174\n",
      "[50]\tvalid_0's auc: 0.955272\tvalid_0's average_precision: 0.883308\tvalid_0's amex: 0.765925\tvalid_0's amex_gini: 0.910542\tvalid_0's amex_top4: 0.621308\n",
      "[51]\tvalid_0's auc: 0.955358\tvalid_0's average_precision: 0.883537\tvalid_0's amex: 0.766346\tvalid_0's amex_gini: 0.910715\tvalid_0's amex_top4: 0.621977\n",
      "[52]\tvalid_0's auc: 0.955425\tvalid_0's average_precision: 0.883779\tvalid_0's amex: 0.766999\tvalid_0's amex_gini: 0.910849\tvalid_0's amex_top4: 0.62315\n",
      "[53]\tvalid_0's auc: 0.955484\tvalid_0's average_precision: 0.883889\tvalid_0's amex: 0.767427\tvalid_0's amex_gini: 0.910968\tvalid_0's amex_top4: 0.623886\n",
      "[54]\tvalid_0's auc: 0.955543\tvalid_0's average_precision: 0.884086\tvalid_0's amex: 0.767854\tvalid_0's amex_gini: 0.911084\tvalid_0's amex_top4: 0.624623\n",
      "[55]\tvalid_0's auc: 0.955602\tvalid_0's average_precision: 0.88425\tvalid_0's amex: 0.767813\tvalid_0's amex_gini: 0.911204\tvalid_0's amex_top4: 0.624422\n",
      "[56]\tvalid_0's auc: 0.955674\tvalid_0's average_precision: 0.884412\tvalid_0's amex: 0.768002\tvalid_0's amex_gini: 0.911348\tvalid_0's amex_top4: 0.624657\n",
      "[57]\tvalid_0's auc: 0.955744\tvalid_0's average_precision: 0.884602\tvalid_0's amex: 0.768876\tvalid_0's amex_gini: 0.911488\tvalid_0's amex_top4: 0.626264\n",
      "[58]\tvalid_0's auc: 0.955789\tvalid_0's average_precision: 0.884742\tvalid_0's amex: 0.769122\tvalid_0's amex_gini: 0.911577\tvalid_0's amex_top4: 0.626666\n",
      "[59]\tvalid_0's auc: 0.955846\tvalid_0's average_precision: 0.884923\tvalid_0's amex: 0.769548\tvalid_0's amex_gini: 0.911692\tvalid_0's amex_top4: 0.627403\n",
      "[60]\tvalid_0's auc: 0.95591\tvalid_0's average_precision: 0.885072\tvalid_0's amex: 0.769829\tvalid_0's amex_gini: 0.911819\tvalid_0's amex_top4: 0.627838\n",
      "[61]\tvalid_0's auc: 0.955953\tvalid_0's average_precision: 0.885248\tvalid_0's amex: 0.770542\tvalid_0's amex_gini: 0.911905\tvalid_0's amex_top4: 0.629178\n",
      "[62]\tvalid_0's auc: 0.956004\tvalid_0's average_precision: 0.885415\tvalid_0's amex: 0.770928\tvalid_0's amex_gini: 0.912007\tvalid_0's amex_top4: 0.629848\n",
      "[63]\tvalid_0's auc: 0.956093\tvalid_0's average_precision: 0.885597\tvalid_0's amex: 0.771167\tvalid_0's amex_gini: 0.912185\tvalid_0's amex_top4: 0.630149\n",
      "[64]\tvalid_0's auc: 0.95615\tvalid_0's average_precision: 0.885731\tvalid_0's amex: 0.771559\tvalid_0's amex_gini: 0.912299\tvalid_0's amex_top4: 0.630819\n",
      "[65]\tvalid_0's auc: 0.956191\tvalid_0's average_precision: 0.885833\tvalid_0's amex: 0.771316\tvalid_0's amex_gini: 0.912382\tvalid_0's amex_top4: 0.63025\n",
      "[66]\tvalid_0's auc: 0.956229\tvalid_0's average_precision: 0.88593\tvalid_0's amex: 0.771337\tvalid_0's amex_gini: 0.912458\tvalid_0's amex_top4: 0.630216\n",
      "[67]\tvalid_0's auc: 0.956262\tvalid_0's average_precision: 0.885967\tvalid_0's amex: 0.771269\tvalid_0's amex_gini: 0.912523\tvalid_0's amex_top4: 0.630015\n",
      "[68]\tvalid_0's auc: 0.956307\tvalid_0's average_precision: 0.88612\tvalid_0's amex: 0.771582\tvalid_0's amex_gini: 0.912612\tvalid_0's amex_top4: 0.630551\n",
      "[69]\tvalid_0's auc: 0.956325\tvalid_0's average_precision: 0.886197\tvalid_0's amex: 0.772052\tvalid_0's amex_gini: 0.912649\tvalid_0's amex_top4: 0.631456\n",
      "[70]\tvalid_0's auc: 0.956358\tvalid_0's average_precision: 0.886265\tvalid_0's amex: 0.772169\tvalid_0's amex_gini: 0.912714\tvalid_0's amex_top4: 0.631623\n",
      "[71]\tvalid_0's auc: 0.956374\tvalid_0's average_precision: 0.88637\tvalid_0's amex: 0.772068\tvalid_0's amex_gini: 0.912747\tvalid_0's amex_top4: 0.631389\n",
      "[72]\tvalid_0's auc: 0.956397\tvalid_0's average_precision: 0.886425\tvalid_0's amex: 0.772627\tvalid_0's amex_gini: 0.912794\tvalid_0's amex_top4: 0.63246\n",
      "[73]\tvalid_0's auc: 0.956423\tvalid_0's average_precision: 0.886481\tvalid_0's amex: 0.772703\tvalid_0's amex_gini: 0.912846\tvalid_0's amex_top4: 0.632561\n",
      "[74]\tvalid_0's auc: 0.956487\tvalid_0's average_precision: 0.886592\tvalid_0's amex: 0.772483\tvalid_0's amex_gini: 0.912974\tvalid_0's amex_top4: 0.631991\n",
      "[75]\tvalid_0's auc: 0.956507\tvalid_0's average_precision: 0.886648\tvalid_0's amex: 0.77257\tvalid_0's amex_gini: 0.913014\tvalid_0's amex_top4: 0.632125\n",
      "[76]\tvalid_0's auc: 0.956538\tvalid_0's average_precision: 0.886705\tvalid_0's amex: 0.772567\tvalid_0's amex_gini: 0.913076\tvalid_0's amex_top4: 0.632058\n",
      "[77]\tvalid_0's auc: 0.956549\tvalid_0's average_precision: 0.886767\tvalid_0's amex: 0.772846\tvalid_0's amex_gini: 0.913097\tvalid_0's amex_top4: 0.632594\n",
      "[78]\tvalid_0's auc: 0.956588\tvalid_0's average_precision: 0.886896\tvalid_0's amex: 0.773337\tvalid_0's amex_gini: 0.913175\tvalid_0's amex_top4: 0.633499\n",
      "[79]\tvalid_0's auc: 0.956621\tvalid_0's average_precision: 0.886963\tvalid_0's amex: 0.773069\tvalid_0's amex_gini: 0.913241\tvalid_0's amex_top4: 0.632896\n",
      "[80]\tvalid_0's auc: 0.956604\tvalid_0's average_precision: 0.88697\tvalid_0's amex: 0.773068\tvalid_0's amex_gini: 0.913207\tvalid_0's amex_top4: 0.632929\n",
      "[81]\tvalid_0's auc: 0.956632\tvalid_0's average_precision: 0.887079\tvalid_0's amex: 0.773297\tvalid_0's amex_gini: 0.913262\tvalid_0's amex_top4: 0.633331\n",
      "[82]\tvalid_0's auc: 0.95666\tvalid_0's average_precision: 0.88716\tvalid_0's amex: 0.773175\tvalid_0's amex_gini: 0.91332\tvalid_0's amex_top4: 0.63303\n",
      "[83]\tvalid_0's auc: 0.956702\tvalid_0's average_precision: 0.887275\tvalid_0's amex: 0.773267\tvalid_0's amex_gini: 0.913403\tvalid_0's amex_top4: 0.63313\n",
      "[84]\tvalid_0's auc: 0.956722\tvalid_0's average_precision: 0.887329\tvalid_0's amex: 0.773403\tvalid_0's amex_gini: 0.913442\tvalid_0's amex_top4: 0.633365\n",
      "[85]\tvalid_0's auc: 0.956739\tvalid_0's average_precision: 0.887427\tvalid_0's amex: 0.773638\tvalid_0's amex_gini: 0.913477\tvalid_0's amex_top4: 0.6338\n",
      "[86]\tvalid_0's auc: 0.956719\tvalid_0's average_precision: 0.887438\tvalid_0's amex: 0.7734\tvalid_0's amex_gini: 0.913436\tvalid_0's amex_top4: 0.633365\n",
      "[87]\tvalid_0's auc: 0.956737\tvalid_0's average_precision: 0.887484\tvalid_0's amex: 0.773653\tvalid_0's amex_gini: 0.913474\tvalid_0's amex_top4: 0.633833\n",
      "[88]\tvalid_0's auc: 0.956744\tvalid_0's average_precision: 0.887489\tvalid_0's amex: 0.773811\tvalid_0's amex_gini: 0.913487\tvalid_0's amex_top4: 0.634135\n",
      "[89]\tvalid_0's auc: 0.956761\tvalid_0's average_precision: 0.887577\tvalid_0's amex: 0.773778\tvalid_0's amex_gini: 0.913522\tvalid_0's amex_top4: 0.634034\n",
      "[90]\tvalid_0's auc: 0.956773\tvalid_0's average_precision: 0.887615\tvalid_0's amex: 0.774108\tvalid_0's amex_gini: 0.913546\tvalid_0's amex_top4: 0.634671\n",
      "[91]\tvalid_0's auc: 0.9568\tvalid_0's average_precision: 0.887685\tvalid_0's amex: 0.774151\tvalid_0's amex_gini: 0.913599\tvalid_0's amex_top4: 0.634704\n",
      "[92]\tvalid_0's auc: 0.956819\tvalid_0's average_precision: 0.887748\tvalid_0's amex: 0.77422\tvalid_0's amex_gini: 0.913636\tvalid_0's amex_top4: 0.634805\n",
      "[93]\tvalid_0's auc: 0.956827\tvalid_0's average_precision: 0.887754\tvalid_0's amex: 0.774362\tvalid_0's amex_gini: 0.913652\tvalid_0's amex_top4: 0.635073\n",
      "[94]\tvalid_0's auc: 0.956826\tvalid_0's average_precision: 0.887758\tvalid_0's amex: 0.774362\tvalid_0's amex_gini: 0.913651\tvalid_0's amex_top4: 0.635073\n",
      "[95]\tvalid_0's auc: 0.956849\tvalid_0's average_precision: 0.887798\tvalid_0's amex: 0.774401\tvalid_0's amex_gini: 0.913696\tvalid_0's amex_top4: 0.635106\n",
      "[96]\tvalid_0's auc: 0.956858\tvalid_0's average_precision: 0.887815\tvalid_0's amex: 0.774662\tvalid_0's amex_gini: 0.913715\tvalid_0's amex_top4: 0.635609\n",
      "[97]\tvalid_0's auc: 0.956874\tvalid_0's average_precision: 0.887891\tvalid_0's amex: 0.774795\tvalid_0's amex_gini: 0.913747\tvalid_0's amex_top4: 0.635843\n",
      "[98]\tvalid_0's auc: 0.956882\tvalid_0's average_precision: 0.887921\tvalid_0's amex: 0.774887\tvalid_0's amex_gini: 0.913763\tvalid_0's amex_top4: 0.63601\n",
      "[99]\tvalid_0's auc: 0.956907\tvalid_0's average_precision: 0.887959\tvalid_0's amex: 0.774861\tvalid_0's amex_gini: 0.913812\tvalid_0's amex_top4: 0.63591\n",
      "[100]\tvalid_0's auc: 0.956929\tvalid_0's average_precision: 0.888017\tvalid_0's amex: 0.774917\tvalid_0's amex_gini: 0.913858\tvalid_0's amex_top4: 0.635977\n",
      "CPU times: user 1min 45s, sys: 1.09 s, total: 1min 46s\n",
      "Wall time: 42.7 s\n"
     ]
    }
   ],
   "source": [
    "%%time\n",
    "from lightgbm import train, Dataset\n",
    "\n",
    "train_set = Dataset(data=X_train, label=y_train, categorical_feature=encs.columns_encoded)\n",
    "valid_set = Dataset(data=X_valid, label=y_valid, categorical_feature=encs.columns_encoded)\n",
    "\n",
    "m = train(\n",
    "    params={\n",
    "        'metric': ['auc', 'average_precision'],\n",
    "    },\n",
    "    train_set=train_set,\n",
    "    valid_sets=[valid_set],\n",
    "    feval=[feval_amex, feval_amex_gini, feval_amex_top4],\n",
    ")"
   ]
  },
  {
   "cell_type": "code",
   "execution_count": 8,
   "metadata": {},
   "outputs": [
    {
     "data": {
      "text/html": [
       "<div>\n",
       "<style scoped>\n",
       "    .dataframe tbody tr th:only-of-type {\n",
       "        vertical-align: middle;\n",
       "    }\n",
       "\n",
       "    .dataframe tbody tr th {\n",
       "        vertical-align: top;\n",
       "    }\n",
       "\n",
       "    .dataframe thead th {\n",
       "        text-align: right;\n",
       "    }\n",
       "</style>\n",
       "<table border=\"1\" class=\"dataframe\">\n",
       "  <thead>\n",
       "    <tr style=\"text-align: right;\">\n",
       "      <th></th>\n",
       "      <th>customer_ID</th>\n",
       "      <th>prediction</th>\n",
       "    </tr>\n",
       "  </thead>\n",
       "  <tbody>\n",
       "    <tr>\n",
       "      <th>0</th>\n",
       "      <td>d72e30f1857dcdc45eb55a09972c983ddc381108ae3275...</td>\n",
       "      <td>1.035711</td>\n",
       "    </tr>\n",
       "    <tr>\n",
       "      <th>1</th>\n",
       "      <td>774996eacc8ff2cab9f5a098556cb0fdb8079386dd3ffa...</td>\n",
       "      <td>1.036490</td>\n",
       "    </tr>\n",
       "    <tr>\n",
       "      <th>2</th>\n",
       "      <td>4975dd02572f2a564bf615232fa59d353d6034c46cc7e2...</td>\n",
       "      <td>0.024468</td>\n",
       "    </tr>\n",
       "    <tr>\n",
       "      <th>3</th>\n",
       "      <td>d49bca69b1cd613720f1f458fb051d7e5f6b2ae8f1ac82...</td>\n",
       "      <td>0.847613</td>\n",
       "    </tr>\n",
       "    <tr>\n",
       "      <th>4</th>\n",
       "      <td>36195b70707d85375966335f249542a1e3c6650fce7f16...</td>\n",
       "      <td>0.014975</td>\n",
       "    </tr>\n",
       "  </tbody>\n",
       "</table>\n",
       "</div>"
      ],
      "text/plain": [
       "                                         customer_ID  prediction\n",
       "0  d72e30f1857dcdc45eb55a09972c983ddc381108ae3275...    1.035711\n",
       "1  774996eacc8ff2cab9f5a098556cb0fdb8079386dd3ffa...    1.036490\n",
       "2  4975dd02572f2a564bf615232fa59d353d6034c46cc7e2...    0.024468\n",
       "3  d49bca69b1cd613720f1f458fb051d7e5f6b2ae8f1ac82...    0.847613\n",
       "4  36195b70707d85375966335f249542a1e3c6650fce7f16...    0.014975"
      ]
     },
     "execution_count": 8,
     "metadata": {},
     "output_type": "execute_result"
    }
   ],
   "source": [
    "from format_data import PREDICTION_VARIABLE\n",
    "import pandas as pd\n",
    "\n",
    "pred_test = pd.DataFrame({\n",
    "    'customer_ID': test_pdf['customer_ID'],\n",
    "    PREDICTION_VARIABLE: m.predict(X_test),\n",
    "})\n",
    "pred_test.head()"
   ]
  }
 ],
 "metadata": {
  "kernelspec": {
   "display_name": "Python 3.8.10 64-bit",
   "language": "python",
   "name": "python3"
  },
  "language_info": {
   "codemirror_mode": {
    "name": "ipython",
    "version": 3
   },
   "file_extension": ".py",
   "mimetype": "text/x-python",
   "name": "python",
   "nbconvert_exporter": "python",
   "pygments_lexer": "ipython3",
   "version": "3.8.10"
  },
  "orig_nbformat": 4,
  "vscode": {
   "interpreter": {
    "hash": "e7370f93d1d0cde622a1f8e1c04877d8463912d04d973331ad4851f04de6915a"
   }
  }
 },
 "nbformat": 4,
 "nbformat_minor": 2
}
