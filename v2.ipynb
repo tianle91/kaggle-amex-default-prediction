{
 "cells": [
  {
   "cell_type": "code",
   "execution_count": 1,
   "metadata": {},
   "outputs": [
    {
     "name": "stderr",
     "output_type": "stream",
     "text": [
      "Warning: Ignoring non-Spark config property: Dio.netty.tryReflectionSetAccessible\n",
      "WARNING: An illegal reflective access operation has occurred\n",
      "WARNING: Illegal reflective access by org.apache.spark.unsafe.Platform (file:/usr/local/lib/python3.8/dist-packages/pyspark/jars/spark-unsafe_2.12-3.2.1.jar) to constructor java.nio.DirectByteBuffer(long,int)\n",
      "WARNING: Please consider reporting this to the maintainers of org.apache.spark.unsafe.Platform\n",
      "WARNING: Use --illegal-access=warn to enable warnings of further illegal reflective access operations\n",
      "WARNING: All illegal access operations will be denied in a future release\n",
      "Using Spark's default log4j profile: org/apache/spark/log4j-defaults.properties\n",
      "Setting default log level to \"WARN\".\n",
      "To adjust logging level use sc.setLogLevel(newLevel). For SparkR, use setLogLevel(newLevel).\n",
      "22/06/20 14:28:35 WARN NativeCodeLoader: Unable to load native-hadoop library for your platform... using builtin-java classes where applicable\n",
      "22/06/20 14:28:36 WARN Utils: Service 'SparkUI' could not bind on port 4040. Attempting port 4041.\n",
      "22/06/20 14:28:36 WARN Utils: Service 'SparkUI' could not bind on port 4041. Attempting port 4042.\n",
      "                                                                                \r"
     ]
    }
   ],
   "source": [
    "from spark_utils import get_spark_session\n",
    "import pyspark.sql.functions as F\n",
    "\n",
    "spark = get_spark_session()\n",
    "# run transform_latest.py if this don't exist\n",
    "test_data = spark.read.parquet('data_transformed/amex-default-prediction/test_data_latest')\n",
    "train_data = spark.read.parquet('data_transformed/amex-default-prediction/train_data_latest')\n",
    "# run format_data.py if these don't exist\n",
    "train_labels = spark.read.parquet('data/amex-default-prediction/train_labels')\n",
    "sample_submission = spark.read.parquet('data/amex-default-prediction/sample_submission')"
   ]
  },
  {
   "cell_type": "code",
   "execution_count": 2,
   "metadata": {},
   "outputs": [
    {
     "name": "stderr",
     "output_type": "stream",
     "text": [
      "                                                                                \r"
     ]
    },
    {
     "name": "stdout",
     "output_type": "stream",
     "text": [
      "CPU times: user 368 ms, sys: 61.5 ms, total: 429 ms\n",
      "Wall time: 8.79 s\n"
     ]
    }
   ],
   "source": [
    "%%time\n",
    "from format_data import CATEGORICAL_VARIABLES\n",
    "from encoder import CategoricalToIntegerEncoders\n",
    "\n",
    "encs = CategoricalToIntegerEncoders(columns=CATEGORICAL_VARIABLES).fit(train_data)"
   ]
  },
  {
   "cell_type": "code",
   "execution_count": 3,
   "metadata": {},
   "outputs": [
    {
     "name": "stderr",
     "output_type": "stream",
     "text": [
      "22/06/20 14:28:51 WARN package: Truncated the string representation of a plan since it was too large. This behavior can be adjusted by setting 'spark.sql.debug.maxToStringFields'.\n",
      "                                                                                \r"
     ]
    },
    {
     "name": "stdout",
     "output_type": "stream",
     "text": [
      "len(feature_columns): 188\n",
      " P_2, D_39, B_1, B_2, R_1, S_3, D_41, B_3, D_42, D_43, D_44, B_4, D_45, B_5, R_2, D_46, D_47, D_48, D_49, B_6, B_7, B_8, D_50, D_51, B_9, R_3, D_52, P_3, B_10, D_53, S_5, B_11, S_6, D_54, R_4, S_7, B_12, S_8, D_55, D_56, B_13, R_5, D_58, S_9, B_14, D_59, D_60, D_61, B_15, S_11, D_62, D_65, B_16, B_17, B_18, B_19, B_20, S_12, R_6, S_13, B_21, D_69, B_22, D_70, D_71, D_72, S_15, B_23, D_73, P_4, D_74, D_75, D_76, B_24, R_7, D_77, B_25, B_26, D_78, D_79, R_8, R_9, S_16, D_80, R_10, R_11, B_27, D_81, D_82, S_17, R_12, B_28, R_13, D_83, R_14, R_15, D_84, R_16, B_29, S_18, D_86, D_87, R_17, R_18, D_88, B_31, S_19, R_19, B_32, S_20, R_20, R_21, B_33, D_89, R_22, R_23, D_91, D_92, D_93, D_94, R_24, R_25, D_96, S_22, S_23, S_24, S_25, S_26, D_102, D_103, D_104, D_105, D_106, D_107, B_36, B_37, R_26, R_27, D_108, D_109, D_110, D_111, B_39, D_112, B_40, S_27, D_113, D_115, D_118, D_119, D_121, D_122, D_123, D_124, D_125, D_127, D_128, D_129, B_41, B_42, D_130, D_131, D_132, D_133, R_28, D_134, D_135, D_136, D_137, D_138, D_139, D_140, D_141, D_142, D_143, D_144, D_145, B_30_CategoricalToIntegerEncoder, B_38_CategoricalToIntegerEncoder, D_114_CategoricalToIntegerEncoder, D_116_CategoricalToIntegerEncoder, D_117_CategoricalToIntegerEncoder, D_120_CategoricalToIntegerEncoder, D_126_CategoricalToIntegerEncoder, D_63_CategoricalToIntegerEncoder, D_64_CategoricalToIntegerEncoder, D_66_CategoricalToIntegerEncoder, D_68_CategoricalToIntegerEncoder\n",
      "CPU times: user 1.13 s, sys: 2.23 s, total: 3.36 s\n",
      "Wall time: 22.7 s\n"
     ]
    }
   ],
   "source": [
    "%%time\n",
    "from format_data import TARGET_VARIABLE, DATE_VARIABLES, ID_VARIABLES\n",
    "\n",
    "# make train_pdf\n",
    "train_pdf = train_data.join(train_labels, on='customer_ID', how='inner')\n",
    "train_pdf = encs.transform(spark=spark, df=train_pdf).toPandas()\n",
    "\n",
    "# make test_pdf\n",
    "test_pdf = encs.transform(spark=spark, df=test_data).toPandas()\n",
    "\n",
    "non_feature_columns = [\n",
    "    TARGET_VARIABLE,\n",
    "    *ID_VARIABLES,\n",
    "    *DATE_VARIABLES.keys(),\n",
    "]\n",
    "feature_columns = [c for c in train_pdf.columns if c not in non_feature_columns]\n",
    "print(f'len(feature_columns): {len(feature_columns)}\\n', ', '.join(feature_columns))"
   ]
  },
  {
   "cell_type": "code",
   "execution_count": 4,
   "metadata": {},
   "outputs": [
    {
     "name": "stdout",
     "output_type": "stream",
     "text": [
      "(458913, 188) (924621, 188)\n",
      "(array([0., 1.], dtype=float32), array([340085, 118828]))\n"
     ]
    }
   ],
   "source": [
    "import numpy as np\n",
    "\n",
    "X_fit = train_pdf[feature_columns].reset_index(drop=True)\n",
    "X_test = test_pdf[feature_columns].reset_index(drop=True)\n",
    "print(X_fit.shape, X_test.shape)\n",
    "\n",
    "y_fit = np.array(train_pdf[TARGET_VARIABLE])\n",
    "print(np.unique(y_fit, return_counts=True))"
   ]
  },
  {
   "cell_type": "code",
   "execution_count": 5,
   "metadata": {},
   "outputs": [
    {
     "data": {
      "text/plain": [
       "((344184, 188), (114729, 188), (344184,), (114729,))"
      ]
     },
     "execution_count": 5,
     "metadata": {},
     "output_type": "execute_result"
    }
   ],
   "source": [
    "from sklearn.model_selection import train_test_split\n",
    "\n",
    "X_train, X_valid, y_train, y_valid = train_test_split(X_fit, y_fit)\n",
    "X_train.shape, X_valid.shape, y_train.shape, y_valid.shape"
   ]
  },
  {
   "cell_type": "code",
   "execution_count": 6,
   "metadata": {},
   "outputs": [
    {
     "name": "stderr",
     "output_type": "stream",
     "text": [
      "/usr/local/lib/python3.8/dist-packages/lightgbm/basic.py:2065: UserWarning: Using categorical_feature in Dataset.\n",
      "  _log_warning('Using categorical_feature in Dataset.')\n"
     ]
    },
    {
     "name": "stdout",
     "output_type": "stream",
     "text": [
      "[LightGBM] [Warning] Auto-choosing col-wise multi-threading, the overhead of testing was 0.161863 seconds.\n",
      "You can set `force_col_wise=true` to remove the overhead.\n",
      "[LightGBM] [Info] Total Bins 44548\n",
      "[LightGBM] [Info] Number of data points in the train set: 344184, number of used features: 188\n"
     ]
    },
    {
     "name": "stderr",
     "output_type": "stream",
     "text": [
      "/usr/local/lib/python3.8/dist-packages/lightgbm/basic.py:1780: UserWarning: Overriding the parameters from Reference Dataset.\n",
      "  _log_warning('Overriding the parameters from Reference Dataset.')\n",
      "/usr/local/lib/python3.8/dist-packages/lightgbm/basic.py:1513: UserWarning: categorical_column in param dict is overridden.\n",
      "  _log_warning(f'{cat_alias} in param dict is overridden.')\n"
     ]
    },
    {
     "name": "stdout",
     "output_type": "stream",
     "text": [
      "[LightGBM] [Info] Start training from score 0.259332\n",
      "[1]\tvalid_0's auc: 0.932142\tvalid_0's average_precision: 0.815075\tvalid_0's amex: 0.693281\tvalid_0's amex_gini: 0.864817\tvalid_0's amex_top4: 0.521745\n",
      "[2]\tvalid_0's auc: 0.936174\tvalid_0's average_precision: 0.835881\tvalid_0's amex: 0.705983\tvalid_0's amex_gini: 0.872737\tvalid_0's amex_top4: 0.539229\n",
      "[3]\tvalid_0's auc: 0.938795\tvalid_0's average_precision: 0.844368\tvalid_0's amex: 0.712739\tvalid_0's amex_gini: 0.877896\tvalid_0's amex_top4: 0.547582\n",
      "[4]\tvalid_0's auc: 0.940471\tvalid_0's average_precision: 0.848438\tvalid_0's amex: 0.720408\tvalid_0's amex_gini: 0.881196\tvalid_0's amex_top4: 0.559621\n",
      "[5]\tvalid_0's auc: 0.943194\tvalid_0's average_precision: 0.852828\tvalid_0's amex: 0.725967\tvalid_0's amex_gini: 0.886428\tvalid_0's amex_top4: 0.565506\n",
      "[6]\tvalid_0's auc: 0.944063\tvalid_0's average_precision: 0.854811\tvalid_0's amex: 0.728332\tvalid_0's amex_gini: 0.888215\tvalid_0's amex_top4: 0.568448\n",
      "[7]\tvalid_0's auc: 0.944702\tvalid_0's average_precision: 0.856313\tvalid_0's amex: 0.730161\tvalid_0's amex_gini: 0.889372\tvalid_0's amex_top4: 0.57095\n",
      "[8]\tvalid_0's auc: 0.946018\tvalid_0's average_precision: 0.859141\tvalid_0's amex: 0.734477\tvalid_0's amex_gini: 0.891984\tvalid_0's amex_top4: 0.57697\n",
      "[9]\tvalid_0's auc: 0.946607\tvalid_0's average_precision: 0.860351\tvalid_0's amex: 0.736358\tvalid_0's amex_gini: 0.893108\tvalid_0's amex_top4: 0.579608\n",
      "[10]\tvalid_0's auc: 0.947088\tvalid_0's average_precision: 0.862051\tvalid_0's amex: 0.739121\tvalid_0's amex_gini: 0.89407\tvalid_0's amex_top4: 0.584173\n",
      "[11]\tvalid_0's auc: 0.947553\tvalid_0's average_precision: 0.86301\tvalid_0's amex: 0.739104\tvalid_0's amex_gini: 0.894981\tvalid_0's amex_top4: 0.583226\n",
      "[12]\tvalid_0's auc: 0.948021\tvalid_0's average_precision: 0.864323\tvalid_0's amex: 0.740651\tvalid_0's amex_gini: 0.895877\tvalid_0's amex_top4: 0.585424\n",
      "[13]\tvalid_0's auc: 0.948456\tvalid_0's average_precision: 0.865329\tvalid_0's amex: 0.743093\tvalid_0's amex_gini: 0.89677\tvalid_0's amex_top4: 0.589415\n",
      "[14]\tvalid_0's auc: 0.948788\tvalid_0's average_precision: 0.86619\tvalid_0's amex: 0.74419\tvalid_0's amex_gini: 0.89741\tvalid_0's amex_top4: 0.590971\n",
      "[15]\tvalid_0's auc: 0.949169\tvalid_0's average_precision: 0.867289\tvalid_0's amex: 0.745937\tvalid_0's amex_gini: 0.898198\tvalid_0's amex_top4: 0.593676\n",
      "[16]\tvalid_0's auc: 0.949534\tvalid_0's average_precision: 0.868279\tvalid_0's amex: 0.747626\tvalid_0's amex_gini: 0.899074\tvalid_0's amex_top4: 0.596179\n",
      "[17]\tvalid_0's auc: 0.949857\tvalid_0's average_precision: 0.869173\tvalid_0's amex: 0.748586\tvalid_0's amex_gini: 0.899708\tvalid_0's amex_top4: 0.597464\n",
      "[18]\tvalid_0's auc: 0.950257\tvalid_0's average_precision: 0.870151\tvalid_0's amex: 0.750866\tvalid_0's amex_gini: 0.900514\tvalid_0's amex_top4: 0.601217\n",
      "[19]\tvalid_0's auc: 0.950657\tvalid_0's average_precision: 0.871178\tvalid_0's amex: 0.751343\tvalid_0's amex_gini: 0.901265\tvalid_0's amex_top4: 0.60142\n",
      "[20]\tvalid_0's auc: 0.950944\tvalid_0's average_precision: 0.871997\tvalid_0's amex: 0.752715\tvalid_0's amex_gini: 0.901844\tvalid_0's amex_top4: 0.603585\n",
      "[21]\tvalid_0's auc: 0.951246\tvalid_0's average_precision: 0.872878\tvalid_0's amex: 0.754278\tvalid_0's amex_gini: 0.902436\tvalid_0's amex_top4: 0.606121\n",
      "[22]\tvalid_0's auc: 0.951491\tvalid_0's average_precision: 0.87338\tvalid_0's amex: 0.754544\tvalid_0's amex_gini: 0.902932\tvalid_0's amex_top4: 0.606155\n",
      "[23]\tvalid_0's auc: 0.951737\tvalid_0's average_precision: 0.87397\tvalid_0's amex: 0.755595\tvalid_0's amex_gini: 0.903479\tvalid_0's amex_top4: 0.607711\n",
      "[24]\tvalid_0's auc: 0.951971\tvalid_0's average_precision: 0.874615\tvalid_0's amex: 0.75678\tvalid_0's amex_gini: 0.903888\tvalid_0's amex_top4: 0.609672\n",
      "[25]\tvalid_0's auc: 0.952211\tvalid_0's average_precision: 0.875212\tvalid_0's amex: 0.757601\tvalid_0's amex_gini: 0.904413\tvalid_0's amex_top4: 0.610788\n",
      "[26]\tvalid_0's auc: 0.952362\tvalid_0's average_precision: 0.87575\tvalid_0's amex: 0.757968\tvalid_0's amex_gini: 0.904709\tvalid_0's amex_top4: 0.611228\n",
      "[27]\tvalid_0's auc: 0.952557\tvalid_0's average_precision: 0.876259\tvalid_0's amex: 0.758977\tvalid_0's amex_gini: 0.905104\tvalid_0's amex_top4: 0.612851\n",
      "[28]\tvalid_0's auc: 0.952761\tvalid_0's average_precision: 0.876832\tvalid_0's amex: 0.759462\tvalid_0's amex_gini: 0.905499\tvalid_0's amex_top4: 0.613426\n",
      "[29]\tvalid_0's auc: 0.9529\tvalid_0's average_precision: 0.877265\tvalid_0's amex: 0.760877\tvalid_0's amex_gini: 0.905792\tvalid_0's amex_top4: 0.615962\n",
      "[30]\tvalid_0's auc: 0.953063\tvalid_0's average_precision: 0.877719\tvalid_0's amex: 0.761308\tvalid_0's amex_gini: 0.906113\tvalid_0's amex_top4: 0.616503\n",
      "[31]\tvalid_0's auc: 0.953215\tvalid_0's average_precision: 0.878138\tvalid_0's amex: 0.76205\tvalid_0's amex_gini: 0.906412\tvalid_0's amex_top4: 0.617687\n",
      "[32]\tvalid_0's auc: 0.95335\tvalid_0's average_precision: 0.878541\tvalid_0's amex: 0.762595\tvalid_0's amex_gini: 0.906691\tvalid_0's amex_top4: 0.618498\n",
      "[33]\tvalid_0's auc: 0.953518\tvalid_0's average_precision: 0.878995\tvalid_0's amex: 0.762852\tvalid_0's amex_gini: 0.907036\tvalid_0's amex_top4: 0.618668\n",
      "[34]\tvalid_0's auc: 0.953657\tvalid_0's average_precision: 0.879393\tvalid_0's amex: 0.763003\tvalid_0's amex_gini: 0.907305\tvalid_0's amex_top4: 0.618701\n",
      "[35]\tvalid_0's auc: 0.953792\tvalid_0's average_precision: 0.879748\tvalid_0's amex: 0.763498\tvalid_0's amex_gini: 0.907584\tvalid_0's amex_top4: 0.619412\n",
      "[36]\tvalid_0's auc: 0.953901\tvalid_0's average_precision: 0.88011\tvalid_0's amex: 0.763928\tvalid_0's amex_gini: 0.907802\tvalid_0's amex_top4: 0.620054\n",
      "[37]\tvalid_0's auc: 0.95406\tvalid_0's average_precision: 0.880424\tvalid_0's amex: 0.764644\tvalid_0's amex_gini: 0.908118\tvalid_0's amex_top4: 0.62117\n",
      "[38]\tvalid_0's auc: 0.954175\tvalid_0's average_precision: 0.880769\tvalid_0's amex: 0.764791\tvalid_0's amex_gini: 0.908343\tvalid_0's amex_top4: 0.621238\n",
      "[39]\tvalid_0's auc: 0.954254\tvalid_0's average_precision: 0.88105\tvalid_0's amex: 0.764974\tvalid_0's amex_gini: 0.908508\tvalid_0's amex_top4: 0.621441\n",
      "[40]\tvalid_0's auc: 0.95436\tvalid_0's average_precision: 0.881321\tvalid_0's amex: 0.765299\tvalid_0's amex_gini: 0.908717\tvalid_0's amex_top4: 0.62188\n",
      "[41]\tvalid_0's auc: 0.954449\tvalid_0's average_precision: 0.881525\tvalid_0's amex: 0.765438\tvalid_0's amex_gini: 0.908893\tvalid_0's amex_top4: 0.621982\n",
      "[42]\tvalid_0's auc: 0.954527\tvalid_0's average_precision: 0.881751\tvalid_0's amex: 0.7657\tvalid_0's amex_gini: 0.909047\tvalid_0's amex_top4: 0.622354\n",
      "[43]\tvalid_0's auc: 0.954624\tvalid_0's average_precision: 0.882005\tvalid_0's amex: 0.765918\tvalid_0's amex_gini: 0.909245\tvalid_0's amex_top4: 0.62259\n",
      "[44]\tvalid_0's auc: 0.954677\tvalid_0's average_precision: 0.882192\tvalid_0's amex: 0.766378\tvalid_0's amex_gini: 0.909353\tvalid_0's amex_top4: 0.623402\n",
      "[45]\tvalid_0's auc: 0.954771\tvalid_0's average_precision: 0.882434\tvalid_0's amex: 0.767198\tvalid_0's amex_gini: 0.90954\tvalid_0's amex_top4: 0.624856\n",
      "[46]\tvalid_0's auc: 0.954865\tvalid_0's average_precision: 0.88261\tvalid_0's amex: 0.767174\tvalid_0's amex_gini: 0.909728\tvalid_0's amex_top4: 0.62462\n",
      "[47]\tvalid_0's auc: 0.954941\tvalid_0's average_precision: 0.882846\tvalid_0's amex: 0.76813\tvalid_0's amex_gini: 0.909882\tvalid_0's amex_top4: 0.626378\n",
      "[48]\tvalid_0's auc: 0.955001\tvalid_0's average_precision: 0.883005\tvalid_0's amex: 0.768646\tvalid_0's amex_gini: 0.910001\tvalid_0's amex_top4: 0.627291\n",
      "[49]\tvalid_0's auc: 0.955067\tvalid_0's average_precision: 0.883232\tvalid_0's amex: 0.769067\tvalid_0's amex_gini: 0.910132\tvalid_0's amex_top4: 0.628001\n",
      "[50]\tvalid_0's auc: 0.955148\tvalid_0's average_precision: 0.883401\tvalid_0's amex: 0.769284\tvalid_0's amex_gini: 0.910296\tvalid_0's amex_top4: 0.628272\n",
      "[51]\tvalid_0's auc: 0.955207\tvalid_0's average_precision: 0.883547\tvalid_0's amex: 0.769495\tvalid_0's amex_gini: 0.910413\tvalid_0's amex_top4: 0.628576\n",
      "[52]\tvalid_0's auc: 0.955264\tvalid_0's average_precision: 0.883721\tvalid_0's amex: 0.769687\tvalid_0's amex_gini: 0.910527\tvalid_0's amex_top4: 0.628847\n",
      "[53]\tvalid_0's auc: 0.955294\tvalid_0's average_precision: 0.883847\tvalid_0's amex: 0.769734\tvalid_0's amex_gini: 0.910588\tvalid_0's amex_top4: 0.628881\n",
      "[54]\tvalid_0's auc: 0.955363\tvalid_0's average_precision: 0.883998\tvalid_0's amex: 0.770225\tvalid_0's amex_gini: 0.910725\tvalid_0's amex_top4: 0.629726\n",
      "[55]\tvalid_0's auc: 0.955394\tvalid_0's average_precision: 0.884158\tvalid_0's amex: 0.770595\tvalid_0's amex_gini: 0.910788\tvalid_0's amex_top4: 0.630402\n",
      "[56]\tvalid_0's auc: 0.955459\tvalid_0's average_precision: 0.884337\tvalid_0's amex: 0.770998\tvalid_0's amex_gini: 0.910918\tvalid_0's amex_top4: 0.631079\n",
      "[57]\tvalid_0's auc: 0.955559\tvalid_0's average_precision: 0.88451\tvalid_0's amex: 0.771368\tvalid_0's amex_gini: 0.911116\tvalid_0's amex_top4: 0.63162\n",
      "[58]\tvalid_0's auc: 0.955609\tvalid_0's average_precision: 0.884633\tvalid_0's amex: 0.771672\tvalid_0's amex_gini: 0.911218\tvalid_0's amex_top4: 0.632127\n",
      "[59]\tvalid_0's auc: 0.955678\tvalid_0's average_precision: 0.884778\tvalid_0's amex: 0.771944\tvalid_0's amex_gini: 0.911354\tvalid_0's amex_top4: 0.632533\n",
      "[60]\tvalid_0's auc: 0.95574\tvalid_0's average_precision: 0.884997\tvalid_0's amex: 0.772192\tvalid_0's amex_gini: 0.911478\tvalid_0's amex_top4: 0.632905\n",
      "[61]\tvalid_0's auc: 0.955772\tvalid_0's average_precision: 0.885083\tvalid_0's amex: 0.77192\tvalid_0's amex_gini: 0.911543\tvalid_0's amex_top4: 0.632296\n",
      "[62]\tvalid_0's auc: 0.955805\tvalid_0's average_precision: 0.885173\tvalid_0's amex: 0.772206\tvalid_0's amex_gini: 0.911609\tvalid_0's amex_top4: 0.632804\n",
      "[63]\tvalid_0's auc: 0.955853\tvalid_0's average_precision: 0.88527\tvalid_0's amex: 0.772204\tvalid_0's amex_gini: 0.911705\tvalid_0's amex_top4: 0.632702\n",
      "[64]\tvalid_0's auc: 0.95592\tvalid_0's average_precision: 0.885459\tvalid_0's amex: 0.772591\tvalid_0's amex_gini: 0.911838\tvalid_0's amex_top4: 0.633345\n",
      "[65]\tvalid_0's auc: 0.955951\tvalid_0's average_precision: 0.88558\tvalid_0's amex: 0.772386\tvalid_0's amex_gini: 0.911901\tvalid_0's amex_top4: 0.632871\n",
      "[66]\tvalid_0's auc: 0.955984\tvalid_0's average_precision: 0.885643\tvalid_0's amex: 0.772707\tvalid_0's amex_gini: 0.911968\tvalid_0's amex_top4: 0.633446\n",
      "[67]\tvalid_0's auc: 0.956037\tvalid_0's average_precision: 0.885793\tvalid_0's amex: 0.773148\tvalid_0's amex_gini: 0.912072\tvalid_0's amex_top4: 0.634224\n",
      "[68]\tvalid_0's auc: 0.956054\tvalid_0's average_precision: 0.885857\tvalid_0's amex: 0.772726\tvalid_0's amex_gini: 0.912107\tvalid_0's amex_top4: 0.633345\n",
      "[69]\tvalid_0's auc: 0.956081\tvalid_0's average_precision: 0.885936\tvalid_0's amex: 0.772837\tvalid_0's amex_gini: 0.912161\tvalid_0's amex_top4: 0.633514\n",
      "[70]\tvalid_0's auc: 0.956086\tvalid_0's average_precision: 0.886066\tvalid_0's amex: 0.77313\tvalid_0's amex_gini: 0.912171\tvalid_0's amex_top4: 0.634089\n",
      "[71]\tvalid_0's auc: 0.956116\tvalid_0's average_precision: 0.886159\tvalid_0's amex: 0.773498\tvalid_0's amex_gini: 0.912232\tvalid_0's amex_top4: 0.634765\n",
      "[72]\tvalid_0's auc: 0.95615\tvalid_0's average_precision: 0.886254\tvalid_0's amex: 0.773938\tvalid_0's amex_gini: 0.9123\tvalid_0's amex_top4: 0.635577\n",
      "[73]\tvalid_0's auc: 0.956169\tvalid_0's average_precision: 0.886307\tvalid_0's amex: 0.773686\tvalid_0's amex_gini: 0.912337\tvalid_0's amex_top4: 0.635036\n",
      "[74]\tvalid_0's auc: 0.956188\tvalid_0's average_precision: 0.88638\tvalid_0's amex: 0.773739\tvalid_0's amex_gini: 0.912375\tvalid_0's amex_top4: 0.635103\n",
      "[75]\tvalid_0's auc: 0.956214\tvalid_0's average_precision: 0.886443\tvalid_0's amex: 0.773867\tvalid_0's amex_gini: 0.912428\tvalid_0's amex_top4: 0.635306\n",
      "[76]\tvalid_0's auc: 0.956234\tvalid_0's average_precision: 0.886519\tvalid_0's amex: 0.774292\tvalid_0's amex_gini: 0.912467\tvalid_0's amex_top4: 0.636118\n",
      "[77]\tvalid_0's auc: 0.956272\tvalid_0's average_precision: 0.886608\tvalid_0's amex: 0.774652\tvalid_0's amex_gini: 0.912544\tvalid_0's amex_top4: 0.63676\n",
      "[78]\tvalid_0's auc: 0.956318\tvalid_0's average_precision: 0.886688\tvalid_0's amex: 0.774715\tvalid_0's amex_gini: 0.912636\tvalid_0's amex_top4: 0.636794\n",
      "[79]\tvalid_0's auc: 0.956343\tvalid_0's average_precision: 0.886765\tvalid_0's amex: 0.774672\tvalid_0's amex_gini: 0.912684\tvalid_0's amex_top4: 0.636659\n",
      "[80]\tvalid_0's auc: 0.956373\tvalid_0's average_precision: 0.886817\tvalid_0's amex: 0.774854\tvalid_0's amex_gini: 0.912746\tvalid_0's amex_top4: 0.636963\n",
      "[81]\tvalid_0's auc: 0.956385\tvalid_0's average_precision: 0.886867\tvalid_0's amex: 0.774984\tvalid_0's amex_gini: 0.912769\tvalid_0's amex_top4: 0.6372\n",
      "[82]\tvalid_0's auc: 0.956384\tvalid_0's average_precision: 0.886944\tvalid_0's amex: 0.775525\tvalid_0's amex_gini: 0.912767\tvalid_0's amex_top4: 0.638282\n",
      "[83]\tvalid_0's auc: 0.956403\tvalid_0's average_precision: 0.887024\tvalid_0's amex: 0.775645\tvalid_0's amex_gini: 0.912805\tvalid_0's amex_top4: 0.638485\n",
      "[84]\tvalid_0's auc: 0.956426\tvalid_0's average_precision: 0.887136\tvalid_0's amex: 0.77582\tvalid_0's amex_gini: 0.912852\tvalid_0's amex_top4: 0.638789\n",
      "[85]\tvalid_0's auc: 0.956436\tvalid_0's average_precision: 0.887225\tvalid_0's amex: 0.775966\tvalid_0's amex_gini: 0.912872\tvalid_0's amex_top4: 0.63906\n",
      "[86]\tvalid_0's auc: 0.956478\tvalid_0's average_precision: 0.887337\tvalid_0's amex: 0.776228\tvalid_0's amex_gini: 0.912956\tvalid_0's amex_top4: 0.639499\n",
      "[87]\tvalid_0's auc: 0.95651\tvalid_0's average_precision: 0.8874\tvalid_0's amex: 0.776581\tvalid_0's amex_gini: 0.913019\tvalid_0's amex_top4: 0.640142\n",
      "[88]\tvalid_0's auc: 0.956524\tvalid_0's average_precision: 0.887424\tvalid_0's amex: 0.776645\tvalid_0's amex_gini: 0.913046\tvalid_0's amex_top4: 0.640243\n",
      "[89]\tvalid_0's auc: 0.956551\tvalid_0's average_precision: 0.887503\tvalid_0's amex: 0.77679\tvalid_0's amex_gini: 0.9131\tvalid_0's amex_top4: 0.64048\n",
      "[90]\tvalid_0's auc: 0.956572\tvalid_0's average_precision: 0.88756\tvalid_0's amex: 0.776642\tvalid_0's amex_gini: 0.913143\tvalid_0's amex_top4: 0.640142\n",
      "[91]\tvalid_0's auc: 0.956589\tvalid_0's average_precision: 0.887569\tvalid_0's amex: 0.776828\tvalid_0's amex_gini: 0.913176\tvalid_0's amex_top4: 0.64048\n",
      "[92]\tvalid_0's auc: 0.956609\tvalid_0's average_precision: 0.887632\tvalid_0's amex: 0.776798\tvalid_0's amex_gini: 0.913217\tvalid_0's amex_top4: 0.640379\n",
      "[93]\tvalid_0's auc: 0.956604\tvalid_0's average_precision: 0.887622\tvalid_0's amex: 0.776607\tvalid_0's amex_gini: 0.913208\tvalid_0's amex_top4: 0.640007\n",
      "[94]\tvalid_0's auc: 0.95663\tvalid_0's average_precision: 0.887672\tvalid_0's amex: 0.776718\tvalid_0's amex_gini: 0.91326\tvalid_0's amex_top4: 0.640176\n",
      "[95]\tvalid_0's auc: 0.956646\tvalid_0's average_precision: 0.887706\tvalid_0's amex: 0.776987\tvalid_0's amex_gini: 0.913292\tvalid_0's amex_top4: 0.640683\n",
      "[96]\tvalid_0's auc: 0.956654\tvalid_0's average_precision: 0.887714\tvalid_0's amex: 0.777418\tvalid_0's amex_gini: 0.913307\tvalid_0's amex_top4: 0.641529\n",
      "[97]\tvalid_0's auc: 0.956682\tvalid_0's average_precision: 0.887769\tvalid_0's amex: 0.777463\tvalid_0's amex_gini: 0.913364\tvalid_0's amex_top4: 0.641562\n",
      "[98]\tvalid_0's auc: 0.95669\tvalid_0's average_precision: 0.887784\tvalid_0's amex: 0.777673\tvalid_0's amex_gini: 0.913379\tvalid_0's amex_top4: 0.641968\n",
      "[99]\tvalid_0's auc: 0.956695\tvalid_0's average_precision: 0.887787\tvalid_0's amex: 0.777814\tvalid_0's amex_gini: 0.913389\tvalid_0's amex_top4: 0.642239\n",
      "[100]\tvalid_0's auc: 0.956713\tvalid_0's average_precision: 0.887821\tvalid_0's amex: 0.777883\tvalid_0's amex_gini: 0.913425\tvalid_0's amex_top4: 0.64234\n",
      "CPU times: user 1min 49s, sys: 1.2 s, total: 1min 50s\n",
      "Wall time: 43.6 s\n"
     ]
    }
   ],
   "source": [
    "%%time\n",
    "from lightgbm import train, Dataset\n",
    "from evaluation import feval_amex, feval_amex_gini, feval_amex_top4\n",
    "\n",
    "train_set = Dataset(data=X_train, label=y_train, categorical_feature=encs.columns_encoded)\n",
    "valid_set = Dataset(data=X_valid, label=y_valid, categorical_feature=encs.columns_encoded)\n",
    "\n",
    "m = train(\n",
    "    params={\n",
    "        'metric': ['auc', 'average_precision'],\n",
    "    },\n",
    "    train_set=train_set,\n",
    "    valid_sets=[valid_set],\n",
    "    feval=[feval_amex, feval_amex_gini, feval_amex_top4],\n",
    ")"
   ]
  },
  {
   "cell_type": "code",
   "execution_count": 7,
   "metadata": {},
   "outputs": [
    {
     "data": {
      "text/html": [
       "<div>\n",
       "<style scoped>\n",
       "    .dataframe tbody tr th:only-of-type {\n",
       "        vertical-align: middle;\n",
       "    }\n",
       "\n",
       "    .dataframe tbody tr th {\n",
       "        vertical-align: top;\n",
       "    }\n",
       "\n",
       "    .dataframe thead th {\n",
       "        text-align: right;\n",
       "    }\n",
       "</style>\n",
       "<table border=\"1\" class=\"dataframe\">\n",
       "  <thead>\n",
       "    <tr style=\"text-align: right;\">\n",
       "      <th></th>\n",
       "      <th>customer_ID</th>\n",
       "      <th>prediction</th>\n",
       "    </tr>\n",
       "  </thead>\n",
       "  <tbody>\n",
       "    <tr>\n",
       "      <th>0</th>\n",
       "      <td>d72e30f1857dcdc45eb55a09972c983ddc381108ae3275...</td>\n",
       "      <td>1.059319</td>\n",
       "    </tr>\n",
       "    <tr>\n",
       "      <th>1</th>\n",
       "      <td>774996eacc8ff2cab9f5a098556cb0fdb8079386dd3ffa...</td>\n",
       "      <td>1.038193</td>\n",
       "    </tr>\n",
       "    <tr>\n",
       "      <th>2</th>\n",
       "      <td>4975dd02572f2a564bf615232fa59d353d6034c46cc7e2...</td>\n",
       "      <td>0.036991</td>\n",
       "    </tr>\n",
       "    <tr>\n",
       "      <th>3</th>\n",
       "      <td>d49bca69b1cd613720f1f458fb051d7e5f6b2ae8f1ac82...</td>\n",
       "      <td>0.818659</td>\n",
       "    </tr>\n",
       "    <tr>\n",
       "      <th>4</th>\n",
       "      <td>36195b70707d85375966335f249542a1e3c6650fce7f16...</td>\n",
       "      <td>0.022948</td>\n",
       "    </tr>\n",
       "  </tbody>\n",
       "</table>\n",
       "</div>"
      ],
      "text/plain": [
       "                                         customer_ID  prediction\n",
       "0  d72e30f1857dcdc45eb55a09972c983ddc381108ae3275...    1.059319\n",
       "1  774996eacc8ff2cab9f5a098556cb0fdb8079386dd3ffa...    1.038193\n",
       "2  4975dd02572f2a564bf615232fa59d353d6034c46cc7e2...    0.036991\n",
       "3  d49bca69b1cd613720f1f458fb051d7e5f6b2ae8f1ac82...    0.818659\n",
       "4  36195b70707d85375966335f249542a1e3c6650fce7f16...    0.022948"
      ]
     },
     "execution_count": 7,
     "metadata": {},
     "output_type": "execute_result"
    }
   ],
   "source": [
    "from format_data import PREDICTION_VARIABLE\n",
    "import pandas as pd\n",
    "\n",
    "pred_test = pd.DataFrame({\n",
    "    'customer_ID': test_pdf['customer_ID'],\n",
    "    PREDICTION_VARIABLE: m.predict(X_test),\n",
    "})\n",
    "pred_test.head()"
   ]
  }
 ],
 "metadata": {
  "kernelspec": {
   "display_name": "Python 3.8.10 64-bit",
   "language": "python",
   "name": "python3"
  },
  "language_info": {
   "codemirror_mode": {
    "name": "ipython",
    "version": 3
   },
   "file_extension": ".py",
   "mimetype": "text/x-python",
   "name": "python",
   "nbconvert_exporter": "python",
   "pygments_lexer": "ipython3",
   "version": "3.8.10"
  },
  "orig_nbformat": 4,
  "vscode": {
   "interpreter": {
    "hash": "e7370f93d1d0cde622a1f8e1c04877d8463912d04d973331ad4851f04de6915a"
   }
  }
 },
 "nbformat": 4,
 "nbformat_minor": 2
}
